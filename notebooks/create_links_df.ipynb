{
 "cells": [
  {
   "cell_type": "code",
   "execution_count": 27,
   "metadata": {},
   "outputs": [],
   "source": [
    "import pandas as pd\n",
    "import numpy as np\n",
    "import networkx as nx\n",
    "import random\n",
    "from scipy import spatial\n",
    "import os"
   ]
  },
  {
   "cell_type": "code",
   "execution_count": 70,
   "metadata": {},
   "outputs": [],
   "source": [
    "def create_graph(edgelist_df):\n",
    "    G = nx.Graph()\n",
    "    for edge in list(zip(edgelist_df.user1_id, edgelist_df.user2_id)):\n",
    "        G.add_edge(edge[0], edge[1])\n",
    "    return G\n",
    "\n",
    "def create_random_edges_dict(G, n):\n",
    "    random_edges_dict = {}\n",
    "    nodes_list = list(G.nodes)\n",
    "    edges_list = list(G.edges)\n",
    "    negative_samples_percentage = 0.001\n",
    "    num_negative_samples = int(negative_samples_percentage*(len(nodes_list)*len(nodes_list)/2 - len(edges_list)))\n",
    "    print(\"Number of negative samples in the random graph:\" + str(num_negative_samples))\n",
    "    for i in range(n):\n",
    "        random_edges = []    \n",
    "        while len(random_edges) < num_negative_samples:\n",
    "            edge = random.sample(nodes_list, 2)\n",
    "            if edge[0]==edge[1] or (edge[0], edge[1]) in random_edges or (edge[1], edge[0]) in random_edges or (edge[0], edge[1]) in edges_list or (edge[1], edge[0]) in edges_list:\n",
    "                continue\n",
    "            random_edges.append((edge[0], edge[1]))\n",
    "        random_edges_dict[i] = random_edges\n",
    "    return random_edges_dict\n",
    "\n",
    "# Create additional features\n",
    "def calculate_relative_change_for_numeric_features(df, columns):\n",
    "    for column in columns:\n",
    "        df['relative_change_'+column] = df.apply(lambda x: relative_diff(x['user1_'+column], x['user2_'+column]), axis=1)\n",
    "    return df\n",
    "\n",
    "def calculate_cosine_similarity_for_vector_features(df, columns):\n",
    "    for column in columns:\n",
    "        df['cosine_similarity_'+column] = df.apply(lambda x: cosine_similarity(x['user1_'+column], x['user2_'+column]), axis=1)\n",
    "    return df\n",
    "\n",
    "def create_mask_for_categoric_features(df, columns):\n",
    "    for column in columns:\n",
    "        df['same_'+column] = (df['user1_'+column]==df['user2_'+column]).astype(int)\n",
    "    return df\n",
    "\n",
    "def calculate_jaccard_coefficient(df, G):\n",
    "    df['jaccard_coefficient'] = df.apply(lambda x: get_jaccard_coefficient(G, x['user1_user_id'], x['user2_user_id']), axis=1)\n",
    "    return df\n",
    "\n",
    "def calculate_adamic_adar_coefficient(df, G):\n",
    "    df['adamic_adar_coefficient'] = df.apply(lambda x: get_adamic_adar_index(G, x['user1_user_id'], x['user2_user_id']), axis=1)\n",
    "    return df\n",
    "\n",
    "def calculate_common_neighbors(df, G):\n",
    "    df['common_neighbors'] = df.apply(lambda x: get_common_neighbors(G, x['user1_user_id'], x['user2_user_id']), axis=1)\n",
    "    return df\n",
    "\n",
    "def relative_diff(x, y):\n",
    "    if x is None or y is None or x==-1 or y==-1:\n",
    "        return None\n",
    "    if max(x,y) == 0:\n",
    "        return 0\n",
    "    else:\n",
    "        return abs((abs(x)-abs(y))/max(x,y))\n",
    "\n",
    "def cosine_similarity(list1, list2):\n",
    "    return 1 - spatial.distance.cosine(list1, list2)\n",
    "\n",
    "def get_jaccard_coefficient(G, user1, user2):\n",
    "    return list(nx.jaccard_coefficient(G, [(user1, user2)]))[0][2]\n",
    "\n",
    "def get_adamic_adar_index(G, user1, user2):\n",
    "    return list(nx.adamic_adar_index(G, [(user1, user2)]))[0][2]\n",
    "\n",
    "def get_common_neighbors(G, user1, user2):\n",
    "    return len(list(nx.common_neighbors(G, user1, user2)))\n",
    "\n",
    "def extend_users_df_with_relational_features(users_df):\n",
    "    users_df['freebase_nmf_array'] = users_df[['freebase_nmf_0', 'freebase_nmf_1', 'freebase_nmf_2', 'freebase_nmf_3', 'freebase_nmf_4', 'freebase_nmf_5', 'freebase_nmf_6', 'freebase_nmf_7', 'freebase_nmf_8', 'freebase_nmf_9', 'freebase_nmf_10', 'freebase_nmf_11', 'freebase_nmf_12', 'freebase_nmf_13', 'freebase_nmf_14', 'freebase_nmf_15', 'freebase_nmf_16', 'freebase_nmf_17', 'freebase_nmf_18', 'freebase_nmf_19']].values.tolist()\n",
    "    users_df['allmusic_genre_array'] = users_df[['allmusic_rnb', 'allmusic_rap', 'allmusic_electronic', 'allmusic_rock', 'allmusic_new age', 'allmusic_classical', 'allmusic_reggae', 'allmusic_blues', 'allmusic_country', 'allmusic_world', 'allmusic_folk', 'allmusic_easy listening', 'allmusic_jazz', 'allmusic_vocal', \"allmusic_children's\", 'allmusic_punk', 'allmusic_alternative', 'allmusic_spoken word', 'allmusic_pop', 'allmusic_heavy metal']].values.tolist()\n",
    "    users_df['UAM_nmf_array'] = users_df[['UAM_nmf_0', 'UAM_nmf_1', 'UAM_nmf_2', 'UAM_nmf_3', 'UAM_nmf_4', 'UAM_nmf_5', 'UAM_nmf_6', 'UAM_nmf_7', 'UAM_nmf_8', 'UAM_nmf_9', 'UAM_nmf_10', 'UAM_nmf_11', 'UAM_nmf_12', 'UAM_nmf_13', 'UAM_nmf_14', 'UAM_nmf_15', 'UAM_nmf_16', 'UAM_nmf_17', 'UAM_nmf_18', 'UAM_nmf_19']].values.tolist()\n",
    "    users_df['allmusic_genre_array'] = users_df['allmusic_genre_array'].apply(lambda x: np.array(x))\n",
    "    users_df['freebase_nmf_array'] = users_df['freebase_nmf_array'].apply(lambda x: np.array(x))\n",
    "    users_df['UAM_nmf_array'] = users_df['UAM_nmf_array'].apply(lambda x: np.array(x))\n",
    "    return users_df\n",
    "\n",
    "def create_links_df(G, random_edges, users_df):\n",
    "    edges_list = list(G.edges)\n",
    "    users1_df = pd.DataFrame([x[0] for x in edges_list]).rename(columns={0:'user_id'}).merge(users_df, how='left', on='user_id').add_prefix('user1_')\n",
    "    users2_df = pd.DataFrame([x[1] for x in edges_list]).rename(columns={0:'user_id'}).merge(users_df, how='left', on='user_id').add_prefix('user2_')\n",
    "    friendship_df = pd.concat([users1_df, users2_df.set_index(users1_df.index)], axis=1)\n",
    "    friendship_df['label'] = 1\n",
    "    users1_df = pd.DataFrame([x[0] for x in random_edges]).rename(columns={0:'user_id'}).merge(users_df, how='left', on='user_id').add_prefix('user1_')\n",
    "    users2_df = pd.DataFrame([x[1] for x in random_edges]).rename(columns={0:'user_id'}).merge(users_df, how='left', on='user_id').add_prefix('user2_')\n",
    "    no_friendship_df = pd.concat([users1_df, users2_df.set_index(users1_df.index)], axis=1)\n",
    "    no_friendship_df['label'] = 0\n",
    "    links_df = pd.concat([friendship_df, no_friendship_df], axis=0, ignore_index=True)\n",
    "    links_df = calculate_relative_change_for_numeric_features(links_df, ['age','playcount_lognorm','novelty_artist_avg_month','novelty_artist_avg_6months','novelty_artist_avg_year','mainstreaminess_avg_month','mainstreaminess_avg_6months','mainstreaminess_avg_year','mainstreaminess_global','relative_le_per_weekday1','relative_le_per_weekday2','relative_le_per_weekday3','relative_le_per_weekday4','relative_le_per_weekday5','relative_le_per_weekday6','relative_le_per_weekday7','relative_le_per_hour0','relative_le_per_hour1','relative_le_per_hour2','relative_le_per_hour3','relative_le_per_hour4','relative_le_per_hour5','relative_le_per_hour6','relative_le_per_hour7','relative_le_per_hour8','relative_le_per_hour9','relative_le_per_hour10','relative_le_per_hour11','relative_le_per_hour12','relative_le_per_hour13','relative_le_per_hour14','relative_le_per_hour15','relative_le_per_hour16','relative_le_per_hour17','relative_le_per_hour18','relative_le_per_hour19','relative_le_per_hour20','relative_le_per_hour21','relative_le_per_hour22','relative_le_per_hour23','cnt_listeningevents_lognorm','cnt_distinct_tracks_lognorm','cnt_distinct_artists_lognorm','cnt_listeningevents_per_week_lognorm','allmusic_weighted_average_diversity','allmusic_genre_coverage_diversity','allmusic_entropy_diversity','freebase_weighted_average_diversity','freebase_genre_coverage_diversity','freebase_entropy_diversity'])\n",
    "    links_df = create_mask_for_categoric_features(links_df, ['country','gender','age_group','user_groups_freebase_weighted_average_diversity','user_groups_freebase_genre_coverage_diversity','user_groups_freebase_entropy_diversity','user_groups_allmusic_weighted_average_diversity','user_groups_allmusic_genre_coverage_diversity','user_groups_allmusic_entropy_diversity','user_groups_cnt_listeningevents_lognorm','user_groups_cnt_distinct_tracks_lognorm','user_groups_cnt_distinct_artists_lognorm','user_groups_cnt_listeningevents_per_week_lognorm','user_groups_playcount_lognorm','user_groups_novelty_artist_avg_month','user_groups_novelty_artist_avg_6months','user_groups_novelty_artist_avg_year','user_groups_mainstreaminess_avg_month','user_groups_mainstreaminess_avg_6months','user_groups_mainstreaminess_avg_year','user_groups_mainstreaminess_global'])\n",
    "    links_df = calculate_cosine_similarity_for_vector_features(links_df, ['allmusic_genre_array', 'freebase_nmf_array', 'UAM_nmf_array'])\n",
    "    links_df = links_df.select_dtypes(exclude=['object'])\n",
    "    links_df = calculate_jaccard_coefficient(links_df, G)\n",
    "    links_df = calculate_adamic_adar_coefficient(links_df, G)\n",
    "    links_df = calculate_common_neighbors(links_df, G)\n",
    "    return links_df\n",
    "\n",
    "def create_and_store_dfs(G, random_edges_dict, users_df):\n",
    "    for i in range(len(random_edges_dict)):\n",
    "        links_df = create_links_df(G, random_edges_dict[i], users_df)\n",
    "        outdir = '../data/dataframes/links_dfs/'+ str(i)\n",
    "        if not os.path.exists(outdir):\n",
    "            os.makedirs(outdir)\n",
    "        links_df.to_csv(outdir + '/links_df_full.csv')\n",
    "        network_features_df = links_df[['user1_user_id', 'user2_user_id', 'jaccard_coefficient', 'adamic_adar_coefficient', 'common_neighbors', 'label']]\n",
    "        demographic_features_df = pd.concat([links_df.filter(regex=(\"user1_user_id\")), links_df.filter(regex=(\"user2_user_id\")), links_df.filter(regex=(\".*gender.*\")), links_df.filter(regex=(\".*age.*\")), links_df.filter(regex=(\".*country.*\")), links_df.label], axis=1).drop(columns=['user1_allmusic_country', 'user2_allmusic_country'])\n",
    "        demographic_features_df = demographic_features_df[demographic_features_df.columns.drop(list(demographic_features_df.filter(regex='allmusic')))]\n",
    "        demographic_features_df = demographic_features_df[demographic_features_df.columns.drop(list(demographic_features_df.filter(regex='freebase')))]\n",
    "        genre_features_df = pd.concat([links_df.filter(regex=(\"user1_user_id\")), links_df.filter(regex=(\"user2_user_id\")), links_df.filter(regex=(\".*allmusic.*\")), links_df.filter(regex=(\".*freebase.*\")), links_df.label], axis=1)\n",
    "        genre_features_df = genre_features_df[genre_features_df.columns.drop(list(genre_features_df.filter(regex='diversity')))]\n",
    "        listening_profile_features_df = pd.concat([links_df.filter(regex=(\"user1_user_id\")), links_df.filter(regex=(\"user2_user_id\")), links_df.filter(regex=(\".*UAM.*\")), links_df.label], axis=1)\n",
    "        listening_characteristics_features_df = pd.concat([links_df.filter(regex=(\"user1_user_id\")), links_df.filter(regex=(\"user2_user_id\")), links_df.filter(regex=(\".*mainstreaminess.*\")), links_df.filter(regex=(\".*novelty.*\")), links_df.filter(regex=(\".*diversity.*\")), links_df.filter(regex=(\".*cnt.*\")), links_df.filter(regex=(\".*playcount.*\")), links_df.label], axis=1)\n",
    "        network_features_df.to_csv('../data/dataframes/links_dfs/' + str(i) + '/links_df_network_features.csv')\n",
    "        demographic_features_df.to_csv('../data/dataframes/links_dfs/' + str(i) + '/links_df_demographic_features.csv')\n",
    "        genre_features_df.to_csv('../data/dataframes/links_dfs/' + str(i) + '/links_df_genre_features.csv')\n",
    "        listening_profile_features_df.to_csv('../data/dataframes/links_dfs/' + str(i) + '/links_df_listening_profile_features.csv')\n",
    "        listening_characteristics_features_df.to_csv('../data/dataframes/links_dfs/' + str(i) + '/links_df_listening_characteristics_features.csv')"
   ]
  },
  {
   "cell_type": "code",
   "execution_count": 65,
   "outputs": [],
   "source": [
    "lfm1b_user_info_filepath = '../data/raw/LFM-1b_social/LFM-1b_users.txt'\n",
    "lfm1b_user_additional_info_filepath = '../data/raw/LFM-1b/LFM-1b_users_additional.txt'\n",
    "lfm1b_user_genres_allmusic_filepath = '../data/raw/LFM-1b_UGP/LFM-1b_UGP_weightedPC_allmusic.txt'\n",
    "lfm1b_user_genres_freebase_filepath = '../data/raw/LFM-1b_UGP/LFM-1b_UGP_weightedPC_freebase.txt'\n",
    "input_edgelist_csv_filepath = '../data/raw/LFM-1b_social/LFM-1b_social_ties.txt'\n",
    "lfm1b_user_artists_LEs_filepath = '../data/raw/LFM-1b/LFM-1b_LEs.mat'\n",
    "users_df_filepath = ('../data/dataframes/users_dfs/users_df.csv')"
   ],
   "metadata": {
    "collapsed": false,
    "pycharm": {
     "name": "#%%\n"
    }
   }
  },
  {
   "cell_type": "code",
   "execution_count": 71,
   "metadata": {},
   "outputs": [],
   "source": [
    "lfm1b_users_df = pd.read_csv(lfm1b_user_info_filepath, sep='\\t')\n",
    "edgelist_df = pd.read_csv(input_edgelist_csv_filepath, sep='\\t')\n",
    "G = create_graph(edgelist_df)\n",
    "\n",
    "# Nunber of datasets with random negative samples to create, 1 when experimenting, 10 for robust evaluation\n",
    "num_datasets = 1\n",
    "random_edges_dict = create_random_edges_dict(G, num_datasets)\n",
    "\n",
    "users_df = pd.read_csv(users_df_filepath)\n",
    "users_df = extend_users_df_with_relational_features(users_df)\n",
    "\n",
    "users_df_without_missing_values = pd.read_csv('../data/dataframes/users_dfs/users_df_no_missing_values.csv', index_col=0)\n",
    "users_df_without_missing_values = extend_users_df_with_relational_features(users_df_without_missing_values)\n",
    "\n",
    "create_and_store_dfs(G, random_edges_dict, users_df)"
   ]
  },
  {
   "cell_type": "code",
   "execution_count": 72,
   "outputs": [
    {
     "data": {
      "text/plain": "        user1_user_id  user1_age  user1_playcount_lognorm  \\\n0             7758024         17                10.893196   \n1             9484073         21                12.352102   \n2             9484073         21                12.352102   \n3             9484073         21                12.352102   \n4             9484073         21                12.352102   \n...               ...        ...                      ...   \n148430       21135566         19                10.486652   \n148431       10178932         -1                10.818658   \n148432        8892698         22                11.399129   \n148433        4236357         27                10.723201   \n148434        3232953         26                11.090904   \n\n        user1_novelty_artist_avg_month  user1_novelty_artist_avg_6months  \\\n0                             0.329145                          0.044237   \n1                             0.172016                          0.006126   \n2                             0.172016                          0.006126   \n3                             0.172016                          0.006126   \n4                             0.172016                          0.006126   \n...                                ...                               ...   \n148430                        0.146495                          0.046389   \n148431                        0.427293                          0.028370   \n148432                        0.164834                          0.039874   \n148433                        0.398028                          0.032159   \n148434                        0.364178                          0.033323   \n\n        user1_novelty_artist_avg_year  user1_mainstreaminess_avg_month  \\\n0                            0.584282                         0.000000   \n1                            0.340393                         0.004582   \n2                            0.340393                         0.004582   \n3                            0.340393                         0.004582   \n4                            0.340393                         0.004582   \n...                               ...                              ...   \n148430                       0.277642                         0.044923   \n148431                       0.436971                         0.012410   \n148432                       0.344025                         0.040864   \n148433                       0.475455                         0.086947   \n148434                       0.525126                         0.069977   \n\n        user1_mainstreaminess_avg_6months  user1_mainstreaminess_avg_year  \\\n0                                0.540323                        0.000000   \n1                                0.388533                        0.013787   \n2                                0.388533                        0.013787   \n3                                0.388533                        0.013787   \n4                                0.388533                        0.013787   \n...                                   ...                             ...   \n148430                           0.448491                        0.099001   \n148431                           0.548262                        0.067811   \n148432                           0.421606                        0.037914   \n148433                           0.431155                        0.000000   \n148434                           0.559400                        0.027274   \n\n        user1_mainstreaminess_global  ...  \\\n0                           0.146582  ...   \n1                           0.026070  ...   \n2                           0.026070  ...   \n3                           0.026070  ...   \n4                           0.026070  ...   \n...                              ...  ...   \n148430                      0.218946  ...   \n148431                      0.157878  ...   \n148432                      0.123562  ...   \n148433                      0.226152  ...   \n148434                      0.154113  ...   \n\n        same_user_groups_mainstreaminess_avg_month  \\\n0                                                1   \n1                                                0   \n2                                                0   \n3                                                1   \n4                                                0   \n...                                            ...   \n148430                                           0   \n148431                                           1   \n148432                                           1   \n148433                                           0   \n148434                                           0   \n\n        same_user_groups_mainstreaminess_avg_6months  \\\n0                                                  0   \n1                                                  0   \n2                                                  1   \n3                                                  1   \n4                                                  1   \n...                                              ...   \n148430                                             1   \n148431                                             0   \n148432                                             1   \n148433                                             0   \n148434                                             0   \n\n        same_user_groups_mainstreaminess_avg_year  \\\n0                                               0   \n1                                               0   \n2                                               0   \n3                                               1   \n4                                               0   \n...                                           ...   \n148430                                          0   \n148431                                          1   \n148432                                          1   \n148433                                          1   \n148434                                          1   \n\n        same_user_groups_mainstreaminess_global  \\\n0                                             1   \n1                                             0   \n2                                             0   \n3                                             1   \n4                                             0   \n...                                         ...   \n148430                                        0   \n148431                                        0   \n148432                                        1   \n148433                                        0   \n148434                                        0   \n\n        cosine_similarity_allmusic_genre_array  \\\n0                                     0.968097   \n1                                     0.377638   \n2                                     0.395562   \n3                                     0.500778   \n4                                     0.451636   \n...                                        ...   \n148430                                0.935972   \n148431                                0.877030   \n148432                                0.916927   \n148433                                0.886346   \n148434                                0.899830   \n\n        cosine_similarity_freebase_nmf_array  cosine_similarity_UAM_nmf_array  \\\n0                                   0.959176                         0.301106   \n1                                   0.654066                         0.087457   \n2                                   0.496836                         0.215773   \n3                                   0.827446                         0.762738   \n4                                   0.489687                         0.258994   \n...                                      ...                              ...   \n148430                              0.850278                         0.466882   \n148431                              0.165436                         0.063492   \n148432                              0.550901                         0.416199   \n148433                              0.816584                         0.026262   \n148434                              0.343500                         0.080590   \n\n        jaccard_coefficient  adamic_adar_coefficient  common_neighbors  \n0                  0.000000                 0.000000                 0  \n1                  0.035398                 3.034131                 4  \n2                  0.285714                 0.515748                 2  \n3                  0.000000                 0.000000                 0  \n4                  0.137931                 2.943053                 4  \n...                     ...                      ...               ...  \n148430             0.000000                 0.000000                 0  \n148431             0.000000                 0.000000                 0  \n148432             0.000000                 0.000000                 0  \n148433             0.000000                 0.000000                 0  \n148434             0.000000                 0.000000                 0  \n\n[148435 rows x 754 columns]",
      "text/html": "<div>\n<style scoped>\n    .dataframe tbody tr th:only-of-type {\n        vertical-align: middle;\n    }\n\n    .dataframe tbody tr th {\n        vertical-align: top;\n    }\n\n    .dataframe thead th {\n        text-align: right;\n    }\n</style>\n<table border=\"1\" class=\"dataframe\">\n  <thead>\n    <tr style=\"text-align: right;\">\n      <th></th>\n      <th>user1_user_id</th>\n      <th>user1_age</th>\n      <th>user1_playcount_lognorm</th>\n      <th>user1_novelty_artist_avg_month</th>\n      <th>user1_novelty_artist_avg_6months</th>\n      <th>user1_novelty_artist_avg_year</th>\n      <th>user1_mainstreaminess_avg_month</th>\n      <th>user1_mainstreaminess_avg_6months</th>\n      <th>user1_mainstreaminess_avg_year</th>\n      <th>user1_mainstreaminess_global</th>\n      <th>...</th>\n      <th>same_user_groups_mainstreaminess_avg_month</th>\n      <th>same_user_groups_mainstreaminess_avg_6months</th>\n      <th>same_user_groups_mainstreaminess_avg_year</th>\n      <th>same_user_groups_mainstreaminess_global</th>\n      <th>cosine_similarity_allmusic_genre_array</th>\n      <th>cosine_similarity_freebase_nmf_array</th>\n      <th>cosine_similarity_UAM_nmf_array</th>\n      <th>jaccard_coefficient</th>\n      <th>adamic_adar_coefficient</th>\n      <th>common_neighbors</th>\n    </tr>\n  </thead>\n  <tbody>\n    <tr>\n      <th>0</th>\n      <td>7758024</td>\n      <td>17</td>\n      <td>10.893196</td>\n      <td>0.329145</td>\n      <td>0.044237</td>\n      <td>0.584282</td>\n      <td>0.000000</td>\n      <td>0.540323</td>\n      <td>0.000000</td>\n      <td>0.146582</td>\n      <td>...</td>\n      <td>1</td>\n      <td>0</td>\n      <td>0</td>\n      <td>1</td>\n      <td>0.968097</td>\n      <td>0.959176</td>\n      <td>0.301106</td>\n      <td>0.000000</td>\n      <td>0.000000</td>\n      <td>0</td>\n    </tr>\n    <tr>\n      <th>1</th>\n      <td>9484073</td>\n      <td>21</td>\n      <td>12.352102</td>\n      <td>0.172016</td>\n      <td>0.006126</td>\n      <td>0.340393</td>\n      <td>0.004582</td>\n      <td>0.388533</td>\n      <td>0.013787</td>\n      <td>0.026070</td>\n      <td>...</td>\n      <td>0</td>\n      <td>0</td>\n      <td>0</td>\n      <td>0</td>\n      <td>0.377638</td>\n      <td>0.654066</td>\n      <td>0.087457</td>\n      <td>0.035398</td>\n      <td>3.034131</td>\n      <td>4</td>\n    </tr>\n    <tr>\n      <th>2</th>\n      <td>9484073</td>\n      <td>21</td>\n      <td>12.352102</td>\n      <td>0.172016</td>\n      <td>0.006126</td>\n      <td>0.340393</td>\n      <td>0.004582</td>\n      <td>0.388533</td>\n      <td>0.013787</td>\n      <td>0.026070</td>\n      <td>...</td>\n      <td>0</td>\n      <td>1</td>\n      <td>0</td>\n      <td>0</td>\n      <td>0.395562</td>\n      <td>0.496836</td>\n      <td>0.215773</td>\n      <td>0.285714</td>\n      <td>0.515748</td>\n      <td>2</td>\n    </tr>\n    <tr>\n      <th>3</th>\n      <td>9484073</td>\n      <td>21</td>\n      <td>12.352102</td>\n      <td>0.172016</td>\n      <td>0.006126</td>\n      <td>0.340393</td>\n      <td>0.004582</td>\n      <td>0.388533</td>\n      <td>0.013787</td>\n      <td>0.026070</td>\n      <td>...</td>\n      <td>1</td>\n      <td>1</td>\n      <td>1</td>\n      <td>1</td>\n      <td>0.500778</td>\n      <td>0.827446</td>\n      <td>0.762738</td>\n      <td>0.000000</td>\n      <td>0.000000</td>\n      <td>0</td>\n    </tr>\n    <tr>\n      <th>4</th>\n      <td>9484073</td>\n      <td>21</td>\n      <td>12.352102</td>\n      <td>0.172016</td>\n      <td>0.006126</td>\n      <td>0.340393</td>\n      <td>0.004582</td>\n      <td>0.388533</td>\n      <td>0.013787</td>\n      <td>0.026070</td>\n      <td>...</td>\n      <td>0</td>\n      <td>1</td>\n      <td>0</td>\n      <td>0</td>\n      <td>0.451636</td>\n      <td>0.489687</td>\n      <td>0.258994</td>\n      <td>0.137931</td>\n      <td>2.943053</td>\n      <td>4</td>\n    </tr>\n    <tr>\n      <th>...</th>\n      <td>...</td>\n      <td>...</td>\n      <td>...</td>\n      <td>...</td>\n      <td>...</td>\n      <td>...</td>\n      <td>...</td>\n      <td>...</td>\n      <td>...</td>\n      <td>...</td>\n      <td>...</td>\n      <td>...</td>\n      <td>...</td>\n      <td>...</td>\n      <td>...</td>\n      <td>...</td>\n      <td>...</td>\n      <td>...</td>\n      <td>...</td>\n      <td>...</td>\n      <td>...</td>\n    </tr>\n    <tr>\n      <th>148430</th>\n      <td>21135566</td>\n      <td>19</td>\n      <td>10.486652</td>\n      <td>0.146495</td>\n      <td>0.046389</td>\n      <td>0.277642</td>\n      <td>0.044923</td>\n      <td>0.448491</td>\n      <td>0.099001</td>\n      <td>0.218946</td>\n      <td>...</td>\n      <td>0</td>\n      <td>1</td>\n      <td>0</td>\n      <td>0</td>\n      <td>0.935972</td>\n      <td>0.850278</td>\n      <td>0.466882</td>\n      <td>0.000000</td>\n      <td>0.000000</td>\n      <td>0</td>\n    </tr>\n    <tr>\n      <th>148431</th>\n      <td>10178932</td>\n      <td>-1</td>\n      <td>10.818658</td>\n      <td>0.427293</td>\n      <td>0.028370</td>\n      <td>0.436971</td>\n      <td>0.012410</td>\n      <td>0.548262</td>\n      <td>0.067811</td>\n      <td>0.157878</td>\n      <td>...</td>\n      <td>1</td>\n      <td>0</td>\n      <td>1</td>\n      <td>0</td>\n      <td>0.877030</td>\n      <td>0.165436</td>\n      <td>0.063492</td>\n      <td>0.000000</td>\n      <td>0.000000</td>\n      <td>0</td>\n    </tr>\n    <tr>\n      <th>148432</th>\n      <td>8892698</td>\n      <td>22</td>\n      <td>11.399129</td>\n      <td>0.164834</td>\n      <td>0.039874</td>\n      <td>0.344025</td>\n      <td>0.040864</td>\n      <td>0.421606</td>\n      <td>0.037914</td>\n      <td>0.123562</td>\n      <td>...</td>\n      <td>1</td>\n      <td>1</td>\n      <td>1</td>\n      <td>1</td>\n      <td>0.916927</td>\n      <td>0.550901</td>\n      <td>0.416199</td>\n      <td>0.000000</td>\n      <td>0.000000</td>\n      <td>0</td>\n    </tr>\n    <tr>\n      <th>148433</th>\n      <td>4236357</td>\n      <td>27</td>\n      <td>10.723201</td>\n      <td>0.398028</td>\n      <td>0.032159</td>\n      <td>0.475455</td>\n      <td>0.086947</td>\n      <td>0.431155</td>\n      <td>0.000000</td>\n      <td>0.226152</td>\n      <td>...</td>\n      <td>0</td>\n      <td>0</td>\n      <td>1</td>\n      <td>0</td>\n      <td>0.886346</td>\n      <td>0.816584</td>\n      <td>0.026262</td>\n      <td>0.000000</td>\n      <td>0.000000</td>\n      <td>0</td>\n    </tr>\n    <tr>\n      <th>148434</th>\n      <td>3232953</td>\n      <td>26</td>\n      <td>11.090904</td>\n      <td>0.364178</td>\n      <td>0.033323</td>\n      <td>0.525126</td>\n      <td>0.069977</td>\n      <td>0.559400</td>\n      <td>0.027274</td>\n      <td>0.154113</td>\n      <td>...</td>\n      <td>0</td>\n      <td>0</td>\n      <td>1</td>\n      <td>0</td>\n      <td>0.899830</td>\n      <td>0.343500</td>\n      <td>0.080590</td>\n      <td>0.000000</td>\n      <td>0.000000</td>\n      <td>0</td>\n    </tr>\n  </tbody>\n</table>\n<p>148435 rows × 754 columns</p>\n</div>"
     },
     "execution_count": 72,
     "metadata": {},
     "output_type": "execute_result"
    }
   ],
   "source": [
    "links_df = pd.read_csv('../data/dataframes/links_dfs/0/links_df_full.csv', index_col=False).drop(columns=['Unnamed: 0'])\n",
    "links_df"
   ],
   "metadata": {
    "collapsed": false,
    "pycharm": {
     "name": "#%%\n"
    }
   }
  },
  {
   "cell_type": "code",
   "execution_count": null,
   "metadata": {},
   "outputs": [],
   "source": []
  }
 ],
 "metadata": {
  "kernelspec": {
   "display_name": "Python 3",
   "language": "python",
   "name": "python3"
  },
  "language_info": {
   "codemirror_mode": {
    "name": "ipython",
    "version": 3
   },
   "file_extension": ".py",
   "mimetype": "text/x-python",
   "name": "python",
   "nbconvert_exporter": "python",
   "pygments_lexer": "ipython3",
   "version": "3.8.5"
  }
 },
 "nbformat": 4,
 "nbformat_minor": 4
}