{
 "cells": [
  {
   "cell_type": "code",
   "execution_count": 15,
   "id": "b9d61e52-1603-48c7-9949-15d09b6cb0a6",
   "metadata": {},
   "outputs": [],
   "source": [
    "import numpy as np\n",
    "import pandas as pd\n",
    "import networkx as nx\n",
    "\n",
    "from sklearn.datasets import load_boston\n",
    "from sklearn.model_selection import train_test_split\n",
    "from sklearn.model_selection import StratifiedKFold\n",
    "from sklearn.model_selection import cross_val_score\n",
    "\n",
    "from sklearn.inspection import permutation_importance\n",
    "from sklearn.metrics import accuracy_score\n",
    "from sklearn.metrics import confusion_matrix\n",
    "from sklearn.metrics import classification_report\n",
    "from sklearn.metrics import precision_recall_fscore_support\n",
    "from matplotlib import pyplot as plt\n",
    "import seaborn as sns \n",
    "sns.set_style(\"white\")\n",
    "\n",
    "from xgboost import XGBClassifier\n",
    "\n",
    "import logging\n",
    "log = logging.getLogger('logs/link_prediction_xgboost.log')"
   ]
  },
  {
   "cell_type": "code",
   "execution_count": 2,
   "id": "ecacd7f0-90c8-4a77-994d-dfcd85563d43",
   "metadata": {},
   "outputs": [
    {
     "name": "stdout",
     "output_type": "stream",
     "text": [
      "[08:04:09] WARNING: ../src/learner.cc:1095: Starting in XGBoost 1.3.0, the default evaluation metric used with the objective 'binary:logistic' was changed from 'error' to 'logloss'. Explicitly set eval_metric if you'd like to restore the old behavior.\n"
     ]
    },
    {
     "name": "stderr",
     "output_type": "stream",
     "text": [
      "/home/tduricic/.local/lib/python3.8/site-packages/xgboost/data.py:112: UserWarning: Use subset (sliced data) of np.ndarray is not recommended because it will generate extra copies and increase memory consumption\n",
      "  warnings.warn(\n"
     ]
    },
    {
     "name": "stdout",
     "output_type": "stream",
     "text": [
      "(0.7228755847081089, 0.7224965185466514, 0.7223489371573381, None)\n"
     ]
    }
   ],
   "source": [
    "# 'user_groups_freebase_weighted_average_diversity', 'user_groups_mainstreaminess_global', 'user_groups_novelty_artist_avg_6months'\n",
    "dataset_id = 0\n",
    "listening_characteristics_features_df = pd.read_csv('dataframes/links_dfs/' + str(dataset_id) + '/links_df_listening_characteristics_features.csv', index_col=0)\n",
    "listening_characteristics_features_df = listening_characteristics_features_df.sample(random_state=dataset_id, frac=1).reset_index(drop=True)\n",
    "listening_characteristics_features_df = listening_characteristics_features_df[[\n",
    "    'user1_freebase_weighted_average_diversity',\n",
    "    'user2_freebase_weighted_average_diversity',\n",
    "    'relative_change_freebase_weighted_average_diversity',\n",
    "    'user1_user_groups_freebase_weighted_average_diversity_high',\n",
    "    'user1_user_groups_freebase_weighted_average_diversity_low',\n",
    "    'user1_user_groups_freebase_weighted_average_diversity_medium',\n",
    "    'user2_user_groups_freebase_weighted_average_diversity_high',\n",
    "    'user2_user_groups_freebase_weighted_average_diversity_low',\n",
    "    'user2_user_groups_freebase_weighted_average_diversity_medium',\n",
    "    'same_user_groups_freebase_weighted_average_diversity',\n",
    "    'user1_mainstreaminess_global',\n",
    "    'user2_mainstreaminess_global',\n",
    "    'relative_change_mainstreaminess_global',\n",
    "    'user1_user_groups_mainstreaminess_global_high',\n",
    "    'user1_user_groups_mainstreaminess_global_low',\n",
    "    'user1_user_groups_mainstreaminess_global_medium',\n",
    "    'user2_user_groups_mainstreaminess_global_high',\n",
    "    'user2_user_groups_mainstreaminess_global_low',\n",
    "    'user2_user_groups_mainstreaminess_global_medium',\n",
    "    'same_user_groups_mainstreaminess_global',\n",
    "    'user1_novelty_artist_avg_6months',\n",
    "    'user2_novelty_artist_avg_6months',\n",
    "    'relative_change_novelty_artist_avg_6months',\n",
    "    'user1_user_groups_novelty_artist_avg_6months_high',\n",
    "    'user1_user_groups_novelty_artist_avg_6months_low',\n",
    "    'user1_user_groups_novelty_artist_avg_6months_medium',\n",
    "    'user2_user_groups_novelty_artist_avg_6months_high',\n",
    "    'user2_user_groups_novelty_artist_avg_6months_low',\n",
    "    'user2_user_groups_novelty_artist_avg_6months_medium',\n",
    "    'same_user_groups_novelty_artist_avg_6months',\n",
    "    'label'\n",
    "]]\n",
    "X_train, X_test, y_train, y_test = train_test_split(listening_characteristics_features_df.drop(columns=['label']), listening_characteristics_features_df['label'], test_size=0.2, random_state=0)\n",
    "xgb = XGBClassifier(n_estimators=100, use_label_encoder=False)\n",
    "xgb.fit(X_train, y_train)\n",
    "y_pred = xgb.predict(X_test)\n",
    "predictions = [round(value) for value in y_pred]\n",
    "# evaluate predictions\n",
    "report = classification_report(y_test, predictions)\n",
    "prfs_macro = precision_recall_fscore_support(y_test, predictions, average='macro')\n",
    "prfs_micro = precision_recall_fscore_support(y_test, predictions, average='micro')\n",
    "prfs_weighted = precision_recall_fscore_support(y_test, predictions, average='weighted')\n",
    "print(prfs_weighted)\n",
    "feature_importances = sorted(list(zip(xgb.feature_importances_, list(X_train.columns))),  key=lambda x: x[0], reverse=True)"
   ]
  },
  {
   "cell_type": "code",
   "execution_count": 3,
   "id": "073e79fa-4d81-4311-9831-cd8de7cbf5d1",
   "metadata": {},
   "outputs": [
    {
     "data": {
      "text/plain": [
       "'              precision    recall  f1-score   support\\n\\n           0       0.71      0.74      0.73     15846\\n           1       0.73      0.70      0.72     15750\\n\\n    accuracy                           0.72     31596\\n   macro avg       0.72      0.72      0.72     31596\\nweighted avg       0.72      0.72      0.72     31596\\n'"
      ]
     },
     "execution_count": 3,
     "metadata": {},
     "output_type": "execute_result"
    }
   ],
   "source": [
    "report"
   ]
  },
  {
   "cell_type": "code",
   "execution_count": 4,
   "id": "4cfbf80d-9d98-403f-93a7-5af580e5f50e",
   "metadata": {},
   "outputs": [
    {
     "data": {
      "text/plain": [
       "[(0.39396644, 'same_user_groups_freebase_weighted_average_diversity'),\n",
       " (0.06568945, 'user1_novelty_artist_avg_6months'),\n",
       " (0.05845456, 'user1_mainstreaminess_global'),\n",
       " (0.057491887, 'user1_freebase_weighted_average_diversity'),\n",
       " (0.047264636, 'user2_novelty_artist_avg_6months'),\n",
       " (0.044477414, 'user1_user_groups_freebase_weighted_average_diversity_medium'),\n",
       " (0.04440602, 'same_user_groups_novelty_artist_avg_6months'),\n",
       " (0.041110113, 'user2_mainstreaminess_global'),\n",
       " (0.040446315, 'user1_user_groups_mainstreaminess_global_medium'),\n",
       " (0.040399186, 'user2_freebase_weighted_average_diversity'),\n",
       " (0.033925865, 'user2_user_groups_freebase_weighted_average_diversity_medium'),\n",
       " (0.03240285, 'user1_user_groups_novelty_artist_avg_6months_medium'),\n",
       " (0.02242296, 'relative_change_mainstreaminess_global'),\n",
       " (0.021472245, 'relative_change_freebase_weighted_average_diversity'),\n",
       " (0.01630673, 'user2_user_groups_novelty_artist_avg_6months_medium'),\n",
       " (0.015262806, 'relative_change_novelty_artist_avg_6months'),\n",
       " (0.013741752, 'user2_user_groups_mainstreaminess_global_medium'),\n",
       " (0.010758823, 'same_user_groups_mainstreaminess_global'),\n",
       " (0.0, 'user1_user_groups_freebase_weighted_average_diversity_high'),\n",
       " (0.0, 'user1_user_groups_freebase_weighted_average_diversity_low'),\n",
       " (0.0, 'user2_user_groups_freebase_weighted_average_diversity_high'),\n",
       " (0.0, 'user2_user_groups_freebase_weighted_average_diversity_low'),\n",
       " (0.0, 'user1_user_groups_mainstreaminess_global_high'),\n",
       " (0.0, 'user1_user_groups_mainstreaminess_global_low'),\n",
       " (0.0, 'user2_user_groups_mainstreaminess_global_high'),\n",
       " (0.0, 'user2_user_groups_mainstreaminess_global_low'),\n",
       " (0.0, 'user1_user_groups_novelty_artist_avg_6months_high'),\n",
       " (0.0, 'user1_user_groups_novelty_artist_avg_6months_low'),\n",
       " (0.0, 'user2_user_groups_novelty_artist_avg_6months_high'),\n",
       " (0.0, 'user2_user_groups_novelty_artist_avg_6months_low')]"
      ]
     },
     "execution_count": 4,
     "metadata": {},
     "output_type": "execute_result"
    }
   ],
   "source": [
    "feature_importances"
   ]
  },
  {
   "cell_type": "code",
   "execution_count": 5,
   "id": "5dd34ea2-0365-4b5a-8f57-fa22488373b3",
   "metadata": {},
   "outputs": [],
   "source": [
    "mainstreaminess_sum = 0\n",
    "novelty_sum = 0\n",
    "diversity_sum = 0\n",
    "for feature in feature_importances:\n",
    "    if 'mainstreaminess' in feature[1]:\n",
    "        mainstreaminess_sum += feature[0]\n",
    "    if 'novelty' in feature[1]:\n",
    "        novelty_sum += feature[0]\n",
    "    if 'diversity' in feature[1]:\n",
    "        diversity_sum += feature[0]"
   ]
  },
  {
   "cell_type": "code",
   "execution_count": 7,
   "id": "4566cea6-4a9d-499b-abda-7d44b22233a4",
   "metadata": {},
   "outputs": [
    {
     "name": "stdout",
     "output_type": "stream",
     "text": [
      "Mainstreaminess feature importance sum:  0.18693452142179012\n",
      "Novelty feature importance sum:  0.22133249323815107\n",
      "Diversity feature importance sum:  0.5917330347001553\n"
     ]
    }
   ],
   "source": [
    "print('Mainstreaminess feature importance sum: ', mainstreaminess_sum)\n",
    "print('Novelty feature importance sum: ', novelty_sum)\n",
    "print('Diversity feature importance sum: ', diversity_sum)"
   ]
  },
  {
   "cell_type": "code",
   "execution_count": 23,
   "id": "43c967f5-9883-4e47-bc5d-a07d827d754e",
   "metadata": {},
   "outputs": [
    {
     "data": {
      "image/png": "[encoded data removed]",
      "text/plain": [
       "<Figure size 900x675 with 1 Axes>"
      ]
     },
     "metadata": {},
     "output_type": "display_data"
    }
   ],
   "source": [
    "# plt.rcdefaults()\n",
    "sns.set_style(\"white\")\n",
    "plt.rcParams.update({'font.size': 20})\n",
    "plt.rcParams.update({'figure.figsize' : (9,6.75)})\n",
    "fig, ax = plt.subplots()\n",
    "\n",
    "# Example data\n",
    "metric = ('Mainstreaminess', 'Novelty', 'Diversity')\n",
    "y_pos = np.arange(len(metric))\n",
    "performance = np.array([mainstreaminess_sum, novelty_sum, diversity_sum])\n",
    "\n",
    "ax.barh(y_pos, performance, align='center', color=['green', 'blue', 'orange'])\n",
    "ax.set_yticks(y_pos)\n",
    "ax.set_yticklabels(metric)\n",
    "ax.invert_yaxis()  # labels read top-to-bottom\n",
    "ax.set_xlabel('Feature importance sum')\n",
    "\n",
    "plt.savefig('figures/feature_importance_sums.pdf',dpi=300, bbox_inches = \"tight\")\n",
    "plt.show()"
   ]
  },
  {
   "cell_type": "code",
   "execution_count": 11,
   "id": "b54d87dd-5e5b-45dd-88ba-47ca1237917f",
   "metadata": {},
   "outputs": [
    {
     "data": {
      "text/plain": [
       "array([3.74975518, 9.22553564, 8.35570891])"
      ]
     },
     "execution_count": 11,
     "metadata": {},
     "output_type": "execute_result"
    }
   ],
   "source": [
    "3 + 10 * np.random.rand(3)"
   ]
  },
  {
   "cell_type": "code",
   "execution_count": null,
   "id": "c7f80a61-1d0a-4b1d-841f-103f8e35a713",
   "metadata": {},
   "outputs": [],
   "source": []
  }
 ],
 "metadata": {
  "kernelspec": {
   "display_name": "Python 3",
   "language": "python",
   "name": "python3"
  },
  "language_info": {
   "codemirror_mode": {
    "name": "ipython",
    "version": 3
   },
   "file_extension": ".py",
   "mimetype": "text/x-python",
   "name": "python",
   "nbconvert_exporter": "python",
   "pygments_lexer": "ipython3",
   "version": "3.8.5"
  }
 },
 "nbformat": 4,
 "nbformat_minor": 5
}
