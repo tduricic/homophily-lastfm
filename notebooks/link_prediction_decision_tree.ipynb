{
 "cells": [
  {
   "cell_type": "code",
   "execution_count": 28,
   "metadata": {},
   "outputs": [],
   "source": [
    "import pandas as pd\n",
    "import numpy as np\n",
    "from sklearn.datasets import make_classification\n",
    "from sklearn.model_selection import cross_val_score\n",
    "from sklearn.model_selection import RepeatedStratifiedKFold\n",
    "from sklearn.feature_selection import RFE\n",
    "from sklearn.tree import DecisionTreeClassifier\n",
    "from sklearn.linear_model import LogisticRegression\n",
    "from sklearn.pipeline import Pipeline"
   ]
  },
  {
   "cell_type": "code",
   "execution_count": 43,
   "metadata": {},
   "outputs": [],
   "source": [
    "network_features_df = pd.read_csv('dataframes/links_df_network_features.csv', index_col=0)\n",
    "demographic_features_df = pd.read_csv('dataframes/links_df_demographic_features.csv', index_col=0)\n",
    "genre_features_df = pd.read_csv('dataframes/links_df_genre_features.csv', index_col=0)\n",
    "listening_profile_features_df = pd.read_csv('dataframes/links_df_listening_profile_features.csv', index_col=0)\n",
    "listening_characteristics_features_df = pd.read_csv('dataframes/links_df_listening_characteristics_features.csv', index_col=0)\n",
    "full_df = pd.read_csv('dataframes/links_df_full.csv', index_col=0)"
   ]
  },
  {
   "cell_type": "code",
   "execution_count": 44,
   "metadata": {},
   "outputs": [],
   "source": [
    "demographic_features_df.columns[demographic_features_df.isna().any()].tolist()\n",
    "full_df = full_df.drop(columns=['relative_change_age'])\n",
    "demographic_features_df = demographic_features_df.drop(columns=['relative_change_age'])"
   ]
  },
  {
   "cell_type": "code",
   "execution_count": 45,
   "metadata": {},
   "outputs": [],
   "source": [
    "def calc_classification_acc(df):\n",
    "    # define dataset\n",
    "    data_final_vars=df.columns.values.tolist()\n",
    "    y=df['label']\n",
    "    X=df.drop(columns='label')\n",
    "    # create pipeline\n",
    "    rfe = RFE(estimator=DecisionTreeClassifier(), n_features_to_select=50)\n",
    "    model = DecisionTreeClassifier()\n",
    "    pipeline = Pipeline(steps=[('s',rfe),('m',model)])\n",
    "    # evaluate model\n",
    "    cv = RepeatedStratifiedKFold(n_splits=10, n_repeats=3, random_state=1)\n",
    "    n_scores = cross_val_score(pipeline, X, y, scoring='accuracy', cv=cv, n_jobs=-1, error_score='raise')\n",
    "    # report performance\n",
    "    print('Accuracy: %.3f (%.3f)' % (np.mean(n_scores), np.std(n_scores)))\n",
    "    return (np.mean(n_scores), np.std(n_scores))"
   ]
  },
  {
   "cell_type": "code",
   "execution_count": null,
   "metadata": {},
   "outputs": [
    {
     "name": "stdout",
     "output_type": "stream",
     "text": [
      "Accuracy: 0.973 (0.001)\n",
      "Accuracy: 0.602 (0.004)\n"
     ]
    },
    {
     "name": "stderr",
     "output_type": "stream",
     "text": [
      "/home/tduricic/Development/tools/anaconda3/envs/lastfm/lib/python3.8/site-packages/joblib/externals/loky/process_executor.py:688: UserWarning: A worker stopped while some jobs were given to the executor. This can be caused by a too short worker timeout or by a memory leak.\n",
      "  warnings.warn(\n"
     ]
    },
    {
     "name": "stdout",
     "output_type": "stream",
     "text": [
      "Accuracy: 0.713 (0.005)\n",
      "Accuracy: 0.691 (0.005)\n",
      "Accuracy: 0.664 (0.007)\n"
     ]
    }
   ],
   "source": [
    "results = {}\n",
    "results['network_features_df'] = calc_classification_acc(network_features_df)\n",
    "results['demographic_features_df'] = calc_classification_acc(demographic_features_df)\n",
    "results['genre_features_df'] = calc_classification_acc(genre_features_df)\n",
    "results['listening_profile_features_df'] = calc_classification_acc(listening_profile_features_df)\n",
    "results['listening_characteristics_features_df'] = calc_classification_acc(listening_characteristics_features_df)\n",
    "results['full_df'] = calc_classification_acc(full_df)"
   ]
  },
  {
   "cell_type": "code",
   "execution_count": null,
   "metadata": {},
   "outputs": [],
   "source": [
    "results"
   ]
  },
  {
   "cell_type": "code",
   "execution_count": 48,
   "metadata": {},
   "outputs": [
    {
     "data": {
      "text/plain": [
       "dict"
      ]
     },
     "execution_count": 48,
     "metadata": {},
     "output_type": "execute_result"
    }
   ],
   "source": [
    "type(lala)"
   ]
  },
  {
   "cell_type": "code",
   "execution_count": null,
   "metadata": {},
   "outputs": [],
   "source": []
  }
 ],
 "metadata": {
  "kernelspec": {
   "display_name": "Python 3",
   "language": "python",
   "name": "python3"
  },
  "language_info": {
   "codemirror_mode": {
    "name": "ipython",
    "version": 3
   },
   "file_extension": ".py",
   "mimetype": "text/x-python",
   "name": "python",
   "nbconvert_exporter": "python",
   "pygments_lexer": "ipython3",
   "version": "3.8.5"
  }
 },
 "nbformat": 4,
 "nbformat_minor": 4
}
