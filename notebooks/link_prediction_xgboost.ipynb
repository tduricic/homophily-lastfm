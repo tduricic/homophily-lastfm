{
 "cells": [
  {
   "cell_type": "code",
   "execution_count": 1,
   "metadata": {},
   "outputs": [],
   "source": [
    "import numpy as np\n",
    "import pandas as pd\n",
    "import networkx as nx\n",
    "\n",
    "from sklearn.datasets import load_boston\n",
    "from sklearn.model_selection import train_test_split\n",
    "from sklearn.model_selection import StratifiedKFold\n",
    "from sklearn.model_selection import cross_val_score\n",
    "\n",
    "from sklearn.inspection import permutation_importance\n",
    "from sklearn.metrics import accuracy_score\n",
    "from sklearn.metrics import confusion_matrix\n",
    "from sklearn.metrics import classification_report\n",
    "from sklearn.metrics import precision_recall_fscore_support\n",
    "from sklearn.metrics import average_precision_score\n",
    "\n",
    "from matplotlib import pyplot as plt\n",
    "import seaborn as sns \n",
    "\n",
    "from xgboost import XGBClassifier\n",
    "\n",
    "import logging\n",
    "log = logging.getLogger('logs/link_prediction_xgboost.log')"
   ]
  },
  {
   "cell_type": "code",
   "execution_count": 3,
   "metadata": {},
   "outputs": [],
   "source": [
    "# dataset_index = 0\n",
    "# network_features_df = pd.read_csv('dataframes/links_dfs/' + str(dataset_index) + '/links_df_network_features.csv', index_col=0)\n",
    "# network_features_df = network_features_df.sample(frac=1).reset_index(drop=True)\n",
    "# demographic_features_df = pd.read_csv('dataframes/links_dfs/' + str(dataset_index) + '/links_df_demographic_features.csv', index_col=0)\n",
    "# demographic_features_df = demographic_features_df.sample(frac=1).reset_index(drop=True)\n",
    "# genre_features_df = pd.read_csv('dataframes/links_dfs/' + str(dataset_index) + '/links_df_genre_features.csv', index_col=0)\n",
    "# genre_features_df = genre_features_df.sample(frac=1).reset_index(drop=True)\n",
    "# listening_profile_features_df = pd.read_csv('dataframes/links_dfs/' + str(dataset_index) + '/links_df_listening_profile_features.csv', index_col=0)\n",
    "# listening_profile_features_df = listening_profile_features_df.sample(frac=1).reset_index(drop=True)\n",
    "# listening_characteristics_features_df = pd.read_csv('dataframes/links_dfs/' + str(dataset_index) + '/links_df_listening_characteristics_features.csv', index_col=0)\n",
    "# listening_characteristics_features_df = listening_characteristics_features_df.sample(frac=1).reset_index(drop=True)\n",
    "# full_df = pd.read_csv('dataframes/links_dfs/' + str(dataset_index) + '/links_df_full.csv', index_col=0)\n",
    "# full_df = full_df.sample(frac=1).reset_index(drop=True)\n",
    "# feature_importances = {}\n",
    "# accuracies = {}\n",
    "# feature_dict = {\n",
    "#     'df':demographic_features_df,\n",
    "#     'gf':genre_features_df,\n",
    "#     'lpf':listening_profile_features_df,\n",
    "#     'lcf':listening_characteristics_features_df,\n",
    "#     'nf':network_features_df\n",
    "# }\n",
    "# feature_combinations = {}\n",
    "# for df in [None, 'df']:\n",
    "#     for gf in [None, 'gf']:\n",
    "#         for lpf in [None, 'lpf']:\n",
    "#             for lcf in [None, 'lcf']:\n",
    "#                 feature_combinations[(df, gf, lpf, lcf)] = {}\n",
    "#                 dfs_to_combine = []\n",
    "#                 for x in (df, gf, lpf, lcf):\n",
    "#                     if x is not None:\n",
    "#                         dfs_to_combine.append(feature_dict[x])\n",
    "#                 if len(dfs_to_combine) > 0:\n",
    "#                     feature_combinations[(df, gf, lpf, lcf)]['dataframe_'+str(dataset_index)] = pd.concat(dfs_to_combine, axis=1)\n",
    "#                     feature_combinations[(df, gf, lpf, lcf)]['dataframe_'+str(dataset_index)] = feature_combinations[(df, gf, lpf, lcf)]['dataframe'].loc[:,~feature_combinations[(df, gf, lpf, lcf)]['dataframe'].columns.duplicated()]"
   ]
  },
  {
   "cell_type": "code",
   "execution_count": 2,
   "metadata": {},
   "outputs": [
    {
     "name": "stdout",
     "output_type": "stream",
     "text": [
      "[23:42:21] WARNING: ../src/learner.cc:1095: Starting in XGBoost 1.3.0, the default evaluation metric used with the objective 'binary:logistic' was changed from 'error' to 'logloss'. Explicitly set eval_metric if you'd like to restore the old behavior.\n"
     ]
    },
    {
     "name": "stderr",
     "output_type": "stream",
     "text": [
      "/home/tduricic/.local/lib/python3.8/site-packages/xgboost/data.py:112: UserWarning: Use subset (sliced data) of np.ndarray is not recommended because it will generate extra copies and increase memory consumption\n",
      "  warnings.warn(\n"
     ]
    },
    {
     "name": "stdout",
     "output_type": "stream",
     "text": [
      "(0.7228755847081089, 0.7224965185466514, 0.7223489371573381, None)\n"
     ]
    }
   ],
   "source": [
    "# 'user_groups_freebase_weighted_average_diversity', 'user_groups_mainstreaminess_global', 'user_groups_novelty_artist_avg_6months'\n",
    "dataset_id = 0\n",
    "listening_characteristics_features_df = pd.read_csv('dataframes/links_dfs/' + str(dataset_id) + '/links_df_listening_characteristics_features.csv', index_col=0)\n",
    "listening_characteristics_features_df = listening_characteristics_features_df.sample(random_state=dataset_id, frac=1).reset_index(drop=True)\n",
    "listening_characteristics_features_df = listening_characteristics_features_df[[\n",
    "    'user1_freebase_weighted_average_diversity',\n",
    "    'user2_freebase_weighted_average_diversity',\n",
    "    'relative_change_freebase_weighted_average_diversity',\n",
    "    'user1_user_groups_freebase_weighted_average_diversity_high',\n",
    "    'user1_user_groups_freebase_weighted_average_diversity_low',\n",
    "    'user1_user_groups_freebase_weighted_average_diversity_medium',\n",
    "    'user2_user_groups_freebase_weighted_average_diversity_high',\n",
    "    'user2_user_groups_freebase_weighted_average_diversity_low',\n",
    "    'user2_user_groups_freebase_weighted_average_diversity_medium',\n",
    "    'same_user_groups_freebase_weighted_average_diversity',\n",
    "    'user1_mainstreaminess_global',\n",
    "    'user2_mainstreaminess_global',\n",
    "    'relative_change_mainstreaminess_global',\n",
    "    'user1_user_groups_mainstreaminess_global_high',\n",
    "    'user1_user_groups_mainstreaminess_global_low',\n",
    "    'user1_user_groups_mainstreaminess_global_medium',\n",
    "    'user2_user_groups_mainstreaminess_global_high',\n",
    "    'user2_user_groups_mainstreaminess_global_low',\n",
    "    'user2_user_groups_mainstreaminess_global_medium',\n",
    "    'same_user_groups_mainstreaminess_global',\n",
    "    'user1_novelty_artist_avg_6months',\n",
    "    'user2_novelty_artist_avg_6months',\n",
    "    'relative_change_novelty_artist_avg_6months',\n",
    "    'user1_user_groups_novelty_artist_avg_6months_high',\n",
    "    'user1_user_groups_novelty_artist_avg_6months_low',\n",
    "    'user1_user_groups_novelty_artist_avg_6months_medium',\n",
    "    'user2_user_groups_novelty_artist_avg_6months_high',\n",
    "    'user2_user_groups_novelty_artist_avg_6months_low',\n",
    "    'user2_user_groups_novelty_artist_avg_6months_medium',\n",
    "    'same_user_groups_novelty_artist_avg_6months',\n",
    "    'label'\n",
    "]]\n",
    "X_train, X_test, y_train, y_test = train_test_split(listening_characteristics_features_df.drop(columns=['label']), listening_characteristics_features_df['label'], test_size=0.2, random_state=0)\n",
    "xgb = XGBClassifier(n_estimators=100, use_label_encoder=False)\n",
    "xgb.fit(X_train, y_train)\n",
    "y_pred = xgb.predict(X_test)\n",
    "y_pred_proba_tmp = xgb.predict_proba(X_test)\n",
    "y_pred_proba = []\n",
    "for entry in y_pred_proba_tmp:\n",
    "    y_pred_proba.append(entry[1])\n",
    "predictions = [round(value) for value in y_pred]\n",
    "# evaluate predictions\n",
    "report = classification_report(y_test, predictions)\n",
    "prfs_macro = precision_recall_fscore_support(y_test, predictions, average='macro')\n",
    "prfs_micro = precision_recall_fscore_support(y_test, predictions, average='micro')\n",
    "prfs_weighted = precision_recall_fscore_support(y_test, predictions, average='weighted')\n",
    "print(prfs_weighted)\n",
    "feature_importances = sorted(list(zip(xgb.feature_importances_, list(X_train.columns))),  key=lambda x: x[0], reverse=True)"
   ]
  },
  {
   "cell_type": "code",
   "execution_count": 4,
   "metadata": {},
   "outputs": [
    {
     "data": {
      "text/plain": [
       "0.8070515828100808"
      ]
     },
     "execution_count": 4,
     "metadata": {},
     "output_type": "execute_result"
    }
   ],
   "source": [
    "average_precision_score(y_test, y_pred_proba)"
   ]
  },
  {
   "cell_type": "code",
   "execution_count": 3,
   "metadata": {},
   "outputs": [
    {
     "data": {
      "text/plain": [
       "[(0.39396644, 'same_user_groups_freebase_weighted_average_diversity'),\n",
       " (0.06568945, 'user1_novelty_artist_avg_6months'),\n",
       " (0.05845456, 'user1_mainstreaminess_global'),\n",
       " (0.057491887, 'user1_freebase_weighted_average_diversity'),\n",
       " (0.047264636, 'user2_novelty_artist_avg_6months'),\n",
       " (0.044477414, 'user1_user_groups_freebase_weighted_average_diversity_medium'),\n",
       " (0.04440602, 'same_user_groups_novelty_artist_avg_6months'),\n",
       " (0.041110113, 'user2_mainstreaminess_global'),\n",
       " (0.040446315, 'user1_user_groups_mainstreaminess_global_medium'),\n",
       " (0.040399186, 'user2_freebase_weighted_average_diversity'),\n",
       " (0.033925865, 'user2_user_groups_freebase_weighted_average_diversity_medium'),\n",
       " (0.03240285, 'user1_user_groups_novelty_artist_avg_6months_medium'),\n",
       " (0.02242296, 'relative_change_mainstreaminess_global'),\n",
       " (0.021472245, 'relative_change_freebase_weighted_average_diversity'),\n",
       " (0.01630673, 'user2_user_groups_novelty_artist_avg_6months_medium'),\n",
       " (0.015262806, 'relative_change_novelty_artist_avg_6months'),\n",
       " (0.013741752, 'user2_user_groups_mainstreaminess_global_medium'),\n",
       " (0.010758823, 'same_user_groups_mainstreaminess_global'),\n",
       " (0.0, 'user1_user_groups_freebase_weighted_average_diversity_high'),\n",
       " (0.0, 'user1_user_groups_freebase_weighted_average_diversity_low'),\n",
       " (0.0, 'user2_user_groups_freebase_weighted_average_diversity_high'),\n",
       " (0.0, 'user2_user_groups_freebase_weighted_average_diversity_low'),\n",
       " (0.0, 'user1_user_groups_mainstreaminess_global_high'),\n",
       " (0.0, 'user1_user_groups_mainstreaminess_global_low'),\n",
       " (0.0, 'user2_user_groups_mainstreaminess_global_high'),\n",
       " (0.0, 'user2_user_groups_mainstreaminess_global_low'),\n",
       " (0.0, 'user1_user_groups_novelty_artist_avg_6months_high'),\n",
       " (0.0, 'user1_user_groups_novelty_artist_avg_6months_low'),\n",
       " (0.0, 'user2_user_groups_novelty_artist_avg_6months_high'),\n",
       " (0.0, 'user2_user_groups_novelty_artist_avg_6months_low')]"
      ]
     },
     "execution_count": 3,
     "metadata": {},
     "output_type": "execute_result"
    }
   ],
   "source": [
    "feature_importances"
   ]
  },
  {
   "cell_type": "code",
   "execution_count": null,
   "metadata": {},
   "outputs": [],
   "source": [
    "evaluation_results = []\n",
    "for dataset_id in range(10):\n",
    "    # Load datasets\n",
    "#     network_features_df = pd.read_csv('dataframes/links_dfs/' + str(dataset_index) + '/links_df_network_features.csv', index_col=0)\n",
    "#     network_features_df = network_features_df.sample(random_state=dataset_id, frac=1).reset_index(drop=True)\n",
    "    demographic_features_df = pd.read_csv('dataframes/links_dfs/' + str(dataset_index) + '/links_df_demographic_features.csv', index_col=0)\n",
    "    demographic_features_df = demographic_features_df.sample(random_state=dataset_id, frac=1).reset_index(drop=True)\n",
    "    genre_features_df = pd.read_csv('dataframes/links_dfs/' + str(dataset_index) + '/links_df_genre_features.csv', index_col=0)\n",
    "    genre_features_df = genre_features_df.sample(random_state=dataset_id, frac=1).reset_index(drop=True)\n",
    "    listening_profile_features_df = pd.read_csv('dataframes/links_dfs/' + str(dataset_index) + '/links_df_listening_profile_features.csv', index_col=0)\n",
    "    listening_profile_features_df = listening_profile_features_df.sample(random_state=dataset_id, frac=1).reset_index(drop=True)\n",
    "    listening_characteristics_features_df = pd.read_csv('dataframes/links_dfs/' + str(dataset_index) + '/links_df_listening_characteristics_features.csv', index_col=0)\n",
    "    listening_characteristics_features_df = listening_characteristics_features_df.sample(random_state=dataset_id, frac=1).reset_index(drop=True)\n",
    "#     full_df = pd.read_csv('dataframes/links_dfs/' + str(dataset_index) + '/links_df_full.csv', index_col=0)\n",
    "#     full_df = full_df.sample(frac=1).reset_index(drop=True)\n",
    "    # Map dataframes by attribute types\n",
    "    feature_dict = {\n",
    "        'df':demographic_features_df,\n",
    "        'gf':genre_features_df,\n",
    "        'lpf':listening_profile_features_df,\n",
    "        'lcf':listening_characteristics_features_df,\n",
    "        'nf':network_features_df\n",
    "    }\n",
    "    for split_seed in range(5):\n",
    "        for df in [None, 'df']:\n",
    "            for gf in [None, 'gf']:\n",
    "                for lpf in [None, 'lpf']:\n",
    "                    for lcf in [None, 'lcf']:\n",
    "                        feature_combination = (df, gf, lpf, lcf)\n",
    "                        print('Other features - dataset_id: ', dataset_id, ', split_seed: ', split_seed, ', feature_combination: ', feature_combination)\n",
    "                        log.info('Other features - dataset_id: ', dataset_id, ', split_seed: ', split_seed, ', feature_combination: ', feature_combination)\n",
    "                        if feature_combination == (None,None,None,None):\n",
    "                            continue\n",
    "                        dfs_to_combine = []\n",
    "                        for x in (df, gf, lpf, lcf):\n",
    "                            if x is not None:\n",
    "                                dfs_to_combine.append(feature_dict[x])\n",
    "                        input_df = pd.concat(dfs_to_combine, axis=1)\n",
    "                        input_df = input_df.loc[:,~input_df.columns.duplicated()]\n",
    "                                \n",
    "                        X_train, X_test, y_train, y_test = train_test_split(input_df.drop(columns=['label']), input_df['label'], test_size=0.2, random_state=split_seed)\n",
    "                        xgb = XGBClassifier(n_estimators=100, use_label_encoder=False)\n",
    "                        user_ids_test = pd.DataFrame(X_test[['user1_user_id', 'user2_user_id']])\n",
    "                        X_train = X_train.drop(columns=['user1_user_id', 'user2_user_id'])\n",
    "                        X_test = X_test.drop(columns=['user1_user_id', 'user2_user_id'])\n",
    "                        xgb.fit(X_train, y_train)\n",
    "                        y_pred = xgb.predict(X_test)\n",
    "                        predictions = [round(value) for value in y_pred]\n",
    "                        # evaluate predictions\n",
    "                        report = classification_report(y_test, predictions)\n",
    "                        prfs_macro = precision_recall_fscore_support(y_test, predictions, average='macro')\n",
    "                        prfs_micro = precision_recall_fscore_support(y_test, predictions, average='micro')\n",
    "                        prfs_weighted = precision_recall_fscore_support(y_test, predictions, average='weighted')\n",
    "                        print(prfs_weighted)\n",
    "                        feature_importances = sorted(list(zip(xgb.feature_importances_, list(X_train.columns))),  key=lambda x: x[0], reverse=True)\n",
    "                        evaluation_result = {\n",
    "                            'dataset_id': dataset_id,\n",
    "                            'split_seed': split_seed,\n",
    "                            'demographic_features': False if df is None else True,\n",
    "                            'listening_profile_features': False if lpf is None else True,\n",
    "                            'genre_features': False if gf is None else True,\n",
    "                            'listening_characteristics_features': False if lcf is None else True,\n",
    "                            'report': report,\n",
    "                            'xgb_feature_importances': feature_importances,\n",
    "                            'user_ids_test': user_ids_test,\n",
    "                            'y_test': y_test,\n",
    "                            'y_pred': y_pred,\n",
    "                            'prfs_macro': prfs_macro,\n",
    "                            'prfs_micro': prfs_micro,\n",
    "                            'prfs_weighted': prfs_weighted\n",
    "                        }\n",
    "                        evaluation_results.append(evaluation_result)"
   ]
  },
  {
   "cell_type": "code",
   "execution_count": 51,
   "metadata": {},
   "outputs": [
    {
     "name": "stdout",
     "output_type": "stream",
     "text": [
      "Other features - dataset_id:  0 , split_seed:  0 , feature_combination:  (None, None)\n",
      "Other features - dataset_id:  0 , split_seed:  0 , feature_combination:  (None, 'lcf')\n",
      "[07:31:36] WARNING: ../src/learner.cc:1095: Starting in XGBoost 1.3.0, the default evaluation metric used with the objective 'binary:logistic' was changed from 'error' to 'logloss'. Explicitly set eval_metric if you'd like to restore the old behavior.\n"
     ]
    },
    {
     "name": "stderr",
     "output_type": "stream",
     "text": [
      "/home/tduricic/.local/lib/python3.8/site-packages/xgboost/data.py:112: UserWarning: Use subset (sliced data) of np.ndarray is not recommended because it will generate extra copies and increase memory consumption\n",
      "  warnings.warn(\n"
     ]
    },
    {
     "name": "stdout",
     "output_type": "stream",
     "text": [
      "(0.7659966306300999, 0.7656665400683631, 0.7655750538873909, None)\n",
      "Other features - dataset_id:  0 , split_seed:  0 , feature_combination:  ('lpf', None)\n",
      "[07:32:11] WARNING: ../src/learner.cc:1095: Starting in XGBoost 1.3.0, the default evaluation metric used with the objective 'binary:logistic' was changed from 'error' to 'logloss'. Explicitly set eval_metric if you'd like to restore the old behavior.\n"
     ]
    },
    {
     "name": "stderr",
     "output_type": "stream",
     "text": [
      "/home/tduricic/.local/lib/python3.8/site-packages/xgboost/data.py:112: UserWarning: Use subset (sliced data) of np.ndarray is not recommended because it will generate extra copies and increase memory consumption\n",
      "  warnings.warn(\n"
     ]
    },
    {
     "name": "stdout",
     "output_type": "stream",
     "text": [
      "(0.7836066930268092, 0.7835169008735283, 0.7834911350248384, None)\n",
      "Other features - dataset_id:  0 , split_seed:  0 , feature_combination:  ('lpf', 'lcf')\n",
      "[07:32:38] WARNING: ../src/learner.cc:1095: Starting in XGBoost 1.3.0, the default evaluation metric used with the objective 'binary:logistic' was changed from 'error' to 'logloss'. Explicitly set eval_metric if you'd like to restore the old behavior.\n"
     ]
    },
    {
     "name": "stderr",
     "output_type": "stream",
     "text": [
      "/home/tduricic/.local/lib/python3.8/site-packages/xgboost/data.py:112: UserWarning: Use subset (sliced data) of np.ndarray is not recommended because it will generate extra copies and increase memory consumption\n",
      "  warnings.warn(\n"
     ]
    },
    {
     "name": "stdout",
     "output_type": "stream",
     "text": [
      "(0.7930589034285619, 0.7930117736422332, 0.7929975794569828, None)\n",
      "Other features - dataset_id:  0 , split_seed:  1 , feature_combination:  (None, None)\n",
      "Other features - dataset_id:  0 , split_seed:  1 , feature_combination:  (None, 'lcf')\n",
      "[07:33:17] WARNING: ../src/learner.cc:1095: Starting in XGBoost 1.3.0, the default evaluation metric used with the objective 'binary:logistic' was changed from 'error' to 'logloss'. Explicitly set eval_metric if you'd like to restore the old behavior.\n"
     ]
    },
    {
     "name": "stderr",
     "output_type": "stream",
     "text": [
      "/home/tduricic/.local/lib/python3.8/site-packages/xgboost/data.py:112: UserWarning: Use subset (sliced data) of np.ndarray is not recommended because it will generate extra copies and increase memory consumption\n",
      "  warnings.warn(\n"
     ]
    },
    {
     "name": "stdout",
     "output_type": "stream",
     "text": [
      "(0.767225806643799, 0.7667426256488163, 0.7666512696578942, None)\n",
      "Other features - dataset_id:  0 , split_seed:  1 , feature_combination:  ('lpf', None)\n",
      "[07:33:53] WARNING: ../src/learner.cc:1095: Starting in XGBoost 1.3.0, the default evaluation metric used with the objective 'binary:logistic' was changed from 'error' to 'logloss'. Explicitly set eval_metric if you'd like to restore the old behavior.\n"
     ]
    },
    {
     "name": "stderr",
     "output_type": "stream",
     "text": [
      "/home/tduricic/.local/lib/python3.8/site-packages/xgboost/data.py:112: UserWarning: Use subset (sliced data) of np.ndarray is not recommended because it will generate extra copies and increase memory consumption\n",
      "  warnings.warn(\n"
     ]
    },
    {
     "name": "stdout",
     "output_type": "stream",
     "text": [
      "(0.7816746889944275, 0.781554627167996, 0.7815374490537597, None)\n",
      "Other features - dataset_id:  0 , split_seed:  1 , feature_combination:  ('lpf', 'lcf')\n",
      "[07:34:20] WARNING: ../src/learner.cc:1095: Starting in XGBoost 1.3.0, the default evaluation metric used with the objective 'binary:logistic' was changed from 'error' to 'logloss'. Explicitly set eval_metric if you'd like to restore the old behavior.\n"
     ]
    },
    {
     "name": "stderr",
     "output_type": "stream",
     "text": [
      "/home/tduricic/.local/lib/python3.8/site-packages/xgboost/data.py:112: UserWarning: Use subset (sliced data) of np.ndarray is not recommended because it will generate extra copies and increase memory consumption\n",
      "  warnings.warn(\n"
     ]
    },
    {
     "name": "stdout",
     "output_type": "stream",
     "text": [
      "(0.8013382861617538, 0.8012406633751108, 0.801229206864251, None)\n",
      "Other features - dataset_id:  0 , split_seed:  2 , feature_combination:  (None, None)\n",
      "Other features - dataset_id:  0 , split_seed:  2 , feature_combination:  (None, 'lcf')\n",
      "[07:34:59] WARNING: ../src/learner.cc:1095: Starting in XGBoost 1.3.0, the default evaluation metric used with the objective 'binary:logistic' was changed from 'error' to 'logloss'. Explicitly set eval_metric if you'd like to restore the old behavior.\n"
     ]
    },
    {
     "name": "stderr",
     "output_type": "stream",
     "text": [
      "/home/tduricic/.local/lib/python3.8/site-packages/xgboost/data.py:112: UserWarning: Use subset (sliced data) of np.ndarray is not recommended because it will generate extra copies and increase memory consumption\n",
      "  warnings.warn(\n"
     ]
    },
    {
     "name": "stdout",
     "output_type": "stream",
     "text": [
      "(0.7635329693605523, 0.7632611723002912, 0.763204256046775, None)\n",
      "Other features - dataset_id:  0 , split_seed:  2 , feature_combination:  ('lpf', None)\n",
      "[07:35:35] WARNING: ../src/learner.cc:1095: Starting in XGBoost 1.3.0, the default evaluation metric used with the objective 'binary:logistic' was changed from 'error' to 'logloss'. Explicitly set eval_metric if you'd like to restore the old behavior.\n"
     ]
    },
    {
     "name": "stderr",
     "output_type": "stream",
     "text": [
      "/home/tduricic/.local/lib/python3.8/site-packages/xgboost/data.py:112: UserWarning: Use subset (sliced data) of np.ndarray is not recommended because it will generate extra copies and increase memory consumption\n",
      "  warnings.warn(\n"
     ]
    },
    {
     "name": "stdout",
     "output_type": "stream",
     "text": [
      "(0.7809050522220332, 0.7807950373464996, 0.7807758289851301, None)\n",
      "Other features - dataset_id:  0 , split_seed:  2 , feature_combination:  ('lpf', 'lcf')\n",
      "[07:36:03] WARNING: ../src/learner.cc:1095: Starting in XGBoost 1.3.0, the default evaluation metric used with the objective 'binary:logistic' was changed from 'error' to 'logloss'. Explicitly set eval_metric if you'd like to restore the old behavior.\n"
     ]
    },
    {
     "name": "stderr",
     "output_type": "stream",
     "text": [
      "/home/tduricic/.local/lib/python3.8/site-packages/xgboost/data.py:112: UserWarning: Use subset (sliced data) of np.ndarray is not recommended because it will generate extra copies and increase memory consumption\n",
      "  warnings.warn(\n"
     ]
    },
    {
     "name": "stdout",
     "output_type": "stream",
     "text": [
      "(0.7932874619733897, 0.7932016710976073, 0.7931883357206935, None)\n",
      "Other features - dataset_id:  0 , split_seed:  3 , feature_combination:  (None, None)\n",
      "Other features - dataset_id:  0 , split_seed:  3 , feature_combination:  (None, 'lcf')\n",
      "[07:36:43] WARNING: ../src/learner.cc:1095: Starting in XGBoost 1.3.0, the default evaluation metric used with the objective 'binary:logistic' was changed from 'error' to 'logloss'. Explicitly set eval_metric if you'd like to restore the old behavior.\n"
     ]
    },
    {
     "name": "stderr",
     "output_type": "stream",
     "text": [
      "/home/tduricic/.local/lib/python3.8/site-packages/xgboost/data.py:112: UserWarning: Use subset (sliced data) of np.ndarray is not recommended because it will generate extra copies and increase memory consumption\n",
      "  warnings.warn(\n"
     ]
    },
    {
     "name": "stdout",
     "output_type": "stream",
     "text": [
      "(0.7649964627516863, 0.7647170527914926, 0.7646230741093877, None)\n",
      "Other features - dataset_id:  0 , split_seed:  3 , feature_combination:  ('lpf', None)\n",
      "[07:37:18] WARNING: ../src/learner.cc:1095: Starting in XGBoost 1.3.0, the default evaluation metric used with the objective 'binary:logistic' was changed from 'error' to 'logloss'. Explicitly set eval_metric if you'd like to restore the old behavior.\n"
     ]
    },
    {
     "name": "stderr",
     "output_type": "stream",
     "text": [
      "/home/tduricic/.local/lib/python3.8/site-packages/xgboost/data.py:112: UserWarning: Use subset (sliced data) of np.ndarray is not recommended because it will generate extra copies and increase memory consumption\n",
      "  warnings.warn(\n"
     ]
    },
    {
     "name": "stdout",
     "output_type": "stream",
     "text": [
      "(0.7838276980670966, 0.7837067983289024, 0.7836654479734888, None)\n",
      "Other features - dataset_id:  0 , split_seed:  3 , feature_combination:  ('lpf', 'lcf')\n",
      "[07:37:45] WARNING: ../src/learner.cc:1095: Starting in XGBoost 1.3.0, the default evaluation metric used with the objective 'binary:logistic' was changed from 'error' to 'logloss'. Explicitly set eval_metric if you'd like to restore the old behavior.\n"
     ]
    },
    {
     "name": "stderr",
     "output_type": "stream",
     "text": [
      "/home/tduricic/.local/lib/python3.8/site-packages/xgboost/data.py:112: UserWarning: Use subset (sliced data) of np.ndarray is not recommended because it will generate extra copies and increase memory consumption\n",
      "  warnings.warn(\n"
     ]
    },
    {
     "name": "stdout",
     "output_type": "stream",
     "text": [
      "(0.7973925686307909, 0.7973477655399418, 0.7973297214625514, None)\n",
      "Other features - dataset_id:  0 , split_seed:  4 , feature_combination:  (None, None)\n",
      "Other features - dataset_id:  0 , split_seed:  4 , feature_combination:  (None, 'lcf')\n",
      "[07:38:23] WARNING: ../src/learner.cc:1095: Starting in XGBoost 1.3.0, the default evaluation metric used with the objective 'binary:logistic' was changed from 'error' to 'logloss'. Explicitly set eval_metric if you'd like to restore the old behavior.\n"
     ]
    },
    {
     "name": "stderr",
     "output_type": "stream",
     "text": [
      "/home/tduricic/.local/lib/python3.8/site-packages/xgboost/data.py:112: UserWarning: Use subset (sliced data) of np.ndarray is not recommended because it will generate extra copies and increase memory consumption\n",
      "  warnings.warn(\n"
     ]
    },
    {
     "name": "stdout",
     "output_type": "stream",
     "text": [
      "(0.7667377472531985, 0.7665843777693379, 0.7664948385597438, None)\n",
      "Other features - dataset_id:  0 , split_seed:  4 , feature_combination:  ('lpf', None)\n",
      "[07:38:59] WARNING: ../src/learner.cc:1095: Starting in XGBoost 1.3.0, the default evaluation metric used with the objective 'binary:logistic' was changed from 'error' to 'logloss'. Explicitly set eval_metric if you'd like to restore the old behavior.\n"
     ]
    },
    {
     "name": "stderr",
     "output_type": "stream",
     "text": [
      "/home/tduricic/.local/lib/python3.8/site-packages/xgboost/data.py:112: UserWarning: Use subset (sliced data) of np.ndarray is not recommended because it will generate extra copies and increase memory consumption\n",
      "  warnings.warn(\n"
     ]
    },
    {
     "name": "stdout",
     "output_type": "stream",
     "text": [
      "(0.7829773775200232, 0.7829788580833017, 0.782965464843779, None)\n",
      "Other features - dataset_id:  0 , split_seed:  4 , feature_combination:  ('lpf', 'lcf')\n",
      "[07:39:24] WARNING: ../src/learner.cc:1095: Starting in XGBoost 1.3.0, the default evaluation metric used with the objective 'binary:logistic' was changed from 'error' to 'logloss'. Explicitly set eval_metric if you'd like to restore the old behavior.\n"
     ]
    },
    {
     "name": "stderr",
     "output_type": "stream",
     "text": [
      "/home/tduricic/.local/lib/python3.8/site-packages/xgboost/data.py:112: UserWarning: Use subset (sliced data) of np.ndarray is not recommended because it will generate extra copies and increase memory consumption\n",
      "  warnings.warn(\n"
     ]
    },
    {
     "name": "stdout",
     "output_type": "stream",
     "text": [
      "(0.7937710723136563, 0.7937713634637296, 0.7937712147080213, None)\n",
      "Other features - dataset_id:  1 , split_seed:  0 , feature_combination:  (None, None)\n",
      "Other features - dataset_id:  1 , split_seed:  0 , feature_combination:  (None, 'lcf')\n",
      "[07:40:07] WARNING: ../src/learner.cc:1095: Starting in XGBoost 1.3.0, the default evaluation metric used with the objective 'binary:logistic' was changed from 'error' to 'logloss'. Explicitly set eval_metric if you'd like to restore the old behavior.\n"
     ]
    },
    {
     "name": "stderr",
     "output_type": "stream",
     "text": [
      "/home/tduricic/.local/lib/python3.8/site-packages/xgboost/data.py:112: UserWarning: Use subset (sliced data) of np.ndarray is not recommended because it will generate extra copies and increase memory consumption\n",
      "  warnings.warn(\n"
     ]
    },
    {
     "name": "stdout",
     "output_type": "stream",
     "text": [
      "(0.7647508207677804, 0.7641157108494746, 0.7640415304418451, None)\n",
      "Other features - dataset_id:  1 , split_seed:  0 , feature_combination:  ('lpf', None)\n",
      "[07:40:43] WARNING: ../src/learner.cc:1095: Starting in XGBoost 1.3.0, the default evaluation metric used with the objective 'binary:logistic' was changed from 'error' to 'logloss'. Explicitly set eval_metric if you'd like to restore the old behavior.\n"
     ]
    },
    {
     "name": "stderr",
     "output_type": "stream",
     "text": [
      "/home/tduricic/.local/lib/python3.8/site-packages/xgboost/data.py:112: UserWarning: Use subset (sliced data) of np.ndarray is not recommended because it will generate extra copies and increase memory consumption\n",
      "  warnings.warn(\n"
     ]
    },
    {
     "name": "stdout",
     "output_type": "stream",
     "text": [
      "(0.7853315881300218, 0.7849094822129383, 0.7848755763377676, None)\n",
      "Other features - dataset_id:  1 , split_seed:  0 , feature_combination:  ('lpf', 'lcf')\n",
      "[07:41:09] WARNING: ../src/learner.cc:1095: Starting in XGBoost 1.3.0, the default evaluation metric used with the objective 'binary:logistic' was changed from 'error' to 'logloss'. Explicitly set eval_metric if you'd like to restore the old behavior.\n"
     ]
    },
    {
     "name": "stderr",
     "output_type": "stream",
     "text": [
      "/home/tduricic/.local/lib/python3.8/site-packages/xgboost/data.py:112: UserWarning: Use subset (sliced data) of np.ndarray is not recommended because it will generate extra copies and increase memory consumption\n",
      "  warnings.warn(\n"
     ]
    },
    {
     "name": "stdout",
     "output_type": "stream",
     "text": [
      "(0.8012137161629853, 0.8009558171920497, 0.800943870594443, None)\n",
      "Other features - dataset_id:  1 , split_seed:  1 , feature_combination:  (None, None)\n",
      "Other features - dataset_id:  1 , split_seed:  1 , feature_combination:  (None, 'lcf')\n",
      "[07:41:48] WARNING: ../src/learner.cc:1095: Starting in XGBoost 1.3.0, the default evaluation metric used with the objective 'binary:logistic' was changed from 'error' to 'logloss'. Explicitly set eval_metric if you'd like to restore the old behavior.\n"
     ]
    },
    {
     "name": "stderr",
     "output_type": "stream",
     "text": [
      "/home/tduricic/.local/lib/python3.8/site-packages/xgboost/data.py:112: UserWarning: Use subset (sliced data) of np.ndarray is not recommended because it will generate extra copies and increase memory consumption\n",
      "  warnings.warn(\n"
     ]
    },
    {
     "name": "stdout",
     "output_type": "stream",
     "text": [
      "(0.7672494813047572, 0.7665210786175465, 0.7664329807868794, None)\n",
      "Other features - dataset_id:  1 , split_seed:  1 , feature_combination:  ('lpf', None)\n",
      "[07:42:23] WARNING: ../src/learner.cc:1095: Starting in XGBoost 1.3.0, the default evaluation metric used with the objective 'binary:logistic' was changed from 'error' to 'logloss'. Explicitly set eval_metric if you'd like to restore the old behavior.\n"
     ]
    },
    {
     "name": "stderr",
     "output_type": "stream",
     "text": [
      "/home/tduricic/.local/lib/python3.8/site-packages/xgboost/data.py:112: UserWarning: Use subset (sliced data) of np.ndarray is not recommended because it will generate extra copies and increase memory consumption\n",
      "  warnings.warn(\n"
     ]
    },
    {
     "name": "stdout",
     "output_type": "stream",
     "text": [
      "(0.7856601318120169, 0.7850044309406254, 0.784938794835431, None)\n",
      "Other features - dataset_id:  1 , split_seed:  1 , feature_combination:  ('lpf', 'lcf')\n",
      "[07:42:50] WARNING: ../src/learner.cc:1095: Starting in XGBoost 1.3.0, the default evaluation metric used with the objective 'binary:logistic' was changed from 'error' to 'logloss'. Explicitly set eval_metric if you'd like to restore the old behavior.\n"
     ]
    },
    {
     "name": "stderr",
     "output_type": "stream",
     "text": [
      "/home/tduricic/.local/lib/python3.8/site-packages/xgboost/data.py:112: UserWarning: Use subset (sliced data) of np.ndarray is not recommended because it will generate extra copies and increase memory consumption\n",
      "  warnings.warn(\n"
     ]
    },
    {
     "name": "stdout",
     "output_type": "stream",
     "text": [
      "(0.8018403103229045, 0.8015888087099633, 0.8015775631589923, None)\n",
      "Other features - dataset_id:  1 , split_seed:  2 , feature_combination:  (None, None)\n",
      "Other features - dataset_id:  1 , split_seed:  2 , feature_combination:  (None, 'lcf')\n",
      "[07:43:30] WARNING: ../src/learner.cc:1095: Starting in XGBoost 1.3.0, the default evaluation metric used with the objective 'binary:logistic' was changed from 'error' to 'logloss'. Explicitly set eval_metric if you'd like to restore the old behavior.\n"
     ]
    },
    {
     "name": "stderr",
     "output_type": "stream",
     "text": [
      "/home/tduricic/.local/lib/python3.8/site-packages/xgboost/data.py:112: UserWarning: Use subset (sliced data) of np.ndarray is not recommended because it will generate extra copies and increase memory consumption\n",
      "  warnings.warn(\n"
     ]
    },
    {
     "name": "stdout",
     "output_type": "stream",
     "text": [
      "(0.7738958963061238, 0.7733257374351183, 0.7732522264157011, None)\n",
      "Other features - dataset_id:  1 , split_seed:  2 , feature_combination:  ('lpf', None)\n",
      "[07:44:05] WARNING: ../src/learner.cc:1095: Starting in XGBoost 1.3.0, the default evaluation metric used with the objective 'binary:logistic' was changed from 'error' to 'logloss'. Explicitly set eval_metric if you'd like to restore the old behavior.\n"
     ]
    },
    {
     "name": "stderr",
     "output_type": "stream",
     "text": [
      "/home/tduricic/.local/lib/python3.8/site-packages/xgboost/data.py:112: UserWarning: Use subset (sliced data) of np.ndarray is not recommended because it will generate extra copies and increase memory consumption\n",
      "  warnings.warn(\n"
     ]
    },
    {
     "name": "stdout",
     "output_type": "stream",
     "text": [
      "(0.7833661818997814, 0.7830738068109887, 0.7830466387864182, None)\n",
      "Other features - dataset_id:  1 , split_seed:  2 , feature_combination:  ('lpf', 'lcf')\n",
      "[07:44:31] WARNING: ../src/learner.cc:1095: Starting in XGBoost 1.3.0, the default evaluation metric used with the objective 'binary:logistic' was changed from 'error' to 'logloss'. Explicitly set eval_metric if you'd like to restore the old behavior.\n"
     ]
    },
    {
     "name": "stderr",
     "output_type": "stream",
     "text": [
      "/home/tduricic/.local/lib/python3.8/site-packages/xgboost/data.py:112: UserWarning: Use subset (sliced data) of np.ndarray is not recommended because it will generate extra copies and increase memory consumption\n",
      "  warnings.warn(\n"
     ]
    },
    {
     "name": "stdout",
     "output_type": "stream",
     "text": [
      "(0.7988121764834917, 0.7987403468793518, 0.798739960410357, None)\n",
      "Other features - dataset_id:  1 , split_seed:  3 , feature_combination:  (None, None)\n",
      "Other features - dataset_id:  1 , split_seed:  3 , feature_combination:  (None, 'lcf')\n",
      "[07:45:11] WARNING: ../src/learner.cc:1095: Starting in XGBoost 1.3.0, the default evaluation metric used with the objective 'binary:logistic' was changed from 'error' to 'logloss'. Explicitly set eval_metric if you'd like to restore the old behavior.\n"
     ]
    },
    {
     "name": "stderr",
     "output_type": "stream",
     "text": [
      "/home/tduricic/.local/lib/python3.8/site-packages/xgboost/data.py:112: UserWarning: Use subset (sliced data) of np.ndarray is not recommended because it will generate extra copies and increase memory consumption\n",
      "  warnings.warn(\n"
     ]
    },
    {
     "name": "stdout",
     "output_type": "stream",
     "text": [
      "(0.7637628110342362, 0.7633244714520825, 0.7631998630039294, None)\n",
      "Other features - dataset_id:  1 , split_seed:  3 , feature_combination:  ('lpf', None)\n",
      "[07:45:45] WARNING: ../src/learner.cc:1095: Starting in XGBoost 1.3.0, the default evaluation metric used with the objective 'binary:logistic' was changed from 'error' to 'logloss'. Explicitly set eval_metric if you'd like to restore the old behavior.\n"
     ]
    },
    {
     "name": "stderr",
     "output_type": "stream",
     "text": [
      "/home/tduricic/.local/lib/python3.8/site-packages/xgboost/data.py:112: UserWarning: Use subset (sliced data) of np.ndarray is not recommended because it will generate extra copies and increase memory consumption\n",
      "  warnings.warn(\n"
     ]
    },
    {
     "name": "stdout",
     "output_type": "stream",
     "text": [
      "(0.7799142245583482, 0.7797506013419421, 0.7797042150028677, None)\n",
      "Other features - dataset_id:  1 , split_seed:  3 , feature_combination:  ('lpf', 'lcf')\n",
      "[07:46:13] WARNING: ../src/learner.cc:1095: Starting in XGBoost 1.3.0, the default evaluation metric used with the objective 'binary:logistic' was changed from 'error' to 'logloss'. Explicitly set eval_metric if you'd like to restore the old behavior.\n"
     ]
    },
    {
     "name": "stderr",
     "output_type": "stream",
     "text": [
      "/home/tduricic/.local/lib/python3.8/site-packages/xgboost/data.py:112: UserWarning: Use subset (sliced data) of np.ndarray is not recommended because it will generate extra copies and increase memory consumption\n",
      "  warnings.warn(\n"
     ]
    },
    {
     "name": "stdout",
     "output_type": "stream",
     "text": [
      "(0.7972360245011535, 0.7971895176604633, 0.7971748125355358, None)\n",
      "Other features - dataset_id:  1 , split_seed:  4 , feature_combination:  (None, None)\n",
      "Other features - dataset_id:  1 , split_seed:  4 , feature_combination:  (None, 'lcf')\n",
      "[07:46:53] WARNING: ../src/learner.cc:1095: Starting in XGBoost 1.3.0, the default evaluation metric used with the objective 'binary:logistic' was changed from 'error' to 'logloss'. Explicitly set eval_metric if you'd like to restore the old behavior.\n"
     ]
    },
    {
     "name": "stderr",
     "output_type": "stream",
     "text": [
      "/home/tduricic/.local/lib/python3.8/site-packages/xgboost/data.py:112: UserWarning: Use subset (sliced data) of np.ndarray is not recommended because it will generate extra copies and increase memory consumption\n",
      "  warnings.warn(\n"
     ]
    },
    {
     "name": "stdout",
     "output_type": "stream",
     "text": [
      "(0.7668772359730333, 0.7664894290416508, 0.7664176151074164, None)\n",
      "Other features - dataset_id:  1 , split_seed:  4 , feature_combination:  ('lpf', None)\n",
      "[07:47:28] WARNING: ../src/learner.cc:1095: Starting in XGBoost 1.3.0, the default evaluation metric used with the objective 'binary:logistic' was changed from 'error' to 'logloss'. Explicitly set eval_metric if you'd like to restore the old behavior.\n"
     ]
    },
    {
     "name": "stderr",
     "output_type": "stream",
     "text": [
      "/home/tduricic/.local/lib/python3.8/site-packages/xgboost/data.py:112: UserWarning: Use subset (sliced data) of np.ndarray is not recommended because it will generate extra copies and increase memory consumption\n",
      "  warnings.warn(\n"
     ]
    },
    {
     "name": "stdout",
     "output_type": "stream",
     "text": [
      "(0.7830901839482824, 0.7828839093556146, 0.7828525721640476, None)\n",
      "Other features - dataset_id:  1 , split_seed:  4 , feature_combination:  ('lpf', 'lcf')\n",
      "[07:47:54] WARNING: ../src/learner.cc:1095: Starting in XGBoost 1.3.0, the default evaluation metric used with the objective 'binary:logistic' was changed from 'error' to 'logloss'. Explicitly set eval_metric if you'd like to restore the old behavior.\n"
     ]
    },
    {
     "name": "stderr",
     "output_type": "stream",
     "text": [
      "/home/tduricic/.local/lib/python3.8/site-packages/xgboost/data.py:112: UserWarning: Use subset (sliced data) of np.ndarray is not recommended because it will generate extra copies and increase memory consumption\n",
      "  warnings.warn(\n"
     ]
    },
    {
     "name": "stdout",
     "output_type": "stream",
     "text": [
      "(0.7995922291046829, 0.7995315862767439, 0.7995252261354866, None)\n",
      "Other features - dataset_id:  2 , split_seed:  0 , feature_combination:  (None, None)\n",
      "Other features - dataset_id:  2 , split_seed:  0 , feature_combination:  (None, 'lcf')\n",
      "[07:48:38] WARNING: ../src/learner.cc:1095: Starting in XGBoost 1.3.0, the default evaluation metric used with the objective 'binary:logistic' was changed from 'error' to 'logloss'. Explicitly set eval_metric if you'd like to restore the old behavior.\n"
     ]
    },
    {
     "name": "stderr",
     "output_type": "stream",
     "text": [
      "/home/tduricic/.local/lib/python3.8/site-packages/xgboost/data.py:112: UserWarning: Use subset (sliced data) of np.ndarray is not recommended because it will generate extra copies and increase memory consumption\n",
      "  warnings.warn(\n"
     ]
    },
    {
     "name": "stdout",
     "output_type": "stream",
     "text": [
      "(0.7664984835062478, 0.7657931383719458, 0.7656997958708066, None)\n",
      "Other features - dataset_id:  2 , split_seed:  0 , feature_combination:  ('lpf', None)\n",
      "[07:49:13] WARNING: ../src/learner.cc:1095: Starting in XGBoost 1.3.0, the default evaluation metric used with the objective 'binary:logistic' was changed from 'error' to 'logloss'. Explicitly set eval_metric if you'd like to restore the old behavior.\n"
     ]
    },
    {
     "name": "stderr",
     "output_type": "stream",
     "text": [
      "/home/tduricic/.local/lib/python3.8/site-packages/xgboost/data.py:112: UserWarning: Use subset (sliced data) of np.ndarray is not recommended because it will generate extra copies and increase memory consumption\n",
      "  warnings.warn(\n"
     ]
    },
    {
     "name": "stdout",
     "output_type": "stream",
     "text": [
      "(0.78912453691603, 0.7888656791998987, 0.7888482683034223, None)\n",
      "Other features - dataset_id:  2 , split_seed:  0 , feature_combination:  ('lpf', 'lcf')\n",
      "[07:49:41] WARNING: ../src/learner.cc:1095: Starting in XGBoost 1.3.0, the default evaluation metric used with the objective 'binary:logistic' was changed from 'error' to 'logloss'. Explicitly set eval_metric if you'd like to restore the old behavior.\n"
     ]
    },
    {
     "name": "stderr",
     "output_type": "stream",
     "text": [
      "/home/tduricic/.local/lib/python3.8/site-packages/xgboost/data.py:112: UserWarning: Use subset (sliced data) of np.ndarray is not recommended because it will generate extra copies and increase memory consumption\n",
      "  warnings.warn(\n"
     ]
    },
    {
     "name": "stdout",
     "output_type": "stream",
     "text": [
      "(0.8010839939275171, 0.8009874667679453, 0.8009871725273499, None)\n",
      "Other features - dataset_id:  2 , split_seed:  1 , feature_combination:  (None, None)\n",
      "Other features - dataset_id:  2 , split_seed:  1 , feature_combination:  (None, 'lcf')\n",
      "[07:50:20] WARNING: ../src/learner.cc:1095: Starting in XGBoost 1.3.0, the default evaluation metric used with the objective 'binary:logistic' was changed from 'error' to 'logloss'. Explicitly set eval_metric if you'd like to restore the old behavior.\n"
     ]
    },
    {
     "name": "stderr",
     "output_type": "stream",
     "text": [
      "/home/tduricic/.local/lib/python3.8/site-packages/xgboost/data.py:112: UserWarning: Use subset (sliced data) of np.ndarray is not recommended because it will generate extra copies and increase memory consumption\n",
      "  warnings.warn(\n"
     ]
    },
    {
     "name": "stdout",
     "output_type": "stream",
     "text": [
      "(0.7662381354840613, 0.7657931383719458, 0.7657088939426893, None)\n",
      "Other features - dataset_id:  2 , split_seed:  1 , feature_combination:  ('lpf', None)\n",
      "[07:50:56] WARNING: ../src/learner.cc:1095: Starting in XGBoost 1.3.0, the default evaluation metric used with the objective 'binary:logistic' was changed from 'error' to 'logloss'. Explicitly set eval_metric if you'd like to restore the old behavior.\n"
     ]
    },
    {
     "name": "stderr",
     "output_type": "stream",
     "text": [
      "/home/tduricic/.local/lib/python3.8/site-packages/xgboost/data.py:112: UserWarning: Use subset (sliced data) of np.ndarray is not recommended because it will generate extra copies and increase memory consumption\n",
      "  warnings.warn(\n"
     ]
    },
    {
     "name": "stdout",
     "output_type": "stream",
     "text": [
      "(0.7838903882666507, 0.7836751487530067, 0.7836422383583568, None)\n",
      "Other features - dataset_id:  2 , split_seed:  1 , feature_combination:  ('lpf', 'lcf')\n",
      "[07:51:23] WARNING: ../src/learner.cc:1095: Starting in XGBoost 1.3.0, the default evaluation metric used with the objective 'binary:logistic' was changed from 'error' to 'logloss'. Explicitly set eval_metric if you'd like to restore the old behavior.\n"
     ]
    },
    {
     "name": "stderr",
     "output_type": "stream",
     "text": [
      "/home/tduricic/.local/lib/python3.8/site-packages/xgboost/data.py:112: UserWarning: Use subset (sliced data) of np.ndarray is not recommended because it will generate extra copies and increase memory consumption\n",
      "  warnings.warn(\n"
     ]
    },
    {
     "name": "stdout",
     "output_type": "stream",
     "text": [
      "(0.7978893272663992, 0.797822509178377, 0.7978150943097163, None)\n",
      "Other features - dataset_id:  2 , split_seed:  2 , feature_combination:  (None, None)\n",
      "Other features - dataset_id:  2 , split_seed:  2 , feature_combination:  (None, 'lcf')\n",
      "[07:52:02] WARNING: ../src/learner.cc:1095: Starting in XGBoost 1.3.0, the default evaluation metric used with the objective 'binary:logistic' was changed from 'error' to 'logloss'. Explicitly set eval_metric if you'd like to restore the old behavior.\n"
     ]
    },
    {
     "name": "stderr",
     "output_type": "stream",
     "text": [
      "/home/tduricic/.local/lib/python3.8/site-packages/xgboost/data.py:112: UserWarning: Use subset (sliced data) of np.ndarray is not recommended because it will generate extra copies and increase memory consumption\n",
      "  warnings.warn(\n"
     ]
    },
    {
     "name": "stdout",
     "output_type": "stream",
     "text": [
      "(0.7668452658697246, 0.7665843777693379, 0.7665219246335688, None)\n",
      "Other features - dataset_id:  2 , split_seed:  2 , feature_combination:  ('lpf', None)\n",
      "[07:52:38] WARNING: ../src/learner.cc:1095: Starting in XGBoost 1.3.0, the default evaluation metric used with the objective 'binary:logistic' was changed from 'error' to 'logloss'. Explicitly set eval_metric if you'd like to restore the old behavior.\n"
     ]
    },
    {
     "name": "stderr",
     "output_type": "stream",
     "text": [
      "/home/tduricic/.local/lib/python3.8/site-packages/xgboost/data.py:112: UserWarning: Use subset (sliced data) of np.ndarray is not recommended because it will generate extra copies and increase memory consumption\n",
      "  warnings.warn(\n"
     ]
    },
    {
     "name": "stdout",
     "output_type": "stream",
     "text": [
      "(0.7833848543201642, 0.7832320546904672, 0.7831992477245394, None)\n",
      "Other features - dataset_id:  2 , split_seed:  2 , feature_combination:  ('lpf', 'lcf')\n",
      "[07:53:05] WARNING: ../src/learner.cc:1095: Starting in XGBoost 1.3.0, the default evaluation metric used with the objective 'binary:logistic' was changed from 'error' to 'logloss'. Explicitly set eval_metric if you'd like to restore the old behavior.\n"
     ]
    },
    {
     "name": "stderr",
     "output_type": "stream",
     "text": [
      "/home/tduricic/.local/lib/python3.8/site-packages/xgboost/data.py:112: UserWarning: Use subset (sliced data) of np.ndarray is not recommended because it will generate extra copies and increase memory consumption\n",
      "  warnings.warn(\n"
     ]
    },
    {
     "name": "stdout",
     "output_type": "stream",
     "text": [
      "(0.796708728795125, 0.7966514748702367, 0.796639695523868, None)\n",
      "Other features - dataset_id:  2 , split_seed:  3 , feature_combination:  (None, None)\n",
      "Other features - dataset_id:  2 , split_seed:  3 , feature_combination:  (None, 'lcf')\n",
      "[07:53:45] WARNING: ../src/learner.cc:1095: Starting in XGBoost 1.3.0, the default evaluation metric used with the objective 'binary:logistic' was changed from 'error' to 'logloss'. Explicitly set eval_metric if you'd like to restore the old behavior.\n"
     ]
    },
    {
     "name": "stderr",
     "output_type": "stream",
     "text": [
      "/home/tduricic/.local/lib/python3.8/site-packages/xgboost/data.py:112: UserWarning: Use subset (sliced data) of np.ndarray is not recommended because it will generate extra copies and increase memory consumption\n",
      "  warnings.warn(\n"
     ]
    },
    {
     "name": "stdout",
     "output_type": "stream",
     "text": [
      "(0.7676786261574438, 0.7669958222559817, 0.7668592793319761, None)\n",
      "Other features - dataset_id:  2 , split_seed:  3 , feature_combination:  ('lpf', None)\n",
      "[07:54:21] WARNING: ../src/learner.cc:1095: Starting in XGBoost 1.3.0, the default evaluation metric used with the objective 'binary:logistic' was changed from 'error' to 'logloss'. Explicitly set eval_metric if you'd like to restore the old behavior.\n"
     ]
    },
    {
     "name": "stderr",
     "output_type": "stream",
     "text": [
      "/home/tduricic/.local/lib/python3.8/site-packages/xgboost/data.py:112: UserWarning: Use subset (sliced data) of np.ndarray is not recommended because it will generate extra copies and increase memory consumption\n",
      "  warnings.warn(\n"
     ]
    },
    {
     "name": "stdout",
     "output_type": "stream",
     "text": [
      "(0.7841177344147249, 0.7838966957842765, 0.7838605936338734, None)\n",
      "Other features - dataset_id:  2 , split_seed:  3 , feature_combination:  ('lpf', 'lcf')\n",
      "[07:54:47] WARNING: ../src/learner.cc:1095: Starting in XGBoost 1.3.0, the default evaluation metric used with the objective 'binary:logistic' was changed from 'error' to 'logloss'. Explicitly set eval_metric if you'd like to restore the old behavior.\n"
     ]
    },
    {
     "name": "stderr",
     "output_type": "stream",
     "text": [
      "/home/tduricic/.local/lib/python3.8/site-packages/xgboost/data.py:112: UserWarning: Use subset (sliced data) of np.ndarray is not recommended because it will generate extra copies and increase memory consumption\n",
      "  warnings.warn(\n"
     ]
    },
    {
     "name": "stdout",
     "output_type": "stream",
     "text": [
      "(0.796611738812025, 0.7964932269907583, 0.7964767758306694, None)\n",
      "Other features - dataset_id:  2 , split_seed:  4 , feature_combination:  (None, None)\n",
      "Other features - dataset_id:  2 , split_seed:  4 , feature_combination:  (None, 'lcf')\n",
      "[07:55:26] WARNING: ../src/learner.cc:1095: Starting in XGBoost 1.3.0, the default evaluation metric used with the objective 'binary:logistic' was changed from 'error' to 'logloss'. Explicitly set eval_metric if you'd like to restore the old behavior.\n"
     ]
    },
    {
     "name": "stderr",
     "output_type": "stream",
     "text": [
      "/home/tduricic/.local/lib/python3.8/site-packages/xgboost/data.py:112: UserWarning: Use subset (sliced data) of np.ndarray is not recommended because it will generate extra copies and increase memory consumption\n",
      "  warnings.warn(\n"
     ]
    },
    {
     "name": "stdout",
     "output_type": "stream",
     "text": [
      "(0.7685888466901187, 0.7680086086846436, 0.7678812879074134, None)\n",
      "Other features - dataset_id:  2 , split_seed:  4 , feature_combination:  ('lpf', None)\n",
      "[07:56:00] WARNING: ../src/learner.cc:1095: Starting in XGBoost 1.3.0, the default evaluation metric used with the objective 'binary:logistic' was changed from 'error' to 'logloss'. Explicitly set eval_metric if you'd like to restore the old behavior.\n"
     ]
    },
    {
     "name": "stderr",
     "output_type": "stream",
     "text": [
      "/home/tduricic/.local/lib/python3.8/site-packages/xgboost/data.py:112: UserWarning: Use subset (sliced data) of np.ndarray is not recommended because it will generate extra copies and increase memory consumption\n",
      "  warnings.warn(\n"
     ]
    },
    {
     "name": "stdout",
     "output_type": "stream",
     "text": [
      "(0.783238316287205, 0.782947208507406, 0.782890201213709, None)\n",
      "Other features - dataset_id:  2 , split_seed:  4 , feature_combination:  ('lpf', 'lcf')\n",
      "[07:56:32] WARNING: ../src/learner.cc:1095: Starting in XGBoost 1.3.0, the default evaluation metric used with the objective 'binary:logistic' was changed from 'error' to 'logloss'. Explicitly set eval_metric if you'd like to restore the old behavior.\n"
     ]
    },
    {
     "name": "stderr",
     "output_type": "stream",
     "text": [
      "/home/tduricic/.local/lib/python3.8/site-packages/xgboost/data.py:112: UserWarning: Use subset (sliced data) of np.ndarray is not recommended because it will generate extra copies and increase memory consumption\n",
      "  warnings.warn(\n"
     ]
    },
    {
     "name": "stdout",
     "output_type": "stream",
     "text": [
      "(0.8017413472499537, 0.8016521078617547, 0.8016368649934292, None)\n",
      "Other features - dataset_id:  3 , split_seed:  0 , feature_combination:  (None, None)\n",
      "Other features - dataset_id:  3 , split_seed:  0 , feature_combination:  (None, 'lcf')\n",
      "[07:57:27] WARNING: ../src/learner.cc:1095: Starting in XGBoost 1.3.0, the default evaluation metric used with the objective 'binary:logistic' was changed from 'error' to 'logloss'. Explicitly set eval_metric if you'd like to restore the old behavior.\n"
     ]
    },
    {
     "name": "stderr",
     "output_type": "stream",
     "text": [
      "/home/tduricic/.local/lib/python3.8/site-packages/xgboost/data.py:112: UserWarning: Use subset (sliced data) of np.ndarray is not recommended because it will generate extra copies and increase memory consumption\n",
      "  warnings.warn(\n"
     ]
    },
    {
     "name": "stdout",
     "output_type": "stream",
     "text": [
      "(0.7684871432363871, 0.7681668565641221, 0.7680651227721362, None)\n",
      "Other features - dataset_id:  3 , split_seed:  0 , feature_combination:  ('lpf', None)\n",
      "[07:58:14] WARNING: ../src/learner.cc:1095: Starting in XGBoost 1.3.0, the default evaluation metric used with the objective 'binary:logistic' was changed from 'error' to 'logloss'. Explicitly set eval_metric if you'd like to restore the old behavior.\n"
     ]
    },
    {
     "name": "stderr",
     "output_type": "stream",
     "text": [
      "/home/tduricic/.local/lib/python3.8/site-packages/xgboost/data.py:112: UserWarning: Use subset (sliced data) of np.ndarray is not recommended because it will generate extra copies and increase memory consumption\n",
      "  warnings.warn(\n"
     ]
    },
    {
     "name": "stdout",
     "output_type": "stream",
     "text": [
      "(0.7854212869035373, 0.7852259779718952, 0.7851670414088875, None)\n",
      "Other features - dataset_id:  3 , split_seed:  0 , feature_combination:  ('lpf', 'lcf')\n",
      "[07:58:53] WARNING: ../src/learner.cc:1095: Starting in XGBoost 1.3.0, the default evaluation metric used with the objective 'binary:logistic' was changed from 'error' to 'logloss'. Explicitly set eval_metric if you'd like to restore the old behavior.\n"
     ]
    },
    {
     "name": "stderr",
     "output_type": "stream",
     "text": [
      "/home/tduricic/.local/lib/python3.8/site-packages/xgboost/data.py:112: UserWarning: Use subset (sliced data) of np.ndarray is not recommended because it will generate extra copies and increase memory consumption\n",
      "  warnings.warn(\n"
     ]
    },
    {
     "name": "stdout",
     "output_type": "stream",
     "text": [
      "(0.796891994086114, 0.7968413723256108, 0.7968218358692657, None)\n",
      "Other features - dataset_id:  3 , split_seed:  1 , feature_combination:  (None, None)\n",
      "Other features - dataset_id:  3 , split_seed:  1 , feature_combination:  (None, 'lcf')\n",
      "[07:59:46] WARNING: ../src/learner.cc:1095: Starting in XGBoost 1.3.0, the default evaluation metric used with the objective 'binary:logistic' was changed from 'error' to 'logloss'. Explicitly set eval_metric if you'd like to restore the old behavior.\n"
     ]
    },
    {
     "name": "stderr",
     "output_type": "stream",
     "text": [
      "/home/tduricic/.local/lib/python3.8/site-packages/xgboost/data.py:112: UserWarning: Use subset (sliced data) of np.ndarray is not recommended because it will generate extra copies and increase memory consumption\n",
      "  warnings.warn(\n"
     ]
    },
    {
     "name": "stdout",
     "output_type": "stream",
     "text": [
      "(0.7697395040417864, 0.769369540448158, 0.7692720747046353, None)\n",
      "Other features - dataset_id:  3 , split_seed:  1 , feature_combination:  ('lpf', None)\n",
      "[08:00:32] WARNING: ../src/learner.cc:1095: Starting in XGBoost 1.3.0, the default evaluation metric used with the objective 'binary:logistic' was changed from 'error' to 'logloss'. Explicitly set eval_metric if you'd like to restore the old behavior.\n"
     ]
    },
    {
     "name": "stderr",
     "output_type": "stream",
     "text": [
      "/home/tduricic/.local/lib/python3.8/site-packages/xgboost/data.py:112: UserWarning: Use subset (sliced data) of np.ndarray is not recommended because it will generate extra copies and increase memory consumption\n",
      "  warnings.warn(\n"
     ]
    },
    {
     "name": "stdout",
     "output_type": "stream",
     "text": [
      "(0.7829104393450029, 0.7825674135966578, 0.7824857286116519, None)\n",
      "Other features - dataset_id:  3 , split_seed:  1 , feature_combination:  ('lpf', 'lcf')\n",
      "[08:01:11] WARNING: ../src/learner.cc:1095: Starting in XGBoost 1.3.0, the default evaluation metric used with the objective 'binary:logistic' was changed from 'error' to 'logloss'. Explicitly set eval_metric if you'd like to restore the old behavior.\n"
     ]
    },
    {
     "name": "stderr",
     "output_type": "stream",
     "text": [
      "/home/tduricic/.local/lib/python3.8/site-packages/xgboost/data.py:112: UserWarning: Use subset (sliced data) of np.ndarray is not recommended because it will generate extra copies and increase memory consumption\n",
      "  warnings.warn(\n"
     ]
    },
    {
     "name": "stdout",
     "output_type": "stream",
     "text": [
      "(0.7981707987283532, 0.7980124066337511, 0.7979761086076677, None)\n",
      "Other features - dataset_id:  3 , split_seed:  2 , feature_combination:  (None, None)\n",
      "Other features - dataset_id:  3 , split_seed:  2 , feature_combination:  (None, 'lcf')\n",
      "[08:02:04] WARNING: ../src/learner.cc:1095: Starting in XGBoost 1.3.0, the default evaluation metric used with the objective 'binary:logistic' was changed from 'error' to 'logloss'. Explicitly set eval_metric if you'd like to restore the old behavior.\n"
     ]
    },
    {
     "name": "stderr",
     "output_type": "stream",
     "text": [
      "/home/tduricic/.local/lib/python3.8/site-packages/xgboost/data.py:112: UserWarning: Use subset (sliced data) of np.ndarray is not recommended because it will generate extra copies and increase memory consumption\n",
      "  warnings.warn(\n"
     ]
    },
    {
     "name": "stdout",
     "output_type": "stream",
     "text": [
      "(0.7692034979937293, 0.7687365489302443, 0.7686269431147112, None)\n",
      "Other features - dataset_id:  3 , split_seed:  2 , feature_combination:  ('lpf', None)\n",
      "[08:02:52] WARNING: ../src/learner.cc:1095: Starting in XGBoost 1.3.0, the default evaluation metric used with the objective 'binary:logistic' was changed from 'error' to 'logloss'. Explicitly set eval_metric if you'd like to restore the old behavior.\n"
     ]
    },
    {
     "name": "stderr",
     "output_type": "stream",
     "text": [
      "/home/tduricic/.local/lib/python3.8/site-packages/xgboost/data.py:112: UserWarning: Use subset (sliced data) of np.ndarray is not recommended because it will generate extra copies and increase memory consumption\n",
      "  warnings.warn(\n"
     ]
    },
    {
     "name": "stdout",
     "output_type": "stream",
     "text": [
      "(0.7835345964676481, 0.7834219521458412, 0.7833963719672531, None)\n",
      "Other features - dataset_id:  3 , split_seed:  2 , feature_combination:  ('lpf', 'lcf')\n",
      "[08:03:31] WARNING: ../src/learner.cc:1095: Starting in XGBoost 1.3.0, the default evaluation metric used with the objective 'binary:logistic' was changed from 'error' to 'logloss'. Explicitly set eval_metric if you'd like to restore the old behavior.\n"
     ]
    },
    {
     "name": "stderr",
     "output_type": "stream",
     "text": [
      "/home/tduricic/.local/lib/python3.8/site-packages/xgboost/data.py:112: UserWarning: Use subset (sliced data) of np.ndarray is not recommended because it will generate extra copies and increase memory consumption\n",
      "  warnings.warn(\n"
     ]
    },
    {
     "name": "stdout",
     "output_type": "stream",
     "text": [
      "(0.8058122587351321, 0.805703253576402, 0.80568265282711, None)\n",
      "Other features - dataset_id:  3 , split_seed:  3 , feature_combination:  (None, None)\n",
      "Other features - dataset_id:  3 , split_seed:  3 , feature_combination:  (None, 'lcf')\n",
      "[08:04:23] WARNING: ../src/learner.cc:1095: Starting in XGBoost 1.3.0, the default evaluation metric used with the objective 'binary:logistic' was changed from 'error' to 'logloss'. Explicitly set eval_metric if you'd like to restore the old behavior.\n"
     ]
    },
    {
     "name": "stderr",
     "output_type": "stream",
     "text": [
      "/home/tduricic/.local/lib/python3.8/site-packages/xgboost/data.py:112: UserWarning: Use subset (sliced data) of np.ndarray is not recommended because it will generate extra copies and increase memory consumption\n",
      "  warnings.warn(\n"
     ]
    },
    {
     "name": "stdout",
     "output_type": "stream",
     "text": [
      "(0.7694162781173253, 0.7691163438409925, 0.7690076726011611, None)\n",
      "Other features - dataset_id:  3 , split_seed:  3 , feature_combination:  ('lpf', None)\n",
      "[08:05:10] WARNING: ../src/learner.cc:1095: Starting in XGBoost 1.3.0, the default evaluation metric used with the objective 'binary:logistic' was changed from 'error' to 'logloss'. Explicitly set eval_metric if you'd like to restore the old behavior.\n"
     ]
    },
    {
     "name": "stderr",
     "output_type": "stream",
     "text": [
      "/home/tduricic/.local/lib/python3.8/site-packages/xgboost/data.py:112: UserWarning: Use subset (sliced data) of np.ndarray is not recommended because it will generate extra copies and increase memory consumption\n",
      "  warnings.warn(\n"
     ]
    },
    {
     "name": "stdout",
     "output_type": "stream",
     "text": [
      "(0.7774011033406616, 0.777155336118496, 0.7770682817136245, None)\n",
      "Other features - dataset_id:  3 , split_seed:  3 , feature_combination:  ('lpf', 'lcf')\n",
      "[08:05:48] WARNING: ../src/learner.cc:1095: Starting in XGBoost 1.3.0, the default evaluation metric used with the objective 'binary:logistic' was changed from 'error' to 'logloss'. Explicitly set eval_metric if you'd like to restore the old behavior.\n"
     ]
    },
    {
     "name": "stderr",
     "output_type": "stream",
     "text": [
      "/home/tduricic/.local/lib/python3.8/site-packages/xgboost/data.py:112: UserWarning: Use subset (sliced data) of np.ndarray is not recommended because it will generate extra copies and increase memory consumption\n",
      "  warnings.warn(\n"
     ]
    },
    {
     "name": "stdout",
     "output_type": "stream",
     "text": [
      "(0.7997003032405464, 0.7996581845803267, 0.7996368556011227, None)\n",
      "Other features - dataset_id:  3 , split_seed:  4 , feature_combination:  (None, None)\n",
      "Other features - dataset_id:  3 , split_seed:  4 , feature_combination:  (None, 'lcf')\n",
      "[08:06:40] WARNING: ../src/learner.cc:1095: Starting in XGBoost 1.3.0, the default evaluation metric used with the objective 'binary:logistic' was changed from 'error' to 'logloss'. Explicitly set eval_metric if you'd like to restore the old behavior.\n"
     ]
    },
    {
     "name": "stderr",
     "output_type": "stream",
     "text": [
      "/home/tduricic/.local/lib/python3.8/site-packages/xgboost/data.py:112: UserWarning: Use subset (sliced data) of np.ndarray is not recommended because it will generate extra copies and increase memory consumption\n",
      "  warnings.warn(\n"
     ]
    },
    {
     "name": "stdout",
     "output_type": "stream",
     "text": [
      "(0.7666840563428261, 0.7661412837067983, 0.7660810973589101, None)\n",
      "Other features - dataset_id:  3 , split_seed:  4 , feature_combination:  ('lpf', None)\n",
      "[08:07:27] WARNING: ../src/learner.cc:1095: Starting in XGBoost 1.3.0, the default evaluation metric used with the objective 'binary:logistic' was changed from 'error' to 'logloss'. Explicitly set eval_metric if you'd like to restore the old behavior.\n"
     ]
    },
    {
     "name": "stderr",
     "output_type": "stream",
     "text": [
      "/home/tduricic/.local/lib/python3.8/site-packages/xgboost/data.py:112: UserWarning: Use subset (sliced data) of np.ndarray is not recommended because it will generate extra copies and increase memory consumption\n",
      "  warnings.warn(\n"
     ]
    },
    {
     "name": "stdout",
     "output_type": "stream",
     "text": [
      "(0.778413745716596, 0.7778516267882011, 0.7777939867729297, None)\n",
      "Other features - dataset_id:  3 , split_seed:  4 , feature_combination:  ('lpf', 'lcf')\n",
      "[08:08:07] WARNING: ../src/learner.cc:1095: Starting in XGBoost 1.3.0, the default evaluation metric used with the objective 'binary:logistic' was changed from 'error' to 'logloss'. Explicitly set eval_metric if you'd like to restore the old behavior.\n"
     ]
    },
    {
     "name": "stderr",
     "output_type": "stream",
     "text": [
      "/home/tduricic/.local/lib/python3.8/site-packages/xgboost/data.py:112: UserWarning: Use subset (sliced data) of np.ndarray is not recommended because it will generate extra copies and increase memory consumption\n",
      "  warnings.warn(\n"
     ]
    },
    {
     "name": "stdout",
     "output_type": "stream",
     "text": [
      "(0.7978747883804935, 0.7977275604506899, 0.7977248682945691, None)\n",
      "Other features - dataset_id:  4 , split_seed:  0 , feature_combination:  (None, None)\n",
      "Other features - dataset_id:  4 , split_seed:  0 , feature_combination:  (None, 'lcf')\n",
      "[08:09:04] WARNING: ../src/learner.cc:1095: Starting in XGBoost 1.3.0, the default evaluation metric used with the objective 'binary:logistic' was changed from 'error' to 'logloss'. Explicitly set eval_metric if you'd like to restore the old behavior.\n"
     ]
    },
    {
     "name": "stderr",
     "output_type": "stream",
     "text": [
      "/home/tduricic/.local/lib/python3.8/site-packages/xgboost/data.py:112: UserWarning: Use subset (sliced data) of np.ndarray is not recommended because it will generate extra copies and increase memory consumption\n",
      "  warnings.warn(\n"
     ]
    },
    {
     "name": "stdout",
     "output_type": "stream",
     "text": [
      "(0.770581987603349, 0.7702557285732371, 0.7701598739891099, None)\n",
      "Other features - dataset_id:  4 , split_seed:  0 , feature_combination:  ('lpf', None)\n",
      "[08:09:48] WARNING: ../src/learner.cc:1095: Starting in XGBoost 1.3.0, the default evaluation metric used with the objective 'binary:logistic' was changed from 'error' to 'logloss'. Explicitly set eval_metric if you'd like to restore the old behavior.\n"
     ]
    },
    {
     "name": "stderr",
     "output_type": "stream",
     "text": [
      "/home/tduricic/.local/lib/python3.8/site-packages/xgboost/data.py:112: UserWarning: Use subset (sliced data) of np.ndarray is not recommended because it will generate extra copies and increase memory consumption\n",
      "  warnings.warn(\n"
     ]
    },
    {
     "name": "stdout",
     "output_type": "stream",
     "text": [
      "(0.7814052216507567, 0.7811748322572477, 0.7811095743346147, None)\n",
      "Other features - dataset_id:  4 , split_seed:  0 , feature_combination:  ('lpf', 'lcf')\n",
      "[08:10:14] WARNING: ../src/learner.cc:1095: Starting in XGBoost 1.3.0, the default evaluation metric used with the objective 'binary:logistic' was changed from 'error' to 'logloss'. Explicitly set eval_metric if you'd like to restore the old behavior.\n"
     ]
    },
    {
     "name": "stderr",
     "output_type": "stream",
     "text": [
      "/home/tduricic/.local/lib/python3.8/site-packages/xgboost/data.py:112: UserWarning: Use subset (sliced data) of np.ndarray is not recommended because it will generate extra copies and increase memory consumption\n",
      "  warnings.warn(\n"
     ]
    },
    {
     "name": "stdout",
     "output_type": "stream",
     "text": [
      "(0.7986771731945032, 0.7986137485757691, 0.7985934263737243, None)\n",
      "Other features - dataset_id:  4 , split_seed:  1 , feature_combination:  (None, None)\n",
      "Other features - dataset_id:  4 , split_seed:  1 , feature_combination:  (None, 'lcf')\n",
      "[08:10:54] WARNING: ../src/learner.cc:1095: Starting in XGBoost 1.3.0, the default evaluation metric used with the objective 'binary:logistic' was changed from 'error' to 'logloss'. Explicitly set eval_metric if you'd like to restore the old behavior.\n"
     ]
    },
    {
     "name": "stderr",
     "output_type": "stream",
     "text": [
      "/home/tduricic/.local/lib/python3.8/site-packages/xgboost/data.py:112: UserWarning: Use subset (sliced data) of np.ndarray is not recommended because it will generate extra copies and increase memory consumption\n",
      "  warnings.warn(\n"
     ]
    },
    {
     "name": "stdout",
     "output_type": "stream",
     "text": [
      "(0.7703120585310334, 0.7697493353589062, 0.769657776692973, None)\n",
      "Other features - dataset_id:  4 , split_seed:  1 , feature_combination:  ('lpf', None)\n",
      "[08:11:35] WARNING: ../src/learner.cc:1095: Starting in XGBoost 1.3.0, the default evaluation metric used with the objective 'binary:logistic' was changed from 'error' to 'logloss'. Explicitly set eval_metric if you'd like to restore the old behavior.\n"
     ]
    },
    {
     "name": "stderr",
     "output_type": "stream",
     "text": [
      "/home/tduricic/.local/lib/python3.8/site-packages/xgboost/data.py:112: UserWarning: Use subset (sliced data) of np.ndarray is not recommended because it will generate extra copies and increase memory consumption\n",
      "  warnings.warn(\n"
     ]
    },
    {
     "name": "stdout",
     "output_type": "stream",
     "text": [
      "(0.7822967921629765, 0.7817761741992657, 0.7817001246831313, None)\n",
      "Other features - dataset_id:  4 , split_seed:  1 , feature_combination:  ('lpf', 'lcf')\n",
      "[08:12:14] WARNING: ../src/learner.cc:1095: Starting in XGBoost 1.3.0, the default evaluation metric used with the objective 'binary:logistic' was changed from 'error' to 'logloss'. Explicitly set eval_metric if you'd like to restore the old behavior.\n"
     ]
    },
    {
     "name": "stderr",
     "output_type": "stream",
     "text": [
      "/home/tduricic/.local/lib/python3.8/site-packages/xgboost/data.py:112: UserWarning: Use subset (sliced data) of np.ndarray is not recommended because it will generate extra copies and increase memory consumption\n",
      "  warnings.warn(\n"
     ]
    },
    {
     "name": "stdout",
     "output_type": "stream",
     "text": [
      "(0.8036306136573016, 0.8033611849601215, 0.8033321329723557, None)\n",
      "Other features - dataset_id:  4 , split_seed:  2 , feature_combination:  (None, None)\n",
      "Other features - dataset_id:  4 , split_seed:  2 , feature_combination:  (None, 'lcf')\n",
      "[08:13:07] WARNING: ../src/learner.cc:1095: Starting in XGBoost 1.3.0, the default evaluation metric used with the objective 'binary:logistic' was changed from 'error' to 'logloss'. Explicitly set eval_metric if you'd like to restore the old behavior.\n"
     ]
    },
    {
     "name": "stderr",
     "output_type": "stream",
     "text": [
      "/home/tduricic/.local/lib/python3.8/site-packages/xgboost/data.py:112: UserWarning: Use subset (sliced data) of np.ndarray is not recommended because it will generate extra copies and increase memory consumption\n",
      "  warnings.warn(\n"
     ]
    },
    {
     "name": "stdout",
     "output_type": "stream",
     "text": [
      "(0.7637991834000063, 0.763577668059248, 0.763501591925834, None)\n",
      "Other features - dataset_id:  4 , split_seed:  2 , feature_combination:  ('lpf', None)\n",
      "[08:13:54] WARNING: ../src/learner.cc:1095: Starting in XGBoost 1.3.0, the default evaluation metric used with the objective 'binary:logistic' was changed from 'error' to 'logloss'. Explicitly set eval_metric if you'd like to restore the old behavior.\n"
     ]
    },
    {
     "name": "stderr",
     "output_type": "stream",
     "text": [
      "/home/tduricic/.local/lib/python3.8/site-packages/xgboost/data.py:112: UserWarning: Use subset (sliced data) of np.ndarray is not recommended because it will generate extra copies and increase memory consumption\n",
      "  warnings.warn(\n"
     ]
    },
    {
     "name": "stdout",
     "output_type": "stream",
     "text": [
      "(0.782989498775742, 0.7829155589315103, 0.782887906361972, None)\n",
      "Other features - dataset_id:  4 , split_seed:  2 , feature_combination:  ('lpf', 'lcf')\n",
      "[08:14:33] WARNING: ../src/learner.cc:1095: Starting in XGBoost 1.3.0, the default evaluation metric used with the objective 'binary:logistic' was changed from 'error' to 'logloss'. Explicitly set eval_metric if you'd like to restore the old behavior.\n"
     ]
    },
    {
     "name": "stderr",
     "output_type": "stream",
     "text": [
      "/home/tduricic/.local/lib/python3.8/site-packages/xgboost/data.py:112: UserWarning: Use subset (sliced data) of np.ndarray is not recommended because it will generate extra copies and increase memory consumption\n",
      "  warnings.warn(\n"
     ]
    },
    {
     "name": "stdout",
     "output_type": "stream",
     "text": [
      "(0.797499796116283, 0.7974743638435245, 0.7974626113640274, None)\n",
      "Other features - dataset_id:  4 , split_seed:  3 , feature_combination:  (None, None)\n",
      "Other features - dataset_id:  4 , split_seed:  3 , feature_combination:  (None, 'lcf')\n",
      "[08:15:25] WARNING: ../src/learner.cc:1095: Starting in XGBoost 1.3.0, the default evaluation metric used with the objective 'binary:logistic' was changed from 'error' to 'logloss'. Explicitly set eval_metric if you'd like to restore the old behavior.\n"
     ]
    },
    {
     "name": "stderr",
     "output_type": "stream",
     "text": [
      "/home/tduricic/.local/lib/python3.8/site-packages/xgboost/data.py:112: UserWarning: Use subset (sliced data) of np.ndarray is not recommended because it will generate extra copies and increase memory consumption\n",
      "  warnings.warn(\n"
     ]
    },
    {
     "name": "stdout",
     "output_type": "stream",
     "text": [
      "(0.7670975523635036, 0.7666476769211292, 0.766556695030925, None)\n",
      "Other features - dataset_id:  4 , split_seed:  3 , feature_combination:  ('lpf', None)\n",
      "[08:16:12] WARNING: ../src/learner.cc:1095: Starting in XGBoost 1.3.0, the default evaluation metric used with the objective 'binary:logistic' was changed from 'error' to 'logloss'. Explicitly set eval_metric if you'd like to restore the old behavior.\n"
     ]
    },
    {
     "name": "stderr",
     "output_type": "stream",
     "text": [
      "/home/tduricic/.local/lib/python3.8/site-packages/xgboost/data.py:112: UserWarning: Use subset (sliced data) of np.ndarray is not recommended because it will generate extra copies and increase memory consumption\n",
      "  warnings.warn(\n"
     ]
    },
    {
     "name": "stdout",
     "output_type": "stream",
     "text": [
      "(0.7844632464608948, 0.7842131915432333, 0.78417044252709, None)\n",
      "Other features - dataset_id:  4 , split_seed:  3 , feature_combination:  ('lpf', 'lcf')\n",
      "[08:16:50] WARNING: ../src/learner.cc:1095: Starting in XGBoost 1.3.0, the default evaluation metric used with the objective 'binary:logistic' was changed from 'error' to 'logloss'. Explicitly set eval_metric if you'd like to restore the old behavior.\n"
     ]
    },
    {
     "name": "stderr",
     "output_type": "stream",
     "text": [
      "/home/tduricic/.local/lib/python3.8/site-packages/xgboost/data.py:112: UserWarning: Use subset (sliced data) of np.ndarray is not recommended because it will generate extra copies and increase memory consumption\n",
      "  warnings.warn(\n"
     ]
    },
    {
     "name": "stdout",
     "output_type": "stream",
     "text": [
      "(0.8016501019010831, 0.8014938599822763, 0.801471332766237, None)\n",
      "Other features - dataset_id:  4 , split_seed:  4 , feature_combination:  (None, None)\n",
      "Other features - dataset_id:  4 , split_seed:  4 , feature_combination:  (None, 'lcf')\n",
      "[08:17:42] WARNING: ../src/learner.cc:1095: Starting in XGBoost 1.3.0, the default evaluation metric used with the objective 'binary:logistic' was changed from 'error' to 'logloss'. Explicitly set eval_metric if you'd like to restore the old behavior.\n"
     ]
    },
    {
     "name": "stderr",
     "output_type": "stream",
     "text": [
      "/home/tduricic/.local/lib/python3.8/site-packages/xgboost/data.py:112: UserWarning: Use subset (sliced data) of np.ndarray is not recommended because it will generate extra copies and increase memory consumption\n",
      "  warnings.warn(\n"
     ]
    },
    {
     "name": "stdout",
     "output_type": "stream",
     "text": [
      "(0.7656371339436405, 0.7649385998227624, 0.7648076020335335, None)\n",
      "Other features - dataset_id:  4 , split_seed:  4 , feature_combination:  ('lpf', None)\n",
      "[08:18:30] WARNING: ../src/learner.cc:1095: Starting in XGBoost 1.3.0, the default evaluation metric used with the objective 'binary:logistic' was changed from 'error' to 'logloss'. Explicitly set eval_metric if you'd like to restore the old behavior.\n"
     ]
    },
    {
     "name": "stderr",
     "output_type": "stream",
     "text": [
      "/home/tduricic/.local/lib/python3.8/site-packages/xgboost/data.py:112: UserWarning: Use subset (sliced data) of np.ndarray is not recommended because it will generate extra copies and increase memory consumption\n",
      "  warnings.warn(\n"
     ]
    },
    {
     "name": "stdout",
     "output_type": "stream",
     "text": [
      "(0.7805585120495796, 0.780256994556273, 0.7802114419912789, None)\n",
      "Other features - dataset_id:  4 , split_seed:  4 , feature_combination:  ('lpf', 'lcf')\n",
      "[08:19:09] WARNING: ../src/learner.cc:1095: Starting in XGBoost 1.3.0, the default evaluation metric used with the objective 'binary:logistic' was changed from 'error' to 'logloss'. Explicitly set eval_metric if you'd like to restore the old behavior.\n"
     ]
    },
    {
     "name": "stderr",
     "output_type": "stream",
     "text": [
      "/home/tduricic/.local/lib/python3.8/site-packages/xgboost/data.py:112: UserWarning: Use subset (sliced data) of np.ndarray is not recommended because it will generate extra copies and increase memory consumption\n",
      "  warnings.warn(\n"
     ]
    },
    {
     "name": "stdout",
     "output_type": "stream",
     "text": [
      "(0.7977052245713374, 0.7975060134194202, 0.7974815562436343, None)\n",
      "Other features - dataset_id:  5 , split_seed:  0 , feature_combination:  (None, None)\n",
      "Other features - dataset_id:  5 , split_seed:  0 , feature_combination:  (None, 'lcf')\n",
      "[08:20:05] WARNING: ../src/learner.cc:1095: Starting in XGBoost 1.3.0, the default evaluation metric used with the objective 'binary:logistic' was changed from 'error' to 'logloss'. Explicitly set eval_metric if you'd like to restore the old behavior.\n"
     ]
    },
    {
     "name": "stderr",
     "output_type": "stream",
     "text": [
      "/home/tduricic/.local/lib/python3.8/site-packages/xgboost/data.py:112: UserWarning: Use subset (sliced data) of np.ndarray is not recommended because it will generate extra copies and increase memory consumption\n",
      "  warnings.warn(\n"
     ]
    },
    {
     "name": "stdout",
     "output_type": "stream",
     "text": [
      "(0.7678699790389081, 0.7676604633497911, 0.7676059135789233, None)\n",
      "Other features - dataset_id:  5 , split_seed:  0 , feature_combination:  ('lpf', None)\n",
      "[08:20:53] WARNING: ../src/learner.cc:1095: Starting in XGBoost 1.3.0, the default evaluation metric used with the objective 'binary:logistic' was changed from 'error' to 'logloss'. Explicitly set eval_metric if you'd like to restore the old behavior.\n"
     ]
    },
    {
     "name": "stderr",
     "output_type": "stream",
     "text": [
      "/home/tduricic/.local/lib/python3.8/site-packages/xgboost/data.py:112: UserWarning: Use subset (sliced data) of np.ndarray is not recommended because it will generate extra copies and increase memory consumption\n",
      "  warnings.warn(\n"
     ]
    },
    {
     "name": "stdout",
     "output_type": "stream",
     "text": [
      "(0.7799961518956208, 0.7798139004937333, 0.7797704128818421, None)\n",
      "Other features - dataset_id:  5 , split_seed:  0 , feature_combination:  ('lpf', 'lcf')\n",
      "[08:21:31] WARNING: ../src/learner.cc:1095: Starting in XGBoost 1.3.0, the default evaluation metric used with the objective 'binary:logistic' was changed from 'error' to 'logloss'. Explicitly set eval_metric if you'd like to restore the old behavior.\n"
     ]
    },
    {
     "name": "stderr",
     "output_type": "stream",
     "text": [
      "/home/tduricic/.local/lib/python3.8/site-packages/xgboost/data.py:112: UserWarning: Use subset (sliced data) of np.ndarray is not recommended because it will generate extra copies and increase memory consumption\n",
      "  warnings.warn(\n"
     ]
    },
    {
     "name": "stdout",
     "output_type": "stream",
     "text": [
      "(0.7966686724702008, 0.7966514748702367, 0.7966463780730766, None)\n",
      "Other features - dataset_id:  5 , split_seed:  1 , feature_combination:  (None, None)\n",
      "Other features - dataset_id:  5 , split_seed:  1 , feature_combination:  (None, 'lcf')\n",
      "[08:22:23] WARNING: ../src/learner.cc:1095: Starting in XGBoost 1.3.0, the default evaluation metric used with the objective 'binary:logistic' was changed from 'error' to 'logloss'. Explicitly set eval_metric if you'd like to restore the old behavior.\n"
     ]
    },
    {
     "name": "stderr",
     "output_type": "stream",
     "text": [
      "/home/tduricic/.local/lib/python3.8/site-packages/xgboost/data.py:112: UserWarning: Use subset (sliced data) of np.ndarray is not recommended because it will generate extra copies and increase memory consumption\n",
      "  warnings.warn(\n"
     ]
    },
    {
     "name": "stdout",
     "output_type": "stream",
     "text": [
      "(0.7694785947618606, 0.7690213951133055, 0.7689220904995673, None)\n",
      "Other features - dataset_id:  5 , split_seed:  1 , feature_combination:  ('lpf', None)\n",
      "[08:23:09] WARNING: ../src/learner.cc:1095: Starting in XGBoost 1.3.0, the default evaluation metric used with the objective 'binary:logistic' was changed from 'error' to 'logloss'. Explicitly set eval_metric if you'd like to restore the old behavior.\n"
     ]
    },
    {
     "name": "stderr",
     "output_type": "stream",
     "text": [
      "/home/tduricic/.local/lib/python3.8/site-packages/xgboost/data.py:112: UserWarning: Use subset (sliced data) of np.ndarray is not recommended because it will generate extra copies and increase memory consumption\n",
      "  warnings.warn(\n"
     ]
    },
    {
     "name": "stdout",
     "output_type": "stream",
     "text": [
      "(0.7863573713069052, 0.7862071148246613, 0.7861784254377601, None)\n",
      "Other features - dataset_id:  5 , split_seed:  1 , feature_combination:  ('lpf', 'lcf')\n",
      "[08:23:48] WARNING: ../src/learner.cc:1095: Starting in XGBoost 1.3.0, the default evaluation metric used with the objective 'binary:logistic' was changed from 'error' to 'logloss'. Explicitly set eval_metric if you'd like to restore the old behavior.\n"
     ]
    },
    {
     "name": "stderr",
     "output_type": "stream",
     "text": [
      "/home/tduricic/.local/lib/python3.8/site-packages/xgboost/data.py:112: UserWarning: Use subset (sliced data) of np.ndarray is not recommended because it will generate extra copies and increase memory consumption\n",
      "  warnings.warn(\n"
     ]
    },
    {
     "name": "stdout",
     "output_type": "stream",
     "text": [
      "(0.8005678771031562, 0.80051272312951, 0.8005032279545155, None)\n",
      "Other features - dataset_id:  5 , split_seed:  2 , feature_combination:  (None, None)\n",
      "Other features - dataset_id:  5 , split_seed:  2 , feature_combination:  (None, 'lcf')\n",
      "[08:24:40] WARNING: ../src/learner.cc:1095: Starting in XGBoost 1.3.0, the default evaluation metric used with the objective 'binary:logistic' was changed from 'error' to 'logloss'. Explicitly set eval_metric if you'd like to restore the old behavior.\n"
     ]
    },
    {
     "name": "stderr",
     "output_type": "stream",
     "text": [
      "/home/tduricic/.local/lib/python3.8/site-packages/xgboost/data.py:112: UserWarning: Use subset (sliced data) of np.ndarray is not recommended because it will generate extra copies and increase memory consumption\n",
      "  warnings.warn(\n"
     ]
    },
    {
     "name": "stdout",
     "output_type": "stream",
     "text": [
      "(0.7650854556037554, 0.7645904544879099, 0.7644791091035875, None)\n",
      "Other features - dataset_id:  5 , split_seed:  2 , feature_combination:  ('lpf', None)\n",
      "[08:25:27] WARNING: ../src/learner.cc:1095: Starting in XGBoost 1.3.0, the default evaluation metric used with the objective 'binary:logistic' was changed from 'error' to 'logloss'. Explicitly set eval_metric if you'd like to restore the old behavior.\n"
     ]
    },
    {
     "name": "stderr",
     "output_type": "stream",
     "text": [
      "/home/tduricic/.local/lib/python3.8/site-packages/xgboost/data.py:112: UserWarning: Use subset (sliced data) of np.ndarray is not recommended because it will generate extra copies and increase memory consumption\n",
      "  warnings.warn(\n"
     ]
    },
    {
     "name": "stdout",
     "output_type": "stream",
     "text": [
      "(0.7802581059916807, 0.7799404987973161, 0.7798771529292171, None)\n",
      "Other features - dataset_id:  5 , split_seed:  2 , feature_combination:  ('lpf', 'lcf')\n",
      "[08:26:06] WARNING: ../src/learner.cc:1095: Starting in XGBoost 1.3.0, the default evaluation metric used with the objective 'binary:logistic' was changed from 'error' to 'logloss'. Explicitly set eval_metric if you'd like to restore the old behavior.\n"
     ]
    },
    {
     "name": "stderr",
     "output_type": "stream",
     "text": [
      "/home/tduricic/.local/lib/python3.8/site-packages/xgboost/data.py:112: UserWarning: Use subset (sliced data) of np.ndarray is not recommended because it will generate extra copies and increase memory consumption\n",
      "  warnings.warn(\n"
     ]
    },
    {
     "name": "stdout",
     "output_type": "stream",
     "text": [
      "(0.7995320755410263, 0.7994366375490568, 0.7994202048839067, None)\n",
      "Other features - dataset_id:  5 , split_seed:  3 , feature_combination:  (None, None)\n",
      "Other features - dataset_id:  5 , split_seed:  3 , feature_combination:  (None, 'lcf')\n",
      "[08:26:58] WARNING: ../src/learner.cc:1095: Starting in XGBoost 1.3.0, the default evaluation metric used with the objective 'binary:logistic' was changed from 'error' to 'logloss'. Explicitly set eval_metric if you'd like to restore the old behavior.\n"
     ]
    },
    {
     "name": "stderr",
     "output_type": "stream",
     "text": [
      "/home/tduricic/.local/lib/python3.8/site-packages/xgboost/data.py:112: UserWarning: Use subset (sliced data) of np.ndarray is not recommended because it will generate extra copies and increase memory consumption\n",
      "  warnings.warn(\n"
     ]
    },
    {
     "name": "stdout",
     "output_type": "stream",
     "text": [
      "(0.7701091314785876, 0.7696543866312191, 0.7695161723796403, None)\n",
      "Other features - dataset_id:  5 , split_seed:  3 , feature_combination:  ('lpf', None)\n",
      "[08:27:44] WARNING: ../src/learner.cc:1095: Starting in XGBoost 1.3.0, the default evaluation metric used with the objective 'binary:logistic' was changed from 'error' to 'logloss'. Explicitly set eval_metric if you'd like to restore the old behavior.\n"
     ]
    },
    {
     "name": "stderr",
     "output_type": "stream",
     "text": [
      "/home/tduricic/.local/lib/python3.8/site-packages/xgboost/data.py:112: UserWarning: Use subset (sliced data) of np.ndarray is not recommended because it will generate extra copies and increase memory consumption\n",
      "  warnings.warn(\n"
     ]
    },
    {
     "name": "stdout",
     "output_type": "stream",
     "text": [
      "(0.7764308845980612, 0.7762058488416255, 0.7761322600258697, None)\n",
      "Other features - dataset_id:  5 , split_seed:  3 , feature_combination:  ('lpf', 'lcf')\n",
      "[08:28:22] WARNING: ../src/learner.cc:1095: Starting in XGBoost 1.3.0, the default evaluation metric used with the objective 'binary:logistic' was changed from 'error' to 'logloss'. Explicitly set eval_metric if you'd like to restore the old behavior.\n"
     ]
    },
    {
     "name": "stderr",
     "output_type": "stream",
     "text": [
      "/home/tduricic/.local/lib/python3.8/site-packages/xgboost/data.py:112: UserWarning: Use subset (sliced data) of np.ndarray is not recommended because it will generate extra copies and increase memory consumption\n",
      "  warnings.warn(\n"
     ]
    },
    {
     "name": "stdout",
     "output_type": "stream",
     "text": [
      "(0.7974235950856183, 0.7973794151158374, 0.7973606970754673, None)\n",
      "Other features - dataset_id:  5 , split_seed:  4 , feature_combination:  (None, None)\n",
      "Other features - dataset_id:  5 , split_seed:  4 , feature_combination:  (None, 'lcf')\n",
      "[08:29:15] WARNING: ../src/learner.cc:1095: Starting in XGBoost 1.3.0, the default evaluation metric used with the objective 'binary:logistic' was changed from 'error' to 'logloss'. Explicitly set eval_metric if you'd like to restore the old behavior.\n"
     ]
    },
    {
     "name": "stderr",
     "output_type": "stream",
     "text": [
      "/home/tduricic/.local/lib/python3.8/site-packages/xgboost/data.py:112: UserWarning: Use subset (sliced data) of np.ndarray is not recommended because it will generate extra copies and increase memory consumption\n",
      "  warnings.warn(\n"
     ]
    },
    {
     "name": "stdout",
     "output_type": "stream",
     "text": [
      "(0.7703786124496007, 0.770065831117863, 0.7699450198681339, None)\n",
      "Other features - dataset_id:  5 , split_seed:  4 , feature_combination:  ('lpf', None)\n",
      "[08:30:02] WARNING: ../src/learner.cc:1095: Starting in XGBoost 1.3.0, the default evaluation metric used with the objective 'binary:logistic' was changed from 'error' to 'logloss'. Explicitly set eval_metric if you'd like to restore the old behavior.\n"
     ]
    },
    {
     "name": "stderr",
     "output_type": "stream",
     "text": [
      "/home/tduricic/.local/lib/python3.8/site-packages/xgboost/data.py:112: UserWarning: Use subset (sliced data) of np.ndarray is not recommended because it will generate extra copies and increase memory consumption\n",
      "  warnings.warn(\n"
     ]
    },
    {
     "name": "stdout",
     "output_type": "stream",
     "text": [
      "(0.7841353684983096, 0.7838333966324851, 0.7837289051051657, None)\n",
      "Other features - dataset_id:  5 , split_seed:  4 , feature_combination:  ('lpf', 'lcf')\n",
      "[08:30:41] WARNING: ../src/learner.cc:1095: Starting in XGBoost 1.3.0, the default evaluation metric used with the objective 'binary:logistic' was changed from 'error' to 'logloss'. Explicitly set eval_metric if you'd like to restore the old behavior.\n"
     ]
    },
    {
     "name": "stderr",
     "output_type": "stream",
     "text": [
      "/home/tduricic/.local/lib/python3.8/site-packages/xgboost/data.py:112: UserWarning: Use subset (sliced data) of np.ndarray is not recommended because it will generate extra copies and increase memory consumption\n",
      "  warnings.warn(\n"
     ]
    },
    {
     "name": "stdout",
     "output_type": "stream",
     "text": [
      "(0.7983857178159746, 0.7983605519686037, 0.7983414553646816, None)\n",
      "Other features - dataset_id:  6 , split_seed:  0 , feature_combination:  (None, None)\n",
      "Other features - dataset_id:  6 , split_seed:  0 , feature_combination:  (None, 'lcf')\n",
      "[08:31:36] WARNING: ../src/learner.cc:1095: Starting in XGBoost 1.3.0, the default evaluation metric used with the objective 'binary:logistic' was changed from 'error' to 'logloss'. Explicitly set eval_metric if you'd like to restore the old behavior.\n"
     ]
    },
    {
     "name": "stderr",
     "output_type": "stream",
     "text": [
      "/home/tduricic/.local/lib/python3.8/site-packages/xgboost/data.py:112: UserWarning: Use subset (sliced data) of np.ndarray is not recommended because it will generate extra copies and increase memory consumption\n",
      "  warnings.warn(\n"
     ]
    },
    {
     "name": "stdout",
     "output_type": "stream",
     "text": [
      "(0.7619480158073192, 0.7616153943537156, 0.7614841688415792, None)\n",
      "Other features - dataset_id:  6 , split_seed:  0 , feature_combination:  ('lpf', None)\n",
      "[08:32:23] WARNING: ../src/learner.cc:1095: Starting in XGBoost 1.3.0, the default evaluation metric used with the objective 'binary:logistic' was changed from 'error' to 'logloss'. Explicitly set eval_metric if you'd like to restore the old behavior.\n"
     ]
    },
    {
     "name": "stderr",
     "output_type": "stream",
     "text": [
      "/home/tduricic/.local/lib/python3.8/site-packages/xgboost/data.py:112: UserWarning: Use subset (sliced data) of np.ndarray is not recommended because it will generate extra copies and increase memory consumption\n",
      "  warnings.warn(\n"
     ]
    },
    {
     "name": "stdout",
     "output_type": "stream",
     "text": [
      "(0.7820003406578082, 0.7819344220787442, 0.7818987205945502, None)\n",
      "Other features - dataset_id:  6 , split_seed:  0 , feature_combination:  ('lpf', 'lcf')\n",
      "[08:33:02] WARNING: ../src/learner.cc:1095: Starting in XGBoost 1.3.0, the default evaluation metric used with the objective 'binary:logistic' was changed from 'error' to 'logloss'. Explicitly set eval_metric if you'd like to restore the old behavior.\n"
     ]
    },
    {
     "name": "stderr",
     "output_type": "stream",
     "text": [
      "/home/tduricic/.local/lib/python3.8/site-packages/xgboost/data.py:112: UserWarning: Use subset (sliced data) of np.ndarray is not recommended because it will generate extra copies and increase memory consumption\n",
      "  warnings.warn(\n"
     ]
    },
    {
     "name": "stdout",
     "output_type": "stream",
     "text": [
      "(0.7977564396341014, 0.7977275604506899, 0.797708408202917, None)\n",
      "Other features - dataset_id:  6 , split_seed:  1 , feature_combination:  (None, None)\n",
      "Other features - dataset_id:  6 , split_seed:  1 , feature_combination:  (None, 'lcf')\n",
      "[08:33:54] WARNING: ../src/learner.cc:1095: Starting in XGBoost 1.3.0, the default evaluation metric used with the objective 'binary:logistic' was changed from 'error' to 'logloss'. Explicitly set eval_metric if you'd like to restore the old behavior.\n"
     ]
    },
    {
     "name": "stderr",
     "output_type": "stream",
     "text": [
      "/home/tduricic/.local/lib/python3.8/site-packages/xgboost/data.py:112: UserWarning: Use subset (sliced data) of np.ndarray is not recommended because it will generate extra copies and increase memory consumption\n",
      "  warnings.warn(\n"
     ]
    },
    {
     "name": "stdout",
     "output_type": "stream",
     "text": [
      "(0.7675985073596967, 0.7673439675908342, 0.7672526194456275, None)\n",
      "Other features - dataset_id:  6 , split_seed:  1 , feature_combination:  ('lpf', None)\n",
      "[08:34:41] WARNING: ../src/learner.cc:1095: Starting in XGBoost 1.3.0, the default evaluation metric used with the objective 'binary:logistic' was changed from 'error' to 'logloss'. Explicitly set eval_metric if you'd like to restore the old behavior.\n"
     ]
    },
    {
     "name": "stderr",
     "output_type": "stream",
     "text": [
      "/home/tduricic/.local/lib/python3.8/site-packages/xgboost/data.py:112: UserWarning: Use subset (sliced data) of np.ndarray is not recommended because it will generate extra copies and increase memory consumption\n",
      "  warnings.warn(\n"
     ]
    },
    {
     "name": "stdout",
     "output_type": "stream",
     "text": [
      "(0.7816131026363975, 0.7814280288644132, 0.7813647260771402, None)\n",
      "Other features - dataset_id:  6 , split_seed:  1 , feature_combination:  ('lpf', 'lcf')\n",
      "[08:35:20] WARNING: ../src/learner.cc:1095: Starting in XGBoost 1.3.0, the default evaluation metric used with the objective 'binary:logistic' was changed from 'error' to 'logloss'. Explicitly set eval_metric if you'd like to restore the old behavior.\n"
     ]
    },
    {
     "name": "stderr",
     "output_type": "stream",
     "text": [
      "/home/tduricic/.local/lib/python3.8/site-packages/xgboost/data.py:112: UserWarning: Use subset (sliced data) of np.ndarray is not recommended because it will generate extra copies and increase memory consumption\n",
      "  warnings.warn(\n"
     ]
    },
    {
     "name": "stdout",
     "output_type": "stream",
     "text": [
      "(0.7991729992408427, 0.7990568426383087, 0.7990184858735168, None)\n",
      "Other features - dataset_id:  6 , split_seed:  2 , feature_combination:  (None, None)\n",
      "Other features - dataset_id:  6 , split_seed:  2 , feature_combination:  (None, 'lcf')\n",
      "[08:36:12] WARNING: ../src/learner.cc:1095: Starting in XGBoost 1.3.0, the default evaluation metric used with the objective 'binary:logistic' was changed from 'error' to 'logloss'. Explicitly set eval_metric if you'd like to restore the old behavior.\n"
     ]
    },
    {
     "name": "stderr",
     "output_type": "stream",
     "text": [
      "/home/tduricic/.local/lib/python3.8/site-packages/xgboost/data.py:112: UserWarning: Use subset (sliced data) of np.ndarray is not recommended because it will generate extra copies and increase memory consumption\n",
      "  warnings.warn(\n"
     ]
    },
    {
     "name": "stdout",
     "output_type": "stream",
     "text": [
      "(0.7671554676150153, 0.7669641726800861, 0.7668978245727706, None)\n",
      "Other features - dataset_id:  6 , split_seed:  2 , feature_combination:  ('lpf', None)\n",
      "[08:36:59] WARNING: ../src/learner.cc:1095: Starting in XGBoost 1.3.0, the default evaluation metric used with the objective 'binary:logistic' was changed from 'error' to 'logloss'. Explicitly set eval_metric if you'd like to restore the old behavior.\n"
     ]
    },
    {
     "name": "stderr",
     "output_type": "stream",
     "text": [
      "/home/tduricic/.local/lib/python3.8/site-packages/xgboost/data.py:112: UserWarning: Use subset (sliced data) of np.ndarray is not recommended because it will generate extra copies and increase memory consumption\n",
      "  warnings.warn(\n"
     ]
    },
    {
     "name": "stdout",
     "output_type": "stream",
     "text": [
      "(0.782542719938689, 0.7823775161412837, 0.7823256964117432, None)\n",
      "Other features - dataset_id:  6 , split_seed:  2 , feature_combination:  ('lpf', 'lcf')\n",
      "[08:37:38] WARNING: ../src/learner.cc:1095: Starting in XGBoost 1.3.0, the default evaluation metric used with the objective 'binary:logistic' was changed from 'error' to 'logloss'. Explicitly set eval_metric if you'd like to restore the old behavior.\n"
     ]
    },
    {
     "name": "stderr",
     "output_type": "stream",
     "text": [
      "/home/tduricic/.local/lib/python3.8/site-packages/xgboost/data.py:112: UserWarning: Use subset (sliced data) of np.ndarray is not recommended because it will generate extra copies and increase memory consumption\n",
      "  warnings.warn(\n"
     ]
    },
    {
     "name": "stdout",
     "output_type": "stream",
     "text": [
      "(0.7990175103367176, 0.7989618939106216, 0.7989420395285426, None)\n",
      "Other features - dataset_id:  6 , split_seed:  3 , feature_combination:  (None, None)\n",
      "Other features - dataset_id:  6 , split_seed:  3 , feature_combination:  (None, 'lcf')\n",
      "[08:38:30] WARNING: ../src/learner.cc:1095: Starting in XGBoost 1.3.0, the default evaluation metric used with the objective 'binary:logistic' was changed from 'error' to 'logloss'. Explicitly set eval_metric if you'd like to restore the old behavior.\n"
     ]
    },
    {
     "name": "stderr",
     "output_type": "stream",
     "text": [
      "/home/tduricic/.local/lib/python3.8/site-packages/xgboost/data.py:112: UserWarning: Use subset (sliced data) of np.ndarray is not recommended because it will generate extra copies and increase memory consumption\n",
      "  warnings.warn(\n"
     ]
    },
    {
     "name": "stdout",
     "output_type": "stream",
     "text": [
      "(0.7688638407898828, 0.7683251044436005, 0.7682232769366857, None)\n",
      "Other features - dataset_id:  6 , split_seed:  3 , feature_combination:  ('lpf', None)\n",
      "[08:39:17] WARNING: ../src/learner.cc:1095: Starting in XGBoost 1.3.0, the default evaluation metric used with the objective 'binary:logistic' was changed from 'error' to 'logloss'. Explicitly set eval_metric if you'd like to restore the old behavior.\n"
     ]
    },
    {
     "name": "stderr",
     "output_type": "stream",
     "text": [
      "/home/tduricic/.local/lib/python3.8/site-packages/xgboost/data.py:112: UserWarning: Use subset (sliced data) of np.ndarray is not recommended because it will generate extra copies and increase memory consumption\n",
      "  warnings.warn(\n"
     ]
    },
    {
     "name": "stdout",
     "output_type": "stream",
     "text": [
      "(0.7836406310302787, 0.7834219521458412, 0.7833881356249213, None)\n",
      "Other features - dataset_id:  6 , split_seed:  3 , feature_combination:  ('lpf', 'lcf')\n",
      "[08:39:56] WARNING: ../src/learner.cc:1095: Starting in XGBoost 1.3.0, the default evaluation metric used with the objective 'binary:logistic' was changed from 'error' to 'logloss'. Explicitly set eval_metric if you'd like to restore the old behavior.\n"
     ]
    },
    {
     "name": "stderr",
     "output_type": "stream",
     "text": [
      "/home/tduricic/.local/lib/python3.8/site-packages/xgboost/data.py:112: UserWarning: Use subset (sliced data) of np.ndarray is not recommended because it will generate extra copies and increase memory consumption\n",
      "  warnings.warn(\n"
     ]
    },
    {
     "name": "stdout",
     "output_type": "stream",
     "text": [
      "(0.798554904204637, 0.7984555006962907, 0.7984433772642139, None)\n",
      "Other features - dataset_id:  6 , split_seed:  4 , feature_combination:  (None, None)\n",
      "Other features - dataset_id:  6 , split_seed:  4 , feature_combination:  (None, 'lcf')\n",
      "[08:40:48] WARNING: ../src/learner.cc:1095: Starting in XGBoost 1.3.0, the default evaluation metric used with the objective 'binary:logistic' was changed from 'error' to 'logloss'. Explicitly set eval_metric if you'd like to restore the old behavior.\n"
     ]
    },
    {
     "name": "stderr",
     "output_type": "stream",
     "text": [
      "/home/tduricic/.local/lib/python3.8/site-packages/xgboost/data.py:112: UserWarning: Use subset (sliced data) of np.ndarray is not recommended because it will generate extra copies and increase memory consumption\n",
      "  warnings.warn(\n"
     ]
    },
    {
     "name": "stdout",
     "output_type": "stream",
     "text": [
      "(0.769003575066619, 0.7682301557159134, 0.7680740328907494, None)\n",
      "Other features - dataset_id:  6 , split_seed:  4 , feature_combination:  ('lpf', None)\n",
      "[08:41:35] WARNING: ../src/learner.cc:1095: Starting in XGBoost 1.3.0, the default evaluation metric used with the objective 'binary:logistic' was changed from 'error' to 'logloss'. Explicitly set eval_metric if you'd like to restore the old behavior.\n"
     ]
    },
    {
     "name": "stderr",
     "output_type": "stream",
     "text": [
      "/home/tduricic/.local/lib/python3.8/site-packages/xgboost/data.py:112: UserWarning: Use subset (sliced data) of np.ndarray is not recommended because it will generate extra copies and increase memory consumption\n",
      "  warnings.warn(\n"
     ]
    },
    {
     "name": "stdout",
     "output_type": "stream",
     "text": [
      "(0.78531182584549, 0.7850677300924168, 0.7850268736525727, None)\n",
      "Other features - dataset_id:  6 , split_seed:  4 , feature_combination:  ('lpf', 'lcf')\n",
      "[08:42:13] WARNING: ../src/learner.cc:1095: Starting in XGBoost 1.3.0, the default evaluation metric used with the objective 'binary:logistic' was changed from 'error' to 'logloss'. Explicitly set eval_metric if you'd like to restore the old behavior.\n"
     ]
    },
    {
     "name": "stderr",
     "output_type": "stream",
     "text": [
      "/home/tduricic/.local/lib/python3.8/site-packages/xgboost/data.py:112: UserWarning: Use subset (sliced data) of np.ndarray is not recommended because it will generate extra copies and increase memory consumption\n",
      "  warnings.warn(\n"
     ]
    },
    {
     "name": "stdout",
     "output_type": "stream",
     "text": [
      "(0.8029907439555309, 0.8027914925939993, 0.8027630349966131, None)\n",
      "Other features - dataset_id:  7 , split_seed:  0 , feature_combination:  (None, None)\n",
      "Other features - dataset_id:  7 , split_seed:  0 , feature_combination:  (None, 'lcf')\n",
      "[08:43:09] WARNING: ../src/learner.cc:1095: Starting in XGBoost 1.3.0, the default evaluation metric used with the objective 'binary:logistic' was changed from 'error' to 'logloss'. Explicitly set eval_metric if you'd like to restore the old behavior.\n"
     ]
    },
    {
     "name": "stderr",
     "output_type": "stream",
     "text": [
      "/home/tduricic/.local/lib/python3.8/site-packages/xgboost/data.py:112: UserWarning: Use subset (sliced data) of np.ndarray is not recommended because it will generate extra copies and increase memory consumption\n",
      "  warnings.warn(\n"
     ]
    },
    {
     "name": "stdout",
     "output_type": "stream",
     "text": [
      "(0.7735116118798637, 0.7730408912520572, 0.7729058471137763, None)\n",
      "Other features - dataset_id:  7 , split_seed:  0 , feature_combination:  ('lpf', None)\n",
      "[08:43:56] WARNING: ../src/learner.cc:1095: Starting in XGBoost 1.3.0, the default evaluation metric used with the objective 'binary:logistic' was changed from 'error' to 'logloss'. Explicitly set eval_metric if you'd like to restore the old behavior.\n"
     ]
    },
    {
     "name": "stderr",
     "output_type": "stream",
     "text": [
      "/home/tduricic/.local/lib/python3.8/site-packages/xgboost/data.py:112: UserWarning: Use subset (sliced data) of np.ndarray is not recommended because it will generate extra copies and increase memory consumption\n",
      "  warnings.warn(\n"
     ]
    },
    {
     "name": "stdout",
     "output_type": "stream",
     "text": [
      "(0.7836099344345154, 0.7833270034181542, 0.783246137882229, None)\n",
      "Other features - dataset_id:  7 , split_seed:  0 , feature_combination:  ('lpf', 'lcf')\n",
      "[08:44:35] WARNING: ../src/learner.cc:1095: Starting in XGBoost 1.3.0, the default evaluation metric used with the objective 'binary:logistic' was changed from 'error' to 'logloss'. Explicitly set eval_metric if you'd like to restore the old behavior.\n"
     ]
    },
    {
     "name": "stderr",
     "output_type": "stream",
     "text": [
      "/home/tduricic/.local/lib/python3.8/site-packages/xgboost/data.py:112: UserWarning: Use subset (sliced data) of np.ndarray is not recommended because it will generate extra copies and increase memory consumption\n",
      "  warnings.warn(\n"
     ]
    },
    {
     "name": "stdout",
     "output_type": "stream",
     "text": [
      "(0.8012607640247815, 0.8011773642233194, 0.8011506074116379, None)\n",
      "Other features - dataset_id:  7 , split_seed:  1 , feature_combination:  (None, None)\n",
      "Other features - dataset_id:  7 , split_seed:  1 , feature_combination:  (None, 'lcf')\n",
      "[08:45:28] WARNING: ../src/learner.cc:1095: Starting in XGBoost 1.3.0, the default evaluation metric used with the objective 'binary:logistic' was changed from 'error' to 'logloss'. Explicitly set eval_metric if you'd like to restore the old behavior.\n"
     ]
    },
    {
     "name": "stderr",
     "output_type": "stream",
     "text": [
      "/home/tduricic/.local/lib/python3.8/site-packages/xgboost/data.py:112: UserWarning: Use subset (sliced data) of np.ndarray is not recommended because it will generate extra copies and increase memory consumption\n",
      "  warnings.warn(\n"
     ]
    },
    {
     "name": "stdout",
     "output_type": "stream",
     "text": [
      "(0.7718747764475591, 0.7716483099126472, 0.7715610562349365, None)\n",
      "Other features - dataset_id:  7 , split_seed:  1 , feature_combination:  ('lpf', None)\n",
      "[08:46:15] WARNING: ../src/learner.cc:1095: Starting in XGBoost 1.3.0, the default evaluation metric used with the objective 'binary:logistic' was changed from 'error' to 'logloss'. Explicitly set eval_metric if you'd like to restore the old behavior.\n"
     ]
    },
    {
     "name": "stderr",
     "output_type": "stream",
     "text": [
      "/home/tduricic/.local/lib/python3.8/site-packages/xgboost/data.py:112: UserWarning: Use subset (sliced data) of np.ndarray is not recommended because it will generate extra copies and increase memory consumption\n",
      "  warnings.warn(\n"
     ]
    },
    {
     "name": "stdout",
     "output_type": "stream",
     "text": [
      "(0.7816589123827598, 0.781554627167996, 0.7815085991930321, None)\n",
      "Other features - dataset_id:  7 , split_seed:  1 , feature_combination:  ('lpf', 'lcf')\n",
      "[08:46:54] WARNING: ../src/learner.cc:1095: Starting in XGBoost 1.3.0, the default evaluation metric used with the objective 'binary:logistic' was changed from 'error' to 'logloss'. Explicitly set eval_metric if you'd like to restore the old behavior.\n"
     ]
    },
    {
     "name": "stderr",
     "output_type": "stream",
     "text": [
      "/home/tduricic/.local/lib/python3.8/site-packages/xgboost/data.py:112: UserWarning: Use subset (sliced data) of np.ndarray is not recommended because it will generate extra copies and increase memory consumption\n",
      "  warnings.warn(\n"
     ]
    },
    {
     "name": "stdout",
     "output_type": "stream",
     "text": [
      "(0.7965118774495465, 0.7964615774148627, 0.7964364445325235, None)\n",
      "Other features - dataset_id:  7 , split_seed:  2 , feature_combination:  (None, None)\n",
      "Other features - dataset_id:  7 , split_seed:  2 , feature_combination:  (None, 'lcf')\n",
      "[08:47:46] WARNING: ../src/learner.cc:1095: Starting in XGBoost 1.3.0, the default evaluation metric used with the objective 'binary:logistic' was changed from 'error' to 'logloss'. Explicitly set eval_metric if you'd like to restore the old behavior.\n"
     ]
    },
    {
     "name": "stderr",
     "output_type": "stream",
     "text": [
      "/home/tduricic/.local/lib/python3.8/site-packages/xgboost/data.py:112: UserWarning: Use subset (sliced data) of np.ndarray is not recommended because it will generate extra copies and increase memory consumption\n",
      "  warnings.warn(\n"
     ]
    },
    {
     "name": "stdout",
     "output_type": "stream",
     "text": [
      "(0.7666063212480546, 0.7664894290416508, 0.7664070812485057, None)\n",
      "Other features - dataset_id:  7 , split_seed:  2 , feature_combination:  ('lpf', None)\n",
      "[08:48:32] WARNING: ../src/learner.cc:1095: Starting in XGBoost 1.3.0, the default evaluation metric used with the objective 'binary:logistic' was changed from 'error' to 'logloss'. Explicitly set eval_metric if you'd like to restore the old behavior.\n"
     ]
    },
    {
     "name": "stderr",
     "output_type": "stream",
     "text": [
      "/home/tduricic/.local/lib/python3.8/site-packages/xgboost/data.py:112: UserWarning: Use subset (sliced data) of np.ndarray is not recommended because it will generate extra copies and increase memory consumption\n",
      "  warnings.warn(\n"
     ]
    },
    {
     "name": "stdout",
     "output_type": "stream",
     "text": [
      "(0.7781087341358769, 0.7781048233953665, 0.7780823517492315, None)\n",
      "Other features - dataset_id:  7 , split_seed:  2 , feature_combination:  ('lpf', 'lcf')\n",
      "[08:49:10] WARNING: ../src/learner.cc:1095: Starting in XGBoost 1.3.0, the default evaluation metric used with the objective 'binary:logistic' was changed from 'error' to 'logloss'. Explicitly set eval_metric if you'd like to restore the old behavior.\n"
     ]
    },
    {
     "name": "stderr",
     "output_type": "stream",
     "text": [
      "/home/tduricic/.local/lib/python3.8/site-packages/xgboost/data.py:112: UserWarning: Use subset (sliced data) of np.ndarray is not recommended because it will generate extra copies and increase memory consumption\n",
      "  warnings.warn(\n"
     ]
    },
    {
     "name": "stdout",
     "output_type": "stream",
     "text": [
      "(0.797090699879165, 0.7970945689327763, 0.7970841618131967, None)\n",
      "Other features - dataset_id:  7 , split_seed:  3 , feature_combination:  (None, None)\n",
      "Other features - dataset_id:  7 , split_seed:  3 , feature_combination:  (None, 'lcf')\n",
      "[08:50:02] WARNING: ../src/learner.cc:1095: Starting in XGBoost 1.3.0, the default evaluation metric used with the objective 'binary:logistic' was changed from 'error' to 'logloss'. Explicitly set eval_metric if you'd like to restore the old behavior.\n"
     ]
    },
    {
     "name": "stderr",
     "output_type": "stream",
     "text": [
      "/home/tduricic/.local/lib/python3.8/site-packages/xgboost/data.py:112: UserWarning: Use subset (sliced data) of np.ndarray is not recommended because it will generate extra copies and increase memory consumption\n",
      "  warnings.warn(\n"
     ]
    },
    {
     "name": "stdout",
     "output_type": "stream",
     "text": [
      "(0.7672268244363849, 0.7665843777693379, 0.7664648514303061, None)\n",
      "Other features - dataset_id:  7 , split_seed:  3 , feature_combination:  ('lpf', None)\n",
      "[08:50:50] WARNING: ../src/learner.cc:1095: Starting in XGBoost 1.3.0, the default evaluation metric used with the objective 'binary:logistic' was changed from 'error' to 'logloss'. Explicitly set eval_metric if you'd like to restore the old behavior.\n"
     ]
    },
    {
     "name": "stderr",
     "output_type": "stream",
     "text": [
      "/home/tduricic/.local/lib/python3.8/site-packages/xgboost/data.py:112: UserWarning: Use subset (sliced data) of np.ndarray is not recommended because it will generate extra copies and increase memory consumption\n",
      "  warnings.warn(\n"
     ]
    },
    {
     "name": "stdout",
     "output_type": "stream",
     "text": [
      "(0.7866626409884114, 0.7865236105836182, 0.7865057362029921, None)\n",
      "Other features - dataset_id:  7 , split_seed:  3 , feature_combination:  ('lpf', 'lcf')\n",
      "[08:51:32] WARNING: ../src/learner.cc:1095: Starting in XGBoost 1.3.0, the default evaluation metric used with the objective 'binary:logistic' was changed from 'error' to 'logloss'. Explicitly set eval_metric if you'd like to restore the old behavior.\n"
     ]
    },
    {
     "name": "stderr",
     "output_type": "stream",
     "text": [
      "/home/tduricic/.local/lib/python3.8/site-packages/xgboost/data.py:112: UserWarning: Use subset (sliced data) of np.ndarray is not recommended because it will generate extra copies and increase memory consumption\n",
      "  warnings.warn(\n"
     ]
    },
    {
     "name": "stdout",
     "output_type": "stream",
     "text": [
      "(0.799356441231673, 0.7992467400936828, 0.7992347095508081, None)\n",
      "Other features - dataset_id:  7 , split_seed:  4 , feature_combination:  (None, None)\n",
      "Other features - dataset_id:  7 , split_seed:  4 , feature_combination:  (None, 'lcf')\n",
      "[08:52:26] WARNING: ../src/learner.cc:1095: Starting in XGBoost 1.3.0, the default evaluation metric used with the objective 'binary:logistic' was changed from 'error' to 'logloss'. Explicitly set eval_metric if you'd like to restore the old behavior.\n"
     ]
    },
    {
     "name": "stderr",
     "output_type": "stream",
     "text": [
      "/home/tduricic/.local/lib/python3.8/site-packages/xgboost/data.py:112: UserWarning: Use subset (sliced data) of np.ndarray is not recommended because it will generate extra copies and increase memory consumption\n",
      "  warnings.warn(\n"
     ]
    },
    {
     "name": "stdout",
     "output_type": "stream",
     "text": [
      "(0.7619323319568176, 0.7616153943537156, 0.7615097478220346, None)\n",
      "Other features - dataset_id:  7 , split_seed:  4 , feature_combination:  ('lpf', None)\n",
      "[08:53:13] WARNING: ../src/learner.cc:1095: Starting in XGBoost 1.3.0, the default evaluation metric used with the objective 'binary:logistic' was changed from 'error' to 'logloss'. Explicitly set eval_metric if you'd like to restore the old behavior.\n"
     ]
    },
    {
     "name": "stderr",
     "output_type": "stream",
     "text": [
      "/home/tduricic/.local/lib/python3.8/site-packages/xgboost/data.py:112: UserWarning: Use subset (sliced data) of np.ndarray is not recommended because it will generate extra copies and increase memory consumption\n",
      "  warnings.warn(\n"
     ]
    },
    {
     "name": "stdout",
     "output_type": "stream",
     "text": [
      "(0.7799801693244556, 0.7799404987973161, 0.7799214723851299, None)\n",
      "Other features - dataset_id:  7 , split_seed:  4 , feature_combination:  ('lpf', 'lcf')\n",
      "[08:53:52] WARNING: ../src/learner.cc:1095: Starting in XGBoost 1.3.0, the default evaluation metric used with the objective 'binary:logistic' was changed from 'error' to 'logloss'. Explicitly set eval_metric if you'd like to restore the old behavior.\n"
     ]
    },
    {
     "name": "stderr",
     "output_type": "stream",
     "text": [
      "/home/tduricic/.local/lib/python3.8/site-packages/xgboost/data.py:112: UserWarning: Use subset (sliced data) of np.ndarray is not recommended because it will generate extra copies and increase memory consumption\n",
      "  warnings.warn(\n"
     ]
    },
    {
     "name": "stdout",
     "output_type": "stream",
     "text": [
      "(0.8002037616621767, 0.8001962273705532, 0.8001901175557422, None)\n",
      "Other features - dataset_id:  8 , split_seed:  0 , feature_combination:  (None, None)\n",
      "Other features - dataset_id:  8 , split_seed:  0 , feature_combination:  (None, 'lcf')\n",
      "[08:54:49] WARNING: ../src/learner.cc:1095: Starting in XGBoost 1.3.0, the default evaluation metric used with the objective 'binary:logistic' was changed from 'error' to 'logloss'. Explicitly set eval_metric if you'd like to restore the old behavior.\n"
     ]
    },
    {
     "name": "stderr",
     "output_type": "stream",
     "text": [
      "/home/tduricic/.local/lib/python3.8/site-packages/xgboost/data.py:112: UserWarning: Use subset (sliced data) of np.ndarray is not recommended because it will generate extra copies and increase memory consumption\n",
      "  warnings.warn(\n"
     ]
    },
    {
     "name": "stdout",
     "output_type": "stream",
     "text": [
      "(0.7710859310241804, 0.7702873781491328, 0.7701643825246013, None)\n",
      "Other features - dataset_id:  8 , split_seed:  0 , feature_combination:  ('lpf', None)\n",
      "[08:55:36] WARNING: ../src/learner.cc:1095: Starting in XGBoost 1.3.0, the default evaluation metric used with the objective 'binary:logistic' was changed from 'error' to 'logloss'. Explicitly set eval_metric if you'd like to restore the old behavior.\n"
     ]
    },
    {
     "name": "stderr",
     "output_type": "stream",
     "text": [
      "/home/tduricic/.local/lib/python3.8/site-packages/xgboost/data.py:112: UserWarning: Use subset (sliced data) of np.ndarray is not recommended because it will generate extra copies and increase memory consumption\n",
      "  warnings.warn(\n"
     ]
    },
    {
     "name": "stdout",
     "output_type": "stream",
     "text": [
      "(0.7845874194163418, 0.7841815419673377, 0.7841335318719913, None)\n",
      "Other features - dataset_id:  8 , split_seed:  0 , feature_combination:  ('lpf', 'lcf')\n",
      "[08:56:14] WARNING: ../src/learner.cc:1095: Starting in XGBoost 1.3.0, the default evaluation metric used with the objective 'binary:logistic' was changed from 'error' to 'logloss'. Explicitly set eval_metric if you'd like to restore the old behavior.\n"
     ]
    },
    {
     "name": "stderr",
     "output_type": "stream",
     "text": [
      "/home/tduricic/.local/lib/python3.8/site-packages/xgboost/data.py:112: UserWarning: Use subset (sliced data) of np.ndarray is not recommended because it will generate extra copies and increase memory consumption\n",
      "  warnings.warn(\n"
     ]
    },
    {
     "name": "stdout",
     "output_type": "stream",
     "text": [
      "(0.7998349799891146, 0.7996581845803267, 0.7996450386918325, None)\n",
      "Other features - dataset_id:  8 , split_seed:  1 , feature_combination:  (None, None)\n",
      "Other features - dataset_id:  8 , split_seed:  1 , feature_combination:  (None, 'lcf')\n",
      "[08:57:07] WARNING: ../src/learner.cc:1095: Starting in XGBoost 1.3.0, the default evaluation metric used with the objective 'binary:logistic' was changed from 'error' to 'logloss'. Explicitly set eval_metric if you'd like to restore the old behavior.\n"
     ]
    },
    {
     "name": "stderr",
     "output_type": "stream",
     "text": [
      "/home/tduricic/.local/lib/python3.8/site-packages/xgboost/data.py:112: UserWarning: Use subset (sliced data) of np.ndarray is not recommended because it will generate extra copies and increase memory consumption\n",
      "  warnings.warn(\n"
     ]
    },
    {
     "name": "stdout",
     "output_type": "stream",
     "text": [
      "(0.7660066832190248, 0.7657931383719458, 0.7657079321352582, None)\n",
      "Other features - dataset_id:  8 , split_seed:  1 , feature_combination:  ('lpf', None)\n",
      "[08:57:54] WARNING: ../src/learner.cc:1095: Starting in XGBoost 1.3.0, the default evaluation metric used with the objective 'binary:logistic' was changed from 'error' to 'logloss'. Explicitly set eval_metric if you'd like to restore the old behavior.\n"
     ]
    },
    {
     "name": "stderr",
     "output_type": "stream",
     "text": [
      "/home/tduricic/.local/lib/python3.8/site-packages/xgboost/data.py:112: UserWarning: Use subset (sliced data) of np.ndarray is not recommended because it will generate extra copies and increase memory consumption\n",
      "  warnings.warn(\n"
     ]
    },
    {
     "name": "stdout",
     "output_type": "stream",
     "text": [
      "(0.7794923596104323, 0.7793708064311938, 0.7793205472233072, None)\n",
      "Other features - dataset_id:  8 , split_seed:  1 , feature_combination:  ('lpf', 'lcf')\n",
      "[08:58:33] WARNING: ../src/learner.cc:1095: Starting in XGBoost 1.3.0, the default evaluation metric used with the objective 'binary:logistic' was changed from 'error' to 'logloss'. Explicitly set eval_metric if you'd like to restore the old behavior.\n"
     ]
    },
    {
     "name": "stderr",
     "output_type": "stream",
     "text": [
      "/home/tduricic/.local/lib/python3.8/site-packages/xgboost/data.py:112: UserWarning: Use subset (sliced data) of np.ndarray is not recommended because it will generate extra copies and increase memory consumption\n",
      "  warnings.warn(\n"
     ]
    },
    {
     "name": "stdout",
     "output_type": "stream",
     "text": [
      "(0.7991952300169144, 0.7991517913659957, 0.7991304093584435, None)\n",
      "Other features - dataset_id:  8 , split_seed:  2 , feature_combination:  (None, None)\n",
      "Other features - dataset_id:  8 , split_seed:  2 , feature_combination:  (None, 'lcf')\n",
      "[08:59:26] WARNING: ../src/learner.cc:1095: Starting in XGBoost 1.3.0, the default evaluation metric used with the objective 'binary:logistic' was changed from 'error' to 'logloss'. Explicitly set eval_metric if you'd like to restore the old behavior.\n"
     ]
    },
    {
     "name": "stderr",
     "output_type": "stream",
     "text": [
      "/home/tduricic/.local/lib/python3.8/site-packages/xgboost/data.py:112: UserWarning: Use subset (sliced data) of np.ndarray is not recommended because it will generate extra copies and increase memory consumption\n",
      "  warnings.warn(\n"
     ]
    },
    {
     "name": "stdout",
     "output_type": "stream",
     "text": [
      "(0.7676752064847009, 0.767470565894417, 0.7674021918044465, None)\n",
      "Other features - dataset_id:  8 , split_seed:  2 , feature_combination:  ('lpf', None)\n",
      "[09:00:13] WARNING: ../src/learner.cc:1095: Starting in XGBoost 1.3.0, the default evaluation metric used with the objective 'binary:logistic' was changed from 'error' to 'logloss'. Explicitly set eval_metric if you'd like to restore the old behavior.\n"
     ]
    },
    {
     "name": "stderr",
     "output_type": "stream",
     "text": [
      "/home/tduricic/.local/lib/python3.8/site-packages/xgboost/data.py:112: UserWarning: Use subset (sliced data) of np.ndarray is not recommended because it will generate extra copies and increase memory consumption\n",
      "  warnings.warn(\n"
     ]
    },
    {
     "name": "stdout",
     "output_type": "stream",
     "text": [
      "(0.7842942801579925, 0.784149892391442, 0.7841049782011293, None)\n",
      "Other features - dataset_id:  8 , split_seed:  2 , feature_combination:  ('lpf', 'lcf')\n",
      "[09:00:52] WARNING: ../src/learner.cc:1095: Starting in XGBoost 1.3.0, the default evaluation metric used with the objective 'binary:logistic' was changed from 'error' to 'logloss'. Explicitly set eval_metric if you'd like to restore the old behavior.\n"
     ]
    },
    {
     "name": "stderr",
     "output_type": "stream",
     "text": [
      "/home/tduricic/.local/lib/python3.8/site-packages/xgboost/data.py:112: UserWarning: Use subset (sliced data) of np.ndarray is not recommended because it will generate extra copies and increase memory consumption\n",
      "  warnings.warn(\n"
     ]
    },
    {
     "name": "stdout",
     "output_type": "stream",
     "text": [
      "(0.8006601268009738, 0.8006393214330928, 0.8006294455739991, None)\n",
      "Other features - dataset_id:  8 , split_seed:  3 , feature_combination:  (None, None)\n",
      "Other features - dataset_id:  8 , split_seed:  3 , feature_combination:  (None, 'lcf')\n",
      "[09:01:45] WARNING: ../src/learner.cc:1095: Starting in XGBoost 1.3.0, the default evaluation metric used with the objective 'binary:logistic' was changed from 'error' to 'logloss'. Explicitly set eval_metric if you'd like to restore the old behavior.\n"
     ]
    },
    {
     "name": "stderr",
     "output_type": "stream",
     "text": [
      "/home/tduricic/.local/lib/python3.8/site-packages/xgboost/data.py:112: UserWarning: Use subset (sliced data) of np.ndarray is not recommended because it will generate extra copies and increase memory consumption\n",
      "  warnings.warn(\n"
     ]
    },
    {
     "name": "stdout",
     "output_type": "stream",
     "text": [
      "(0.769173667457677, 0.768578301050766, 0.7684851822512306, None)\n",
      "Other features - dataset_id:  8 , split_seed:  3 , feature_combination:  ('lpf', None)\n",
      "[09:02:33] WARNING: ../src/learner.cc:1095: Starting in XGBoost 1.3.0, the default evaluation metric used with the objective 'binary:logistic' was changed from 'error' to 'logloss'. Explicitly set eval_metric if you'd like to restore the old behavior.\n"
     ]
    },
    {
     "name": "stderr",
     "output_type": "stream",
     "text": [
      "/home/tduricic/.local/lib/python3.8/site-packages/xgboost/data.py:112: UserWarning: Use subset (sliced data) of np.ndarray is not recommended because it will generate extra copies and increase memory consumption\n",
      "  warnings.warn(\n"
     ]
    },
    {
     "name": "stdout",
     "output_type": "stream",
     "text": [
      "(0.7848212547088761, 0.7844980377262945, 0.7844591151067895, None)\n",
      "Other features - dataset_id:  8 , split_seed:  3 , feature_combination:  ('lpf', 'lcf')\n",
      "[09:03:12] WARNING: ../src/learner.cc:1095: Starting in XGBoost 1.3.0, the default evaluation metric used with the objective 'binary:logistic' was changed from 'error' to 'logloss'. Explicitly set eval_metric if you'd like to restore the old behavior.\n"
     ]
    },
    {
     "name": "stderr",
     "output_type": "stream",
     "text": [
      "/home/tduricic/.local/lib/python3.8/site-packages/xgboost/data.py:112: UserWarning: Use subset (sliced data) of np.ndarray is not recommended because it will generate extra copies and increase memory consumption\n",
      "  warnings.warn(\n"
     ]
    },
    {
     "name": "stdout",
     "output_type": "stream",
     "text": [
      "(0.8024970184602487, 0.8022218002278769, 0.8021944253165424, None)\n",
      "Other features - dataset_id:  8 , split_seed:  4 , feature_combination:  (None, None)\n",
      "Other features - dataset_id:  8 , split_seed:  4 , feature_combination:  (None, 'lcf')\n",
      "[09:04:06] WARNING: ../src/learner.cc:1095: Starting in XGBoost 1.3.0, the default evaluation metric used with the objective 'binary:logistic' was changed from 'error' to 'logloss'. Explicitly set eval_metric if you'd like to restore the old behavior.\n"
     ]
    },
    {
     "name": "stderr",
     "output_type": "stream",
     "text": [
      "/home/tduricic/.local/lib/python3.8/site-packages/xgboost/data.py:112: UserWarning: Use subset (sliced data) of np.ndarray is not recommended because it will generate extra copies and increase memory consumption\n",
      "  warnings.warn(\n"
     ]
    },
    {
     "name": "stdout",
     "output_type": "stream",
     "text": [
      "(0.7693737372971745, 0.7688947968097227, 0.7688282784742196, None)\n",
      "Other features - dataset_id:  8 , split_seed:  4 , feature_combination:  ('lpf', None)\n",
      "[09:04:53] WARNING: ../src/learner.cc:1095: Starting in XGBoost 1.3.0, the default evaluation metric used with the objective 'binary:logistic' was changed from 'error' to 'logloss'. Explicitly set eval_metric if you'd like to restore the old behavior.\n"
     ]
    },
    {
     "name": "stderr",
     "output_type": "stream",
     "text": [
      "/home/tduricic/.local/lib/python3.8/site-packages/xgboost/data.py:112: UserWarning: Use subset (sliced data) of np.ndarray is not recommended because it will generate extra copies and increase memory consumption\n",
      "  warnings.warn(\n"
     ]
    },
    {
     "name": "stdout",
     "output_type": "stream",
     "text": [
      "(0.7867748168626839, 0.7865552601595138, 0.7865351201959574, None)\n",
      "Other features - dataset_id:  8 , split_seed:  4 , feature_combination:  ('lpf', 'lcf')\n",
      "[09:05:33] WARNING: ../src/learner.cc:1095: Starting in XGBoost 1.3.0, the default evaluation metric used with the objective 'binary:logistic' was changed from 'error' to 'logloss'. Explicitly set eval_metric if you'd like to restore the old behavior.\n"
     ]
    },
    {
     "name": "stderr",
     "output_type": "stream",
     "text": [
      "/home/tduricic/.local/lib/python3.8/site-packages/xgboost/data.py:112: UserWarning: Use subset (sliced data) of np.ndarray is not recommended because it will generate extra copies and increase memory consumption\n",
      "  warnings.warn(\n"
     ]
    },
    {
     "name": "stdout",
     "output_type": "stream",
     "text": [
      "(0.8012922435484903, 0.8012406633751108, 0.8012404483510303, None)\n",
      "Other features - dataset_id:  9 , split_seed:  0 , feature_combination:  (None, None)\n",
      "Other features - dataset_id:  9 , split_seed:  0 , feature_combination:  (None, 'lcf')\n",
      "[09:06:29] WARNING: ../src/learner.cc:1095: Starting in XGBoost 1.3.0, the default evaluation metric used with the objective 'binary:logistic' was changed from 'error' to 'logloss'. Explicitly set eval_metric if you'd like to restore the old behavior.\n"
     ]
    },
    {
     "name": "stderr",
     "output_type": "stream",
     "text": [
      "/home/tduricic/.local/lib/python3.8/site-packages/xgboost/data.py:112: UserWarning: Use subset (sliced data) of np.ndarray is not recommended because it will generate extra copies and increase memory consumption\n",
      "  warnings.warn(\n"
     ]
    },
    {
     "name": "stdout",
     "output_type": "stream",
     "text": [
      "(0.7709247991431505, 0.7700341815419673, 0.7699473609586504, None)\n",
      "Other features - dataset_id:  9 , split_seed:  0 , feature_combination:  ('lpf', None)\n",
      "[09:07:16] WARNING: ../src/learner.cc:1095: Starting in XGBoost 1.3.0, the default evaluation metric used with the objective 'binary:logistic' was changed from 'error' to 'logloss'. Explicitly set eval_metric if you'd like to restore the old behavior.\n"
     ]
    },
    {
     "name": "stderr",
     "output_type": "stream",
     "text": [
      "/home/tduricic/.local/lib/python3.8/site-packages/xgboost/data.py:112: UserWarning: Use subset (sliced data) of np.ndarray is not recommended because it will generate extra copies and increase memory consumption\n",
      "  warnings.warn(\n"
     ]
    },
    {
     "name": "stdout",
     "output_type": "stream",
     "text": [
      "(0.7836317275122641, 0.7831371059627801, 0.7831093269508693, None)\n",
      "Other features - dataset_id:  9 , split_seed:  0 , feature_combination:  ('lpf', 'lcf')\n",
      "[09:07:55] WARNING: ../src/learner.cc:1095: Starting in XGBoost 1.3.0, the default evaluation metric used with the objective 'binary:logistic' was changed from 'error' to 'logloss'. Explicitly set eval_metric if you'd like to restore the old behavior.\n"
     ]
    },
    {
     "name": "stderr",
     "output_type": "stream",
     "text": [
      "/home/tduricic/.local/lib/python3.8/site-packages/xgboost/data.py:112: UserWarning: Use subset (sliced data) of np.ndarray is not recommended because it will generate extra copies and increase memory consumption\n",
      "  warnings.warn(\n"
     ]
    },
    {
     "name": "stdout",
     "output_type": "stream",
     "text": [
      "(0.8008627450735667, 0.8006076718571972, 0.8006055842733436, None)\n",
      "Other features - dataset_id:  9 , split_seed:  1 , feature_combination:  (None, None)\n",
      "Other features - dataset_id:  9 , split_seed:  1 , feature_combination:  (None, 'lcf')\n",
      "[09:08:48] WARNING: ../src/learner.cc:1095: Starting in XGBoost 1.3.0, the default evaluation metric used with the objective 'binary:logistic' was changed from 'error' to 'logloss'. Explicitly set eval_metric if you'd like to restore the old behavior.\n"
     ]
    },
    {
     "name": "stderr",
     "output_type": "stream",
     "text": [
      "/home/tduricic/.local/lib/python3.8/site-packages/xgboost/data.py:112: UserWarning: Use subset (sliced data) of np.ndarray is not recommended because it will generate extra copies and increase memory consumption\n",
      "  warnings.warn(\n"
     ]
    },
    {
     "name": "stdout",
     "output_type": "stream",
     "text": [
      "(0.7668860401284946, 0.7664261298898595, 0.7663701743871126, None)\n",
      "Other features - dataset_id:  9 , split_seed:  1 , feature_combination:  ('lpf', None)\n",
      "[09:09:35] WARNING: ../src/learner.cc:1095: Starting in XGBoost 1.3.0, the default evaluation metric used with the objective 'binary:logistic' was changed from 'error' to 'logloss'. Explicitly set eval_metric if you'd like to restore the old behavior.\n"
     ]
    },
    {
     "name": "stderr",
     "output_type": "stream",
     "text": [
      "/home/tduricic/.local/lib/python3.8/site-packages/xgboost/data.py:112: UserWarning: Use subset (sliced data) of np.ndarray is not recommended because it will generate extra copies and increase memory consumption\n",
      "  warnings.warn(\n"
     ]
    },
    {
     "name": "stdout",
     "output_type": "stream",
     "text": [
      "(0.779921122084149, 0.7795290543106722, 0.7794887235993943, None)\n",
      "Other features - dataset_id:  9 , split_seed:  1 , feature_combination:  ('lpf', 'lcf')\n",
      "[09:10:14] WARNING: ../src/learner.cc:1095: Starting in XGBoost 1.3.0, the default evaluation metric used with the objective 'binary:logistic' was changed from 'error' to 'logloss'. Explicitly set eval_metric if you'd like to restore the old behavior.\n"
     ]
    },
    {
     "name": "stderr",
     "output_type": "stream",
     "text": [
      "/home/tduricic/.local/lib/python3.8/site-packages/xgboost/data.py:112: UserWarning: Use subset (sliced data) of np.ndarray is not recommended because it will generate extra copies and increase memory consumption\n",
      "  warnings.warn(\n"
     ]
    },
    {
     "name": "stdout",
     "output_type": "stream",
     "text": [
      "(0.7963256114597395, 0.7962083808076972, 0.7962049065840924, None)\n",
      "Other features - dataset_id:  9 , split_seed:  2 , feature_combination:  (None, None)\n",
      "Other features - dataset_id:  9 , split_seed:  2 , feature_combination:  (None, 'lcf')\n",
      "[09:11:06] WARNING: ../src/learner.cc:1095: Starting in XGBoost 1.3.0, the default evaluation metric used with the objective 'binary:logistic' was changed from 'error' to 'logloss'. Explicitly set eval_metric if you'd like to restore the old behavior.\n"
     ]
    },
    {
     "name": "stderr",
     "output_type": "stream",
     "text": [
      "/home/tduricic/.local/lib/python3.8/site-packages/xgboost/data.py:112: UserWarning: Use subset (sliced data) of np.ndarray is not recommended because it will generate extra copies and increase memory consumption\n",
      "  warnings.warn(\n"
     ]
    },
    {
     "name": "stdout",
     "output_type": "stream",
     "text": [
      "(0.7656384401399846, 0.7652867451576149, 0.7651954306662225, None)\n",
      "Other features - dataset_id:  9 , split_seed:  2 , feature_combination:  ('lpf', None)\n",
      "[09:11:53] WARNING: ../src/learner.cc:1095: Starting in XGBoost 1.3.0, the default evaluation metric used with the objective 'binary:logistic' was changed from 'error' to 'logloss'. Explicitly set eval_metric if you'd like to restore the old behavior.\n"
     ]
    },
    {
     "name": "stderr",
     "output_type": "stream",
     "text": [
      "/home/tduricic/.local/lib/python3.8/site-packages/xgboost/data.py:112: UserWarning: Use subset (sliced data) of np.ndarray is not recommended because it will generate extra copies and increase memory consumption\n",
      "  warnings.warn(\n"
     ]
    },
    {
     "name": "stdout",
     "output_type": "stream",
     "text": [
      "(0.7840311835310794, 0.7838333966324851, 0.7837870167024282, None)\n",
      "Other features - dataset_id:  9 , split_seed:  2 , feature_combination:  ('lpf', 'lcf')\n",
      "[09:12:32] WARNING: ../src/learner.cc:1095: Starting in XGBoost 1.3.0, the default evaluation metric used with the objective 'binary:logistic' was changed from 'error' to 'logloss'. Explicitly set eval_metric if you'd like to restore the old behavior.\n"
     ]
    },
    {
     "name": "stderr",
     "output_type": "stream",
     "text": [
      "/home/tduricic/.local/lib/python3.8/site-packages/xgboost/data.py:112: UserWarning: Use subset (sliced data) of np.ndarray is not recommended because it will generate extra copies and increase memory consumption\n",
      "  warnings.warn(\n"
     ]
    },
    {
     "name": "stdout",
     "output_type": "stream",
     "text": [
      "(0.8036422833083152, 0.8035510824154957, 0.8035312826882564, None)\n",
      "Other features - dataset_id:  9 , split_seed:  3 , feature_combination:  (None, None)\n",
      "Other features - dataset_id:  9 , split_seed:  3 , feature_combination:  (None, 'lcf')\n",
      "[09:13:23] WARNING: ../src/learner.cc:1095: Starting in XGBoost 1.3.0, the default evaluation metric used with the objective 'binary:logistic' was changed from 'error' to 'logloss'. Explicitly set eval_metric if you'd like to restore the old behavior.\n"
     ]
    },
    {
     "name": "stderr",
     "output_type": "stream",
     "text": [
      "/home/tduricic/.local/lib/python3.8/site-packages/xgboost/data.py:112: UserWarning: Use subset (sliced data) of np.ndarray is not recommended because it will generate extra copies and increase memory consumption\n",
      "  warnings.warn(\n"
     ]
    },
    {
     "name": "stdout",
     "output_type": "stream",
     "text": [
      "(0.7669036958284582, 0.7666160273452336, 0.7665357054962576, None)\n",
      "Other features - dataset_id:  9 , split_seed:  3 , feature_combination:  ('lpf', None)\n",
      "[09:14:10] WARNING: ../src/learner.cc:1095: Starting in XGBoost 1.3.0, the default evaluation metric used with the objective 'binary:logistic' was changed from 'error' to 'logloss'. Explicitly set eval_metric if you'd like to restore the old behavior.\n"
     ]
    },
    {
     "name": "stderr",
     "output_type": "stream",
     "text": [
      "/home/tduricic/.local/lib/python3.8/site-packages/xgboost/data.py:112: UserWarning: Use subset (sliced data) of np.ndarray is not recommended because it will generate extra copies and increase memory consumption\n",
      "  warnings.warn(\n"
     ]
    },
    {
     "name": "stdout",
     "output_type": "stream",
     "text": [
      "(0.787248160783438, 0.7870933029497404, 0.7870537998132846, None)\n",
      "Other features - dataset_id:  9 , split_seed:  3 , feature_combination:  ('lpf', 'lcf')\n",
      "[09:14:48] WARNING: ../src/learner.cc:1095: Starting in XGBoost 1.3.0, the default evaluation metric used with the objective 'binary:logistic' was changed from 'error' to 'logloss'. Explicitly set eval_metric if you'd like to restore the old behavior.\n"
     ]
    },
    {
     "name": "stderr",
     "output_type": "stream",
     "text": [
      "/home/tduricic/.local/lib/python3.8/site-packages/xgboost/data.py:112: UserWarning: Use subset (sliced data) of np.ndarray is not recommended because it will generate extra copies and increase memory consumption\n",
      "  warnings.warn(\n"
     ]
    },
    {
     "name": "stdout",
     "output_type": "stream",
     "text": [
      "(0.8022658253146646, 0.8022218002278769, 0.8022093732042294, None)\n",
      "Other features - dataset_id:  9 , split_seed:  4 , feature_combination:  (None, None)\n",
      "Other features - dataset_id:  9 , split_seed:  4 , feature_combination:  (None, 'lcf')\n",
      "[09:15:40] WARNING: ../src/learner.cc:1095: Starting in XGBoost 1.3.0, the default evaluation metric used with the objective 'binary:logistic' was changed from 'error' to 'logloss'. Explicitly set eval_metric if you'd like to restore the old behavior.\n"
     ]
    },
    {
     "name": "stderr",
     "output_type": "stream",
     "text": [
      "/home/tduricic/.local/lib/python3.8/site-packages/xgboost/data.py:112: UserWarning: Use subset (sliced data) of np.ndarray is not recommended because it will generate extra copies and increase memory consumption\n",
      "  warnings.warn(\n"
     ]
    },
    {
     "name": "stdout",
     "output_type": "stream",
     "text": [
      "(0.7722024760733112, 0.7716483099126472, 0.7715273718455722, None)\n",
      "Other features - dataset_id:  9 , split_seed:  4 , feature_combination:  ('lpf', None)\n",
      "[09:16:26] WARNING: ../src/learner.cc:1095: Starting in XGBoost 1.3.0, the default evaluation metric used with the objective 'binary:logistic' was changed from 'error' to 'logloss'. Explicitly set eval_metric if you'd like to restore the old behavior.\n"
     ]
    },
    {
     "name": "stderr",
     "output_type": "stream",
     "text": [
      "/home/tduricic/.local/lib/python3.8/site-packages/xgboost/data.py:112: UserWarning: Use subset (sliced data) of np.ndarray is not recommended because it will generate extra copies and increase memory consumption\n",
      "  warnings.warn(\n"
     ]
    },
    {
     "name": "stdout",
     "output_type": "stream",
     "text": [
      "(0.7862904667960531, 0.7861121660969743, 0.786076516285066, None)\n",
      "Other features - dataset_id:  9 , split_seed:  4 , feature_combination:  ('lpf', 'lcf')\n",
      "[09:17:04] WARNING: ../src/learner.cc:1095: Starting in XGBoost 1.3.0, the default evaluation metric used with the objective 'binary:logistic' was changed from 'error' to 'logloss'. Explicitly set eval_metric if you'd like to restore the old behavior.\n"
     ]
    },
    {
     "name": "stderr",
     "output_type": "stream",
     "text": [
      "/home/tduricic/.local/lib/python3.8/site-packages/xgboost/data.py:112: UserWarning: Use subset (sliced data) of np.ndarray is not recommended because it will generate extra copies and increase memory consumption\n",
      "  warnings.warn(\n"
     ]
    },
    {
     "name": "stdout",
     "output_type": "stream",
     "text": [
      "(0.7982533080880484, 0.7982023040891252, 0.7981925402157751, None)\n"
     ]
    }
   ],
   "source": [
    "evaluation_results = []\n",
    "for dataset_id in range(10):\n",
    "    # Load datasets\n",
    "    listening_profile_features_df = pd.read_csv('dataframes/links_dfs/' + str(dataset_id) + '/links_df_listening_profile_features.csv', index_col=0)\n",
    "    listening_profile_features_df = listening_profile_features_df.sample(random_state=dataset_id, frac=1).reset_index(drop=True)\n",
    "    listening_characteristics_features_df = pd.read_csv('dataframes/links_dfs/' + str(dataset_id) + '/links_df_listening_characteristics_features.csv', index_col=0)\n",
    "    listening_characteristics_features_df = listening_characteristics_features_df.sample(random_state=dataset_id, frac=1).reset_index(drop=True)\n",
    "    # Map dataframes by attribute types\n",
    "    feature_dict = {\n",
    "        'lpf':listening_profile_features_df,\n",
    "        'lcf':listening_characteristics_features_df\n",
    "    }\n",
    "    for split_seed in range(5):\n",
    "        for lpf in [None, 'lpf']:\n",
    "            for lcf in [None, 'lcf']:\n",
    "                feature_combination = (lpf, lcf)\n",
    "                print('Other features - dataset_id: ', dataset_id, ', split_seed: ', split_seed, ', feature_combination: ', feature_combination)\n",
    "                if feature_combination == (None,None):\n",
    "                    continue\n",
    "                dfs_to_combine = []\n",
    "                for x in (lpf, lcf):\n",
    "                    if x is not None:\n",
    "                        dfs_to_combine.append(feature_dict[x])\n",
    "                input_df = pd.concat(dfs_to_combine, axis=1)\n",
    "                input_df = input_df.loc[:,~input_df.columns.duplicated()]\n",
    "                                \n",
    "                X_train, X_test, y_train, y_test = train_test_split(input_df.drop(columns=['label']), input_df['label'], test_size=0.2, random_state=split_seed)\n",
    "                xgb = XGBClassifier(n_estimators=100, use_label_encoder=False)\n",
    "                user_ids_test = pd.DataFrame(X_test[['user1_user_id', 'user2_user_id']])\n",
    "                X_train = X_train.drop(columns=['user1_user_id', 'user2_user_id'])\n",
    "                X_test = X_test.drop(columns=['user1_user_id', 'user2_user_id'])\n",
    "                xgb.fit(X_train, y_train)\n",
    "                y_pred = xgb.predict(X_test)\n",
    "                predictions = [round(value) for value in y_pred]\n",
    "                # evaluate predictions\n",
    "                report = classification_report(y_test, predictions)\n",
    "                prfs_macro = precision_recall_fscore_support(y_test, predictions, average='macro')\n",
    "                prfs_micro = precision_recall_fscore_support(y_test, predictions, average='micro')\n",
    "                prfs_weighted = precision_recall_fscore_support(y_test, predictions, average='weighted')\n",
    "                print(prfs_weighted)\n",
    "                feature_importances = sorted(list(zip(xgb.feature_importances_, list(X_train.columns))),  key=lambda x: x[0], reverse=True)\n",
    "                evaluation_result = {\n",
    "                    'dataset_id': dataset_id,\n",
    "                    'split_seed': split_seed,\n",
    "                    'listening_profile_features': False if lpf is None else True,\n",
    "                    'listening_characteristics_features': False if lcf is None else True,\n",
    "                    'report': report,\n",
    "                    'xgb_feature_importances': feature_importances,\n",
    "                    'user_ids_test': user_ids_test,\n",
    "                    'y_test': y_test,\n",
    "                    'y_pred': y_pred,\n",
    "                    'prfs_macro': prfs_macro,\n",
    "                    'prfs_micro': prfs_micro,\n",
    "                    'prfs_weighted': prfs_weighted\n",
    "                }\n",
    "                evaluation_results.append(evaluation_result)"
   ]
  },
  {
   "cell_type": "code",
   "execution_count": 6,
   "metadata": {},
   "outputs": [
    {
     "name": "stdout",
     "output_type": "stream",
     "text": [
      "[23:48:37] WARNING: ../src/learner.cc:1095: Starting in XGBoost 1.3.0, the default evaluation metric used with the objective 'binary:logistic' was changed from 'error' to 'logloss'. Explicitly set eval_metric if you'd like to restore the old behavior.\n"
     ]
    },
    {
     "name": "stderr",
     "output_type": "stream",
     "text": [
      "/home/tduricic/.local/lib/python3.8/site-packages/xgboost/data.py:112: UserWarning: Use subset (sliced data) of np.ndarray is not recommended because it will generate extra copies and increase memory consumption\n",
      "  warnings.warn(\n"
     ]
    },
    {
     "name": "stdout",
     "output_type": "stream",
     "text": [
      "1\n",
      "[23:49:26] WARNING: ../src/learner.cc:1095: Starting in XGBoost 1.3.0, the default evaluation metric used with the objective 'binary:logistic' was changed from 'error' to 'logloss'. Explicitly set eval_metric if you'd like to restore the old behavior.\n"
     ]
    },
    {
     "name": "stderr",
     "output_type": "stream",
     "text": [
      "/home/tduricic/.local/lib/python3.8/site-packages/xgboost/data.py:112: UserWarning: Use subset (sliced data) of np.ndarray is not recommended because it will generate extra copies and increase memory consumption\n",
      "  warnings.warn(\n"
     ]
    },
    {
     "name": "stdout",
     "output_type": "stream",
     "text": [
      "2\n",
      "[23:50:11] WARNING: ../src/learner.cc:1095: Starting in XGBoost 1.3.0, the default evaluation metric used with the objective 'binary:logistic' was changed from 'error' to 'logloss'. Explicitly set eval_metric if you'd like to restore the old behavior.\n"
     ]
    },
    {
     "name": "stderr",
     "output_type": "stream",
     "text": [
      "/home/tduricic/.local/lib/python3.8/site-packages/xgboost/data.py:112: UserWarning: Use subset (sliced data) of np.ndarray is not recommended because it will generate extra copies and increase memory consumption\n",
      "  warnings.warn(\n"
     ]
    },
    {
     "name": "stdout",
     "output_type": "stream",
     "text": [
      "3\n",
      "[23:51:05] WARNING: ../src/learner.cc:1095: Starting in XGBoost 1.3.0, the default evaluation metric used with the objective 'binary:logistic' was changed from 'error' to 'logloss'. Explicitly set eval_metric if you'd like to restore the old behavior.\n"
     ]
    },
    {
     "name": "stderr",
     "output_type": "stream",
     "text": [
      "/home/tduricic/.local/lib/python3.8/site-packages/xgboost/data.py:112: UserWarning: Use subset (sliced data) of np.ndarray is not recommended because it will generate extra copies and increase memory consumption\n",
      "  warnings.warn(\n"
     ]
    },
    {
     "name": "stdout",
     "output_type": "stream",
     "text": [
      "4\n",
      "[23:51:25] WARNING: ../src/learner.cc:1095: Starting in XGBoost 1.3.0, the default evaluation metric used with the objective 'binary:logistic' was changed from 'error' to 'logloss'. Explicitly set eval_metric if you'd like to restore the old behavior.\n"
     ]
    },
    {
     "name": "stderr",
     "output_type": "stream",
     "text": [
      "/home/tduricic/.local/lib/python3.8/site-packages/xgboost/data.py:112: UserWarning: Use subset (sliced data) of np.ndarray is not recommended because it will generate extra copies and increase memory consumption\n",
      "  warnings.warn(\n"
     ]
    },
    {
     "name": "stdout",
     "output_type": "stream",
     "text": [
      "5\n",
      "[23:52:09] WARNING: ../src/learner.cc:1095: Starting in XGBoost 1.3.0, the default evaluation metric used with the objective 'binary:logistic' was changed from 'error' to 'logloss'. Explicitly set eval_metric if you'd like to restore the old behavior.\n"
     ]
    },
    {
     "name": "stderr",
     "output_type": "stream",
     "text": [
      "/home/tduricic/.local/lib/python3.8/site-packages/xgboost/data.py:112: UserWarning: Use subset (sliced data) of np.ndarray is not recommended because it will generate extra copies and increase memory consumption\n",
      "  warnings.warn(\n"
     ]
    },
    {
     "name": "stdout",
     "output_type": "stream",
     "text": [
      "6\n",
      "[23:52:49] WARNING: ../src/learner.cc:1095: Starting in XGBoost 1.3.0, the default evaluation metric used with the objective 'binary:logistic' was changed from 'error' to 'logloss'. Explicitly set eval_metric if you'd like to restore the old behavior.\n"
     ]
    },
    {
     "name": "stderr",
     "output_type": "stream",
     "text": [
      "/home/tduricic/.local/lib/python3.8/site-packages/xgboost/data.py:112: UserWarning: Use subset (sliced data) of np.ndarray is not recommended because it will generate extra copies and increase memory consumption\n",
      "  warnings.warn(\n"
     ]
    },
    {
     "name": "stdout",
     "output_type": "stream",
     "text": [
      "7\n",
      "[23:53:39] WARNING: ../src/learner.cc:1095: Starting in XGBoost 1.3.0, the default evaluation metric used with the objective 'binary:logistic' was changed from 'error' to 'logloss'. Explicitly set eval_metric if you'd like to restore the old behavior.\n"
     ]
    },
    {
     "name": "stderr",
     "output_type": "stream",
     "text": [
      "/home/tduricic/.local/lib/python3.8/site-packages/xgboost/data.py:112: UserWarning: Use subset (sliced data) of np.ndarray is not recommended because it will generate extra copies and increase memory consumption\n",
      "  warnings.warn(\n"
     ]
    },
    {
     "name": "stdout",
     "output_type": "stream",
     "text": [
      "8\n",
      "[23:54:28] WARNING: ../src/learner.cc:1095: Starting in XGBoost 1.3.0, the default evaluation metric used with the objective 'binary:logistic' was changed from 'error' to 'logloss'. Explicitly set eval_metric if you'd like to restore the old behavior.\n"
     ]
    },
    {
     "name": "stderr",
     "output_type": "stream",
     "text": [
      "/home/tduricic/.local/lib/python3.8/site-packages/xgboost/data.py:112: UserWarning: Use subset (sliced data) of np.ndarray is not recommended because it will generate extra copies and increase memory consumption\n",
      "  warnings.warn(\n"
     ]
    },
    {
     "name": "stdout",
     "output_type": "stream",
     "text": [
      "9\n",
      "[23:55:12] WARNING: ../src/learner.cc:1095: Starting in XGBoost 1.3.0, the default evaluation metric used with the objective 'binary:logistic' was changed from 'error' to 'logloss'. Explicitly set eval_metric if you'd like to restore the old behavior.\n"
     ]
    },
    {
     "name": "stderr",
     "output_type": "stream",
     "text": [
      "/home/tduricic/.local/lib/python3.8/site-packages/xgboost/data.py:112: UserWarning: Use subset (sliced data) of np.ndarray is not recommended because it will generate extra copies and increase memory consumption\n",
      "  warnings.warn(\n"
     ]
    },
    {
     "name": "stdout",
     "output_type": "stream",
     "text": [
      "10\n",
      "[23:56:06] WARNING: ../src/learner.cc:1095: Starting in XGBoost 1.3.0, the default evaluation metric used with the objective 'binary:logistic' was changed from 'error' to 'logloss'. Explicitly set eval_metric if you'd like to restore the old behavior.\n"
     ]
    },
    {
     "name": "stderr",
     "output_type": "stream",
     "text": [
      "/home/tduricic/.local/lib/python3.8/site-packages/xgboost/data.py:112: UserWarning: Use subset (sliced data) of np.ndarray is not recommended because it will generate extra copies and increase memory consumption\n",
      "  warnings.warn(\n"
     ]
    },
    {
     "name": "stdout",
     "output_type": "stream",
     "text": [
      "11\n",
      "[23:56:26] WARNING: ../src/learner.cc:1095: Starting in XGBoost 1.3.0, the default evaluation metric used with the objective 'binary:logistic' was changed from 'error' to 'logloss'. Explicitly set eval_metric if you'd like to restore the old behavior.\n"
     ]
    },
    {
     "name": "stderr",
     "output_type": "stream",
     "text": [
      "/home/tduricic/.local/lib/python3.8/site-packages/xgboost/data.py:112: UserWarning: Use subset (sliced data) of np.ndarray is not recommended because it will generate extra copies and increase memory consumption\n",
      "  warnings.warn(\n"
     ]
    },
    {
     "name": "stdout",
     "output_type": "stream",
     "text": [
      "12\n",
      "[23:57:09] WARNING: ../src/learner.cc:1095: Starting in XGBoost 1.3.0, the default evaluation metric used with the objective 'binary:logistic' was changed from 'error' to 'logloss'. Explicitly set eval_metric if you'd like to restore the old behavior.\n"
     ]
    },
    {
     "name": "stderr",
     "output_type": "stream",
     "text": [
      "/home/tduricic/.local/lib/python3.8/site-packages/xgboost/data.py:112: UserWarning: Use subset (sliced data) of np.ndarray is not recommended because it will generate extra copies and increase memory consumption\n",
      "  warnings.warn(\n"
     ]
    },
    {
     "name": "stdout",
     "output_type": "stream",
     "text": [
      "13\n",
      "[23:57:49] WARNING: ../src/learner.cc:1095: Starting in XGBoost 1.3.0, the default evaluation metric used with the objective 'binary:logistic' was changed from 'error' to 'logloss'. Explicitly set eval_metric if you'd like to restore the old behavior.\n"
     ]
    },
    {
     "name": "stderr",
     "output_type": "stream",
     "text": [
      "/home/tduricic/.local/lib/python3.8/site-packages/xgboost/data.py:112: UserWarning: Use subset (sliced data) of np.ndarray is not recommended because it will generate extra copies and increase memory consumption\n",
      "  warnings.warn(\n"
     ]
    },
    {
     "name": "stdout",
     "output_type": "stream",
     "text": [
      "14\n",
      "[23:58:43] WARNING: ../src/learner.cc:1095: Starting in XGBoost 1.3.0, the default evaluation metric used with the objective 'binary:logistic' was changed from 'error' to 'logloss'. Explicitly set eval_metric if you'd like to restore the old behavior.\n"
     ]
    },
    {
     "name": "stderr",
     "output_type": "stream",
     "text": [
      "/home/tduricic/.local/lib/python3.8/site-packages/xgboost/data.py:112: UserWarning: Use subset (sliced data) of np.ndarray is not recommended because it will generate extra copies and increase memory consumption\n",
      "  warnings.warn(\n"
     ]
    },
    {
     "name": "stdout",
     "output_type": "stream",
     "text": [
      "15\n",
      "[23:59:32] WARNING: ../src/learner.cc:1095: Starting in XGBoost 1.3.0, the default evaluation metric used with the objective 'binary:logistic' was changed from 'error' to 'logloss'. Explicitly set eval_metric if you'd like to restore the old behavior.\n"
     ]
    },
    {
     "name": "stderr",
     "output_type": "stream",
     "text": [
      "/home/tduricic/.local/lib/python3.8/site-packages/xgboost/data.py:112: UserWarning: Use subset (sliced data) of np.ndarray is not recommended because it will generate extra copies and increase memory consumption\n",
      "  warnings.warn(\n"
     ]
    },
    {
     "name": "stdout",
     "output_type": "stream",
     "text": [
      "16\n",
      "[00:00:17] WARNING: ../src/learner.cc:1095: Starting in XGBoost 1.3.0, the default evaluation metric used with the objective 'binary:logistic' was changed from 'error' to 'logloss'. Explicitly set eval_metric if you'd like to restore the old behavior.\n"
     ]
    },
    {
     "name": "stderr",
     "output_type": "stream",
     "text": [
      "/home/tduricic/.local/lib/python3.8/site-packages/xgboost/data.py:112: UserWarning: Use subset (sliced data) of np.ndarray is not recommended because it will generate extra copies and increase memory consumption\n",
      "  warnings.warn(\n"
     ]
    },
    {
     "name": "stdout",
     "output_type": "stream",
     "text": [
      "17\n",
      "[00:01:12] WARNING: ../src/learner.cc:1095: Starting in XGBoost 1.3.0, the default evaluation metric used with the objective 'binary:logistic' was changed from 'error' to 'logloss'. Explicitly set eval_metric if you'd like to restore the old behavior.\n"
     ]
    },
    {
     "name": "stderr",
     "output_type": "stream",
     "text": [
      "/home/tduricic/.local/lib/python3.8/site-packages/xgboost/data.py:112: UserWarning: Use subset (sliced data) of np.ndarray is not recommended because it will generate extra copies and increase memory consumption\n",
      "  warnings.warn(\n"
     ]
    },
    {
     "name": "stdout",
     "output_type": "stream",
     "text": [
      "18\n",
      "[00:01:31] WARNING: ../src/learner.cc:1095: Starting in XGBoost 1.3.0, the default evaluation metric used with the objective 'binary:logistic' was changed from 'error' to 'logloss'. Explicitly set eval_metric if you'd like to restore the old behavior.\n"
     ]
    },
    {
     "name": "stderr",
     "output_type": "stream",
     "text": [
      "/home/tduricic/.local/lib/python3.8/site-packages/xgboost/data.py:112: UserWarning: Use subset (sliced data) of np.ndarray is not recommended because it will generate extra copies and increase memory consumption\n",
      "  warnings.warn(\n"
     ]
    },
    {
     "name": "stdout",
     "output_type": "stream",
     "text": [
      "19\n",
      "[00:02:13] WARNING: ../src/learner.cc:1095: Starting in XGBoost 1.3.0, the default evaluation metric used with the objective 'binary:logistic' was changed from 'error' to 'logloss'. Explicitly set eval_metric if you'd like to restore the old behavior.\n"
     ]
    },
    {
     "name": "stderr",
     "output_type": "stream",
     "text": [
      "/home/tduricic/.local/lib/python3.8/site-packages/xgboost/data.py:112: UserWarning: Use subset (sliced data) of np.ndarray is not recommended because it will generate extra copies and increase memory consumption\n",
      "  warnings.warn(\n"
     ]
    },
    {
     "name": "stdout",
     "output_type": "stream",
     "text": [
      "20\n",
      "[00:02:54] WARNING: ../src/learner.cc:1095: Starting in XGBoost 1.3.0, the default evaluation metric used with the objective 'binary:logistic' was changed from 'error' to 'logloss'. Explicitly set eval_metric if you'd like to restore the old behavior.\n"
     ]
    },
    {
     "name": "stderr",
     "output_type": "stream",
     "text": [
      "/home/tduricic/.local/lib/python3.8/site-packages/xgboost/data.py:112: UserWarning: Use subset (sliced data) of np.ndarray is not recommended because it will generate extra copies and increase memory consumption\n",
      "  warnings.warn(\n"
     ]
    },
    {
     "name": "stdout",
     "output_type": "stream",
     "text": [
      "21\n",
      "[00:03:43] WARNING: ../src/learner.cc:1095: Starting in XGBoost 1.3.0, the default evaluation metric used with the objective 'binary:logistic' was changed from 'error' to 'logloss'. Explicitly set eval_metric if you'd like to restore the old behavior.\n"
     ]
    },
    {
     "name": "stderr",
     "output_type": "stream",
     "text": [
      "/home/tduricic/.local/lib/python3.8/site-packages/xgboost/data.py:112: UserWarning: Use subset (sliced data) of np.ndarray is not recommended because it will generate extra copies and increase memory consumption\n",
      "  warnings.warn(\n"
     ]
    },
    {
     "name": "stdout",
     "output_type": "stream",
     "text": [
      "22\n",
      "[00:04:32] WARNING: ../src/learner.cc:1095: Starting in XGBoost 1.3.0, the default evaluation metric used with the objective 'binary:logistic' was changed from 'error' to 'logloss'. Explicitly set eval_metric if you'd like to restore the old behavior.\n"
     ]
    },
    {
     "name": "stderr",
     "output_type": "stream",
     "text": [
      "/home/tduricic/.local/lib/python3.8/site-packages/xgboost/data.py:112: UserWarning: Use subset (sliced data) of np.ndarray is not recommended because it will generate extra copies and increase memory consumption\n",
      "  warnings.warn(\n"
     ]
    },
    {
     "name": "stdout",
     "output_type": "stream",
     "text": [
      "23\n",
      "[00:05:16] WARNING: ../src/learner.cc:1095: Starting in XGBoost 1.3.0, the default evaluation metric used with the objective 'binary:logistic' was changed from 'error' to 'logloss'. Explicitly set eval_metric if you'd like to restore the old behavior.\n"
     ]
    },
    {
     "name": "stderr",
     "output_type": "stream",
     "text": [
      "/home/tduricic/.local/lib/python3.8/site-packages/xgboost/data.py:112: UserWarning: Use subset (sliced data) of np.ndarray is not recommended because it will generate extra copies and increase memory consumption\n",
      "  warnings.warn(\n"
     ]
    },
    {
     "name": "stdout",
     "output_type": "stream",
     "text": [
      "24\n",
      "[00:06:11] WARNING: ../src/learner.cc:1095: Starting in XGBoost 1.3.0, the default evaluation metric used with the objective 'binary:logistic' was changed from 'error' to 'logloss'. Explicitly set eval_metric if you'd like to restore the old behavior.\n"
     ]
    },
    {
     "name": "stderr",
     "output_type": "stream",
     "text": [
      "/home/tduricic/.local/lib/python3.8/site-packages/xgboost/data.py:112: UserWarning: Use subset (sliced data) of np.ndarray is not recommended because it will generate extra copies and increase memory consumption\n",
      "  warnings.warn(\n"
     ]
    },
    {
     "name": "stdout",
     "output_type": "stream",
     "text": [
      "25\n",
      "[00:06:31] WARNING: ../src/learner.cc:1095: Starting in XGBoost 1.3.0, the default evaluation metric used with the objective 'binary:logistic' was changed from 'error' to 'logloss'. Explicitly set eval_metric if you'd like to restore the old behavior.\n"
     ]
    },
    {
     "name": "stderr",
     "output_type": "stream",
     "text": [
      "/home/tduricic/.local/lib/python3.8/site-packages/xgboost/data.py:112: UserWarning: Use subset (sliced data) of np.ndarray is not recommended because it will generate extra copies and increase memory consumption\n",
      "  warnings.warn(\n"
     ]
    },
    {
     "name": "stdout",
     "output_type": "stream",
     "text": [
      "26\n",
      "[00:07:15] WARNING: ../src/learner.cc:1095: Starting in XGBoost 1.3.0, the default evaluation metric used with the objective 'binary:logistic' was changed from 'error' to 'logloss'. Explicitly set eval_metric if you'd like to restore the old behavior.\n"
     ]
    },
    {
     "name": "stderr",
     "output_type": "stream",
     "text": [
      "/home/tduricic/.local/lib/python3.8/site-packages/xgboost/data.py:112: UserWarning: Use subset (sliced data) of np.ndarray is not recommended because it will generate extra copies and increase memory consumption\n",
      "  warnings.warn(\n"
     ]
    },
    {
     "name": "stdout",
     "output_type": "stream",
     "text": [
      "27\n",
      "[00:07:54] WARNING: ../src/learner.cc:1095: Starting in XGBoost 1.3.0, the default evaluation metric used with the objective 'binary:logistic' was changed from 'error' to 'logloss'. Explicitly set eval_metric if you'd like to restore the old behavior.\n"
     ]
    },
    {
     "name": "stderr",
     "output_type": "stream",
     "text": [
      "/home/tduricic/.local/lib/python3.8/site-packages/xgboost/data.py:112: UserWarning: Use subset (sliced data) of np.ndarray is not recommended because it will generate extra copies and increase memory consumption\n",
      "  warnings.warn(\n"
     ]
    },
    {
     "name": "stdout",
     "output_type": "stream",
     "text": [
      "28\n",
      "[00:08:49] WARNING: ../src/learner.cc:1095: Starting in XGBoost 1.3.0, the default evaluation metric used with the objective 'binary:logistic' was changed from 'error' to 'logloss'. Explicitly set eval_metric if you'd like to restore the old behavior.\n"
     ]
    },
    {
     "name": "stderr",
     "output_type": "stream",
     "text": [
      "/home/tduricic/.local/lib/python3.8/site-packages/xgboost/data.py:112: UserWarning: Use subset (sliced data) of np.ndarray is not recommended because it will generate extra copies and increase memory consumption\n",
      "  warnings.warn(\n"
     ]
    },
    {
     "name": "stdout",
     "output_type": "stream",
     "text": [
      "29\n",
      "[00:09:37] WARNING: ../src/learner.cc:1095: Starting in XGBoost 1.3.0, the default evaluation metric used with the objective 'binary:logistic' was changed from 'error' to 'logloss'. Explicitly set eval_metric if you'd like to restore the old behavior.\n"
     ]
    },
    {
     "name": "stderr",
     "output_type": "stream",
     "text": [
      "/home/tduricic/.local/lib/python3.8/site-packages/xgboost/data.py:112: UserWarning: Use subset (sliced data) of np.ndarray is not recommended because it will generate extra copies and increase memory consumption\n",
      "  warnings.warn(\n"
     ]
    },
    {
     "name": "stdout",
     "output_type": "stream",
     "text": [
      "30\n",
      "[00:10:22] WARNING: ../src/learner.cc:1095: Starting in XGBoost 1.3.0, the default evaluation metric used with the objective 'binary:logistic' was changed from 'error' to 'logloss'. Explicitly set eval_metric if you'd like to restore the old behavior.\n"
     ]
    },
    {
     "name": "stderr",
     "output_type": "stream",
     "text": [
      "/home/tduricic/.local/lib/python3.8/site-packages/xgboost/data.py:112: UserWarning: Use subset (sliced data) of np.ndarray is not recommended because it will generate extra copies and increase memory consumption\n",
      "  warnings.warn(\n"
     ]
    },
    {
     "name": "stdout",
     "output_type": "stream",
     "text": [
      "31\n",
      "[00:11:17] WARNING: ../src/learner.cc:1095: Starting in XGBoost 1.3.0, the default evaluation metric used with the objective 'binary:logistic' was changed from 'error' to 'logloss'. Explicitly set eval_metric if you'd like to restore the old behavior.\n"
     ]
    },
    {
     "name": "stderr",
     "output_type": "stream",
     "text": [
      "/home/tduricic/.local/lib/python3.8/site-packages/xgboost/data.py:112: UserWarning: Use subset (sliced data) of np.ndarray is not recommended because it will generate extra copies and increase memory consumption\n",
      "  warnings.warn(\n"
     ]
    },
    {
     "name": "stdout",
     "output_type": "stream",
     "text": [
      "32\n",
      "[00:11:37] WARNING: ../src/learner.cc:1095: Starting in XGBoost 1.3.0, the default evaluation metric used with the objective 'binary:logistic' was changed from 'error' to 'logloss'. Explicitly set eval_metric if you'd like to restore the old behavior.\n"
     ]
    },
    {
     "name": "stderr",
     "output_type": "stream",
     "text": [
      "/home/tduricic/.local/lib/python3.8/site-packages/xgboost/data.py:112: UserWarning: Use subset (sliced data) of np.ndarray is not recommended because it will generate extra copies and increase memory consumption\n",
      "  warnings.warn(\n"
     ]
    },
    {
     "name": "stdout",
     "output_type": "stream",
     "text": [
      "33\n",
      "[00:12:20] WARNING: ../src/learner.cc:1095: Starting in XGBoost 1.3.0, the default evaluation metric used with the objective 'binary:logistic' was changed from 'error' to 'logloss'. Explicitly set eval_metric if you'd like to restore the old behavior.\n"
     ]
    },
    {
     "name": "stderr",
     "output_type": "stream",
     "text": [
      "/home/tduricic/.local/lib/python3.8/site-packages/xgboost/data.py:112: UserWarning: Use subset (sliced data) of np.ndarray is not recommended because it will generate extra copies and increase memory consumption\n",
      "  warnings.warn(\n"
     ]
    },
    {
     "name": "stdout",
     "output_type": "stream",
     "text": [
      "34\n",
      "[00:13:01] WARNING: ../src/learner.cc:1095: Starting in XGBoost 1.3.0, the default evaluation metric used with the objective 'binary:logistic' was changed from 'error' to 'logloss'. Explicitly set eval_metric if you'd like to restore the old behavior.\n"
     ]
    },
    {
     "name": "stderr",
     "output_type": "stream",
     "text": [
      "/home/tduricic/.local/lib/python3.8/site-packages/xgboost/data.py:112: UserWarning: Use subset (sliced data) of np.ndarray is not recommended because it will generate extra copies and increase memory consumption\n",
      "  warnings.warn(\n"
     ]
    },
    {
     "name": "stdout",
     "output_type": "stream",
     "text": [
      "35\n",
      "[00:13:51] WARNING: ../src/learner.cc:1095: Starting in XGBoost 1.3.0, the default evaluation metric used with the objective 'binary:logistic' was changed from 'error' to 'logloss'. Explicitly set eval_metric if you'd like to restore the old behavior.\n"
     ]
    },
    {
     "name": "stderr",
     "output_type": "stream",
     "text": [
      "/home/tduricic/.local/lib/python3.8/site-packages/xgboost/data.py:112: UserWarning: Use subset (sliced data) of np.ndarray is not recommended because it will generate extra copies and increase memory consumption\n",
      "  warnings.warn(\n"
     ]
    },
    {
     "name": "stdout",
     "output_type": "stream",
     "text": [
      "36\n",
      "[00:14:39] WARNING: ../src/learner.cc:1095: Starting in XGBoost 1.3.0, the default evaluation metric used with the objective 'binary:logistic' was changed from 'error' to 'logloss'. Explicitly set eval_metric if you'd like to restore the old behavior.\n"
     ]
    },
    {
     "name": "stderr",
     "output_type": "stream",
     "text": [
      "/home/tduricic/.local/lib/python3.8/site-packages/xgboost/data.py:112: UserWarning: Use subset (sliced data) of np.ndarray is not recommended because it will generate extra copies and increase memory consumption\n",
      "  warnings.warn(\n"
     ]
    },
    {
     "name": "stdout",
     "output_type": "stream",
     "text": [
      "37\n",
      "[00:15:24] WARNING: ../src/learner.cc:1095: Starting in XGBoost 1.3.0, the default evaluation metric used with the objective 'binary:logistic' was changed from 'error' to 'logloss'. Explicitly set eval_metric if you'd like to restore the old behavior.\n"
     ]
    },
    {
     "name": "stderr",
     "output_type": "stream",
     "text": [
      "/home/tduricic/.local/lib/python3.8/site-packages/xgboost/data.py:112: UserWarning: Use subset (sliced data) of np.ndarray is not recommended because it will generate extra copies and increase memory consumption\n",
      "  warnings.warn(\n"
     ]
    },
    {
     "name": "stdout",
     "output_type": "stream",
     "text": [
      "38\n",
      "[00:16:19] WARNING: ../src/learner.cc:1095: Starting in XGBoost 1.3.0, the default evaluation metric used with the objective 'binary:logistic' was changed from 'error' to 'logloss'. Explicitly set eval_metric if you'd like to restore the old behavior.\n"
     ]
    },
    {
     "name": "stderr",
     "output_type": "stream",
     "text": [
      "/home/tduricic/.local/lib/python3.8/site-packages/xgboost/data.py:112: UserWarning: Use subset (sliced data) of np.ndarray is not recommended because it will generate extra copies and increase memory consumption\n",
      "  warnings.warn(\n"
     ]
    },
    {
     "name": "stdout",
     "output_type": "stream",
     "text": [
      "39\n",
      "[00:16:39] WARNING: ../src/learner.cc:1095: Starting in XGBoost 1.3.0, the default evaluation metric used with the objective 'binary:logistic' was changed from 'error' to 'logloss'. Explicitly set eval_metric if you'd like to restore the old behavior.\n"
     ]
    },
    {
     "name": "stderr",
     "output_type": "stream",
     "text": [
      "/home/tduricic/.local/lib/python3.8/site-packages/xgboost/data.py:112: UserWarning: Use subset (sliced data) of np.ndarray is not recommended because it will generate extra copies and increase memory consumption\n",
      "  warnings.warn(\n"
     ]
    },
    {
     "name": "stdout",
     "output_type": "stream",
     "text": [
      "40\n",
      "[00:17:22] WARNING: ../src/learner.cc:1095: Starting in XGBoost 1.3.0, the default evaluation metric used with the objective 'binary:logistic' was changed from 'error' to 'logloss'. Explicitly set eval_metric if you'd like to restore the old behavior.\n"
     ]
    },
    {
     "name": "stderr",
     "output_type": "stream",
     "text": [
      "/home/tduricic/.local/lib/python3.8/site-packages/xgboost/data.py:112: UserWarning: Use subset (sliced data) of np.ndarray is not recommended because it will generate extra copies and increase memory consumption\n",
      "  warnings.warn(\n"
     ]
    },
    {
     "name": "stdout",
     "output_type": "stream",
     "text": [
      "41\n",
      "[00:18:03] WARNING: ../src/learner.cc:1095: Starting in XGBoost 1.3.0, the default evaluation metric used with the objective 'binary:logistic' was changed from 'error' to 'logloss'. Explicitly set eval_metric if you'd like to restore the old behavior.\n"
     ]
    },
    {
     "name": "stderr",
     "output_type": "stream",
     "text": [
      "/home/tduricic/.local/lib/python3.8/site-packages/xgboost/data.py:112: UserWarning: Use subset (sliced data) of np.ndarray is not recommended because it will generate extra copies and increase memory consumption\n",
      "  warnings.warn(\n"
     ]
    },
    {
     "name": "stdout",
     "output_type": "stream",
     "text": [
      "42\n",
      "[00:18:57] WARNING: ../src/learner.cc:1095: Starting in XGBoost 1.3.0, the default evaluation metric used with the objective 'binary:logistic' was changed from 'error' to 'logloss'. Explicitly set eval_metric if you'd like to restore the old behavior.\n"
     ]
    },
    {
     "name": "stderr",
     "output_type": "stream",
     "text": [
      "/home/tduricic/.local/lib/python3.8/site-packages/xgboost/data.py:112: UserWarning: Use subset (sliced data) of np.ndarray is not recommended because it will generate extra copies and increase memory consumption\n",
      "  warnings.warn(\n"
     ]
    },
    {
     "name": "stdout",
     "output_type": "stream",
     "text": [
      "43\n",
      "[00:19:46] WARNING: ../src/learner.cc:1095: Starting in XGBoost 1.3.0, the default evaluation metric used with the objective 'binary:logistic' was changed from 'error' to 'logloss'. Explicitly set eval_metric if you'd like to restore the old behavior.\n"
     ]
    },
    {
     "name": "stderr",
     "output_type": "stream",
     "text": [
      "/home/tduricic/.local/lib/python3.8/site-packages/xgboost/data.py:112: UserWarning: Use subset (sliced data) of np.ndarray is not recommended because it will generate extra copies and increase memory consumption\n",
      "  warnings.warn(\n"
     ]
    },
    {
     "name": "stdout",
     "output_type": "stream",
     "text": [
      "44\n",
      "[00:20:31] WARNING: ../src/learner.cc:1095: Starting in XGBoost 1.3.0, the default evaluation metric used with the objective 'binary:logistic' was changed from 'error' to 'logloss'. Explicitly set eval_metric if you'd like to restore the old behavior.\n"
     ]
    },
    {
     "name": "stderr",
     "output_type": "stream",
     "text": [
      "/home/tduricic/.local/lib/python3.8/site-packages/xgboost/data.py:112: UserWarning: Use subset (sliced data) of np.ndarray is not recommended because it will generate extra copies and increase memory consumption\n",
      "  warnings.warn(\n"
     ]
    },
    {
     "name": "stdout",
     "output_type": "stream",
     "text": [
      "45\n",
      "[00:21:26] WARNING: ../src/learner.cc:1095: Starting in XGBoost 1.3.0, the default evaluation metric used with the objective 'binary:logistic' was changed from 'error' to 'logloss'. Explicitly set eval_metric if you'd like to restore the old behavior.\n"
     ]
    },
    {
     "name": "stderr",
     "output_type": "stream",
     "text": [
      "/home/tduricic/.local/lib/python3.8/site-packages/xgboost/data.py:112: UserWarning: Use subset (sliced data) of np.ndarray is not recommended because it will generate extra copies and increase memory consumption\n",
      "  warnings.warn(\n"
     ]
    },
    {
     "name": "stdout",
     "output_type": "stream",
     "text": [
      "46\n",
      "[00:21:45] WARNING: ../src/learner.cc:1095: Starting in XGBoost 1.3.0, the default evaluation metric used with the objective 'binary:logistic' was changed from 'error' to 'logloss'. Explicitly set eval_metric if you'd like to restore the old behavior.\n"
     ]
    },
    {
     "name": "stderr",
     "output_type": "stream",
     "text": [
      "/home/tduricic/.local/lib/python3.8/site-packages/xgboost/data.py:112: UserWarning: Use subset (sliced data) of np.ndarray is not recommended because it will generate extra copies and increase memory consumption\n",
      "  warnings.warn(\n"
     ]
    },
    {
     "name": "stdout",
     "output_type": "stream",
     "text": [
      "47\n",
      "[00:22:29] WARNING: ../src/learner.cc:1095: Starting in XGBoost 1.3.0, the default evaluation metric used with the objective 'binary:logistic' was changed from 'error' to 'logloss'. Explicitly set eval_metric if you'd like to restore the old behavior.\n"
     ]
    },
    {
     "name": "stderr",
     "output_type": "stream",
     "text": [
      "/home/tduricic/.local/lib/python3.8/site-packages/xgboost/data.py:112: UserWarning: Use subset (sliced data) of np.ndarray is not recommended because it will generate extra copies and increase memory consumption\n",
      "  warnings.warn(\n"
     ]
    },
    {
     "name": "stdout",
     "output_type": "stream",
     "text": [
      "48\n",
      "[00:23:08] WARNING: ../src/learner.cc:1095: Starting in XGBoost 1.3.0, the default evaluation metric used with the objective 'binary:logistic' was changed from 'error' to 'logloss'. Explicitly set eval_metric if you'd like to restore the old behavior.\n"
     ]
    },
    {
     "name": "stderr",
     "output_type": "stream",
     "text": [
      "/home/tduricic/.local/lib/python3.8/site-packages/xgboost/data.py:112: UserWarning: Use subset (sliced data) of np.ndarray is not recommended because it will generate extra copies and increase memory consumption\n",
      "  warnings.warn(\n"
     ]
    },
    {
     "name": "stdout",
     "output_type": "stream",
     "text": [
      "49\n",
      "[00:23:58] WARNING: ../src/learner.cc:1095: Starting in XGBoost 1.3.0, the default evaluation metric used with the objective 'binary:logistic' was changed from 'error' to 'logloss'. Explicitly set eval_metric if you'd like to restore the old behavior.\n"
     ]
    },
    {
     "name": "stderr",
     "output_type": "stream",
     "text": [
      "/home/tduricic/.local/lib/python3.8/site-packages/xgboost/data.py:112: UserWarning: Use subset (sliced data) of np.ndarray is not recommended because it will generate extra copies and increase memory consumption\n",
      "  warnings.warn(\n"
     ]
    },
    {
     "name": "stdout",
     "output_type": "stream",
     "text": [
      "50\n",
      "[00:24:46] WARNING: ../src/learner.cc:1095: Starting in XGBoost 1.3.0, the default evaluation metric used with the objective 'binary:logistic' was changed from 'error' to 'logloss'. Explicitly set eval_metric if you'd like to restore the old behavior.\n"
     ]
    },
    {
     "name": "stderr",
     "output_type": "stream",
     "text": [
      "/home/tduricic/.local/lib/python3.8/site-packages/xgboost/data.py:112: UserWarning: Use subset (sliced data) of np.ndarray is not recommended because it will generate extra copies and increase memory consumption\n",
      "  warnings.warn(\n"
     ]
    },
    {
     "name": "stdout",
     "output_type": "stream",
     "text": [
      "51\n",
      "[00:25:31] WARNING: ../src/learner.cc:1095: Starting in XGBoost 1.3.0, the default evaluation metric used with the objective 'binary:logistic' was changed from 'error' to 'logloss'. Explicitly set eval_metric if you'd like to restore the old behavior.\n"
     ]
    },
    {
     "name": "stderr",
     "output_type": "stream",
     "text": [
      "/home/tduricic/.local/lib/python3.8/site-packages/xgboost/data.py:112: UserWarning: Use subset (sliced data) of np.ndarray is not recommended because it will generate extra copies and increase memory consumption\n",
      "  warnings.warn(\n"
     ]
    },
    {
     "name": "stdout",
     "output_type": "stream",
     "text": [
      "52\n",
      "[00:26:25] WARNING: ../src/learner.cc:1095: Starting in XGBoost 1.3.0, the default evaluation metric used with the objective 'binary:logistic' was changed from 'error' to 'logloss'. Explicitly set eval_metric if you'd like to restore the old behavior.\n"
     ]
    },
    {
     "name": "stderr",
     "output_type": "stream",
     "text": [
      "/home/tduricic/.local/lib/python3.8/site-packages/xgboost/data.py:112: UserWarning: Use subset (sliced data) of np.ndarray is not recommended because it will generate extra copies and increase memory consumption\n",
      "  warnings.warn(\n"
     ]
    },
    {
     "name": "stdout",
     "output_type": "stream",
     "text": [
      "53\n",
      "[00:26:45] WARNING: ../src/learner.cc:1095: Starting in XGBoost 1.3.0, the default evaluation metric used with the objective 'binary:logistic' was changed from 'error' to 'logloss'. Explicitly set eval_metric if you'd like to restore the old behavior.\n"
     ]
    },
    {
     "name": "stderr",
     "output_type": "stream",
     "text": [
      "/home/tduricic/.local/lib/python3.8/site-packages/xgboost/data.py:112: UserWarning: Use subset (sliced data) of np.ndarray is not recommended because it will generate extra copies and increase memory consumption\n",
      "  warnings.warn(\n"
     ]
    },
    {
     "name": "stdout",
     "output_type": "stream",
     "text": [
      "54\n",
      "[00:27:28] WARNING: ../src/learner.cc:1095: Starting in XGBoost 1.3.0, the default evaluation metric used with the objective 'binary:logistic' was changed from 'error' to 'logloss'. Explicitly set eval_metric if you'd like to restore the old behavior.\n"
     ]
    },
    {
     "name": "stderr",
     "output_type": "stream",
     "text": [
      "/home/tduricic/.local/lib/python3.8/site-packages/xgboost/data.py:112: UserWarning: Use subset (sliced data) of np.ndarray is not recommended because it will generate extra copies and increase memory consumption\n",
      "  warnings.warn(\n"
     ]
    },
    {
     "name": "stdout",
     "output_type": "stream",
     "text": [
      "55\n",
      "[00:28:08] WARNING: ../src/learner.cc:1095: Starting in XGBoost 1.3.0, the default evaluation metric used with the objective 'binary:logistic' was changed from 'error' to 'logloss'. Explicitly set eval_metric if you'd like to restore the old behavior.\n"
     ]
    },
    {
     "name": "stderr",
     "output_type": "stream",
     "text": [
      "/home/tduricic/.local/lib/python3.8/site-packages/xgboost/data.py:112: UserWarning: Use subset (sliced data) of np.ndarray is not recommended because it will generate extra copies and increase memory consumption\n",
      "  warnings.warn(\n"
     ]
    },
    {
     "name": "stdout",
     "output_type": "stream",
     "text": [
      "56\n",
      "[00:29:04] WARNING: ../src/learner.cc:1095: Starting in XGBoost 1.3.0, the default evaluation metric used with the objective 'binary:logistic' was changed from 'error' to 'logloss'. Explicitly set eval_metric if you'd like to restore the old behavior.\n"
     ]
    },
    {
     "name": "stderr",
     "output_type": "stream",
     "text": [
      "/home/tduricic/.local/lib/python3.8/site-packages/xgboost/data.py:112: UserWarning: Use subset (sliced data) of np.ndarray is not recommended because it will generate extra copies and increase memory consumption\n",
      "  warnings.warn(\n"
     ]
    },
    {
     "name": "stdout",
     "output_type": "stream",
     "text": [
      "57\n",
      "[00:29:52] WARNING: ../src/learner.cc:1095: Starting in XGBoost 1.3.0, the default evaluation metric used with the objective 'binary:logistic' was changed from 'error' to 'logloss'. Explicitly set eval_metric if you'd like to restore the old behavior.\n"
     ]
    },
    {
     "name": "stderr",
     "output_type": "stream",
     "text": [
      "/home/tduricic/.local/lib/python3.8/site-packages/xgboost/data.py:112: UserWarning: Use subset (sliced data) of np.ndarray is not recommended because it will generate extra copies and increase memory consumption\n",
      "  warnings.warn(\n"
     ]
    },
    {
     "name": "stdout",
     "output_type": "stream",
     "text": [
      "58\n",
      "[00:30:37] WARNING: ../src/learner.cc:1095: Starting in XGBoost 1.3.0, the default evaluation metric used with the objective 'binary:logistic' was changed from 'error' to 'logloss'. Explicitly set eval_metric if you'd like to restore the old behavior.\n"
     ]
    },
    {
     "name": "stderr",
     "output_type": "stream",
     "text": [
      "/home/tduricic/.local/lib/python3.8/site-packages/xgboost/data.py:112: UserWarning: Use subset (sliced data) of np.ndarray is not recommended because it will generate extra copies and increase memory consumption\n",
      "  warnings.warn(\n"
     ]
    },
    {
     "name": "stdout",
     "output_type": "stream",
     "text": [
      "59\n",
      "[00:31:31] WARNING: ../src/learner.cc:1095: Starting in XGBoost 1.3.0, the default evaluation metric used with the objective 'binary:logistic' was changed from 'error' to 'logloss'. Explicitly set eval_metric if you'd like to restore the old behavior.\n"
     ]
    },
    {
     "name": "stderr",
     "output_type": "stream",
     "text": [
      "/home/tduricic/.local/lib/python3.8/site-packages/xgboost/data.py:112: UserWarning: Use subset (sliced data) of np.ndarray is not recommended because it will generate extra copies and increase memory consumption\n",
      "  warnings.warn(\n"
     ]
    },
    {
     "name": "stdout",
     "output_type": "stream",
     "text": [
      "60\n",
      "[00:31:51] WARNING: ../src/learner.cc:1095: Starting in XGBoost 1.3.0, the default evaluation metric used with the objective 'binary:logistic' was changed from 'error' to 'logloss'. Explicitly set eval_metric if you'd like to restore the old behavior.\n"
     ]
    },
    {
     "name": "stderr",
     "output_type": "stream",
     "text": [
      "/home/tduricic/.local/lib/python3.8/site-packages/xgboost/data.py:112: UserWarning: Use subset (sliced data) of np.ndarray is not recommended because it will generate extra copies and increase memory consumption\n",
      "  warnings.warn(\n"
     ]
    },
    {
     "name": "stdout",
     "output_type": "stream",
     "text": [
      "61\n",
      "[00:32:34] WARNING: ../src/learner.cc:1095: Starting in XGBoost 1.3.0, the default evaluation metric used with the objective 'binary:logistic' was changed from 'error' to 'logloss'. Explicitly set eval_metric if you'd like to restore the old behavior.\n"
     ]
    },
    {
     "name": "stderr",
     "output_type": "stream",
     "text": [
      "/home/tduricic/.local/lib/python3.8/site-packages/xgboost/data.py:112: UserWarning: Use subset (sliced data) of np.ndarray is not recommended because it will generate extra copies and increase memory consumption\n",
      "  warnings.warn(\n"
     ]
    },
    {
     "name": "stdout",
     "output_type": "stream",
     "text": [
      "62\n",
      "[00:33:14] WARNING: ../src/learner.cc:1095: Starting in XGBoost 1.3.0, the default evaluation metric used with the objective 'binary:logistic' was changed from 'error' to 'logloss'. Explicitly set eval_metric if you'd like to restore the old behavior.\n"
     ]
    },
    {
     "name": "stderr",
     "output_type": "stream",
     "text": [
      "/home/tduricic/.local/lib/python3.8/site-packages/xgboost/data.py:112: UserWarning: Use subset (sliced data) of np.ndarray is not recommended because it will generate extra copies and increase memory consumption\n",
      "  warnings.warn(\n"
     ]
    },
    {
     "name": "stdout",
     "output_type": "stream",
     "text": [
      "63\n",
      "[00:34:04] WARNING: ../src/learner.cc:1095: Starting in XGBoost 1.3.0, the default evaluation metric used with the objective 'binary:logistic' was changed from 'error' to 'logloss'. Explicitly set eval_metric if you'd like to restore the old behavior.\n"
     ]
    },
    {
     "name": "stderr",
     "output_type": "stream",
     "text": [
      "/home/tduricic/.local/lib/python3.8/site-packages/xgboost/data.py:112: UserWarning: Use subset (sliced data) of np.ndarray is not recommended because it will generate extra copies and increase memory consumption\n",
      "  warnings.warn(\n"
     ]
    },
    {
     "name": "stdout",
     "output_type": "stream",
     "text": [
      "64\n",
      "[00:34:52] WARNING: ../src/learner.cc:1095: Starting in XGBoost 1.3.0, the default evaluation metric used with the objective 'binary:logistic' was changed from 'error' to 'logloss'. Explicitly set eval_metric if you'd like to restore the old behavior.\n"
     ]
    },
    {
     "name": "stderr",
     "output_type": "stream",
     "text": [
      "/home/tduricic/.local/lib/python3.8/site-packages/xgboost/data.py:112: UserWarning: Use subset (sliced data) of np.ndarray is not recommended because it will generate extra copies and increase memory consumption\n",
      "  warnings.warn(\n"
     ]
    },
    {
     "name": "stdout",
     "output_type": "stream",
     "text": [
      "65\n",
      "[00:35:37] WARNING: ../src/learner.cc:1095: Starting in XGBoost 1.3.0, the default evaluation metric used with the objective 'binary:logistic' was changed from 'error' to 'logloss'. Explicitly set eval_metric if you'd like to restore the old behavior.\n"
     ]
    },
    {
     "name": "stderr",
     "output_type": "stream",
     "text": [
      "/home/tduricic/.local/lib/python3.8/site-packages/xgboost/data.py:112: UserWarning: Use subset (sliced data) of np.ndarray is not recommended because it will generate extra copies and increase memory consumption\n",
      "  warnings.warn(\n"
     ]
    },
    {
     "name": "stdout",
     "output_type": "stream",
     "text": [
      "66\n",
      "[00:36:31] WARNING: ../src/learner.cc:1095: Starting in XGBoost 1.3.0, the default evaluation metric used with the objective 'binary:logistic' was changed from 'error' to 'logloss'. Explicitly set eval_metric if you'd like to restore the old behavior.\n"
     ]
    },
    {
     "name": "stderr",
     "output_type": "stream",
     "text": [
      "/home/tduricic/.local/lib/python3.8/site-packages/xgboost/data.py:112: UserWarning: Use subset (sliced data) of np.ndarray is not recommended because it will generate extra copies and increase memory consumption\n",
      "  warnings.warn(\n"
     ]
    },
    {
     "name": "stdout",
     "output_type": "stream",
     "text": [
      "67\n",
      "[00:36:51] WARNING: ../src/learner.cc:1095: Starting in XGBoost 1.3.0, the default evaluation metric used with the objective 'binary:logistic' was changed from 'error' to 'logloss'. Explicitly set eval_metric if you'd like to restore the old behavior.\n"
     ]
    },
    {
     "name": "stderr",
     "output_type": "stream",
     "text": [
      "/home/tduricic/.local/lib/python3.8/site-packages/xgboost/data.py:112: UserWarning: Use subset (sliced data) of np.ndarray is not recommended because it will generate extra copies and increase memory consumption\n",
      "  warnings.warn(\n"
     ]
    },
    {
     "name": "stdout",
     "output_type": "stream",
     "text": [
      "68\n",
      "[00:37:35] WARNING: ../src/learner.cc:1095: Starting in XGBoost 1.3.0, the default evaluation metric used with the objective 'binary:logistic' was changed from 'error' to 'logloss'. Explicitly set eval_metric if you'd like to restore the old behavior.\n"
     ]
    },
    {
     "name": "stderr",
     "output_type": "stream",
     "text": [
      "/home/tduricic/.local/lib/python3.8/site-packages/xgboost/data.py:112: UserWarning: Use subset (sliced data) of np.ndarray is not recommended because it will generate extra copies and increase memory consumption\n",
      "  warnings.warn(\n"
     ]
    },
    {
     "name": "stdout",
     "output_type": "stream",
     "text": [
      "69\n",
      "[00:38:15] WARNING: ../src/learner.cc:1095: Starting in XGBoost 1.3.0, the default evaluation metric used with the objective 'binary:logistic' was changed from 'error' to 'logloss'. Explicitly set eval_metric if you'd like to restore the old behavior.\n"
     ]
    },
    {
     "name": "stderr",
     "output_type": "stream",
     "text": [
      "/home/tduricic/.local/lib/python3.8/site-packages/xgboost/data.py:112: UserWarning: Use subset (sliced data) of np.ndarray is not recommended because it will generate extra copies and increase memory consumption\n",
      "  warnings.warn(\n"
     ]
    },
    {
     "name": "stdout",
     "output_type": "stream",
     "text": [
      "70\n",
      "[00:39:10] WARNING: ../src/learner.cc:1095: Starting in XGBoost 1.3.0, the default evaluation metric used with the objective 'binary:logistic' was changed from 'error' to 'logloss'. Explicitly set eval_metric if you'd like to restore the old behavior.\n"
     ]
    },
    {
     "name": "stderr",
     "output_type": "stream",
     "text": [
      "/home/tduricic/.local/lib/python3.8/site-packages/xgboost/data.py:112: UserWarning: Use subset (sliced data) of np.ndarray is not recommended because it will generate extra copies and increase memory consumption\n",
      "  warnings.warn(\n"
     ]
    },
    {
     "name": "stdout",
     "output_type": "stream",
     "text": [
      "71\n",
      "[00:39:58] WARNING: ../src/learner.cc:1095: Starting in XGBoost 1.3.0, the default evaluation metric used with the objective 'binary:logistic' was changed from 'error' to 'logloss'. Explicitly set eval_metric if you'd like to restore the old behavior.\n"
     ]
    },
    {
     "name": "stderr",
     "output_type": "stream",
     "text": [
      "/home/tduricic/.local/lib/python3.8/site-packages/xgboost/data.py:112: UserWarning: Use subset (sliced data) of np.ndarray is not recommended because it will generate extra copies and increase memory consumption\n",
      "  warnings.warn(\n"
     ]
    },
    {
     "name": "stdout",
     "output_type": "stream",
     "text": [
      "72\n",
      "[00:40:42] WARNING: ../src/learner.cc:1095: Starting in XGBoost 1.3.0, the default evaluation metric used with the objective 'binary:logistic' was changed from 'error' to 'logloss'. Explicitly set eval_metric if you'd like to restore the old behavior.\n"
     ]
    },
    {
     "name": "stderr",
     "output_type": "stream",
     "text": [
      "/home/tduricic/.local/lib/python3.8/site-packages/xgboost/data.py:112: UserWarning: Use subset (sliced data) of np.ndarray is not recommended because it will generate extra copies and increase memory consumption\n",
      "  warnings.warn(\n"
     ]
    },
    {
     "name": "stdout",
     "output_type": "stream",
     "text": [
      "73\n",
      "[00:41:36] WARNING: ../src/learner.cc:1095: Starting in XGBoost 1.3.0, the default evaluation metric used with the objective 'binary:logistic' was changed from 'error' to 'logloss'. Explicitly set eval_metric if you'd like to restore the old behavior.\n"
     ]
    },
    {
     "name": "stderr",
     "output_type": "stream",
     "text": [
      "/home/tduricic/.local/lib/python3.8/site-packages/xgboost/data.py:112: UserWarning: Use subset (sliced data) of np.ndarray is not recommended because it will generate extra copies and increase memory consumption\n",
      "  warnings.warn(\n"
     ]
    },
    {
     "name": "stdout",
     "output_type": "stream",
     "text": [
      "74\n",
      "[00:41:56] WARNING: ../src/learner.cc:1095: Starting in XGBoost 1.3.0, the default evaluation metric used with the objective 'binary:logistic' was changed from 'error' to 'logloss'. Explicitly set eval_metric if you'd like to restore the old behavior.\n"
     ]
    },
    {
     "name": "stderr",
     "output_type": "stream",
     "text": [
      "/home/tduricic/.local/lib/python3.8/site-packages/xgboost/data.py:112: UserWarning: Use subset (sliced data) of np.ndarray is not recommended because it will generate extra copies and increase memory consumption\n",
      "  warnings.warn(\n"
     ]
    },
    {
     "name": "stdout",
     "output_type": "stream",
     "text": [
      "75\n",
      "[00:42:39] WARNING: ../src/learner.cc:1095: Starting in XGBoost 1.3.0, the default evaluation metric used with the objective 'binary:logistic' was changed from 'error' to 'logloss'. Explicitly set eval_metric if you'd like to restore the old behavior.\n"
     ]
    },
    {
     "name": "stderr",
     "output_type": "stream",
     "text": [
      "/home/tduricic/.local/lib/python3.8/site-packages/xgboost/data.py:112: UserWarning: Use subset (sliced data) of np.ndarray is not recommended because it will generate extra copies and increase memory consumption\n",
      "  warnings.warn(\n"
     ]
    },
    {
     "name": "stdout",
     "output_type": "stream",
     "text": [
      "76\n",
      "[00:43:19] WARNING: ../src/learner.cc:1095: Starting in XGBoost 1.3.0, the default evaluation metric used with the objective 'binary:logistic' was changed from 'error' to 'logloss'. Explicitly set eval_metric if you'd like to restore the old behavior.\n"
     ]
    },
    {
     "name": "stderr",
     "output_type": "stream",
     "text": [
      "/home/tduricic/.local/lib/python3.8/site-packages/xgboost/data.py:112: UserWarning: Use subset (sliced data) of np.ndarray is not recommended because it will generate extra copies and increase memory consumption\n",
      "  warnings.warn(\n"
     ]
    },
    {
     "name": "stdout",
     "output_type": "stream",
     "text": [
      "77\n",
      "[00:44:09] WARNING: ../src/learner.cc:1095: Starting in XGBoost 1.3.0, the default evaluation metric used with the objective 'binary:logistic' was changed from 'error' to 'logloss'. Explicitly set eval_metric if you'd like to restore the old behavior.\n"
     ]
    },
    {
     "name": "stderr",
     "output_type": "stream",
     "text": [
      "/home/tduricic/.local/lib/python3.8/site-packages/xgboost/data.py:112: UserWarning: Use subset (sliced data) of np.ndarray is not recommended because it will generate extra copies and increase memory consumption\n",
      "  warnings.warn(\n"
     ]
    },
    {
     "name": "stdout",
     "output_type": "stream",
     "text": [
      "78\n",
      "[00:45:00] WARNING: ../src/learner.cc:1095: Starting in XGBoost 1.3.0, the default evaluation metric used with the objective 'binary:logistic' was changed from 'error' to 'logloss'. Explicitly set eval_metric if you'd like to restore the old behavior.\n"
     ]
    },
    {
     "name": "stderr",
     "output_type": "stream",
     "text": [
      "/home/tduricic/.local/lib/python3.8/site-packages/xgboost/data.py:112: UserWarning: Use subset (sliced data) of np.ndarray is not recommended because it will generate extra copies and increase memory consumption\n",
      "  warnings.warn(\n"
     ]
    },
    {
     "name": "stdout",
     "output_type": "stream",
     "text": [
      "79\n",
      "[00:45:47] WARNING: ../src/learner.cc:1095: Starting in XGBoost 1.3.0, the default evaluation metric used with the objective 'binary:logistic' was changed from 'error' to 'logloss'. Explicitly set eval_metric if you'd like to restore the old behavior.\n"
     ]
    },
    {
     "name": "stderr",
     "output_type": "stream",
     "text": [
      "/home/tduricic/.local/lib/python3.8/site-packages/xgboost/data.py:112: UserWarning: Use subset (sliced data) of np.ndarray is not recommended because it will generate extra copies and increase memory consumption\n",
      "  warnings.warn(\n"
     ]
    },
    {
     "name": "stdout",
     "output_type": "stream",
     "text": [
      "80\n",
      "[00:46:55] WARNING: ../src/learner.cc:1095: Starting in XGBoost 1.3.0, the default evaluation metric used with the objective 'binary:logistic' was changed from 'error' to 'logloss'. Explicitly set eval_metric if you'd like to restore the old behavior.\n"
     ]
    },
    {
     "name": "stderr",
     "output_type": "stream",
     "text": [
      "/home/tduricic/.local/lib/python3.8/site-packages/xgboost/data.py:112: UserWarning: Use subset (sliced data) of np.ndarray is not recommended because it will generate extra copies and increase memory consumption\n",
      "  warnings.warn(\n"
     ]
    },
    {
     "name": "stdout",
     "output_type": "stream",
     "text": [
      "81\n",
      "[00:47:27] WARNING: ../src/learner.cc:1095: Starting in XGBoost 1.3.0, the default evaluation metric used with the objective 'binary:logistic' was changed from 'error' to 'logloss'. Explicitly set eval_metric if you'd like to restore the old behavior.\n"
     ]
    },
    {
     "name": "stderr",
     "output_type": "stream",
     "text": [
      "/home/tduricic/.local/lib/python3.8/site-packages/xgboost/data.py:112: UserWarning: Use subset (sliced data) of np.ndarray is not recommended because it will generate extra copies and increase memory consumption\n",
      "  warnings.warn(\n"
     ]
    },
    {
     "name": "stdout",
     "output_type": "stream",
     "text": [
      "82\n",
      "[00:48:33] WARNING: ../src/learner.cc:1095: Starting in XGBoost 1.3.0, the default evaluation metric used with the objective 'binary:logistic' was changed from 'error' to 'logloss'. Explicitly set eval_metric if you'd like to restore the old behavior.\n"
     ]
    },
    {
     "name": "stderr",
     "output_type": "stream",
     "text": [
      "/home/tduricic/.local/lib/python3.8/site-packages/xgboost/data.py:112: UserWarning: Use subset (sliced data) of np.ndarray is not recommended because it will generate extra copies and increase memory consumption\n",
      "  warnings.warn(\n"
     ]
    },
    {
     "name": "stdout",
     "output_type": "stream",
     "text": [
      "83\n",
      "[00:49:31] WARNING: ../src/learner.cc:1095: Starting in XGBoost 1.3.0, the default evaluation metric used with the objective 'binary:logistic' was changed from 'error' to 'logloss'. Explicitly set eval_metric if you'd like to restore the old behavior.\n"
     ]
    },
    {
     "name": "stderr",
     "output_type": "stream",
     "text": [
      "/home/tduricic/.local/lib/python3.8/site-packages/xgboost/data.py:112: UserWarning: Use subset (sliced data) of np.ndarray is not recommended because it will generate extra copies and increase memory consumption\n",
      "  warnings.warn(\n"
     ]
    },
    {
     "name": "stdout",
     "output_type": "stream",
     "text": [
      "84\n",
      "[00:50:48] WARNING: ../src/learner.cc:1095: Starting in XGBoost 1.3.0, the default evaluation metric used with the objective 'binary:logistic' was changed from 'error' to 'logloss'. Explicitly set eval_metric if you'd like to restore the old behavior.\n"
     ]
    },
    {
     "name": "stderr",
     "output_type": "stream",
     "text": [
      "/home/tduricic/.local/lib/python3.8/site-packages/xgboost/data.py:112: UserWarning: Use subset (sliced data) of np.ndarray is not recommended because it will generate extra copies and increase memory consumption\n",
      "  warnings.warn(\n"
     ]
    },
    {
     "name": "stdout",
     "output_type": "stream",
     "text": [
      "85\n",
      "[00:52:02] WARNING: ../src/learner.cc:1095: Starting in XGBoost 1.3.0, the default evaluation metric used with the objective 'binary:logistic' was changed from 'error' to 'logloss'. Explicitly set eval_metric if you'd like to restore the old behavior.\n"
     ]
    },
    {
     "name": "stderr",
     "output_type": "stream",
     "text": [
      "/home/tduricic/.local/lib/python3.8/site-packages/xgboost/data.py:112: UserWarning: Use subset (sliced data) of np.ndarray is not recommended because it will generate extra copies and increase memory consumption\n",
      "  warnings.warn(\n"
     ]
    },
    {
     "name": "stdout",
     "output_type": "stream",
     "text": [
      "86\n",
      "[00:53:05] WARNING: ../src/learner.cc:1095: Starting in XGBoost 1.3.0, the default evaluation metric used with the objective 'binary:logistic' was changed from 'error' to 'logloss'. Explicitly set eval_metric if you'd like to restore the old behavior.\n"
     ]
    },
    {
     "name": "stderr",
     "output_type": "stream",
     "text": [
      "/home/tduricic/.local/lib/python3.8/site-packages/xgboost/data.py:112: UserWarning: Use subset (sliced data) of np.ndarray is not recommended because it will generate extra copies and increase memory consumption\n",
      "  warnings.warn(\n"
     ]
    },
    {
     "name": "stdout",
     "output_type": "stream",
     "text": [
      "87\n",
      "[00:54:08] WARNING: ../src/learner.cc:1095: Starting in XGBoost 1.3.0, the default evaluation metric used with the objective 'binary:logistic' was changed from 'error' to 'logloss'. Explicitly set eval_metric if you'd like to restore the old behavior.\n"
     ]
    },
    {
     "name": "stderr",
     "output_type": "stream",
     "text": [
      "/home/tduricic/.local/lib/python3.8/site-packages/xgboost/data.py:112: UserWarning: Use subset (sliced data) of np.ndarray is not recommended because it will generate extra copies and increase memory consumption\n",
      "  warnings.warn(\n"
     ]
    },
    {
     "name": "stdout",
     "output_type": "stream",
     "text": [
      "88\n",
      "[00:54:33] WARNING: ../src/learner.cc:1095: Starting in XGBoost 1.3.0, the default evaluation metric used with the objective 'binary:logistic' was changed from 'error' to 'logloss'. Explicitly set eval_metric if you'd like to restore the old behavior.\n"
     ]
    },
    {
     "name": "stderr",
     "output_type": "stream",
     "text": [
      "/home/tduricic/.local/lib/python3.8/site-packages/xgboost/data.py:112: UserWarning: Use subset (sliced data) of np.ndarray is not recommended because it will generate extra copies and increase memory consumption\n",
      "  warnings.warn(\n"
     ]
    },
    {
     "name": "stdout",
     "output_type": "stream",
     "text": [
      "89\n",
      "[00:55:19] WARNING: ../src/learner.cc:1095: Starting in XGBoost 1.3.0, the default evaluation metric used with the objective 'binary:logistic' was changed from 'error' to 'logloss'. Explicitly set eval_metric if you'd like to restore the old behavior.\n"
     ]
    },
    {
     "name": "stderr",
     "output_type": "stream",
     "text": [
      "/home/tduricic/.local/lib/python3.8/site-packages/xgboost/data.py:112: UserWarning: Use subset (sliced data) of np.ndarray is not recommended because it will generate extra copies and increase memory consumption\n",
      "  warnings.warn(\n"
     ]
    },
    {
     "name": "stdout",
     "output_type": "stream",
     "text": [
      "90\n",
      "[00:56:01] WARNING: ../src/learner.cc:1095: Starting in XGBoost 1.3.0, the default evaluation metric used with the objective 'binary:logistic' was changed from 'error' to 'logloss'. Explicitly set eval_metric if you'd like to restore the old behavior.\n"
     ]
    },
    {
     "name": "stderr",
     "output_type": "stream",
     "text": [
      "/home/tduricic/.local/lib/python3.8/site-packages/xgboost/data.py:112: UserWarning: Use subset (sliced data) of np.ndarray is not recommended because it will generate extra copies and increase memory consumption\n",
      "  warnings.warn(\n"
     ]
    },
    {
     "name": "stdout",
     "output_type": "stream",
     "text": [
      "91\n",
      "[00:56:53] WARNING: ../src/learner.cc:1095: Starting in XGBoost 1.3.0, the default evaluation metric used with the objective 'binary:logistic' was changed from 'error' to 'logloss'. Explicitly set eval_metric if you'd like to restore the old behavior.\n"
     ]
    },
    {
     "name": "stderr",
     "output_type": "stream",
     "text": [
      "/home/tduricic/.local/lib/python3.8/site-packages/xgboost/data.py:112: UserWarning: Use subset (sliced data) of np.ndarray is not recommended because it will generate extra copies and increase memory consumption\n",
      "  warnings.warn(\n"
     ]
    },
    {
     "name": "stdout",
     "output_type": "stream",
     "text": [
      "92\n",
      "[00:57:43] WARNING: ../src/learner.cc:1095: Starting in XGBoost 1.3.0, the default evaluation metric used with the objective 'binary:logistic' was changed from 'error' to 'logloss'. Explicitly set eval_metric if you'd like to restore the old behavior.\n"
     ]
    },
    {
     "name": "stderr",
     "output_type": "stream",
     "text": [
      "/home/tduricic/.local/lib/python3.8/site-packages/xgboost/data.py:112: UserWarning: Use subset (sliced data) of np.ndarray is not recommended because it will generate extra copies and increase memory consumption\n",
      "  warnings.warn(\n"
     ]
    },
    {
     "name": "stdout",
     "output_type": "stream",
     "text": [
      "93\n",
      "[00:58:27] WARNING: ../src/learner.cc:1095: Starting in XGBoost 1.3.0, the default evaluation metric used with the objective 'binary:logistic' was changed from 'error' to 'logloss'. Explicitly set eval_metric if you'd like to restore the old behavior.\n"
     ]
    },
    {
     "name": "stderr",
     "output_type": "stream",
     "text": [
      "/home/tduricic/.local/lib/python3.8/site-packages/xgboost/data.py:112: UserWarning: Use subset (sliced data) of np.ndarray is not recommended because it will generate extra copies and increase memory consumption\n",
      "  warnings.warn(\n"
     ]
    },
    {
     "name": "stdout",
     "output_type": "stream",
     "text": [
      "94\n",
      "[00:59:22] WARNING: ../src/learner.cc:1095: Starting in XGBoost 1.3.0, the default evaluation metric used with the objective 'binary:logistic' was changed from 'error' to 'logloss'. Explicitly set eval_metric if you'd like to restore the old behavior.\n"
     ]
    },
    {
     "name": "stderr",
     "output_type": "stream",
     "text": [
      "/home/tduricic/.local/lib/python3.8/site-packages/xgboost/data.py:112: UserWarning: Use subset (sliced data) of np.ndarray is not recommended because it will generate extra copies and increase memory consumption\n",
      "  warnings.warn(\n"
     ]
    },
    {
     "name": "stdout",
     "output_type": "stream",
     "text": [
      "95\n",
      "[00:59:41] WARNING: ../src/learner.cc:1095: Starting in XGBoost 1.3.0, the default evaluation metric used with the objective 'binary:logistic' was changed from 'error' to 'logloss'. Explicitly set eval_metric if you'd like to restore the old behavior.\n"
     ]
    },
    {
     "name": "stderr",
     "output_type": "stream",
     "text": [
      "/home/tduricic/.local/lib/python3.8/site-packages/xgboost/data.py:112: UserWarning: Use subset (sliced data) of np.ndarray is not recommended because it will generate extra copies and increase memory consumption\n",
      "  warnings.warn(\n"
     ]
    },
    {
     "name": "stdout",
     "output_type": "stream",
     "text": [
      "96\n",
      "[01:00:25] WARNING: ../src/learner.cc:1095: Starting in XGBoost 1.3.0, the default evaluation metric used with the objective 'binary:logistic' was changed from 'error' to 'logloss'. Explicitly set eval_metric if you'd like to restore the old behavior.\n"
     ]
    },
    {
     "name": "stderr",
     "output_type": "stream",
     "text": [
      "/home/tduricic/.local/lib/python3.8/site-packages/xgboost/data.py:112: UserWarning: Use subset (sliced data) of np.ndarray is not recommended because it will generate extra copies and increase memory consumption\n",
      "  warnings.warn(\n"
     ]
    },
    {
     "name": "stdout",
     "output_type": "stream",
     "text": [
      "97\n",
      "[01:01:03] WARNING: ../src/learner.cc:1095: Starting in XGBoost 1.3.0, the default evaluation metric used with the objective 'binary:logistic' was changed from 'error' to 'logloss'. Explicitly set eval_metric if you'd like to restore the old behavior.\n"
     ]
    },
    {
     "name": "stderr",
     "output_type": "stream",
     "text": [
      "/home/tduricic/.local/lib/python3.8/site-packages/xgboost/data.py:112: UserWarning: Use subset (sliced data) of np.ndarray is not recommended because it will generate extra copies and increase memory consumption\n",
      "  warnings.warn(\n"
     ]
    },
    {
     "name": "stdout",
     "output_type": "stream",
     "text": [
      "98\n",
      "[01:01:57] WARNING: ../src/learner.cc:1095: Starting in XGBoost 1.3.0, the default evaluation metric used with the objective 'binary:logistic' was changed from 'error' to 'logloss'. Explicitly set eval_metric if you'd like to restore the old behavior.\n"
     ]
    },
    {
     "name": "stderr",
     "output_type": "stream",
     "text": [
      "/home/tduricic/.local/lib/python3.8/site-packages/xgboost/data.py:112: UserWarning: Use subset (sliced data) of np.ndarray is not recommended because it will generate extra copies and increase memory consumption\n",
      "  warnings.warn(\n"
     ]
    },
    {
     "name": "stdout",
     "output_type": "stream",
     "text": [
      "99\n",
      "[01:02:45] WARNING: ../src/learner.cc:1095: Starting in XGBoost 1.3.0, the default evaluation metric used with the objective 'binary:logistic' was changed from 'error' to 'logloss'. Explicitly set eval_metric if you'd like to restore the old behavior.\n"
     ]
    },
    {
     "name": "stderr",
     "output_type": "stream",
     "text": [
      "/home/tduricic/.local/lib/python3.8/site-packages/xgboost/data.py:112: UserWarning: Use subset (sliced data) of np.ndarray is not recommended because it will generate extra copies and increase memory consumption\n",
      "  warnings.warn(\n"
     ]
    },
    {
     "name": "stdout",
     "output_type": "stream",
     "text": [
      "100\n",
      "[01:03:30] WARNING: ../src/learner.cc:1095: Starting in XGBoost 1.3.0, the default evaluation metric used with the objective 'binary:logistic' was changed from 'error' to 'logloss'. Explicitly set eval_metric if you'd like to restore the old behavior.\n"
     ]
    },
    {
     "name": "stderr",
     "output_type": "stream",
     "text": [
      "/home/tduricic/.local/lib/python3.8/site-packages/xgboost/data.py:112: UserWarning: Use subset (sliced data) of np.ndarray is not recommended because it will generate extra copies and increase memory consumption\n",
      "  warnings.warn(\n"
     ]
    },
    {
     "name": "stdout",
     "output_type": "stream",
     "text": [
      "101\n",
      "[01:04:24] WARNING: ../src/learner.cc:1095: Starting in XGBoost 1.3.0, the default evaluation metric used with the objective 'binary:logistic' was changed from 'error' to 'logloss'. Explicitly set eval_metric if you'd like to restore the old behavior.\n"
     ]
    },
    {
     "name": "stderr",
     "output_type": "stream",
     "text": [
      "/home/tduricic/.local/lib/python3.8/site-packages/xgboost/data.py:112: UserWarning: Use subset (sliced data) of np.ndarray is not recommended because it will generate extra copies and increase memory consumption\n",
      "  warnings.warn(\n"
     ]
    },
    {
     "name": "stdout",
     "output_type": "stream",
     "text": [
      "102\n",
      "[01:04:43] WARNING: ../src/learner.cc:1095: Starting in XGBoost 1.3.0, the default evaluation metric used with the objective 'binary:logistic' was changed from 'error' to 'logloss'. Explicitly set eval_metric if you'd like to restore the old behavior.\n"
     ]
    },
    {
     "name": "stderr",
     "output_type": "stream",
     "text": [
      "/home/tduricic/.local/lib/python3.8/site-packages/xgboost/data.py:112: UserWarning: Use subset (sliced data) of np.ndarray is not recommended because it will generate extra copies and increase memory consumption\n",
      "  warnings.warn(\n"
     ]
    },
    {
     "name": "stdout",
     "output_type": "stream",
     "text": [
      "103\n",
      "[01:05:26] WARNING: ../src/learner.cc:1095: Starting in XGBoost 1.3.0, the default evaluation metric used with the objective 'binary:logistic' was changed from 'error' to 'logloss'. Explicitly set eval_metric if you'd like to restore the old behavior.\n"
     ]
    },
    {
     "name": "stderr",
     "output_type": "stream",
     "text": [
      "/home/tduricic/.local/lib/python3.8/site-packages/xgboost/data.py:112: UserWarning: Use subset (sliced data) of np.ndarray is not recommended because it will generate extra copies and increase memory consumption\n",
      "  warnings.warn(\n"
     ]
    },
    {
     "name": "stdout",
     "output_type": "stream",
     "text": [
      "104\n",
      "[01:06:06] WARNING: ../src/learner.cc:1095: Starting in XGBoost 1.3.0, the default evaluation metric used with the objective 'binary:logistic' was changed from 'error' to 'logloss'. Explicitly set eval_metric if you'd like to restore the old behavior.\n"
     ]
    },
    {
     "name": "stderr",
     "output_type": "stream",
     "text": [
      "/home/tduricic/.local/lib/python3.8/site-packages/xgboost/data.py:112: UserWarning: Use subset (sliced data) of np.ndarray is not recommended because it will generate extra copies and increase memory consumption\n",
      "  warnings.warn(\n"
     ]
    },
    {
     "name": "stdout",
     "output_type": "stream",
     "text": [
      "105\n",
      "[01:06:55] WARNING: ../src/learner.cc:1095: Starting in XGBoost 1.3.0, the default evaluation metric used with the objective 'binary:logistic' was changed from 'error' to 'logloss'. Explicitly set eval_metric if you'd like to restore the old behavior.\n"
     ]
    },
    {
     "name": "stderr",
     "output_type": "stream",
     "text": [
      "/home/tduricic/.local/lib/python3.8/site-packages/xgboost/data.py:112: UserWarning: Use subset (sliced data) of np.ndarray is not recommended because it will generate extra copies and increase memory consumption\n",
      "  warnings.warn(\n"
     ]
    },
    {
     "name": "stdout",
     "output_type": "stream",
     "text": [
      "106\n",
      "[01:07:42] WARNING: ../src/learner.cc:1095: Starting in XGBoost 1.3.0, the default evaluation metric used with the objective 'binary:logistic' was changed from 'error' to 'logloss'. Explicitly set eval_metric if you'd like to restore the old behavior.\n"
     ]
    },
    {
     "name": "stderr",
     "output_type": "stream",
     "text": [
      "/home/tduricic/.local/lib/python3.8/site-packages/xgboost/data.py:112: UserWarning: Use subset (sliced data) of np.ndarray is not recommended because it will generate extra copies and increase memory consumption\n",
      "  warnings.warn(\n"
     ]
    },
    {
     "name": "stdout",
     "output_type": "stream",
     "text": [
      "107\n",
      "[01:08:26] WARNING: ../src/learner.cc:1095: Starting in XGBoost 1.3.0, the default evaluation metric used with the objective 'binary:logistic' was changed from 'error' to 'logloss'. Explicitly set eval_metric if you'd like to restore the old behavior.\n"
     ]
    },
    {
     "name": "stderr",
     "output_type": "stream",
     "text": [
      "/home/tduricic/.local/lib/python3.8/site-packages/xgboost/data.py:112: UserWarning: Use subset (sliced data) of np.ndarray is not recommended because it will generate extra copies and increase memory consumption\n",
      "  warnings.warn(\n"
     ]
    },
    {
     "name": "stdout",
     "output_type": "stream",
     "text": [
      "108\n",
      "[01:09:20] WARNING: ../src/learner.cc:1095: Starting in XGBoost 1.3.0, the default evaluation metric used with the objective 'binary:logistic' was changed from 'error' to 'logloss'. Explicitly set eval_metric if you'd like to restore the old behavior.\n"
     ]
    },
    {
     "name": "stderr",
     "output_type": "stream",
     "text": [
      "/home/tduricic/.local/lib/python3.8/site-packages/xgboost/data.py:112: UserWarning: Use subset (sliced data) of np.ndarray is not recommended because it will generate extra copies and increase memory consumption\n",
      "  warnings.warn(\n"
     ]
    },
    {
     "name": "stdout",
     "output_type": "stream",
     "text": [
      "109\n",
      "[01:09:39] WARNING: ../src/learner.cc:1095: Starting in XGBoost 1.3.0, the default evaluation metric used with the objective 'binary:logistic' was changed from 'error' to 'logloss'. Explicitly set eval_metric if you'd like to restore the old behavior.\n"
     ]
    },
    {
     "name": "stderr",
     "output_type": "stream",
     "text": [
      "/home/tduricic/.local/lib/python3.8/site-packages/xgboost/data.py:112: UserWarning: Use subset (sliced data) of np.ndarray is not recommended because it will generate extra copies and increase memory consumption\n",
      "  warnings.warn(\n"
     ]
    },
    {
     "name": "stdout",
     "output_type": "stream",
     "text": [
      "110\n",
      "[01:10:23] WARNING: ../src/learner.cc:1095: Starting in XGBoost 1.3.0, the default evaluation metric used with the objective 'binary:logistic' was changed from 'error' to 'logloss'. Explicitly set eval_metric if you'd like to restore the old behavior.\n"
     ]
    },
    {
     "name": "stderr",
     "output_type": "stream",
     "text": [
      "/home/tduricic/.local/lib/python3.8/site-packages/xgboost/data.py:112: UserWarning: Use subset (sliced data) of np.ndarray is not recommended because it will generate extra copies and increase memory consumption\n",
      "  warnings.warn(\n"
     ]
    },
    {
     "name": "stdout",
     "output_type": "stream",
     "text": [
      "111\n",
      "[01:11:02] WARNING: ../src/learner.cc:1095: Starting in XGBoost 1.3.0, the default evaluation metric used with the objective 'binary:logistic' was changed from 'error' to 'logloss'. Explicitly set eval_metric if you'd like to restore the old behavior.\n"
     ]
    },
    {
     "name": "stderr",
     "output_type": "stream",
     "text": [
      "/home/tduricic/.local/lib/python3.8/site-packages/xgboost/data.py:112: UserWarning: Use subset (sliced data) of np.ndarray is not recommended because it will generate extra copies and increase memory consumption\n",
      "  warnings.warn(\n"
     ]
    },
    {
     "name": "stdout",
     "output_type": "stream",
     "text": [
      "112\n",
      "[01:11:57] WARNING: ../src/learner.cc:1095: Starting in XGBoost 1.3.0, the default evaluation metric used with the objective 'binary:logistic' was changed from 'error' to 'logloss'. Explicitly set eval_metric if you'd like to restore the old behavior.\n"
     ]
    },
    {
     "name": "stderr",
     "output_type": "stream",
     "text": [
      "/home/tduricic/.local/lib/python3.8/site-packages/xgboost/data.py:112: UserWarning: Use subset (sliced data) of np.ndarray is not recommended because it will generate extra copies and increase memory consumption\n",
      "  warnings.warn(\n"
     ]
    },
    {
     "name": "stdout",
     "output_type": "stream",
     "text": [
      "113\n",
      "[01:12:46] WARNING: ../src/learner.cc:1095: Starting in XGBoost 1.3.0, the default evaluation metric used with the objective 'binary:logistic' was changed from 'error' to 'logloss'. Explicitly set eval_metric if you'd like to restore the old behavior.\n"
     ]
    },
    {
     "name": "stderr",
     "output_type": "stream",
     "text": [
      "/home/tduricic/.local/lib/python3.8/site-packages/xgboost/data.py:112: UserWarning: Use subset (sliced data) of np.ndarray is not recommended because it will generate extra copies and increase memory consumption\n",
      "  warnings.warn(\n"
     ]
    },
    {
     "name": "stdout",
     "output_type": "stream",
     "text": [
      "114\n",
      "[01:13:29] WARNING: ../src/learner.cc:1095: Starting in XGBoost 1.3.0, the default evaluation metric used with the objective 'binary:logistic' was changed from 'error' to 'logloss'. Explicitly set eval_metric if you'd like to restore the old behavior.\n"
     ]
    },
    {
     "name": "stderr",
     "output_type": "stream",
     "text": [
      "/home/tduricic/.local/lib/python3.8/site-packages/xgboost/data.py:112: UserWarning: Use subset (sliced data) of np.ndarray is not recommended because it will generate extra copies and increase memory consumption\n",
      "  warnings.warn(\n"
     ]
    },
    {
     "name": "stdout",
     "output_type": "stream",
     "text": [
      "115\n",
      "[01:14:23] WARNING: ../src/learner.cc:1095: Starting in XGBoost 1.3.0, the default evaluation metric used with the objective 'binary:logistic' was changed from 'error' to 'logloss'. Explicitly set eval_metric if you'd like to restore the old behavior.\n"
     ]
    },
    {
     "name": "stderr",
     "output_type": "stream",
     "text": [
      "/home/tduricic/.local/lib/python3.8/site-packages/xgboost/data.py:112: UserWarning: Use subset (sliced data) of np.ndarray is not recommended because it will generate extra copies and increase memory consumption\n",
      "  warnings.warn(\n"
     ]
    },
    {
     "name": "stdout",
     "output_type": "stream",
     "text": [
      "116\n",
      "[01:14:43] WARNING: ../src/learner.cc:1095: Starting in XGBoost 1.3.0, the default evaluation metric used with the objective 'binary:logistic' was changed from 'error' to 'logloss'. Explicitly set eval_metric if you'd like to restore the old behavior.\n"
     ]
    },
    {
     "name": "stderr",
     "output_type": "stream",
     "text": [
      "/home/tduricic/.local/lib/python3.8/site-packages/xgboost/data.py:112: UserWarning: Use subset (sliced data) of np.ndarray is not recommended because it will generate extra copies and increase memory consumption\n",
      "  warnings.warn(\n"
     ]
    },
    {
     "name": "stdout",
     "output_type": "stream",
     "text": [
      "117\n",
      "[01:15:27] WARNING: ../src/learner.cc:1095: Starting in XGBoost 1.3.0, the default evaluation metric used with the objective 'binary:logistic' was changed from 'error' to 'logloss'. Explicitly set eval_metric if you'd like to restore the old behavior.\n"
     ]
    },
    {
     "name": "stderr",
     "output_type": "stream",
     "text": [
      "/home/tduricic/.local/lib/python3.8/site-packages/xgboost/data.py:112: UserWarning: Use subset (sliced data) of np.ndarray is not recommended because it will generate extra copies and increase memory consumption\n",
      "  warnings.warn(\n"
     ]
    },
    {
     "name": "stdout",
     "output_type": "stream",
     "text": [
      "118\n",
      "[01:16:06] WARNING: ../src/learner.cc:1095: Starting in XGBoost 1.3.0, the default evaluation metric used with the objective 'binary:logistic' was changed from 'error' to 'logloss'. Explicitly set eval_metric if you'd like to restore the old behavior.\n"
     ]
    },
    {
     "name": "stderr",
     "output_type": "stream",
     "text": [
      "/home/tduricic/.local/lib/python3.8/site-packages/xgboost/data.py:112: UserWarning: Use subset (sliced data) of np.ndarray is not recommended because it will generate extra copies and increase memory consumption\n",
      "  warnings.warn(\n"
     ]
    },
    {
     "name": "stdout",
     "output_type": "stream",
     "text": [
      "119\n",
      "[01:16:56] WARNING: ../src/learner.cc:1095: Starting in XGBoost 1.3.0, the default evaluation metric used with the objective 'binary:logistic' was changed from 'error' to 'logloss'. Explicitly set eval_metric if you'd like to restore the old behavior.\n"
     ]
    },
    {
     "name": "stderr",
     "output_type": "stream",
     "text": [
      "/home/tduricic/.local/lib/python3.8/site-packages/xgboost/data.py:112: UserWarning: Use subset (sliced data) of np.ndarray is not recommended because it will generate extra copies and increase memory consumption\n",
      "  warnings.warn(\n"
     ]
    },
    {
     "name": "stdout",
     "output_type": "stream",
     "text": [
      "120\n",
      "[01:17:44] WARNING: ../src/learner.cc:1095: Starting in XGBoost 1.3.0, the default evaluation metric used with the objective 'binary:logistic' was changed from 'error' to 'logloss'. Explicitly set eval_metric if you'd like to restore the old behavior.\n"
     ]
    },
    {
     "name": "stderr",
     "output_type": "stream",
     "text": [
      "/home/tduricic/.local/lib/python3.8/site-packages/xgboost/data.py:112: UserWarning: Use subset (sliced data) of np.ndarray is not recommended because it will generate extra copies and increase memory consumption\n",
      "  warnings.warn(\n"
     ]
    },
    {
     "name": "stdout",
     "output_type": "stream",
     "text": [
      "121\n",
      "[01:18:28] WARNING: ../src/learner.cc:1095: Starting in XGBoost 1.3.0, the default evaluation metric used with the objective 'binary:logistic' was changed from 'error' to 'logloss'. Explicitly set eval_metric if you'd like to restore the old behavior.\n"
     ]
    },
    {
     "name": "stderr",
     "output_type": "stream",
     "text": [
      "/home/tduricic/.local/lib/python3.8/site-packages/xgboost/data.py:112: UserWarning: Use subset (sliced data) of np.ndarray is not recommended because it will generate extra copies and increase memory consumption\n",
      "  warnings.warn(\n"
     ]
    },
    {
     "name": "stdout",
     "output_type": "stream",
     "text": [
      "122\n",
      "[01:19:23] WARNING: ../src/learner.cc:1095: Starting in XGBoost 1.3.0, the default evaluation metric used with the objective 'binary:logistic' was changed from 'error' to 'logloss'. Explicitly set eval_metric if you'd like to restore the old behavior.\n"
     ]
    },
    {
     "name": "stderr",
     "output_type": "stream",
     "text": [
      "/home/tduricic/.local/lib/python3.8/site-packages/xgboost/data.py:112: UserWarning: Use subset (sliced data) of np.ndarray is not recommended because it will generate extra copies and increase memory consumption\n",
      "  warnings.warn(\n"
     ]
    },
    {
     "name": "stdout",
     "output_type": "stream",
     "text": [
      "123\n",
      "[01:19:43] WARNING: ../src/learner.cc:1095: Starting in XGBoost 1.3.0, the default evaluation metric used with the objective 'binary:logistic' was changed from 'error' to 'logloss'. Explicitly set eval_metric if you'd like to restore the old behavior.\n"
     ]
    },
    {
     "name": "stderr",
     "output_type": "stream",
     "text": [
      "/home/tduricic/.local/lib/python3.8/site-packages/xgboost/data.py:112: UserWarning: Use subset (sliced data) of np.ndarray is not recommended because it will generate extra copies and increase memory consumption\n",
      "  warnings.warn(\n"
     ]
    },
    {
     "name": "stdout",
     "output_type": "stream",
     "text": [
      "124\n",
      "[01:20:34] WARNING: ../src/learner.cc:1095: Starting in XGBoost 1.3.0, the default evaluation metric used with the objective 'binary:logistic' was changed from 'error' to 'logloss'. Explicitly set eval_metric if you'd like to restore the old behavior.\n"
     ]
    },
    {
     "name": "stderr",
     "output_type": "stream",
     "text": [
      "/home/tduricic/.local/lib/python3.8/site-packages/xgboost/data.py:112: UserWarning: Use subset (sliced data) of np.ndarray is not recommended because it will generate extra copies and increase memory consumption\n",
      "  warnings.warn(\n"
     ]
    },
    {
     "name": "stdout",
     "output_type": "stream",
     "text": [
      "125\n",
      "[01:21:24] WARNING: ../src/learner.cc:1095: Starting in XGBoost 1.3.0, the default evaluation metric used with the objective 'binary:logistic' was changed from 'error' to 'logloss'. Explicitly set eval_metric if you'd like to restore the old behavior.\n"
     ]
    },
    {
     "name": "stderr",
     "output_type": "stream",
     "text": [
      "/home/tduricic/.local/lib/python3.8/site-packages/xgboost/data.py:112: UserWarning: Use subset (sliced data) of np.ndarray is not recommended because it will generate extra copies and increase memory consumption\n",
      "  warnings.warn(\n"
     ]
    },
    {
     "name": "stdout",
     "output_type": "stream",
     "text": [
      "126\n",
      "[01:22:20] WARNING: ../src/learner.cc:1095: Starting in XGBoost 1.3.0, the default evaluation metric used with the objective 'binary:logistic' was changed from 'error' to 'logloss'. Explicitly set eval_metric if you'd like to restore the old behavior.\n"
     ]
    },
    {
     "name": "stderr",
     "output_type": "stream",
     "text": [
      "/home/tduricic/.local/lib/python3.8/site-packages/xgboost/data.py:112: UserWarning: Use subset (sliced data) of np.ndarray is not recommended because it will generate extra copies and increase memory consumption\n",
      "  warnings.warn(\n"
     ]
    },
    {
     "name": "stdout",
     "output_type": "stream",
     "text": [
      "127\n",
      "[01:23:07] WARNING: ../src/learner.cc:1095: Starting in XGBoost 1.3.0, the default evaluation metric used with the objective 'binary:logistic' was changed from 'error' to 'logloss'. Explicitly set eval_metric if you'd like to restore the old behavior.\n"
     ]
    },
    {
     "name": "stderr",
     "output_type": "stream",
     "text": [
      "/home/tduricic/.local/lib/python3.8/site-packages/xgboost/data.py:112: UserWarning: Use subset (sliced data) of np.ndarray is not recommended because it will generate extra copies and increase memory consumption\n",
      "  warnings.warn(\n"
     ]
    },
    {
     "name": "stdout",
     "output_type": "stream",
     "text": [
      "128\n",
      "[01:23:51] WARNING: ../src/learner.cc:1095: Starting in XGBoost 1.3.0, the default evaluation metric used with the objective 'binary:logistic' was changed from 'error' to 'logloss'. Explicitly set eval_metric if you'd like to restore the old behavior.\n"
     ]
    },
    {
     "name": "stderr",
     "output_type": "stream",
     "text": [
      "/home/tduricic/.local/lib/python3.8/site-packages/xgboost/data.py:112: UserWarning: Use subset (sliced data) of np.ndarray is not recommended because it will generate extra copies and increase memory consumption\n",
      "  warnings.warn(\n"
     ]
    },
    {
     "name": "stdout",
     "output_type": "stream",
     "text": [
      "129\n",
      "[01:24:44] WARNING: ../src/learner.cc:1095: Starting in XGBoost 1.3.0, the default evaluation metric used with the objective 'binary:logistic' was changed from 'error' to 'logloss'. Explicitly set eval_metric if you'd like to restore the old behavior.\n"
     ]
    },
    {
     "name": "stderr",
     "output_type": "stream",
     "text": [
      "/home/tduricic/.local/lib/python3.8/site-packages/xgboost/data.py:112: UserWarning: Use subset (sliced data) of np.ndarray is not recommended because it will generate extra copies and increase memory consumption\n",
      "  warnings.warn(\n"
     ]
    },
    {
     "name": "stdout",
     "output_type": "stream",
     "text": [
      "130\n",
      "[01:25:02] WARNING: ../src/learner.cc:1095: Starting in XGBoost 1.3.0, the default evaluation metric used with the objective 'binary:logistic' was changed from 'error' to 'logloss'. Explicitly set eval_metric if you'd like to restore the old behavior.\n"
     ]
    },
    {
     "name": "stderr",
     "output_type": "stream",
     "text": [
      "/home/tduricic/.local/lib/python3.8/site-packages/xgboost/data.py:112: UserWarning: Use subset (sliced data) of np.ndarray is not recommended because it will generate extra copies and increase memory consumption\n",
      "  warnings.warn(\n"
     ]
    },
    {
     "name": "stdout",
     "output_type": "stream",
     "text": [
      "131\n",
      "[01:25:45] WARNING: ../src/learner.cc:1095: Starting in XGBoost 1.3.0, the default evaluation metric used with the objective 'binary:logistic' was changed from 'error' to 'logloss'. Explicitly set eval_metric if you'd like to restore the old behavior.\n"
     ]
    },
    {
     "name": "stderr",
     "output_type": "stream",
     "text": [
      "/home/tduricic/.local/lib/python3.8/site-packages/xgboost/data.py:112: UserWarning: Use subset (sliced data) of np.ndarray is not recommended because it will generate extra copies and increase memory consumption\n",
      "  warnings.warn(\n"
     ]
    },
    {
     "name": "stdout",
     "output_type": "stream",
     "text": [
      "132\n",
      "[01:26:24] WARNING: ../src/learner.cc:1095: Starting in XGBoost 1.3.0, the default evaluation metric used with the objective 'binary:logistic' was changed from 'error' to 'logloss'. Explicitly set eval_metric if you'd like to restore the old behavior.\n"
     ]
    },
    {
     "name": "stderr",
     "output_type": "stream",
     "text": [
      "/home/tduricic/.local/lib/python3.8/site-packages/xgboost/data.py:112: UserWarning: Use subset (sliced data) of np.ndarray is not recommended because it will generate extra copies and increase memory consumption\n",
      "  warnings.warn(\n"
     ]
    },
    {
     "name": "stdout",
     "output_type": "stream",
     "text": [
      "133\n",
      "[01:27:14] WARNING: ../src/learner.cc:1095: Starting in XGBoost 1.3.0, the default evaluation metric used with the objective 'binary:logistic' was changed from 'error' to 'logloss'. Explicitly set eval_metric if you'd like to restore the old behavior.\n"
     ]
    },
    {
     "name": "stderr",
     "output_type": "stream",
     "text": [
      "/home/tduricic/.local/lib/python3.8/site-packages/xgboost/data.py:112: UserWarning: Use subset (sliced data) of np.ndarray is not recommended because it will generate extra copies and increase memory consumption\n",
      "  warnings.warn(\n"
     ]
    },
    {
     "name": "stdout",
     "output_type": "stream",
     "text": [
      "134\n",
      "[01:28:02] WARNING: ../src/learner.cc:1095: Starting in XGBoost 1.3.0, the default evaluation metric used with the objective 'binary:logistic' was changed from 'error' to 'logloss'. Explicitly set eval_metric if you'd like to restore the old behavior.\n"
     ]
    },
    {
     "name": "stderr",
     "output_type": "stream",
     "text": [
      "/home/tduricic/.local/lib/python3.8/site-packages/xgboost/data.py:112: UserWarning: Use subset (sliced data) of np.ndarray is not recommended because it will generate extra copies and increase memory consumption\n",
      "  warnings.warn(\n"
     ]
    },
    {
     "name": "stdout",
     "output_type": "stream",
     "text": [
      "135\n",
      "[01:28:53] WARNING: ../src/learner.cc:1095: Starting in XGBoost 1.3.0, the default evaluation metric used with the objective 'binary:logistic' was changed from 'error' to 'logloss'. Explicitly set eval_metric if you'd like to restore the old behavior.\n"
     ]
    },
    {
     "name": "stderr",
     "output_type": "stream",
     "text": [
      "/home/tduricic/.local/lib/python3.8/site-packages/xgboost/data.py:112: UserWarning: Use subset (sliced data) of np.ndarray is not recommended because it will generate extra copies and increase memory consumption\n",
      "  warnings.warn(\n"
     ]
    },
    {
     "name": "stdout",
     "output_type": "stream",
     "text": [
      "136\n",
      "[01:30:10] WARNING: ../src/learner.cc:1095: Starting in XGBoost 1.3.0, the default evaluation metric used with the objective 'binary:logistic' was changed from 'error' to 'logloss'. Explicitly set eval_metric if you'd like to restore the old behavior.\n"
     ]
    },
    {
     "name": "stderr",
     "output_type": "stream",
     "text": [
      "/home/tduricic/.local/lib/python3.8/site-packages/xgboost/data.py:112: UserWarning: Use subset (sliced data) of np.ndarray is not recommended because it will generate extra copies and increase memory consumption\n",
      "  warnings.warn(\n"
     ]
    },
    {
     "name": "stdout",
     "output_type": "stream",
     "text": [
      "137\n",
      "[01:30:39] WARNING: ../src/learner.cc:1095: Starting in XGBoost 1.3.0, the default evaluation metric used with the objective 'binary:logistic' was changed from 'error' to 'logloss'. Explicitly set eval_metric if you'd like to restore the old behavior.\n"
     ]
    },
    {
     "name": "stderr",
     "output_type": "stream",
     "text": [
      "/home/tduricic/.local/lib/python3.8/site-packages/xgboost/data.py:112: UserWarning: Use subset (sliced data) of np.ndarray is not recommended because it will generate extra copies and increase memory consumption\n",
      "  warnings.warn(\n"
     ]
    },
    {
     "name": "stdout",
     "output_type": "stream",
     "text": [
      "138\n",
      "[01:31:42] WARNING: ../src/learner.cc:1095: Starting in XGBoost 1.3.0, the default evaluation metric used with the objective 'binary:logistic' was changed from 'error' to 'logloss'. Explicitly set eval_metric if you'd like to restore the old behavior.\n"
     ]
    },
    {
     "name": "stderr",
     "output_type": "stream",
     "text": [
      "/home/tduricic/.local/lib/python3.8/site-packages/xgboost/data.py:112: UserWarning: Use subset (sliced data) of np.ndarray is not recommended because it will generate extra copies and increase memory consumption\n",
      "  warnings.warn(\n"
     ]
    },
    {
     "name": "stdout",
     "output_type": "stream",
     "text": [
      "139\n",
      "[01:32:25] WARNING: ../src/learner.cc:1095: Starting in XGBoost 1.3.0, the default evaluation metric used with the objective 'binary:logistic' was changed from 'error' to 'logloss'. Explicitly set eval_metric if you'd like to restore the old behavior.\n"
     ]
    },
    {
     "name": "stderr",
     "output_type": "stream",
     "text": [
      "/home/tduricic/.local/lib/python3.8/site-packages/xgboost/data.py:112: UserWarning: Use subset (sliced data) of np.ndarray is not recommended because it will generate extra copies and increase memory consumption\n",
      "  warnings.warn(\n"
     ]
    },
    {
     "name": "stdout",
     "output_type": "stream",
     "text": [
      "140\n"
     ]
    }
   ],
   "source": [
    "evaluation_results_new = []\n",
    "for dataset_id in range(10):\n",
    "    # Load datasets\n",
    "    network_features_df = pd.read_csv('dataframes/links_dfs/' + str(dataset_id) + '/links_df_network_features.csv', index_col=0)\n",
    "    network_features_df = network_features_df.sample(random_state=dataset_id, frac=1).reset_index(drop=True)\n",
    "    listening_profile_features_df = pd.read_csv('dataframes/links_dfs/' + str(dataset_id) + '/links_df_listening_profile_features.csv', index_col=0)\n",
    "    listening_profile_features_df = listening_profile_features_df.sample(random_state=dataset_id, frac=1).reset_index(drop=True)\n",
    "    listening_characteristics_features_df = pd.read_csv('dataframes/links_dfs/' + str(dataset_id) + '/links_df_listening_characteristics_features.csv', index_col=0)\n",
    "    listening_characteristics_features_df = listening_characteristics_features_df.drop(columns=[\"user1_allmusic_weighted_average_diversity\",\n",
    "                                                                                                \"user1_allmusic_genre_coverage_diversity\",\n",
    "                                                                                                \"user1_allmusic_entropy_diversity\",\n",
    "                                                                                                \"user1_user_groups_allmusic_weighted_average_diversity_high\",\n",
    "                                                                                                \"user1_user_groups_allmusic_weighted_average_diversity_low\",\n",
    "                                                                                                \"user1_user_groups_allmusic_weighted_average_diversity_medium\",\n",
    "                                                                                                \"user1_user_groups_allmusic_genre_coverage_diversity_high\",\n",
    "                                                                                                \"user1_user_groups_allmusic_genre_coverage_diversity_low\",\n",
    "                                                                                                \"user1_user_groups_allmusic_entropy_diversity_high\",\n",
    "                                                                                                \"user1_user_groups_allmusic_entropy_diversity_low\",\n",
    "                                                                                                \"user1_user_groups_allmusic_entropy_diversity_medium\",\n",
    "                                                                                                \"user2_allmusic_weighted_average_diversity\",\n",
    "                                                                                                \"user2_allmusic_genre_coverage_diversity\",\n",
    "                                                                                                \"user2_allmusic_entropy_diversity\",\n",
    "                                                                                                \"user2_user_groups_allmusic_weighted_average_diversity_high\",\n",
    "                                                                                                \"user2_user_groups_allmusic_weighted_average_diversity_low\",\n",
    "                                                                                                \"user2_user_groups_allmusic_weighted_average_diversity_medium\",\n",
    "                                                                                                \"user2_user_groups_allmusic_genre_coverage_diversity_high\",\n",
    "                                                                                                \"user2_user_groups_allmusic_genre_coverage_diversity_low\",\n",
    "                                                                                                \"user2_user_groups_allmusic_entropy_diversity_high\",\n",
    "                                                                                                \"user2_user_groups_allmusic_entropy_diversity_low\",\n",
    "                                                                                                \"user2_user_groups_allmusic_entropy_diversity_medium\",\n",
    "                                                                                                \"relative_change_allmusic_weighted_average_diversity\",\n",
    "                                                                                                \"relative_change_allmusic_genre_coverage_diversity\",\n",
    "                                                                                                \"relative_change_allmusic_entropy_diversity\",\n",
    "                                                                                                \"same_user_groups_allmusic_weighted_average_diversity\",\n",
    "                                                                                                \"same_user_groups_allmusic_genre_coverage_diversity\",\n",
    "                                                                                                \"same_user_groups_allmusic_entropy_diversity\",\n",
    "                                                                                                \"user1_cnt_listeningevents_lognorm\",\n",
    "                                                                                                \"user1_cnt_listeningevents_per_week_lognorm\",\n",
    "                                                                                                \"user1_user_groups_cnt_listeningevents_lognorm_high\",\n",
    "                                                                                                \"user1_user_groups_cnt_listeningevents_lognorm_low\",\n",
    "                                                                                                \"user1_user_groups_cnt_listeningevents_lognorm_medium\",\n",
    "                                                                                                \"user1_user_groups_cnt_listeningevents_per_week_lognorm_high\",\n",
    "                                                                                                \"user1_user_groups_cnt_listeningevents_per_week_lognorm_low\",\n",
    "                                                                                                \"user1_user_groups_cnt_listeningevents_per_week_lognorm_medium\",\n",
    "                                                                                                \"user2_cnt_listeningevents_lognorm\",\n",
    "                                                                                                \"user2_cnt_listeningevents_per_week_lognorm\",\n",
    "                                                                                                \"user2_user_groups_cnt_listeningevents_lognorm_high\",\n",
    "                                                                                                \"user2_user_groups_cnt_listeningevents_lognorm_low\",\n",
    "                                                                                                \"user2_user_groups_cnt_listeningevents_lognorm_medium\",\n",
    "                                                                                                \"user2_user_groups_cnt_listeningevents_per_week_lognorm_high\",\n",
    "                                                                                                \"user2_user_groups_cnt_listeningevents_per_week_lognorm_low\",\n",
    "                                                                                                \"user2_user_groups_cnt_listeningevents_per_week_lognorm_medium\",\n",
    "                                                                                                \"relative_change_cnt_listeningevents_lognorm\",\n",
    "                                                                                                \"relative_change_cnt_listeningevents_per_week_lognorm\",\n",
    "                                                                                                \"same_user_groups_cnt_listeningevents_lognorm\",\n",
    "                                                                                                \"same_user_groups_cnt_listeningevents_per_week_lognorm\",\n",
    "                                                                                                \"user1_playcount_lognorm\",\n",
    "                                                                                                \"user1_user_groups_playcount_lognorm_high\",\n",
    "                                                                                                \"user1_user_groups_playcount_lognorm_low\",\n",
    "                                                                                                \"user1_user_groups_playcount_lognorm_medium\",\n",
    "                                                                                                \"user2_playcount_lognorm\",\n",
    "                                                                                                \"user2_user_groups_playcount_lognorm_high\",\n",
    "                                                                                                \"user2_user_groups_playcount_lognorm_low\",\n",
    "                                                                                                \"user2_user_groups_playcount_lognorm_medium\",\n",
    "                                                                                                \"relative_change_playcount_lognorm\",\n",
    "                                                                                                \"same_user_groups_playcount_lognorm\"])\n",
    "    listening_characteristics_features_df = listening_characteristics_features_df.sample(random_state=dataset_id, frac=1).reset_index(drop=True)\n",
    "#     full_df = pd.read_csv('dataframes/links_dfs/' + str(dataset_index) + '/links_df_full.csv', index_col=0)\n",
    "#     full_df = full_df.sample(frac=1).reset_index(drop=True)\n",
    "    # Map dataframes by attribute types\n",
    "    feature_dict = {\n",
    "        'lpf':listening_profile_features_df,\n",
    "        'lcf':listening_characteristics_features_df,\n",
    "        'nf':network_features_df\n",
    "    }\n",
    "    for split_seed in range(2):\n",
    "        for nf in [None, 'nf']:\n",
    "            for lpf in [None, 'lpf']:\n",
    "                for lcf in [None, 'lcf']:\n",
    "                    feature_combination = (nf, lpf, lcf)\n",
    "#                     print('Other features - dataset_id: ', dataset_id, ', split_seed: ', split_seed, ', feature_combination: ', feature_combination)\n",
    "#                     log.info('Other features - dataset_id: ', dataset_id, ', split_seed: ', split_seed, ', feature_combination: ', feature_combination)\n",
    "                    if feature_combination == (None,None,None):\n",
    "                        continue\n",
    "                    dfs_to_combine = []\n",
    "                    for x in (nf, lpf, lcf):\n",
    "                        if x is not None:\n",
    "                            dfs_to_combine.append(feature_dict[x])\n",
    "                    input_df = pd.concat(dfs_to_combine, axis=1)\n",
    "                    input_df = input_df.loc[:,~input_df.columns.duplicated()]\n",
    "                                \n",
    "                    X_train, X_test, y_train, y_test = train_test_split(input_df.drop(columns=['label']), input_df['label'], test_size=0.2, random_state=split_seed)\n",
    "                    xgb = XGBClassifier(n_estimators=100, use_label_encoder=False)\n",
    "                    user_ids_test = pd.DataFrame(X_test[['user1_user_id', 'user2_user_id']])\n",
    "                    X_train = X_train.drop(columns=['user1_user_id', 'user2_user_id'])\n",
    "                    X_test = X_test.drop(columns=['user1_user_id', 'user2_user_id'])\n",
    "                    xgb.fit(X_train, y_train)\n",
    "                    y_pred = xgb.predict(X_test)\n",
    "                    predictions = [round(value) for value in y_pred]\n",
    "                    # evaluate predictions\n",
    "                    report = classification_report(y_test, predictions)\n",
    "                    prfs_macro = precision_recall_fscore_support(y_test, predictions, average='macro')\n",
    "                    prfs_micro = precision_recall_fscore_support(y_test, predictions, average='micro')\n",
    "                    prfs_weighted = precision_recall_fscore_support(y_test, predictions, average='weighted')\n",
    "#                     print(prfs_weighted)\n",
    "                    feature_importances = sorted(list(zip(xgb.feature_importances_, list(X_train.columns))),  key=lambda x: x[0], reverse=True)\n",
    "                    evaluation_result = {\n",
    "                        'dataset_id': dataset_id,\n",
    "                        'split_seed': split_seed,\n",
    "                        'network_features': False if nf is None else True,\n",
    "                        'listening_profile_features': False if lpf is None else True,\n",
    "                        'listening_characteristics_features': False if lcf is None else True,\n",
    "                        'report': report,\n",
    "                        'xgb_feature_importances': feature_importances,\n",
    "                        'user_ids_test': user_ids_test,\n",
    "                        'y_test': y_test,\n",
    "                        'y_pred': y_pred,\n",
    "                        'prfs_macro': prfs_macro,\n",
    "                        'prfs_micro': prfs_micro,\n",
    "                        'prfs_weighted': prfs_weighted\n",
    "                    }\n",
    "                    evaluation_results_new.append(evaluation_result)\n",
    "                    print(len(evaluation_results_new))"
   ]
  },
  {
   "cell_type": "code",
   "execution_count": 34,
   "metadata": {},
   "outputs": [
    {
     "data": {
      "text/plain": [
       "0.7655750538873909"
      ]
     },
     "execution_count": 34,
     "metadata": {},
     "output_type": "execute_result"
    }
   ],
   "source": [
    "evaluation_results[0]['prfs_weighted'][2]\n",
    "evaluation_results_new"
   ]
  },
  {
   "cell_type": "code",
   "execution_count": 11,
   "metadata": {},
   "outputs": [
    {
     "data": {
      "text/plain": [
       "100"
      ]
     },
     "execution_count": 11,
     "metadata": {},
     "output_type": "execute_result"
    }
   ],
   "source": [
    "len(evaluation_results_new)"
   ]
  },
  {
   "cell_type": "code",
   "execution_count": 14,
   "metadata": {},
   "outputs": [],
   "source": [
    "filtered_results = []\n",
    "for evaluation_result in evaluation_results_new:\n",
    "    approach_name = ''\n",
    "    if evaluation_result['network_features']==True:\n",
    "        if approach_name =='':\n",
    "            approach_name='GF'\n",
    "        else:\n",
    "            approach_name+='+GF'\n",
    "    if evaluation_result['listening_profile_features']==True:\n",
    "        if approach_name =='':\n",
    "            approach_name='APF'\n",
    "        else:\n",
    "            approach_name+='+APF'\n",
    "    if evaluation_result['listening_characteristics_features']==True:\n",
    "        if approach_name =='':\n",
    "            approach_name='MNDF'\n",
    "        else:\n",
    "            approach_name+='+MNDF'\n",
    "    filtered_results.append({\n",
    "        'dataset_id':evaluation_result['dataset_id'],\n",
    "        'split_seed':evaluation_result['split_seed'],\n",
    "        'network_features':evaluation_result['network_features'],\n",
    "        'listening_profile_features':evaluation_result['listening_profile_features'],\n",
    "        'listening_characteristics_features':evaluation_result['listening_characteristics_features'],\n",
    "        'accuracy':evaluation_result['report'].split()[15],\n",
    "        'f_score':evaluation_result['prfs_weighted'][2],\n",
    "        'approach_name':approach_name\n",
    "    })\n",
    "filtered_results_df = pd.DataFrame(filtered_results)"
   ]
  },
  {
   "cell_type": "code",
   "execution_count": 15,
   "metadata": {},
   "outputs": [
    {
     "data": {
      "text/plain": [
       "<pandas.core.groupby.generic.DataFrameGroupBy object at 0x7f86bb716eb0>"
      ]
     },
     "execution_count": 15,
     "metadata": {},
     "output_type": "execute_result"
    }
   ],
   "source": [
    "filtered_results_df[['approach_name', 'f_score']].groupby(['approach_name'])"
   ]
  },
  {
   "cell_type": "code",
   "execution_count": 16,
   "metadata": {},
   "outputs": [],
   "source": [
    "grouped = filtered_results_df[['approach_name', 'f_score']].groupby(['approach_name'])"
   ]
  },
  {
   "cell_type": "code",
   "execution_count": 9,
   "metadata": {},
   "outputs": [
    {
     "name": "stdout",
     "output_type": "stream",
     "text": [
      "<pandas.core.groupby.generic.DataFrameGroupBy object at 0x7f86bb8b51f0>\n"
     ]
    }
   ],
   "source": []
  },
  {
   "cell_type": "code",
   "execution_count": 22,
   "metadata": {},
   "outputs": [
    {
     "data": {
      "image/png": "[encoded data removed]",
      "text/plain": [
       "<Figure size 576x432 with 1 Axes>"
      ]
     },
     "metadata": {
      "needs_background": "light"
     },
     "output_type": "display_data"
    }
   ],
   "source": [
    "plt.rcParams.update({'figure.figsize' : (8,6)})\n",
    "plt.rcParams.update({'font.size': 20})\n",
    "ax = sns.boxplot(palette=\"flare\", x=\"approach_name\", y=\"f_score\", data=filtered_results_df[(filtered_results_df.approach_name=='MNDF')|(filtered_results_df.approach_name=='APF')|(filtered_results_df.approach_name=='APF+MNDF')|(filtered_results_df.approach_name=='GF')|(filtered_results_df.approach_name=='GF+MNDF')|(filtered_results_df.approach_name=='GF+APF')|(filtered_results_df.approach_name=='GF+APF+MNDF')])\n",
    "ax.set(xlabel='Feature combination', ylabel='F1 Score')\n",
    "ax.set_xticklabels(ax.get_xticklabels(),rotation=45)\n",
    "ax.axhline(0.5, ls='--', color='red')\n",
    "plt.savefig('link-prediction-results_all.pdf', dpi=300, bbox_inches = \"tight\")"
   ]
  },
  {
   "cell_type": "code",
   "execution_count": 155,
   "metadata": {},
   "outputs": [
    {
     "data": {
      "image/png": "[encoded data removed]",
      "text/plain": [
       "<Figure size 576x432 with 1 Axes>"
      ]
     },
     "metadata": {
      "needs_background": "light"
     },
     "output_type": "display_data"
    }
   ],
   "source": [
    "ax = sns.boxplot(palette=\"rocket\", x=\"approach_name\", y=\"f_score\", data=filtered_results_df[(filtered_results_df.approach_name=='GF')|(filtered_results_df.approach_name=='GF+MNDF')|(filtered_results_df.approach_name=='GF+APF')|(filtered_results_df.approach_name=='GF+APF+MNDF')])\n",
    "ax.set_xticklabels(ax.get_xticklabels(),rotation=30)\n",
    "ax.set(xlabel='Feature combination', ylabel='F1 Score')\n",
    "plt.savefig('link-prediction-results_network.pdf', dpi=300, bbox_inches = \"tight\")"
   ]
  },
  {
   "cell_type": "code",
   "execution_count": 107,
   "metadata": {},
   "outputs": [],
   "source": [
    "feature_importances = []\n",
    "for evaluation_result in evaluation_results_new:\n",
    "    if evaluation_result['network_features']==False and evaluation_result['listening_profile_features']==True and evaluation_result['listening_characteristics_features']==True:\n",
    "        tmp = {}\n",
    "        for entry in evaluation_result['xgb_feature_importances']:\n",
    "            tmp[entry[1]] = entry[0]\n",
    "        feature_importances.append(tmp)"
   ]
  },
  {
   "cell_type": "code",
   "execution_count": 109,
   "metadata": {},
   "outputs": [],
   "source": [
    "feature_importances_df = pd.DataFrame(feature_importances)"
   ]
  },
  {
   "cell_type": "code",
   "execution_count": 135,
   "metadata": {},
   "outputs": [],
   "source": [
    "#pd.options.display.max_rows = 4000\n",
    "\n",
    "# cosine similarity NMF artist profiles\n",
    "nmf_cos = [0.0964]\n",
    "\n",
    "# artist profile NMF features\n",
    "nmf = [0.014467,0.013714,0.012132,0.012415,0.013930,0.012921,0.012641,0.012040,0.009208,0.011508,0.007551,0.010624,0.010258,0.011726,0.011659,0.010974,0.008955,0.011105,0.012269,0.011755,0.009841,0.012145,0.008594,0.010203,0.010201,0.010388,0.009355,0.008472,0.011826,0.009174,0.009399,0.007929,0.008068,0.008373,0.008737,0.008029,0.007460,0.009045,0.006984,0.006976]\n",
    "\n",
    "# mainstreaminess features\n",
    "mf = [0.012942,0.011272,0.010631,0.010595,0.008229,0.008650,0.008404,0.007011]\n",
    "# relative change mainstreaminess features\n",
    "mf_rc = [0.003321,0.003932,0.002448,0.002681]\n",
    "# same user groups mainstreaminess\n",
    "mf_sug = [0.001538,0.001997,0.002758,0.003744]\n",
    "# user groups mainstreaminess\n",
    "mf_ug = [0.005767,0.009106,0.004232,0.009033,0.009249,0.004761,0.008786,0.004975]\n",
    "\n",
    "# novelty features\n",
    "nf = [0.011938,0.012331,0.010170,0.008691,0.008472,0.008414]\n",
    "# relative change novelty features\n",
    "nf_rc = [0.004122,0.002660,0.002860]\n",
    "# same user groups novelty\n",
    "nf_sug = [0.004988,0.002474,0.001941]\n",
    "# user groups novelty\n",
    "nf_ug = [0.011275,0.006157,0.009254,0.008967,0.007628,0.005738]\n",
    "\n",
    "# diversity features\n",
    "df = [0.010663,0.010581,0.009270,0.010307,0.007928,0.007486,0.015052,0.010120,0.010731,0.008015]\n",
    "# relative change diversity features\n",
    "df_rc = [0.004825,0.003638,0.002786,0.003417,0.003322]\n",
    "# same user groups diversity\n",
    "df_sug = [0.005174, 0.004901,0.002172,0.001804,0.001618]\n",
    "# user groups diversity\n",
    "df_ug = [0.007160,0.010064,0.005247,0.006982,0.005752,0.008968,0.010700,0.006686,0.007070,0.004009]"
   ]
  },
  {
   "cell_type": "code",
   "execution_count": 145,
   "metadata": {},
   "outputs": [
    {
     "name": "stdout",
     "output_type": "stream",
     "text": [
      "0.4905900000000001\n",
      "0.5094510000000001\n",
      "0.15606199999999998\n",
      "0.12808\n",
      "0.206448\n",
      "0.006813750000000001\n",
      "0.012425634146341466\n",
      "0.0065025833333333324\n",
      "0.0071155555555555555\n",
      "0.0068816\n"
     ]
    }
   ],
   "source": [
    "# absolute contributions\n",
    "# mndf\n",
    "print(sum(mf+mf_rc+mf_sug+mf_ug+nf+nf_rc+nf_sug+nf_ug+df+df_rc+df_sug+df_ug))\n",
    "# apf \n",
    "print(sum(nmf + nmf_cos))\n",
    "# mf\n",
    "print(sum(mf+mf_rc+mf_sug+mf_ug))\n",
    "# nf\n",
    "print(sum(nf+nf_rc+nf_sug+nf_ug))\n",
    "# df\n",
    "print(sum(df+df_rc+df_sug+df_ug))\n",
    "\n",
    "# relative contributions\n",
    "# mndf\n",
    "print(sum(mf+mf_rc+mf_sug+mf_ug+nf+nf_rc+nf_sug+nf_ug+df+df_rc+df_sug+df_ug)/len(mf+mf_rc+mf_sug+mf_ug+nf+nf_rc+nf_sug+nf_ug+df+df_rc+df_sug+df_ug))\n",
    "# apf\n",
    "print(sum(nmf + nmf_cos)/len(nmf + nmf_cos))\n",
    "# mf\n",
    "print(sum(mf+mf_rc+mf_sug+mf_ug)/len(mf+mf_rc+mf_sug+mf_ug))\n",
    "# nf\n",
    "print(sum(nf+nf_rc+nf_sug+nf_ug)/len(nf+nf_rc+nf_sug+nf_ug))\n",
    "# df\n",
    "print(sum(df+df_rc+df_sug+df_ug)/len(df+df_rc+df_sug+df_ug))"
   ]
  },
  {
   "cell_type": "code",
   "execution_count": 168,
   "metadata": {},
   "outputs": [
    {
     "data": {
      "image/png": "[encoded data removed]",
      "text/plain": [
       "<Figure size 576x432 with 1 Axes>"
      ]
     },
     "metadata": {
      "needs_background": "light"
     },
     "output_type": "display_data"
    }
   ],
   "source": [
    "ax = sns.barplot(x=[0.4905900000000001, 0.5094510000000001, 0.15606199999999998, 0.12808, 0.206448], y=['MNDF', 'APF', 'M', 'N', 'D'], palette='mako')\n",
    "ax.set(xlabel=\"Feature importance sum\")\n",
    "plt.savefig('feature-importance-sum.pdf', dpi=300, bbox_inches = \"tight\")"
   ]
  },
  {
   "cell_type": "code",
   "execution_count": 169,
   "metadata": {},
   "outputs": [
    {
     "data": {
      "image/png": "[encoded data removed]",
      "text/plain": [
       "<Figure size 576x432 with 1 Axes>"
      ]
     },
     "metadata": {
      "needs_background": "light"
     },
     "output_type": "display_data"
    }
   ],
   "source": [
    "ax = sns.barplot(x=[0.006813750000000001, 0.012425634146341466, 0.0065025833333333324, 0.0071155555555555555, 0.0068816], y=['MNDF', 'APF', 'M', 'N', 'D'], palette='mako')\n",
    "ax.set(xlabel=\"Relative feature importance\")\n",
    "plt.savefig('relative-feature-importance.pdf', dpi=300, bbox_inches = \"tight\")"
   ]
  },
  {
   "cell_type": "code",
   "execution_count": null,
   "metadata": {},
   "outputs": [],
   "source": [
    "    listening_characteristics_features_df = listening_characteristics_features_df[['user1_user_id',\n",
    "                                                                               'user2_user_id',\n",
    "                                                                               'user1_mainstreaminess_global',\n",
    "                                                                               'user1_user_groups_mainstreaminess_global_high',\n",
    "                                                                               'user1_user_groups_mainstreaminess_global_low',\n",
    "                                                                               'user1_user_groups_mainstreaminess_global_medium',\n",
    "                                                                               'user2_mainstreaminess_global',\n",
    "                                                                               'user2_user_groups_mainstreaminess_global_high',\n",
    "                                                                               'user2_user_groups_mainstreaminess_global_low',\n",
    "                                                                               'user2_user_groups_mainstreaminess_global_medium',\n",
    "                                                                               'relative_change_mainstreaminess_global',\n",
    "                                                                               'same_user_groups_mainstreaminess_global',\n",
    "                                                                               'user1_novelty_artist_avg_6months',\n",
    "                                                                               'user1_user_groups_novelty_artist_avg_6months_high',\n",
    "                                                                               'user1_user_groups_novelty_artist_avg_6months_low',\n",
    "                                                                               'user1_user_groups_novelty_artist_avg_6months_medium',\n",
    "                                                                               'user2_novelty_artist_avg_6months',\n",
    "                                                                               'user2_user_groups_novelty_artist_avg_6months_high',\n",
    "                                                                               'user2_user_groups_novelty_artist_avg_6months_low',\n",
    "                                                                               'user2_user_groups_novelty_artist_avg_6months_medium',\n",
    "                                                                               'relative_change_novelty_artist_avg_6months',\n",
    "                                                                               'same_user_groups_novelty_artist_avg_6months',\n",
    "                                                                               'user1_freebase_weighted_average_diversity',\n",
    "                                                                               'user1_user_groups_freebase_weighted_average_diversity_high',\n",
    "                                                                               'user1_user_groups_freebase_weighted_average_diversity_low',\n",
    "                                                                               'user1_user_groups_freebase_weighted_average_diversity_medium',\n",
    "                                                                               'user2_freebase_weighted_average_diversity',\n",
    "                                                                               'user2_user_groups_freebase_weighted_average_diversity_high',\n",
    "                                                                               'user2_user_groups_freebase_weighted_average_diversity_low',\n",
    "                                                                               'user2_user_groups_freebase_weighted_average_diversity_medium',\n",
    "                                                                               'relative_change_freebase_weighted_average_diversity',\n",
    "                                                                               'same_user_groups_freebase_weighted_average_diversity',\n",
    "                                                                               'label']]"
   ]
  },
  {
   "cell_type": "code",
   "execution_count": 42,
   "metadata": {},
   "outputs": [
    {
     "name": "stdout",
     "output_type": "stream",
     "text": [
      "Other features - dataset_id:  0 , split_seed:  0 , feature_combination:  (None, None)\n",
      "Other features - dataset_id:  0 , split_seed:  0 , feature_combination:  (None, 'lcf')\n",
      "[11:26:44] WARNING: ../src/learner.cc:1095: Starting in XGBoost 1.3.0, the default evaluation metric used with the objective 'binary:logistic' was changed from 'error' to 'logloss'. Explicitly set eval_metric if you'd like to restore the old behavior.\n"
     ]
    },
    {
     "name": "stderr",
     "output_type": "stream",
     "text": [
      "/home/tduricic/.local/lib/python3.8/site-packages/xgboost/data.py:112: UserWarning: Use subset (sliced data) of np.ndarray is not recommended because it will generate extra copies and increase memory consumption\n",
      "  warnings.warn(\n"
     ]
    },
    {
     "name": "stdout",
     "output_type": "stream",
     "text": [
      "(0.7659966306300999, 0.7656665400683631, 0.7655750538873909, None)\n",
      "Other features - dataset_id:  0 , split_seed:  0 , feature_combination:  ('lpf', None)\n",
      "[11:27:29] WARNING: ../src/learner.cc:1095: Starting in XGBoost 1.3.0, the default evaluation metric used with the objective 'binary:logistic' was changed from 'error' to 'logloss'. Explicitly set eval_metric if you'd like to restore the old behavior.\n"
     ]
    },
    {
     "name": "stderr",
     "output_type": "stream",
     "text": [
      "/home/tduricic/.local/lib/python3.8/site-packages/xgboost/data.py:112: UserWarning: Use subset (sliced data) of np.ndarray is not recommended because it will generate extra copies and increase memory consumption\n",
      "  warnings.warn(\n"
     ]
    },
    {
     "name": "stdout",
     "output_type": "stream",
     "text": [
      "(0.7836066930268092, 0.7835169008735283, 0.7834911350248384, None)\n",
      "Other features - dataset_id:  0 , split_seed:  0 , feature_combination:  ('lpf', 'lcf')\n",
      "[11:28:05] WARNING: ../src/learner.cc:1095: Starting in XGBoost 1.3.0, the default evaluation metric used with the objective 'binary:logistic' was changed from 'error' to 'logloss'. Explicitly set eval_metric if you'd like to restore the old behavior.\n"
     ]
    },
    {
     "name": "stderr",
     "output_type": "stream",
     "text": [
      "/home/tduricic/.local/lib/python3.8/site-packages/xgboost/data.py:112: UserWarning: Use subset (sliced data) of np.ndarray is not recommended because it will generate extra copies and increase memory consumption\n",
      "  warnings.warn(\n"
     ]
    },
    {
     "name": "stdout",
     "output_type": "stream",
     "text": [
      "(0.7930589034285619, 0.7930117736422332, 0.7929975794569828, None)\n"
     ]
    }
   ],
   "source": [
    "evaluation_results = []\n",
    "for dataset_id in range(1):\n",
    "    # Load datasets\n",
    "    listening_profile_features_df = pd.read_csv('dataframes/links_dfs/' + str(dataset_id) + '/links_df_listening_profile_features.csv', index_col=0)\n",
    "    listening_profile_features_df = listening_profile_features_df.sample(random_state=dataset_id, frac=1).reset_index(drop=True)\n",
    "    listening_characteristics_features_df = pd.read_csv('dataframes/links_dfs/' + str(dataset_id) + '/links_df_listening_characteristics_features.csv', index_col=0)\n",
    "    listening_characteristics_features_df = listening_characteristics_features_df.sample(random_state=dataset_id, frac=1).reset_index(drop=True)\n",
    "\n",
    "    # Map dataframes by attribute types\n",
    "    feature_dict = {\n",
    "        'lpf':listening_profile_features_df,\n",
    "        'lcf':listening_characteristics_features_df\n",
    "    }\n",
    "    for split_seed in range(1):\n",
    "        for lpf in [None, 'lpf']:\n",
    "            for lcf in [None, 'lcf']:\n",
    "                feature_combination = (lpf, lcf)\n",
    "                print('Other features - dataset_id: ', dataset_id, ', split_seed: ', split_seed, ', feature_combination: ', feature_combination)\n",
    "                log.info('Other features - dataset_id: ', dataset_id, ', split_seed: ', split_seed, ', feature_combination: ', feature_combination)\n",
    "                if feature_combination == (None,None):\n",
    "                    continue\n",
    "                dfs_to_combine = []\n",
    "                for x in (lpf, lcf):\n",
    "                    if x is not None:\n",
    "                        dfs_to_combine.append(feature_dict[x])\n",
    "                input_df = pd.concat(dfs_to_combine, axis=1)\n",
    "                input_df = input_df.loc[:,~input_df.columns.duplicated()]\n",
    "                                \n",
    "                X_train, X_test, y_train, y_test = train_test_split(input_df.drop(columns=['label']), input_df['label'], test_size=0.2, random_state=split_seed)\n",
    "                xgb = XGBClassifier(n_estimators=100, use_label_encoder=False)\n",
    "                user_ids_test = pd.DataFrame(X_test[['user1_user_id', 'user2_user_id']])\n",
    "                X_train = X_train.drop(columns=['user1_user_id', 'user2_user_id'])\n",
    "                X_test = X_test.drop(columns=['user1_user_id', 'user2_user_id'])\n",
    "                xgb.fit(X_train, y_train)\n",
    "                y_pred = xgb.predict(X_test)\n",
    "                predictions = [round(value) for value in y_pred]\n",
    "                # evaluate predictions\n",
    "                report = classification_report(y_test, predictions)\n",
    "                prfs_macro = precision_recall_fscore_support(y_test, predictions, average='macro')\n",
    "                prfs_micro = precision_recall_fscore_support(y_test, predictions, average='micro')\n",
    "                prfs_weighted = precision_recall_fscore_support(y_test, predictions, average='weighted')\n",
    "                print(prfs_weighted)\n",
    "                feature_importances = sorted(list(zip(xgb.feature_importances_, list(X_train.columns))),  key=lambda x: x[0], reverse=True)\n",
    "                evaluation_result = {\n",
    "                    'dataset_id': dataset_id,\n",
    "                    'split_seed': split_seed,\n",
    "                    'listening_profile_features': False if lpf is None else True,\n",
    "                    'listening_characteristics_features': False if lcf is None else True,\n",
    "                    'report': report,\n",
    "                    'xgb_feature_importances': feature_importances,\n",
    "                    'user_ids_test': user_ids_test,\n",
    "                    'y_test': y_test,\n",
    "                    'y_pred': y_pred,\n",
    "                    'prfs_macro': prfs_macro,\n",
    "                    'prfs_micro': prfs_micro,\n",
    "                    'prfs_weighted': prfs_weighted\n",
    "                }\n",
    "                evaluation_results.append(evaluation_result)"
   ]
  },
  {
   "cell_type": "code",
   "execution_count": 43,
   "metadata": {},
   "outputs": [
    {
     "name": "stderr",
     "output_type": "stream",
     "text": [
      "<ipython-input-43-ed87d8205faa>:3: FutureWarning: The pandas.np module is deprecated and will be removed from pandas in a future version. Import numpy directly instead\n",
      "  user_ids_test_df = pd.DataFrame(pd.np.column_stack([user_ids_test_df, evaluation_results[0]['y_test']]))\n",
      "<ipython-input-43-ed87d8205faa>:4: FutureWarning: The pandas.np module is deprecated and will be removed from pandas in a future version. Import numpy directly instead\n",
      "  user_ids_test_df = pd.DataFrame(pd.np.column_stack([user_ids_test_df, evaluation_results[0]['y_pred']]))\n"
     ]
    },
    {
     "name": "stdout",
     "output_type": "stream",
     "text": [
      "Using only mainstreaminess, novelty and diversity:\n",
      "High novelty: 0.7811454249928291\n",
      "Medium novelty: 0.7643693453964875\n",
      "Low novelty: 0.7655225764423272\n",
      "High diversity: 0.7709854014598541\n",
      "Medium diversity: 0.769082306064002\n",
      "Low diversity: 0.7671633477231583\n",
      "High mainstreaminess: 0.7761336930977457\n",
      "Medium mainstreaminess: 0.7602422979222302\n",
      "Low mainstreaminess: 0.7668794656068998\n"
     ]
    }
   ],
   "source": [
    "# (None, 'lcf')\n",
    "user_ids_test_df = pd.DataFrame(evaluation_results[0]['user_ids_test'])\n",
    "user_ids_test_df = pd.DataFrame(pd.np.column_stack([user_ids_test_df, evaluation_results[0]['y_test']]))\n",
    "user_ids_test_df = pd.DataFrame(pd.np.column_stack([user_ids_test_df, evaluation_results[0]['y_pred']]))\n",
    "user_ids_test_df.columns = ['user1_user_id', 'user2_user_id', 'y_test', 'y_pred']\n",
    "user_ids_test_df['hit'] = np.where(user_ids_test_df[\"y_test\"] == user_ids_test_df[\"y_pred\"], True, False)\n",
    "user_ids_test_df = user_ids_test_df.merge(listening_characteristics_features_df, how='left', on=['user1_user_id', 'user2_user_id'])\n",
    "high_novelty_df = user_ids_test_df[(user_ids_test_df.user1_user_groups_novelty_artist_avg_6months_high==1)|(user_ids_test_df.user2_user_groups_novelty_artist_avg_6months_high==1)]\n",
    "medium_novelty_df = user_ids_test_df[(user_ids_test_df.user1_user_groups_novelty_artist_avg_6months_medium==1)|(user_ids_test_df.user2_user_groups_novelty_artist_avg_6months_medium==1)]\n",
    "low_novelty_df = user_ids_test_df[(user_ids_test_df.user1_user_groups_novelty_artist_avg_6months_low==1)|(user_ids_test_df.user2_user_groups_novelty_artist_avg_6months_low==1)]\n",
    "\n",
    "high_diversity_df = user_ids_test_df[(user_ids_test_df.user1_user_groups_freebase_weighted_average_diversity_high==1)|(user_ids_test_df.user2_user_groups_freebase_weighted_average_diversity_high==1)]\n",
    "medium_diversity_df = user_ids_test_df[(user_ids_test_df.user1_user_groups_freebase_weighted_average_diversity_medium==1)|(user_ids_test_df.user2_user_groups_freebase_weighted_average_diversity_medium==1)]\n",
    "low_diversity_df = user_ids_test_df[(user_ids_test_df.user1_user_groups_freebase_weighted_average_diversity_low==1)|(user_ids_test_df.user2_user_groups_freebase_weighted_average_diversity_low==1)]\n",
    "\n",
    "high_mainstreaminess_df = user_ids_test_df[(user_ids_test_df.user1_user_groups_mainstreaminess_global_high==1)|(user_ids_test_df.user2_user_groups_mainstreaminess_global_high==1)]\n",
    "medium_mainstreaminess_df = user_ids_test_df[(user_ids_test_df.user1_user_groups_mainstreaminess_global_medium==1)|(user_ids_test_df.user2_user_groups_mainstreaminess_global_medium==1)]\n",
    "low_mainstreaminess_df = user_ids_test_df[(user_ids_test_df.user1_user_groups_mainstreaminess_global_low==1)|(user_ids_test_df.user2_user_groups_mainstreaminess_global_low==1)]\n",
    "\n",
    "print('Using only mainstreaminess, novelty and diversity:')\n",
    "print('High novelty:', len(high_novelty_df[high_novelty_df.hit==True])/len(high_novelty_df))\n",
    "print('Medium novelty:', len(medium_novelty_df[medium_novelty_df.hit==True])/len(medium_novelty_df))\n",
    "print('Low novelty:', len(low_novelty_df[low_novelty_df.hit==True])/len(low_novelty_df))\n",
    "\n",
    "print('High diversity:', len(high_diversity_df[high_diversity_df.hit==True])/len(high_diversity_df))\n",
    "print('Medium diversity:', len(medium_diversity_df[medium_diversity_df.hit==True])/len(medium_diversity_df))\n",
    "print('Low diversity:', len(low_diversity_df[low_diversity_df.hit==True])/len(low_diversity_df))\n",
    "\n",
    "print('High mainstreaminess:', len(high_mainstreaminess_df[high_mainstreaminess_df.hit==True])/len(high_mainstreaminess_df))\n",
    "print('Medium mainstreaminess:', len(medium_mainstreaminess_df[medium_mainstreaminess_df.hit==True])/len(medium_mainstreaminess_df))\n",
    "print('Low mainstreaminess:', len(low_mainstreaminess_df[low_mainstreaminess_df.hit==True])/len(low_mainstreaminess_df))"
   ]
  },
  {
   "cell_type": "code",
   "execution_count": 44,
   "metadata": {},
   "outputs": [
    {
     "name": "stdout",
     "output_type": "stream",
     "text": [
      "Using only artist profiles:\n"
     ]
    },
    {
     "name": "stderr",
     "output_type": "stream",
     "text": [
      "<ipython-input-44-445130328e1f>:4: FutureWarning: The pandas.np module is deprecated and will be removed from pandas in a future version. Import numpy directly instead\n",
      "  user_ids_test_df = pd.DataFrame(pd.np.column_stack([user_ids_test_df, evaluation_results[1]['y_test']]))\n",
      "<ipython-input-44-445130328e1f>:5: FutureWarning: The pandas.np module is deprecated and will be removed from pandas in a future version. Import numpy directly instead\n",
      "  user_ids_test_df = pd.DataFrame(pd.np.column_stack([user_ids_test_df, evaluation_results[1]['y_pred']]))\n"
     ]
    },
    {
     "name": "stdout",
     "output_type": "stream",
     "text": [
      "High novelty: 0.7958695860024859\n",
      "Medium novelty: 0.7815992549228313\n",
      "Low novelty: 0.7811571190098123\n",
      "High diversity: 0.7829227493917275\n",
      "Medium diversity: 0.787822189017557\n",
      "Low diversity: 0.7817388478856241\n",
      "High mainstreaminess: 0.794673165636696\n",
      "Medium mainstreaminess: 0.7818016022927116\n",
      "Low mainstreaminess: 0.7813807973618568\n"
     ]
    }
   ],
   "source": [
    "# ('lpf', None)\n",
    "print('Using only artist profiles:')\n",
    "user_ids_test_df = pd.DataFrame(evaluation_results[1]['user_ids_test'])\n",
    "user_ids_test_df = pd.DataFrame(pd.np.column_stack([user_ids_test_df, evaluation_results[1]['y_test']]))\n",
    "user_ids_test_df = pd.DataFrame(pd.np.column_stack([user_ids_test_df, evaluation_results[1]['y_pred']]))\n",
    "user_ids_test_df.columns = ['user1_user_id', 'user2_user_id', 'y_test', 'y_pred']\n",
    "user_ids_test_df['hit'] = np.where(user_ids_test_df[\"y_test\"] == user_ids_test_df[\"y_pred\"], True, False)\n",
    "user_ids_test_df = user_ids_test_df.merge(listening_characteristics_features_df, how='left', on=['user1_user_id', 'user2_user_id'])\n",
    "high_novelty_df = user_ids_test_df[(user_ids_test_df.user1_user_groups_novelty_artist_avg_6months_high==1)|(user_ids_test_df.user2_user_groups_novelty_artist_avg_6months_high==1)]\n",
    "medium_novelty_df = user_ids_test_df[(user_ids_test_df.user1_user_groups_novelty_artist_avg_6months_medium==1)|(user_ids_test_df.user2_user_groups_novelty_artist_avg_6months_medium==1)]\n",
    "low_novelty_df = user_ids_test_df[(user_ids_test_df.user1_user_groups_novelty_artist_avg_6months_low==1)|(user_ids_test_df.user2_user_groups_novelty_artist_avg_6months_low==1)]\n",
    "\n",
    "high_diversity_df = user_ids_test_df[(user_ids_test_df.user1_user_groups_freebase_weighted_average_diversity_high==1)|(user_ids_test_df.user2_user_groups_freebase_weighted_average_diversity_high==1)]\n",
    "medium_diversity_df = user_ids_test_df[(user_ids_test_df.user1_user_groups_freebase_weighted_average_diversity_medium==1)|(user_ids_test_df.user2_user_groups_freebase_weighted_average_diversity_medium==1)]\n",
    "low_diversity_df = user_ids_test_df[(user_ids_test_df.user1_user_groups_freebase_weighted_average_diversity_low==1)|(user_ids_test_df.user2_user_groups_freebase_weighted_average_diversity_low==1)]\n",
    "\n",
    "high_mainstreaminess_df = user_ids_test_df[(user_ids_test_df.user1_user_groups_mainstreaminess_global_high==1)|(user_ids_test_df.user2_user_groups_mainstreaminess_global_high==1)]\n",
    "medium_mainstreaminess_df = user_ids_test_df[(user_ids_test_df.user1_user_groups_mainstreaminess_global_medium==1)|(user_ids_test_df.user2_user_groups_mainstreaminess_global_medium==1)]\n",
    "low_mainstreaminess_df = user_ids_test_df[(user_ids_test_df.user1_user_groups_mainstreaminess_global_low==1)|(user_ids_test_df.user2_user_groups_mainstreaminess_global_low==1)]\n",
    "\n",
    "print('High novelty:', len(high_novelty_df[high_novelty_df.hit==True])/len(high_novelty_df))\n",
    "print('Medium novelty:', len(medium_novelty_df[medium_novelty_df.hit==True])/len(medium_novelty_df))\n",
    "print('Low novelty:', len(low_novelty_df[low_novelty_df.hit==True])/len(low_novelty_df))\n",
    "\n",
    "print('High diversity:', len(high_diversity_df[high_diversity_df.hit==True])/len(high_diversity_df))\n",
    "print('Medium diversity:', len(medium_diversity_df[medium_diversity_df.hit==True])/len(medium_diversity_df))\n",
    "print('Low diversity:', len(low_diversity_df[low_diversity_df.hit==True])/len(low_diversity_df))\n",
    "\n",
    "print('High mainstreaminess:', len(high_mainstreaminess_df[high_mainstreaminess_df.hit==True])/len(high_mainstreaminess_df))\n",
    "print('Medium mainstreaminess:', len(medium_mainstreaminess_df[medium_mainstreaminess_df.hit==True])/len(medium_mainstreaminess_df))\n",
    "print('Low mainstreaminess:', len(low_mainstreaminess_df[low_mainstreaminess_df.hit==True])/len(low_mainstreaminess_df))"
   ]
  },
  {
   "cell_type": "code",
   "execution_count": 45,
   "metadata": {},
   "outputs": [
    {
     "name": "stderr",
     "output_type": "stream",
     "text": [
      "<ipython-input-45-72e32c841bc9>:3: FutureWarning: The pandas.np module is deprecated and will be removed from pandas in a future version. Import numpy directly instead\n",
      "  user_ids_test_df = pd.DataFrame(pd.np.column_stack([user_ids_test_df, evaluation_results[2]['y_test']]))\n",
      "<ipython-input-45-72e32c841bc9>:4: FutureWarning: The pandas.np module is deprecated and will be removed from pandas in a future version. Import numpy directly instead\n",
      "  user_ids_test_df = pd.DataFrame(pd.np.column_stack([user_ids_test_df, evaluation_results[2]['y_pred']]))\n"
     ]
    },
    {
     "name": "stdout",
     "output_type": "stream",
     "text": [
      "Using both:\n",
      "High novelty: 0.7971125346591452\n",
      "Medium novelty: 0.7872538584353379\n",
      "Low novelty: 0.7953259232115956\n",
      "High diversity: 0.7924270072992701\n",
      "Medium diversity: 0.7908728676379031\n",
      "Low diversity: 0.7971498862739637\n",
      "High mainstreaminess: 0.7908434154408565\n",
      "Medium mainstreaminess: 0.7859701686966717\n",
      "Low mainstreaminess: 0.7974886906523485\n"
     ]
    }
   ],
   "source": [
    "# ('lpf', 'lcf')\n",
    "user_ids_test_df = pd.DataFrame(evaluation_results[2]['user_ids_test'])\n",
    "user_ids_test_df = pd.DataFrame(pd.np.column_stack([user_ids_test_df, evaluation_results[2]['y_test']]))\n",
    "user_ids_test_df = pd.DataFrame(pd.np.column_stack([user_ids_test_df, evaluation_results[2]['y_pred']]))\n",
    "user_ids_test_df.columns = ['user1_user_id', 'user2_user_id', 'y_test', 'y_pred']\n",
    "user_ids_test_df['hit'] = np.where(user_ids_test_df[\"y_test\"] == user_ids_test_df[\"y_pred\"], True, False)\n",
    "user_ids_test_df = user_ids_test_df.merge(listening_characteristics_features_df, how='left', on=['user1_user_id', 'user2_user_id'])\n",
    "high_novelty_df = user_ids_test_df[(user_ids_test_df.user1_user_groups_novelty_artist_avg_6months_high==1)|(user_ids_test_df.user2_user_groups_novelty_artist_avg_6months_high==1)]\n",
    "medium_novelty_df = user_ids_test_df[(user_ids_test_df.user1_user_groups_novelty_artist_avg_6months_medium==1)|(user_ids_test_df.user2_user_groups_novelty_artist_avg_6months_medium==1)]\n",
    "low_novelty_df = user_ids_test_df[(user_ids_test_df.user1_user_groups_novelty_artist_avg_6months_low==1)|(user_ids_test_df.user2_user_groups_novelty_artist_avg_6months_low==1)]\n",
    "\n",
    "high_diversity_df = user_ids_test_df[(user_ids_test_df.user1_user_groups_freebase_weighted_average_diversity_high==1)|(user_ids_test_df.user2_user_groups_freebase_weighted_average_diversity_high==1)]\n",
    "medium_diversity_df = user_ids_test_df[(user_ids_test_df.user1_user_groups_freebase_weighted_average_diversity_medium==1)|(user_ids_test_df.user2_user_groups_freebase_weighted_average_diversity_medium==1)]\n",
    "low_diversity_df = user_ids_test_df[(user_ids_test_df.user1_user_groups_freebase_weighted_average_diversity_low==1)|(user_ids_test_df.user2_user_groups_freebase_weighted_average_diversity_low==1)]\n",
    "\n",
    "high_mainstreaminess_df = user_ids_test_df[(user_ids_test_df.user1_user_groups_mainstreaminess_global_high==1)|(user_ids_test_df.user2_user_groups_mainstreaminess_global_high==1)]\n",
    "medium_mainstreaminess_df = user_ids_test_df[(user_ids_test_df.user1_user_groups_mainstreaminess_global_medium==1)|(user_ids_test_df.user2_user_groups_mainstreaminess_global_medium==1)]\n",
    "low_mainstreaminess_df = user_ids_test_df[(user_ids_test_df.user1_user_groups_mainstreaminess_global_low==1)|(user_ids_test_df.user2_user_groups_mainstreaminess_global_low==1)]\n",
    "\n",
    "print('Using both:')\n",
    "print('High novelty:', len(high_novelty_df[high_novelty_df.hit==True])/len(high_novelty_df))\n",
    "print('Medium novelty:', len(medium_novelty_df[medium_novelty_df.hit==True])/len(medium_novelty_df))\n",
    "print('Low novelty:', len(low_novelty_df[low_novelty_df.hit==True])/len(low_novelty_df))\n",
    "\n",
    "print('High diversity:', len(high_diversity_df[high_diversity_df.hit==True])/len(high_diversity_df))\n",
    "print('Medium diversity:', len(medium_diversity_df[medium_diversity_df.hit==True])/len(medium_diversity_df))\n",
    "print('Low diversity:', len(low_diversity_df[low_diversity_df.hit==True])/len(low_diversity_df))\n",
    "\n",
    "print('High mainstreaminess:', len(high_mainstreaminess_df[high_mainstreaminess_df.hit==True])/len(high_mainstreaminess_df))\n",
    "print('Medium mainstreaminess:', len(medium_mainstreaminess_df[medium_mainstreaminess_df.hit==True])/len(medium_mainstreaminess_df))\n",
    "print('Low mainstreaminess:', len(low_mainstreaminess_df[low_mainstreaminess_df.hit==True])/len(low_mainstreaminess_df))"
   ]
  },
  {
   "cell_type": "code",
   "execution_count": 22,
   "metadata": {},
   "outputs": [
    {
     "name": "stdout",
     "output_type": "stream",
     "text": [
      "user1_user_id\n",
      "user2_user_id\n",
      "user1_mainstreaminess_avg_month\n",
      "user1_mainstreaminess_avg_6months\n",
      "user1_mainstreaminess_avg_year\n",
      "user1_mainstreaminess_global\n",
      "user1_user_groups_mainstreaminess_avg_month_high\n",
      "user1_user_groups_mainstreaminess_avg_month_low\n",
      "user1_user_groups_mainstreaminess_avg_month_medium\n",
      "user1_user_groups_mainstreaminess_avg_6months_high\n",
      "user1_user_groups_mainstreaminess_avg_6months_low\n",
      "user1_user_groups_mainstreaminess_avg_6months_medium\n",
      "user1_user_groups_mainstreaminess_avg_year_high\n",
      "user1_user_groups_mainstreaminess_avg_year_low\n",
      "user1_user_groups_mainstreaminess_avg_year_medium\n",
      "user1_user_groups_mainstreaminess_global_high\n",
      "user1_user_groups_mainstreaminess_global_low\n",
      "user1_user_groups_mainstreaminess_global_medium\n",
      "user2_mainstreaminess_avg_month\n",
      "user2_mainstreaminess_avg_6months\n",
      "user2_mainstreaminess_avg_year\n",
      "user2_mainstreaminess_global\n",
      "user2_user_groups_mainstreaminess_avg_month_high\n",
      "user2_user_groups_mainstreaminess_avg_month_low\n",
      "user2_user_groups_mainstreaminess_avg_month_medium\n",
      "user2_user_groups_mainstreaminess_avg_6months_high\n",
      "user2_user_groups_mainstreaminess_avg_6months_low\n",
      "user2_user_groups_mainstreaminess_avg_6months_medium\n",
      "user2_user_groups_mainstreaminess_avg_year_high\n",
      "user2_user_groups_mainstreaminess_avg_year_low\n",
      "user2_user_groups_mainstreaminess_avg_year_medium\n",
      "user2_user_groups_mainstreaminess_global_high\n",
      "user2_user_groups_mainstreaminess_global_low\n",
      "user2_user_groups_mainstreaminess_global_medium\n",
      "relative_change_mainstreaminess_avg_month\n",
      "relative_change_mainstreaminess_avg_6months\n",
      "relative_change_mainstreaminess_avg_year\n",
      "relative_change_mainstreaminess_global\n",
      "same_user_groups_mainstreaminess_avg_month\n",
      "same_user_groups_mainstreaminess_avg_6months\n",
      "same_user_groups_mainstreaminess_avg_year\n",
      "same_user_groups_mainstreaminess_global\n",
      "user1_novelty_artist_avg_month\n",
      "user1_novelty_artist_avg_6months\n",
      "user1_novelty_artist_avg_year\n",
      "user1_user_groups_novelty_artist_avg_month_high\n",
      "user1_user_groups_novelty_artist_avg_month_low\n",
      "user1_user_groups_novelty_artist_avg_month_medium\n",
      "user1_user_groups_novelty_artist_avg_6months_high\n",
      "user1_user_groups_novelty_artist_avg_6months_low\n",
      "user1_user_groups_novelty_artist_avg_6months_medium\n",
      "user1_user_groups_novelty_artist_avg_year_high\n",
      "user1_user_groups_novelty_artist_avg_year_low\n",
      "user1_user_groups_novelty_artist_avg_year_medium\n",
      "user2_novelty_artist_avg_month\n",
      "user2_novelty_artist_avg_6months\n",
      "user2_novelty_artist_avg_year\n",
      "user2_user_groups_novelty_artist_avg_month_high\n",
      "user2_user_groups_novelty_artist_avg_month_low\n",
      "user2_user_groups_novelty_artist_avg_month_medium\n",
      "user2_user_groups_novelty_artist_avg_6months_high\n",
      "user2_user_groups_novelty_artist_avg_6months_low\n",
      "user2_user_groups_novelty_artist_avg_6months_medium\n",
      "user2_user_groups_novelty_artist_avg_year_high\n",
      "user2_user_groups_novelty_artist_avg_year_low\n",
      "user2_user_groups_novelty_artist_avg_year_medium\n",
      "relative_change_novelty_artist_avg_month\n",
      "relative_change_novelty_artist_avg_6months\n",
      "relative_change_novelty_artist_avg_year\n",
      "same_user_groups_novelty_artist_avg_month\n",
      "same_user_groups_novelty_artist_avg_6months\n",
      "same_user_groups_novelty_artist_avg_year\n",
      "user1_allmusic_weighted_average_diversity\n",
      "user1_allmusic_genre_coverage_diversity\n",
      "user1_allmusic_entropy_diversity\n",
      "user1_freebase_weighted_average_diversity\n",
      "user1_freebase_genre_coverage_diversity\n",
      "user1_freebase_entropy_diversity\n",
      "user1_user_groups_freebase_weighted_average_diversity_high\n",
      "user1_user_groups_freebase_weighted_average_diversity_low\n",
      "user1_user_groups_freebase_weighted_average_diversity_medium\n",
      "user1_user_groups_freebase_genre_coverage_diversity_high\n",
      "user1_user_groups_freebase_genre_coverage_diversity_low\n",
      "user1_user_groups_freebase_genre_coverage_diversity_medium\n",
      "user1_user_groups_freebase_entropy_diversity_high\n",
      "user1_user_groups_freebase_entropy_diversity_low\n",
      "user1_user_groups_freebase_entropy_diversity_medium\n",
      "user1_user_groups_allmusic_weighted_average_diversity_high\n",
      "user1_user_groups_allmusic_weighted_average_diversity_low\n",
      "user1_user_groups_allmusic_weighted_average_diversity_medium\n",
      "user1_user_groups_allmusic_genre_coverage_diversity_high\n",
      "user1_user_groups_allmusic_genre_coverage_diversity_low\n",
      "user1_user_groups_allmusic_entropy_diversity_high\n",
      "user1_user_groups_allmusic_entropy_diversity_low\n",
      "user1_user_groups_allmusic_entropy_diversity_medium\n",
      "user2_allmusic_weighted_average_diversity\n",
      "user2_allmusic_genre_coverage_diversity\n",
      "user2_allmusic_entropy_diversity\n",
      "user2_freebase_weighted_average_diversity\n",
      "user2_freebase_genre_coverage_diversity\n",
      "user2_freebase_entropy_diversity\n",
      "user2_user_groups_freebase_weighted_average_diversity_high\n",
      "user2_user_groups_freebase_weighted_average_diversity_low\n",
      "user2_user_groups_freebase_weighted_average_diversity_medium\n",
      "user2_user_groups_freebase_genre_coverage_diversity_high\n",
      "user2_user_groups_freebase_genre_coverage_diversity_low\n",
      "user2_user_groups_freebase_genre_coverage_diversity_medium\n",
      "user2_user_groups_freebase_entropy_diversity_high\n",
      "user2_user_groups_freebase_entropy_diversity_low\n",
      "user2_user_groups_freebase_entropy_diversity_medium\n",
      "user2_user_groups_allmusic_weighted_average_diversity_high\n",
      "user2_user_groups_allmusic_weighted_average_diversity_low\n",
      "user2_user_groups_allmusic_weighted_average_diversity_medium\n",
      "user2_user_groups_allmusic_genre_coverage_diversity_high\n",
      "user2_user_groups_allmusic_genre_coverage_diversity_low\n",
      "user2_user_groups_allmusic_entropy_diversity_high\n",
      "user2_user_groups_allmusic_entropy_diversity_low\n",
      "user2_user_groups_allmusic_entropy_diversity_medium\n",
      "relative_change_allmusic_weighted_average_diversity\n",
      "relative_change_allmusic_genre_coverage_diversity\n",
      "relative_change_allmusic_entropy_diversity\n",
      "relative_change_freebase_weighted_average_diversity\n",
      "relative_change_freebase_genre_coverage_diversity\n",
      "relative_change_freebase_entropy_diversity\n",
      "same_user_groups_freebase_weighted_average_diversity\n",
      "same_user_groups_freebase_genre_coverage_diversity\n",
      "same_user_groups_freebase_entropy_diversity\n",
      "same_user_groups_allmusic_weighted_average_diversity\n",
      "same_user_groups_allmusic_genre_coverage_diversity\n",
      "same_user_groups_allmusic_entropy_diversity\n",
      "user1_cnt_listeningevents_lognorm\n",
      "user1_cnt_distinct_tracks_lognorm\n",
      "user1_cnt_distinct_artists_lognorm\n",
      "user1_cnt_listeningevents_per_week_lognorm\n",
      "user1_user_groups_cnt_listeningevents_lognorm_high\n",
      "user1_user_groups_cnt_listeningevents_lognorm_low\n",
      "user1_user_groups_cnt_listeningevents_lognorm_medium\n",
      "user1_user_groups_cnt_distinct_tracks_lognorm_high\n",
      "user1_user_groups_cnt_distinct_tracks_lognorm_low\n",
      "user1_user_groups_cnt_distinct_tracks_lognorm_medium\n",
      "user1_user_groups_cnt_distinct_artists_lognorm_high\n",
      "user1_user_groups_cnt_distinct_artists_lognorm_low\n",
      "user1_user_groups_cnt_distinct_artists_lognorm_medium\n",
      "user1_user_groups_cnt_listeningevents_per_week_lognorm_high\n",
      "user1_user_groups_cnt_listeningevents_per_week_lognorm_low\n",
      "user1_user_groups_cnt_listeningevents_per_week_lognorm_medium\n",
      "user2_cnt_listeningevents_lognorm\n",
      "user2_cnt_distinct_tracks_lognorm\n",
      "user2_cnt_distinct_artists_lognorm\n",
      "user2_cnt_listeningevents_per_week_lognorm\n",
      "user2_user_groups_cnt_listeningevents_lognorm_high\n",
      "user2_user_groups_cnt_listeningevents_lognorm_low\n",
      "user2_user_groups_cnt_listeningevents_lognorm_medium\n",
      "user2_user_groups_cnt_distinct_tracks_lognorm_high\n",
      "user2_user_groups_cnt_distinct_tracks_lognorm_low\n",
      "user2_user_groups_cnt_distinct_tracks_lognorm_medium\n",
      "user2_user_groups_cnt_distinct_artists_lognorm_high\n",
      "user2_user_groups_cnt_distinct_artists_lognorm_low\n",
      "user2_user_groups_cnt_distinct_artists_lognorm_medium\n",
      "user2_user_groups_cnt_listeningevents_per_week_lognorm_high\n",
      "user2_user_groups_cnt_listeningevents_per_week_lognorm_low\n",
      "user2_user_groups_cnt_listeningevents_per_week_lognorm_medium\n",
      "relative_change_cnt_listeningevents_lognorm\n",
      "relative_change_cnt_distinct_tracks_lognorm\n",
      "relative_change_cnt_distinct_artists_lognorm\n",
      "relative_change_cnt_listeningevents_per_week_lognorm\n",
      "same_user_groups_cnt_listeningevents_lognorm\n",
      "same_user_groups_cnt_distinct_tracks_lognorm\n",
      "same_user_groups_cnt_distinct_artists_lognorm\n",
      "same_user_groups_cnt_listeningevents_per_week_lognorm\n",
      "user1_playcount_lognorm\n",
      "user1_user_groups_playcount_lognorm_high\n",
      "user1_user_groups_playcount_lognorm_low\n",
      "user1_user_groups_playcount_lognorm_medium\n",
      "user2_playcount_lognorm\n",
      "user2_user_groups_playcount_lognorm_high\n",
      "user2_user_groups_playcount_lognorm_low\n",
      "user2_user_groups_playcount_lognorm_medium\n",
      "relative_change_playcount_lognorm\n",
      "same_user_groups_playcount_lognorm\n",
      "label\n"
     ]
    }
   ],
   "source": [
    "listening_characteristics_features_df = listening_characteristics_features_df[['user1_user_id',\n",
    "                                                                               'user2_user_id',\n",
    "                                                                               'user1_mainstreaminess_global',\n",
    "                                                                               'user1_user_groups_mainstreaminess_global_high',\n",
    "                                                                               'user1_user_groups_mainstreaminess_global_low',\n",
    "                                                                               'user1_user_groups_mainstreaminess_global_medium',\n",
    "                                                                               'user2_mainstreaminess_global',\n",
    "                                                                               'user2_user_groups_mainstreaminess_global_high',\n",
    "                                                                               'user2_user_groups_mainstreaminess_global_low',\n",
    "                                                                               'user2_user_groups_mainstreaminess_global_medium',\n",
    "                                                                               'relative_change_mainstreaminess_global',\n",
    "                                                                               'same_user_groups_mainstreaminess_global',\n",
    "                                                                               'user1_novelty_artist_avg_6months',\n",
    "                                                                               'user1_user_groups_novelty_artist_avg_6months_high',\n",
    "                                                                               'user1_user_groups_novelty_artist_avg_6months_low',\n",
    "                                                                               'user1_user_groups_novelty_artist_avg_6months_medium',\n",
    "                                                                               'user2_novelty_artist_avg_6months',\n",
    "                                                                               'user2_user_groups_novelty_artist_avg_6months_high',\n",
    "                                                                               'user2_user_groups_novelty_artist_avg_6months_low',\n",
    "                                                                               'user2_user_groups_novelty_artist_avg_6months_medium',\n",
    "                                                                               'relative_change_novelty_artist_avg_6months',\n",
    "                                                                               'same_user_groups_novelty_artist_avg_6months',\n",
    "                                                                               'user1_freebase_weighted_average_diversity',\n",
    "                                                                               'user1_user_groups_freebase_weighted_average_diversity_high',\n",
    "                                                                               'user1_user_groups_freebase_weighted_average_diversity_low',\n",
    "                                                                               'user1_user_groups_freebase_weighted_average_diversity_medium',\n",
    "                                                                               'user2_freebase_weighted_average_diversity',\n",
    "                                                                               'user2_user_groups_freebase_weighted_average_diversity_high',\n",
    "                                                                               'user2_user_groups_freebase_weighted_average_diversity_low',\n",
    "                                                                               'user2_user_groups_freebase_weighted_average_diversity_medium',\n",
    "                                                                               'relative_change_freebase_weighted_average_diversity',\n",
    "                                                                               'same_user_groups_freebase_weighted_average_diversity']]"
   ]
  },
  {
   "cell_type": "code",
   "execution_count": 19,
   "metadata": {},
   "outputs": [
    {
     "data": {
      "text/html": [
       "<div>\n",
       "<style scoped>\n",
       "    .dataframe tbody tr th:only-of-type {\n",
       "        vertical-align: middle;\n",
       "    }\n",
       "\n",
       "    .dataframe tbody tr th {\n",
       "        vertical-align: top;\n",
       "    }\n",
       "\n",
       "    .dataframe thead th {\n",
       "        text-align: right;\n",
       "    }\n",
       "</style>\n",
       "<table border=\"1\" class=\"dataframe\">\n",
       "  <thead>\n",
       "    <tr style=\"text-align: right;\">\n",
       "      <th></th>\n",
       "      <th>user1_user_id</th>\n",
       "      <th>user2_user_id</th>\n",
       "      <th>y_test</th>\n",
       "      <th>y_pred</th>\n",
       "    </tr>\n",
       "  </thead>\n",
       "  <tbody>\n",
       "    <tr>\n",
       "      <th>0</th>\n",
       "      <td>19013343</td>\n",
       "      <td>39600166</td>\n",
       "      <td>0</td>\n",
       "      <td>0</td>\n",
       "    </tr>\n",
       "    <tr>\n",
       "      <th>1</th>\n",
       "      <td>14155395</td>\n",
       "      <td>2508412</td>\n",
       "      <td>0</td>\n",
       "      <td>0</td>\n",
       "    </tr>\n",
       "    <tr>\n",
       "      <th>2</th>\n",
       "      <td>8882206</td>\n",
       "      <td>18569602</td>\n",
       "      <td>1</td>\n",
       "      <td>1</td>\n",
       "    </tr>\n",
       "    <tr>\n",
       "      <th>3</th>\n",
       "      <td>30142311</td>\n",
       "      <td>48966945</td>\n",
       "      <td>0</td>\n",
       "      <td>0</td>\n",
       "    </tr>\n",
       "    <tr>\n",
       "      <th>4</th>\n",
       "      <td>39854779</td>\n",
       "      <td>1047533</td>\n",
       "      <td>1</td>\n",
       "      <td>1</td>\n",
       "    </tr>\n",
       "    <tr>\n",
       "      <th>...</th>\n",
       "      <td>...</td>\n",
       "      <td>...</td>\n",
       "      <td>...</td>\n",
       "      <td>...</td>\n",
       "    </tr>\n",
       "    <tr>\n",
       "      <th>31591</th>\n",
       "      <td>40698923</td>\n",
       "      <td>6547853</td>\n",
       "      <td>0</td>\n",
       "      <td>0</td>\n",
       "    </tr>\n",
       "    <tr>\n",
       "      <th>31592</th>\n",
       "      <td>35203241</td>\n",
       "      <td>5093623</td>\n",
       "      <td>1</td>\n",
       "      <td>1</td>\n",
       "    </tr>\n",
       "    <tr>\n",
       "      <th>31593</th>\n",
       "      <td>5278741</td>\n",
       "      <td>16427212</td>\n",
       "      <td>1</td>\n",
       "      <td>1</td>\n",
       "    </tr>\n",
       "    <tr>\n",
       "      <th>31594</th>\n",
       "      <td>12814574</td>\n",
       "      <td>8396864</td>\n",
       "      <td>1</td>\n",
       "      <td>0</td>\n",
       "    </tr>\n",
       "    <tr>\n",
       "      <th>31595</th>\n",
       "      <td>4650108</td>\n",
       "      <td>29122845</td>\n",
       "      <td>1</td>\n",
       "      <td>1</td>\n",
       "    </tr>\n",
       "  </tbody>\n",
       "</table>\n",
       "<p>31596 rows × 4 columns</p>\n",
       "</div>"
      ],
      "text/plain": [
       "       user1_user_id  user2_user_id  y_test  y_pred\n",
       "0           19013343       39600166       0       0\n",
       "1           14155395        2508412       0       0\n",
       "2            8882206       18569602       1       1\n",
       "3           30142311       48966945       0       0\n",
       "4           39854779        1047533       1       1\n",
       "...              ...            ...     ...     ...\n",
       "31591       40698923        6547853       0       0\n",
       "31592       35203241        5093623       1       1\n",
       "31593        5278741       16427212       1       1\n",
       "31594       12814574        8396864       1       0\n",
       "31595        4650108       29122845       1       1\n",
       "\n",
       "[31596 rows x 4 columns]"
      ]
     },
     "execution_count": 19,
     "metadata": {},
     "output_type": "execute_result"
    }
   ],
   "source": [
    "user_ids_test_df"
   ]
  },
  {
   "cell_type": "code",
   "execution_count": 14,
   "metadata": {},
   "outputs": [
    {
     "data": {
      "text/plain": [
       "True"
      ]
     },
     "execution_count": 14,
     "metadata": {},
     "output_type": "execute_result"
    }
   ],
   "source": [
    "evaluation_results[2]['listening_characteristics_features']"
   ]
  },
  {
   "cell_type": "code",
   "execution_count": 179,
   "metadata": {},
   "outputs": [
    {
     "data": {
      "text/plain": [
       "Index(['user1_user_id', 'user2_user_id', 'user1_allmusic_rnb',\n",
       "       'user1_allmusic_rap', 'user1_allmusic_electronic',\n",
       "       'user1_allmusic_rock', 'user1_allmusic_new age',\n",
       "       'user1_allmusic_classical', 'user1_allmusic_reggae',\n",
       "       'user1_allmusic_blues', 'user1_allmusic_country',\n",
       "       'user1_allmusic_world', 'user1_allmusic_folk',\n",
       "       'user1_allmusic_easy listening', 'user1_allmusic_jazz',\n",
       "       'user1_allmusic_vocal', 'user1_allmusic_children's',\n",
       "       'user1_allmusic_punk', 'user1_allmusic_alternative',\n",
       "       'user1_allmusic_spoken word', 'user1_allmusic_pop',\n",
       "       'user1_allmusic_heavy metal', 'user2_allmusic_rnb',\n",
       "       'user2_allmusic_rap', 'user2_allmusic_electronic',\n",
       "       'user2_allmusic_rock', 'user2_allmusic_new age',\n",
       "       'user2_allmusic_classical', 'user2_allmusic_reggae',\n",
       "       'user2_allmusic_blues', 'user2_allmusic_country',\n",
       "       'user2_allmusic_world', 'user2_allmusic_folk',\n",
       "       'user2_allmusic_easy listening', 'user2_allmusic_jazz',\n",
       "       'user2_allmusic_vocal', 'user2_allmusic_children's',\n",
       "       'user2_allmusic_punk', 'user2_allmusic_alternative',\n",
       "       'user2_allmusic_spoken word', 'user2_allmusic_pop',\n",
       "       'user2_allmusic_heavy metal', 'cosine_similarity_allmusic_genre_array',\n",
       "       'user1_freebase_nmf_0', 'user1_freebase_nmf_1', 'user1_freebase_nmf_2',\n",
       "       'user1_freebase_nmf_3', 'user1_freebase_nmf_4', 'user1_freebase_nmf_5',\n",
       "       'user1_freebase_nmf_6', 'user1_freebase_nmf_7', 'user1_freebase_nmf_8',\n",
       "       'user1_freebase_nmf_9', 'user1_freebase_nmf_10',\n",
       "       'user1_freebase_nmf_11', 'user1_freebase_nmf_12',\n",
       "       'user1_freebase_nmf_13', 'user1_freebase_nmf_14',\n",
       "       'user1_freebase_nmf_15', 'user1_freebase_nmf_16',\n",
       "       'user1_freebase_nmf_17', 'user1_freebase_nmf_18',\n",
       "       'user1_freebase_nmf_19', 'user2_freebase_nmf_0', 'user2_freebase_nmf_1',\n",
       "       'user2_freebase_nmf_2', 'user2_freebase_nmf_3', 'user2_freebase_nmf_4',\n",
       "       'user2_freebase_nmf_5', 'user2_freebase_nmf_6', 'user2_freebase_nmf_7',\n",
       "       'user2_freebase_nmf_8', 'user2_freebase_nmf_9', 'user2_freebase_nmf_10',\n",
       "       'user2_freebase_nmf_11', 'user2_freebase_nmf_12',\n",
       "       'user2_freebase_nmf_13', 'user2_freebase_nmf_14',\n",
       "       'user2_freebase_nmf_15', 'user2_freebase_nmf_16',\n",
       "       'user2_freebase_nmf_17', 'user2_freebase_nmf_18',\n",
       "       'user2_freebase_nmf_19', 'cosine_similarity_freebase_nmf_array',\n",
       "       'label'],\n",
       "      dtype='object')"
      ]
     },
     "execution_count": 179,
     "metadata": {},
     "output_type": "execute_result"
    }
   ],
   "source": [
    "genre_features_df.columns"
   ]
  },
  {
   "cell_type": "code",
   "execution_count": null,
   "metadata": {},
   "outputs": [],
   "source": [
    "def calculate_jaccard_coefficient(df, G):\n",
    "    df['jaccard_coefficient'] = df.apply(lambda x: get_jaccard_coefficient(G, x['user1_user_id'], x['user2_user_id']), axis=1)\n",
    "    return df\n",
    "\n",
    "def calculate_adamic_adar_coefficient(df, G):\n",
    "    df['adamic_adar_coefficient'] = df.apply(lambda x: get_adamic_adar_index(G, x['user1_user_id'], x['user2_user_id']), axis=1)\n",
    "    return df\n",
    "\n",
    "def calculate_common_neighbors(df, G):\n",
    "    df['common_neighbors'] = df.apply(lambda x: get_common_neighbors(G, x['user1_user_id'], x['user2_user_id']), axis=1)\n",
    "    return df\n",
    "\n",
    "def get_jaccard_coefficient(G, user1, user2):\n",
    "    return list(nx.jaccard_coefficient(G, [(user1, user2)]))[0][2]\n",
    "\n",
    "def get_adamic_adar_index(G, user1, user2):\n",
    "    return list(nx.adamic_adar_index(G, [(user1, user2)]))[0][2]\n",
    "\n",
    "def get_common_neighbors(G, user1, user2):\n",
    "    return len(list(nx.common_neighbors(G, user1, user2)))\n",
    "\n",
    "network_df_evaluation_results = []\n",
    "for dataset_id in range(10):\n",
    "    for split_seed in range(5):\n",
    "        print('Network features - dataset_id:', dataset_id, ', split_seed:', split_seed)\n",
    "        log.info('Network features - dataset_id:', dataset_id, ', split_seed:', split_seed)\n",
    "        # Load datasets\n",
    "        network_features_df = pd.read_csv('dataframes/links_dfs/' + str(dataset_index) + '/links_df_network_features.csv', index_col=0)\n",
    "        network_features_df = network_features_df.sample(random_state=dataset_id, frac=1).reset_index(drop=True).drop(columns=['jaccard_coefficient', 'adamic_adar_coefficient', 'common_neighbors'])\n",
    "        X_train, X_test, y_train, y_test = train_test_split(network_features_df.drop(columns='label'), network_features_df['label'], test_size=0.2, random_state=split_seed)\n",
    "        user_ids_test = pd.DataFrame(X_test[['user1_user_id', 'user2_user_id']])\n",
    "        # Use only edges in X_train\n",
    "        edges = list(zip(X_train['user1_user_id'].values, X_train['user2_user_id'].values))\n",
    "        G = nx.Graph()\n",
    "        for edge in edges:\n",
    "            G.add_edge(edge[0], edge[1])\n",
    "        X_train = calculate_jaccard_coefficient(X_train, G)\n",
    "        X_train = calculate_adamic_adar_coefficient(X_train, G)\n",
    "        X_train = calculate_common_neighbors(X_train, G).drop(columns=['user1_user_id', 'user2_user_id'])\n",
    "        X_test = calculate_jaccard_coefficient(X_test, G)\n",
    "        X_test = calculate_adamic_adar_coefficient(X_test, G)\n",
    "        X_test = calculate_common_neighbors(X_test, G).drop(columns=['user1_user_id', 'user2_user_id'])\n",
    "        xgb = XGBClassifier(n_estimators=100, use_label_encoder=False)\n",
    "        xgb.fit(X_train, y_train)\n",
    "        y_pred = xgb.predict(X_test)\n",
    "        predictions = [round(value) for value in y_pred]\n",
    "        # evaluate predictions\n",
    "        report = classification_report(y_test, predictions)\n",
    "        prfs_macro = precision_recall_fscore_support(y_test, predictions, average='macro')\n",
    "        prfs_micro = precision_recall_fscore_support(y_test, predictions, average='micro')\n",
    "        prfs_weighted = precision_recall_fscore_support(y_test, predictions, average='weighted')\n",
    "        feature_importances = sorted(list(zip(xgb.feature_importances_, list(X_train.columns))),  key=lambda x: x[0], reverse=True)\n",
    "        network_df_evaluation_result = {\n",
    "            'dataset_id': dataset_id,\n",
    "            'split_seed': split_seed,\n",
    "            'report': report,\n",
    "            'xgb_feature_importances': feature_importances,\n",
    "            'user_ids_test': X_test,\n",
    "            'y_test': y_test,\n",
    "            'y_pred': y_pred,\n",
    "            'prfs_macro': prfs_macro,\n",
    "            'prfs_micro': prfs_micro,\n",
    "            'prfs_weighted': prfs_weighted\n",
    "        }\n",
    "        network_df_evaluation_results.append(network_df_evaluation_result)"
   ]
  },
  {
   "cell_type": "code",
   "execution_count": 180,
   "metadata": {},
   "outputs": [],
   "source": [
    "# network_df_evaluation_results\n",
    "lala = []\n",
    "for evaluation_result in evaluation_results:\n",
    "    lala.append({\n",
    "        'demographic_features':evaluation_result['demographic_features'],\n",
    "        'listening_profile_features':evaluation_result['listening_profile_features'],\n",
    "        'genre_features':evaluation_result['genre_features'],\n",
    "        'listening_characteristics_features':evaluation_result['listening_characteristics_features'],\n",
    "        'dataset_id':evaluation_result['dataset_id'],\n",
    "        'split_seed':evaluation_result['split_seed'],\n",
    "        'precision':evaluation_result['prfs_weighted'][0],\n",
    "        'recall':evaluation_result['prfs_weighted'][1],\n",
    "        'f1':evaluation_result['prfs_weighted'][2],\n",
    "        'xgb_feature_importances':evaluation_result['xgb_feature_importances']\n",
    "    })"
   ]
  },
  {
   "cell_type": "code",
   "execution_count": 186,
   "metadata": {},
   "outputs": [],
   "source": [
    "lala_df = pd.DataFrame(lala)"
   ]
  },
  {
   "cell_type": "code",
   "execution_count": 188,
   "metadata": {},
   "outputs": [
    {
     "ename": "AttributeError",
     "evalue": "'list' object has no attribute 'listening_profile_features'",
     "output_type": "error",
     "traceback": [
      "\u001b[0;31m---------------------------------------------------------------------------\u001b[0m",
      "\u001b[0;31mAttributeError\u001b[0m                            Traceback (most recent call last)",
      "\u001b[0;32m<ipython-input-188-e08323fdd517>\u001b[0m in \u001b[0;36m<module>\u001b[0;34m\u001b[0m\n\u001b[0;32m----> 1\u001b[0;31m \u001b[0mlala_df\u001b[0m\u001b[0;34m[\u001b[0m\u001b[0;34m(\u001b[0m\u001b[0mlala_df\u001b[0m\u001b[0;34m.\u001b[0m\u001b[0mdemographic_features\u001b[0m\u001b[0;34m==\u001b[0m\u001b[0;32mFalse\u001b[0m\u001b[0;34m)\u001b[0m\u001b[0;34m&\u001b[0m\u001b[0;34m(\u001b[0m\u001b[0mlala\u001b[0m\u001b[0;34m.\u001b[0m\u001b[0mlistening_profile_features\u001b[0m\u001b[0;34m==\u001b[0m\u001b[0;32mFalse\u001b[0m\u001b[0;34m)\u001b[0m\u001b[0;34m&\u001b[0m\u001b[0;34m(\u001b[0m\u001b[0mlala\u001b[0m\u001b[0;34m.\u001b[0m\u001b[0mgenre_features\u001b[0m\u001b[0;34m==\u001b[0m\u001b[0;32mFalse\u001b[0m\u001b[0;34m)\u001b[0m\u001b[0;34m&\u001b[0m\u001b[0;34m(\u001b[0m\u001b[0mlala\u001b[0m\u001b[0;34m.\u001b[0m\u001b[0mlistening_characteristics_features\u001b[0m\u001b[0;34m==\u001b[0m\u001b[0;32mTrue\u001b[0m\u001b[0;34m)\u001b[0m\u001b[0;34m]\u001b[0m\u001b[0;34m\u001b[0m\u001b[0;34m\u001b[0m\u001b[0m\n\u001b[0m",
      "\u001b[0;31mAttributeError\u001b[0m: 'list' object has no attribute 'listening_profile_features'"
     ]
    }
   ],
   "source": [
    "lala_df[(lala_df.demographic_features==False)&(lala.listening_profile_features==False)&(lala.genre_features==False)&(lala.listening_characteristics_features==True)]"
   ]
  },
  {
   "cell_type": "code",
   "execution_count": 177,
   "metadata": {},
   "outputs": [
    {
     "data": {
      "text/html": [
       "<div>\n",
       "<style scoped>\n",
       "    .dataframe tbody tr th:only-of-type {\n",
       "        vertical-align: middle;\n",
       "    }\n",
       "\n",
       "    .dataframe tbody tr th {\n",
       "        vertical-align: top;\n",
       "    }\n",
       "\n",
       "    .dataframe thead th {\n",
       "        text-align: right;\n",
       "    }\n",
       "</style>\n",
       "<table border=\"1\" class=\"dataframe\">\n",
       "  <thead>\n",
       "    <tr style=\"text-align: right;\">\n",
       "      <th></th>\n",
       "      <th></th>\n",
       "      <th></th>\n",
       "      <th></th>\n",
       "      <th>dataset_id</th>\n",
       "      <th>split_seed</th>\n",
       "      <th>precision</th>\n",
       "      <th>recall</th>\n",
       "      <th>f1</th>\n",
       "    </tr>\n",
       "    <tr>\n",
       "      <th>demographic_features</th>\n",
       "      <th>listening_profile_features</th>\n",
       "      <th>genre_features</th>\n",
       "      <th>listening_characteristics_features</th>\n",
       "      <th></th>\n",
       "      <th></th>\n",
       "      <th></th>\n",
       "      <th></th>\n",
       "      <th></th>\n",
       "    </tr>\n",
       "  </thead>\n",
       "  <tbody>\n",
       "    <tr>\n",
       "      <th rowspan=\"7\" valign=\"top\">False</th>\n",
       "      <th rowspan=\"3\" valign=\"top\">False</th>\n",
       "      <th>False</th>\n",
       "      <th>True</th>\n",
       "      <td>4.5</td>\n",
       "      <td>2.0</td>\n",
       "      <td>0.766256</td>\n",
       "      <td>0.765834</td>\n",
       "      <td>0.765740</td>\n",
       "    </tr>\n",
       "    <tr>\n",
       "      <th rowspan=\"2\" valign=\"top\">True</th>\n",
       "      <th>False</th>\n",
       "      <td>4.5</td>\n",
       "      <td>2.0</td>\n",
       "      <td>0.812414</td>\n",
       "      <td>0.812321</td>\n",
       "      <td>0.812307</td>\n",
       "    </tr>\n",
       "    <tr>\n",
       "      <th>True</th>\n",
       "      <td>4.5</td>\n",
       "      <td>2.0</td>\n",
       "      <td>0.815373</td>\n",
       "      <td>0.815293</td>\n",
       "      <td>0.815282</td>\n",
       "    </tr>\n",
       "    <tr>\n",
       "      <th rowspan=\"4\" valign=\"top\">True</th>\n",
       "      <th rowspan=\"2\" valign=\"top\">False</th>\n",
       "      <th>False</th>\n",
       "      <td>4.5</td>\n",
       "      <td>2.0</td>\n",
       "      <td>0.782521</td>\n",
       "      <td>0.782349</td>\n",
       "      <td>0.782316</td>\n",
       "    </tr>\n",
       "    <tr>\n",
       "      <th>True</th>\n",
       "      <td>4.5</td>\n",
       "      <td>2.0</td>\n",
       "      <td>0.797903</td>\n",
       "      <td>0.797823</td>\n",
       "      <td>0.797810</td>\n",
       "    </tr>\n",
       "    <tr>\n",
       "      <th rowspan=\"2\" valign=\"top\">True</th>\n",
       "      <th>False</th>\n",
       "      <td>4.5</td>\n",
       "      <td>2.0</td>\n",
       "      <td>0.812976</td>\n",
       "      <td>0.812849</td>\n",
       "      <td>0.812830</td>\n",
       "    </tr>\n",
       "    <tr>\n",
       "      <th>True</th>\n",
       "      <td>4.5</td>\n",
       "      <td>2.0</td>\n",
       "      <td>0.815966</td>\n",
       "      <td>0.815896</td>\n",
       "      <td>0.815887</td>\n",
       "    </tr>\n",
       "    <tr>\n",
       "      <th rowspan=\"8\" valign=\"top\">True</th>\n",
       "      <th rowspan=\"4\" valign=\"top\">False</th>\n",
       "      <th rowspan=\"2\" valign=\"top\">False</th>\n",
       "      <th>False</th>\n",
       "      <td>4.5</td>\n",
       "      <td>2.0</td>\n",
       "      <td>0.660578</td>\n",
       "      <td>0.657200</td>\n",
       "      <td>0.655357</td>\n",
       "    </tr>\n",
       "    <tr>\n",
       "      <th>True</th>\n",
       "      <td>4.5</td>\n",
       "      <td>2.0</td>\n",
       "      <td>0.790539</td>\n",
       "      <td>0.790290</td>\n",
       "      <td>0.790243</td>\n",
       "    </tr>\n",
       "    <tr>\n",
       "      <th rowspan=\"2\" valign=\"top\">True</th>\n",
       "      <th>False</th>\n",
       "      <td>4.5</td>\n",
       "      <td>2.0</td>\n",
       "      <td>0.828552</td>\n",
       "      <td>0.828528</td>\n",
       "      <td>0.828526</td>\n",
       "    </tr>\n",
       "    <tr>\n",
       "      <th>True</th>\n",
       "      <td>4.5</td>\n",
       "      <td>2.0</td>\n",
       "      <td>0.833740</td>\n",
       "      <td>0.833726</td>\n",
       "      <td>0.833725</td>\n",
       "    </tr>\n",
       "    <tr>\n",
       "      <th rowspan=\"4\" valign=\"top\">True</th>\n",
       "      <th rowspan=\"2\" valign=\"top\">False</th>\n",
       "      <th>False</th>\n",
       "      <td>4.5</td>\n",
       "      <td>2.0</td>\n",
       "      <td>0.798329</td>\n",
       "      <td>0.798230</td>\n",
       "      <td>0.798214</td>\n",
       "    </tr>\n",
       "    <tr>\n",
       "      <th>True</th>\n",
       "      <td>4.5</td>\n",
       "      <td>2.0</td>\n",
       "      <td>0.817482</td>\n",
       "      <td>0.817466</td>\n",
       "      <td>0.817464</td>\n",
       "    </tr>\n",
       "    <tr>\n",
       "      <th rowspan=\"2\" valign=\"top\">True</th>\n",
       "      <th>False</th>\n",
       "      <td>4.5</td>\n",
       "      <td>2.0</td>\n",
       "      <td>0.830059</td>\n",
       "      <td>0.830022</td>\n",
       "      <td>0.830018</td>\n",
       "    </tr>\n",
       "    <tr>\n",
       "      <th>True</th>\n",
       "      <td>4.5</td>\n",
       "      <td>2.0</td>\n",
       "      <td>0.834523</td>\n",
       "      <td>0.834511</td>\n",
       "      <td>0.834511</td>\n",
       "    </tr>\n",
       "  </tbody>\n",
       "</table>\n",
       "</div>"
      ],
      "text/plain": [
       "                                                                                                   dataset_id  \\\n",
       "demographic_features listening_profile_features genre_features listening_characteristics_features               \n",
       "False                False                      False          True                                       4.5   \n",
       "                                                True           False                                      4.5   \n",
       "                                                               True                                       4.5   \n",
       "                     True                       False          False                                      4.5   \n",
       "                                                               True                                       4.5   \n",
       "                                                True           False                                      4.5   \n",
       "                                                               True                                       4.5   \n",
       "True                 False                      False          False                                      4.5   \n",
       "                                                               True                                       4.5   \n",
       "                                                True           False                                      4.5   \n",
       "                                                               True                                       4.5   \n",
       "                     True                       False          False                                      4.5   \n",
       "                                                               True                                       4.5   \n",
       "                                                True           False                                      4.5   \n",
       "                                                               True                                       4.5   \n",
       "\n",
       "                                                                                                   split_seed  \\\n",
       "demographic_features listening_profile_features genre_features listening_characteristics_features               \n",
       "False                False                      False          True                                       2.0   \n",
       "                                                True           False                                      2.0   \n",
       "                                                               True                                       2.0   \n",
       "                     True                       False          False                                      2.0   \n",
       "                                                               True                                       2.0   \n",
       "                                                True           False                                      2.0   \n",
       "                                                               True                                       2.0   \n",
       "True                 False                      False          False                                      2.0   \n",
       "                                                               True                                       2.0   \n",
       "                                                True           False                                      2.0   \n",
       "                                                               True                                       2.0   \n",
       "                     True                       False          False                                      2.0   \n",
       "                                                               True                                       2.0   \n",
       "                                                True           False                                      2.0   \n",
       "                                                               True                                       2.0   \n",
       "\n",
       "                                                                                                   precision  \\\n",
       "demographic_features listening_profile_features genre_features listening_characteristics_features              \n",
       "False                False                      False          True                                 0.766256   \n",
       "                                                True           False                                0.812414   \n",
       "                                                               True                                 0.815373   \n",
       "                     True                       False          False                                0.782521   \n",
       "                                                               True                                 0.797903   \n",
       "                                                True           False                                0.812976   \n",
       "                                                               True                                 0.815966   \n",
       "True                 False                      False          False                                0.660578   \n",
       "                                                               True                                 0.790539   \n",
       "                                                True           False                                0.828552   \n",
       "                                                               True                                 0.833740   \n",
       "                     True                       False          False                                0.798329   \n",
       "                                                               True                                 0.817482   \n",
       "                                                True           False                                0.830059   \n",
       "                                                               True                                 0.834523   \n",
       "\n",
       "                                                                                                     recall  \\\n",
       "demographic_features listening_profile_features genre_features listening_characteristics_features             \n",
       "False                False                      False          True                                0.765834   \n",
       "                                                True           False                               0.812321   \n",
       "                                                               True                                0.815293   \n",
       "                     True                       False          False                               0.782349   \n",
       "                                                               True                                0.797823   \n",
       "                                                True           False                               0.812849   \n",
       "                                                               True                                0.815896   \n",
       "True                 False                      False          False                               0.657200   \n",
       "                                                               True                                0.790290   \n",
       "                                                True           False                               0.828528   \n",
       "                                                               True                                0.833726   \n",
       "                     True                       False          False                               0.798230   \n",
       "                                                               True                                0.817466   \n",
       "                                                True           False                               0.830022   \n",
       "                                                               True                                0.834511   \n",
       "\n",
       "                                                                                                         f1  \n",
       "demographic_features listening_profile_features genre_features listening_characteristics_features            \n",
       "False                False                      False          True                                0.765740  \n",
       "                                                True           False                               0.812307  \n",
       "                                                               True                                0.815282  \n",
       "                     True                       False          False                               0.782316  \n",
       "                                                               True                                0.797810  \n",
       "                                                True           False                               0.812830  \n",
       "                                                               True                                0.815887  \n",
       "True                 False                      False          False                               0.655357  \n",
       "                                                               True                                0.790243  \n",
       "                                                True           False                               0.828526  \n",
       "                                                               True                                0.833725  \n",
       "                     True                       False          False                               0.798214  \n",
       "                                                               True                                0.817464  \n",
       "                                                True           False                               0.830018  \n",
       "                                                               True                                0.834511  "
      ]
     },
     "execution_count": 177,
     "metadata": {},
     "output_type": "execute_result"
    }
   ],
   "source": [
    "lala_df.groupby(['demographic_features', 'listening_profile_features', 'genre_features', 'listening_characteristics_features']).mean()"
   ]
  },
  {
   "cell_type": "code",
   "execution_count": 119,
   "metadata": {},
   "outputs": [
    {
     "name": "stdout",
     "output_type": "stream",
     "text": [
      "[18:18:47] WARNING: /home/conda/feedstock_root/build_artifacts/xgboost_1607604574104/work/src/learner.cc:1061: Starting in XGBoost 1.3.0, the default evaluation metric used with the objective 'binary:logistic' was changed from 'error' to 'logloss'. Explicitly set eval_metric if you'd like to restore the old behavior.\n",
      "Accuracy: 70.19%\n",
      "              precision    recall  f1-score   support\n",
      "\n",
      "           0       0.68      0.74      0.71     19679\n",
      "           1       0.72      0.66      0.69     19816\n",
      "\n",
      "    accuracy                           0.70     39495\n",
      "   macro avg       0.70      0.70      0.70     39495\n",
      "weighted avg       0.70      0.70      0.70     39495\n",
      "\n"
     ]
    }
   ],
   "source": [
    "X_train, X_test, y_train, y_test = train_test_split(demographic_features_df.drop(columns='label'), demographic_features_df['label'], test_size=0.25, random_state=12, shuffle=True)\n",
    "xgb = XGBClassifier(n_estimators=100, use_label_encoder=False)\n",
    "xgb.fit(X_train, y_train)\n",
    "feature_importances['demographic_features_df'] = xgb.feature_importances_\n",
    "y_pred = xgb.predict(X_test)\n",
    "predictions = [round(value) for value in y_pred]\n",
    "# evaluate predictions\n",
    "accuracy = accuracy_score(y_test, predictions)\n",
    "report = classification_report(np.array(y_test), np.array(predictions))\n",
    "#confusion_matrix = confusion_matrix(np.array(y_test), np.array(predictions))\n",
    "print(\"Accuracy: %.2f%%\" % (accuracy * 100.0))\n",
    "print(report)\n",
    "#print(confusion_matrix)"
   ]
  },
  {
   "cell_type": "code",
   "execution_count": 120,
   "metadata": {},
   "outputs": [
    {
     "data": {
      "text/html": [
       "<div>\n",
       "<style scoped>\n",
       "    .dataframe tbody tr th:only-of-type {\n",
       "        vertical-align: middle;\n",
       "    }\n",
       "\n",
       "    .dataframe tbody tr th {\n",
       "        vertical-align: top;\n",
       "    }\n",
       "\n",
       "    .dataframe thead th {\n",
       "        text-align: right;\n",
       "    }\n",
       "</style>\n",
       "<table border=\"1\" class=\"dataframe\">\n",
       "  <thead>\n",
       "    <tr style=\"text-align: right;\">\n",
       "      <th></th>\n",
       "      <th>user1_user_id</th>\n",
       "      <th>user2_user_id</th>\n",
       "      <th>user1_gender_f</th>\n",
       "      <th>user1_gender_m</th>\n",
       "      <th>user1_gender_n</th>\n",
       "      <th>user2_gender_f</th>\n",
       "      <th>user2_gender_m</th>\n",
       "      <th>user2_gender_n</th>\n",
       "      <th>same_gender</th>\n",
       "      <th>user1_age</th>\n",
       "      <th>...</th>\n",
       "      <th>user2_country_VG</th>\n",
       "      <th>user2_country_VI</th>\n",
       "      <th>user2_country_VN</th>\n",
       "      <th>user2_country_VU</th>\n",
       "      <th>user2_country_WF</th>\n",
       "      <th>user2_country_WS</th>\n",
       "      <th>user2_country_ZA</th>\n",
       "      <th>user2_country_ZM</th>\n",
       "      <th>user2_country_ZW</th>\n",
       "      <th>same_country</th>\n",
       "    </tr>\n",
       "  </thead>\n",
       "  <tbody>\n",
       "    <tr>\n",
       "      <th>104371</th>\n",
       "      <td>5940367</td>\n",
       "      <td>24186212</td>\n",
       "      <td>0</td>\n",
       "      <td>1</td>\n",
       "      <td>0</td>\n",
       "      <td>0</td>\n",
       "      <td>1</td>\n",
       "      <td>0</td>\n",
       "      <td>1</td>\n",
       "      <td>21</td>\n",
       "      <td>...</td>\n",
       "      <td>0</td>\n",
       "      <td>0</td>\n",
       "      <td>0</td>\n",
       "      <td>0</td>\n",
       "      <td>0</td>\n",
       "      <td>0</td>\n",
       "      <td>0</td>\n",
       "      <td>0</td>\n",
       "      <td>0</td>\n",
       "      <td>0</td>\n",
       "    </tr>\n",
       "    <tr>\n",
       "      <th>119109</th>\n",
       "      <td>14442449</td>\n",
       "      <td>30596786</td>\n",
       "      <td>1</td>\n",
       "      <td>0</td>\n",
       "      <td>0</td>\n",
       "      <td>0</td>\n",
       "      <td>1</td>\n",
       "      <td>0</td>\n",
       "      <td>0</td>\n",
       "      <td>24</td>\n",
       "      <td>...</td>\n",
       "      <td>0</td>\n",
       "      <td>0</td>\n",
       "      <td>0</td>\n",
       "      <td>0</td>\n",
       "      <td>0</td>\n",
       "      <td>0</td>\n",
       "      <td>0</td>\n",
       "      <td>0</td>\n",
       "      <td>0</td>\n",
       "      <td>0</td>\n",
       "    </tr>\n",
       "    <tr>\n",
       "      <th>8655</th>\n",
       "      <td>8514109</td>\n",
       "      <td>7714668</td>\n",
       "      <td>0</td>\n",
       "      <td>1</td>\n",
       "      <td>0</td>\n",
       "      <td>1</td>\n",
       "      <td>0</td>\n",
       "      <td>0</td>\n",
       "      <td>0</td>\n",
       "      <td>23</td>\n",
       "      <td>...</td>\n",
       "      <td>0</td>\n",
       "      <td>0</td>\n",
       "      <td>0</td>\n",
       "      <td>0</td>\n",
       "      <td>0</td>\n",
       "      <td>0</td>\n",
       "      <td>0</td>\n",
       "      <td>0</td>\n",
       "      <td>0</td>\n",
       "      <td>0</td>\n",
       "    </tr>\n",
       "    <tr>\n",
       "      <th>4541</th>\n",
       "      <td>31658433</td>\n",
       "      <td>30569777</td>\n",
       "      <td>0</td>\n",
       "      <td>1</td>\n",
       "      <td>0</td>\n",
       "      <td>0</td>\n",
       "      <td>1</td>\n",
       "      <td>0</td>\n",
       "      <td>1</td>\n",
       "      <td>-1</td>\n",
       "      <td>...</td>\n",
       "      <td>0</td>\n",
       "      <td>0</td>\n",
       "      <td>0</td>\n",
       "      <td>0</td>\n",
       "      <td>0</td>\n",
       "      <td>0</td>\n",
       "      <td>0</td>\n",
       "      <td>0</td>\n",
       "      <td>0</td>\n",
       "      <td>0</td>\n",
       "    </tr>\n",
       "    <tr>\n",
       "      <th>44719</th>\n",
       "      <td>27837434</td>\n",
       "      <td>39785132</td>\n",
       "      <td>0</td>\n",
       "      <td>0</td>\n",
       "      <td>1</td>\n",
       "      <td>1</td>\n",
       "      <td>0</td>\n",
       "      <td>0</td>\n",
       "      <td>0</td>\n",
       "      <td>19</td>\n",
       "      <td>...</td>\n",
       "      <td>0</td>\n",
       "      <td>0</td>\n",
       "      <td>0</td>\n",
       "      <td>0</td>\n",
       "      <td>0</td>\n",
       "      <td>0</td>\n",
       "      <td>0</td>\n",
       "      <td>0</td>\n",
       "      <td>0</td>\n",
       "      <td>0</td>\n",
       "    </tr>\n",
       "    <tr>\n",
       "      <th>...</th>\n",
       "      <td>...</td>\n",
       "      <td>...</td>\n",
       "      <td>...</td>\n",
       "      <td>...</td>\n",
       "      <td>...</td>\n",
       "      <td>...</td>\n",
       "      <td>...</td>\n",
       "      <td>...</td>\n",
       "      <td>...</td>\n",
       "      <td>...</td>\n",
       "      <td>...</td>\n",
       "      <td>...</td>\n",
       "      <td>...</td>\n",
       "      <td>...</td>\n",
       "      <td>...</td>\n",
       "      <td>...</td>\n",
       "      <td>...</td>\n",
       "      <td>...</td>\n",
       "      <td>...</td>\n",
       "      <td>...</td>\n",
       "      <td>...</td>\n",
       "    </tr>\n",
       "    <tr>\n",
       "      <th>110969</th>\n",
       "      <td>8800774</td>\n",
       "      <td>22253813</td>\n",
       "      <td>1</td>\n",
       "      <td>0</td>\n",
       "      <td>0</td>\n",
       "      <td>0</td>\n",
       "      <td>0</td>\n",
       "      <td>1</td>\n",
       "      <td>0</td>\n",
       "      <td>21</td>\n",
       "      <td>...</td>\n",
       "      <td>0</td>\n",
       "      <td>0</td>\n",
       "      <td>0</td>\n",
       "      <td>0</td>\n",
       "      <td>0</td>\n",
       "      <td>0</td>\n",
       "      <td>0</td>\n",
       "      <td>0</td>\n",
       "      <td>0</td>\n",
       "      <td>0</td>\n",
       "    </tr>\n",
       "    <tr>\n",
       "      <th>125455</th>\n",
       "      <td>8275667</td>\n",
       "      <td>40212905</td>\n",
       "      <td>0</td>\n",
       "      <td>1</td>\n",
       "      <td>0</td>\n",
       "      <td>1</td>\n",
       "      <td>0</td>\n",
       "      <td>0</td>\n",
       "      <td>0</td>\n",
       "      <td>25</td>\n",
       "      <td>...</td>\n",
       "      <td>0</td>\n",
       "      <td>0</td>\n",
       "      <td>0</td>\n",
       "      <td>0</td>\n",
       "      <td>0</td>\n",
       "      <td>0</td>\n",
       "      <td>0</td>\n",
       "      <td>0</td>\n",
       "      <td>0</td>\n",
       "      <td>1</td>\n",
       "    </tr>\n",
       "    <tr>\n",
       "      <th>3828</th>\n",
       "      <td>8611860</td>\n",
       "      <td>49136186</td>\n",
       "      <td>0</td>\n",
       "      <td>1</td>\n",
       "      <td>0</td>\n",
       "      <td>0</td>\n",
       "      <td>0</td>\n",
       "      <td>1</td>\n",
       "      <td>0</td>\n",
       "      <td>22</td>\n",
       "      <td>...</td>\n",
       "      <td>0</td>\n",
       "      <td>0</td>\n",
       "      <td>0</td>\n",
       "      <td>0</td>\n",
       "      <td>0</td>\n",
       "      <td>0</td>\n",
       "      <td>0</td>\n",
       "      <td>0</td>\n",
       "      <td>0</td>\n",
       "      <td>0</td>\n",
       "    </tr>\n",
       "    <tr>\n",
       "      <th>115410</th>\n",
       "      <td>40973308</td>\n",
       "      <td>4983274</td>\n",
       "      <td>0</td>\n",
       "      <td>1</td>\n",
       "      <td>0</td>\n",
       "      <td>0</td>\n",
       "      <td>0</td>\n",
       "      <td>1</td>\n",
       "      <td>0</td>\n",
       "      <td>18</td>\n",
       "      <td>...</td>\n",
       "      <td>0</td>\n",
       "      <td>0</td>\n",
       "      <td>0</td>\n",
       "      <td>0</td>\n",
       "      <td>0</td>\n",
       "      <td>0</td>\n",
       "      <td>0</td>\n",
       "      <td>0</td>\n",
       "      <td>0</td>\n",
       "      <td>0</td>\n",
       "    </tr>\n",
       "    <tr>\n",
       "      <th>120507</th>\n",
       "      <td>5033884</td>\n",
       "      <td>4113814</td>\n",
       "      <td>1</td>\n",
       "      <td>0</td>\n",
       "      <td>0</td>\n",
       "      <td>0</td>\n",
       "      <td>1</td>\n",
       "      <td>0</td>\n",
       "      <td>0</td>\n",
       "      <td>-1</td>\n",
       "      <td>...</td>\n",
       "      <td>0</td>\n",
       "      <td>0</td>\n",
       "      <td>0</td>\n",
       "      <td>0</td>\n",
       "      <td>0</td>\n",
       "      <td>0</td>\n",
       "      <td>0</td>\n",
       "      <td>0</td>\n",
       "      <td>0</td>\n",
       "      <td>1</td>\n",
       "    </tr>\n",
       "  </tbody>\n",
       "</table>\n",
       "<p>39495 rows × 356 columns</p>\n",
       "</div>"
      ],
      "text/plain": [
       "        user1_user_id  user2_user_id  user1_gender_f  user1_gender_m  \\\n",
       "104371        5940367       24186212               0               1   \n",
       "119109       14442449       30596786               1               0   \n",
       "8655          8514109        7714668               0               1   \n",
       "4541         31658433       30569777               0               1   \n",
       "44719        27837434       39785132               0               0   \n",
       "...               ...            ...             ...             ...   \n",
       "110969        8800774       22253813               1               0   \n",
       "125455        8275667       40212905               0               1   \n",
       "3828          8611860       49136186               0               1   \n",
       "115410       40973308        4983274               0               1   \n",
       "120507        5033884        4113814               1               0   \n",
       "\n",
       "        user1_gender_n  user2_gender_f  user2_gender_m  user2_gender_n  \\\n",
       "104371               0               0               1               0   \n",
       "119109               0               0               1               0   \n",
       "8655                 0               1               0               0   \n",
       "4541                 0               0               1               0   \n",
       "44719                1               1               0               0   \n",
       "...                ...             ...             ...             ...   \n",
       "110969               0               0               0               1   \n",
       "125455               0               1               0               0   \n",
       "3828                 0               0               0               1   \n",
       "115410               0               0               0               1   \n",
       "120507               0               0               1               0   \n",
       "\n",
       "        same_gender  user1_age  ...  user2_country_VG  user2_country_VI  \\\n",
       "104371            1         21  ...                 0                 0   \n",
       "119109            0         24  ...                 0                 0   \n",
       "8655              0         23  ...                 0                 0   \n",
       "4541              1         -1  ...                 0                 0   \n",
       "44719             0         19  ...                 0                 0   \n",
       "...             ...        ...  ...               ...               ...   \n",
       "110969            0         21  ...                 0                 0   \n",
       "125455            0         25  ...                 0                 0   \n",
       "3828              0         22  ...                 0                 0   \n",
       "115410            0         18  ...                 0                 0   \n",
       "120507            0         -1  ...                 0                 0   \n",
       "\n",
       "        user2_country_VN  user2_country_VU  user2_country_WF  \\\n",
       "104371                 0                 0                 0   \n",
       "119109                 0                 0                 0   \n",
       "8655                   0                 0                 0   \n",
       "4541                   0                 0                 0   \n",
       "44719                  0                 0                 0   \n",
       "...                  ...               ...               ...   \n",
       "110969                 0                 0                 0   \n",
       "125455                 0                 0                 0   \n",
       "3828                   0                 0                 0   \n",
       "115410                 0                 0                 0   \n",
       "120507                 0                 0                 0   \n",
       "\n",
       "        user2_country_WS  user2_country_ZA  user2_country_ZM  \\\n",
       "104371                 0                 0                 0   \n",
       "119109                 0                 0                 0   \n",
       "8655                   0                 0                 0   \n",
       "4541                   0                 0                 0   \n",
       "44719                  0                 0                 0   \n",
       "...                  ...               ...               ...   \n",
       "110969                 0                 0                 0   \n",
       "125455                 0                 0                 0   \n",
       "3828                   0                 0                 0   \n",
       "115410                 0                 0                 0   \n",
       "120507                 0                 0                 0   \n",
       "\n",
       "        user2_country_ZW  same_country  \n",
       "104371                 0             0  \n",
       "119109                 0             0  \n",
       "8655                   0             0  \n",
       "4541                   0             0  \n",
       "44719                  0             0  \n",
       "...                  ...           ...  \n",
       "110969                 0             0  \n",
       "125455                 0             1  \n",
       "3828                   0             0  \n",
       "115410                 0             0  \n",
       "120507                 0             1  \n",
       "\n",
       "[39495 rows x 356 columns]"
      ]
     },
     "execution_count": 120,
     "metadata": {},
     "output_type": "execute_result"
    }
   ],
   "source": [
    "X_test"
   ]
  },
  {
   "cell_type": "code",
   "execution_count": 63,
   "metadata": {},
   "outputs": [
    {
     "name": "stdout",
     "output_type": "stream",
     "text": [
      "[00:54:04] WARNING: /home/conda/feedstock_root/build_artifacts/xgboost_1607604574104/work/src/learner.cc:1061: Starting in XGBoost 1.3.0, the default evaluation metric used with the objective 'binary:logistic' was changed from 'error' to 'logloss'. Explicitly set eval_metric if you'd like to restore the old behavior.\n",
      "Accuracy: 80.94%\n",
      "              precision    recall  f1-score   support\n",
      "\n",
      "           0       0.80      0.82      0.81     19673\n",
      "           1       0.82      0.80      0.81     19822\n",
      "\n",
      "    accuracy                           0.81     39495\n",
      "   macro avg       0.81      0.81      0.81     39495\n",
      "weighted avg       0.81      0.81      0.81     39495\n",
      "\n"
     ]
    }
   ],
   "source": [
    "X_train, X_test, y_train, y_test = train_test_split(genre_features_df.drop(columns='label'), genre_features_df['label'], test_size=0.25, random_state=12)\n",
    "xgb = XGBClassifier(n_estimators=100, use_label_encoder=False)\n",
    "xgb.fit(X_train, y_train)\n",
    "xgb.feature_importances_\n",
    "feature_importances['genre_features_df'] = xgb.feature_importances_\n",
    "y_pred = xgb.predict(X_test)\n",
    "predictions = [round(value) for value in y_pred]\n",
    "# evaluate predictions\n",
    "accuracy = accuracy_score(y_test, predictions)\n",
    "report = classification_report(np.array(y_test), np.array(predictions), target_names=['0','1'])\n",
    "#confusion_matrix = confusion_matrix(np.array(y_test), np.array(predictions))\n",
    "print(\"Accuracy: %.2f%%\" % (accuracy * 100.0))\n",
    "print(report)\n",
    "#print(confusion_matrix)"
   ]
  },
  {
   "cell_type": "code",
   "execution_count": 64,
   "metadata": {},
   "outputs": [
    {
     "name": "stdout",
     "output_type": "stream",
     "text": [
      "[00:54:24] WARNING: /home/conda/feedstock_root/build_artifacts/xgboost_1607604574104/work/src/learner.cc:1061: Starting in XGBoost 1.3.0, the default evaluation metric used with the objective 'binary:logistic' was changed from 'error' to 'logloss'. Explicitly set eval_metric if you'd like to restore the old behavior.\n",
      "Accuracy: 78.18%\n",
      "              precision    recall  f1-score   support\n",
      "\n",
      "           0       0.77      0.80      0.78     19673\n",
      "           1       0.79      0.77      0.78     19822\n",
      "\n",
      "    accuracy                           0.78     39495\n",
      "   macro avg       0.78      0.78      0.78     39495\n",
      "weighted avg       0.78      0.78      0.78     39495\n",
      "\n"
     ]
    }
   ],
   "source": [
    "X_train, X_test, y_train, y_test = train_test_split(listening_profile_features_df.drop(columns='label'), listening_profile_features_df['label'], test_size=0.25, random_state=12)\n",
    "xgb = XGBClassifier(n_estimators=100, use_label_encoder=False)\n",
    "xgb.fit(X_train, y_train)\n",
    "xgb.feature_importances_\n",
    "feature_importances['listening_profile_features_df'] = xgb.feature_importances_\n",
    "y_pred = xgb.predict(X_test)\n",
    "predictions = [round(value) for value in y_pred]\n",
    "# evaluate predictions\n",
    "accuracy = accuracy_score(y_test, predictions)\n",
    "report = classification_report(np.array(y_test), np.array(predictions), target_names=['0','1'])\n",
    "#confusion_matrix = confusion_matrix(np.array(y_test), np.array(predictions))\n",
    "print(\"Accuracy: %.2f%%\" % (accuracy * 100.0))\n",
    "print(report)\n",
    "#print(confusion_matrix)"
   ]
  },
  {
   "cell_type": "code",
   "execution_count": 65,
   "metadata": {},
   "outputs": [
    {
     "name": "stdout",
     "output_type": "stream",
     "text": [
      "[00:54:40] WARNING: /home/conda/feedstock_root/build_artifacts/xgboost_1607604574104/work/src/learner.cc:1061: Starting in XGBoost 1.3.0, the default evaluation metric used with the objective 'binary:logistic' was changed from 'error' to 'logloss'. Explicitly set eval_metric if you'd like to restore the old behavior.\n",
      "Accuracy: 76.35%\n",
      "              precision    recall  f1-score   support\n",
      "\n",
      "           0       0.75      0.79      0.77     19673\n",
      "           1       0.78      0.74      0.76     19822\n",
      "\n",
      "    accuracy                           0.76     39495\n",
      "   macro avg       0.76      0.76      0.76     39495\n",
      "weighted avg       0.76      0.76      0.76     39495\n",
      "\n"
     ]
    }
   ],
   "source": [
    "X_train, X_test, y_train, y_test = train_test_split(listening_characteristics_features_df.drop(columns='label'), listening_characteristics_features_df['label'], test_size=0.25, random_state=12)\n",
    "xgb = XGBClassifier(n_estimators=100, use_label_encoder=False)\n",
    "xgb.fit(X_train, y_train)\n",
    "xgb.feature_importances_\n",
    "feature_importances['listening_characteristics_features_df'] = xgb.feature_importances_\n",
    "y_pred = xgb.predict(X_test)\n",
    "predictions = [round(value) for value in y_pred]\n",
    "# evaluate predictions\n",
    "accuracy = accuracy_score(y_test, predictions)\n",
    "report = classification_report(np.array(y_test), np.array(predictions), target_names=['0','1'])\n",
    "#confusion_matrix = confusion_matrix(np.array(y_test), np.array(predictions))\n",
    "print(\"Accuracy: %.2f%%\" % (accuracy * 100.0))\n",
    "print(report)\n",
    "#print(confusion_matrix)"
   ]
  },
  {
   "cell_type": "code",
   "execution_count": 66,
   "metadata": {},
   "outputs": [
    {
     "name": "stdout",
     "output_type": "stream",
     "text": [
      "[00:55:06] WARNING: /home/conda/feedstock_root/build_artifacts/xgboost_1607604574104/work/src/learner.cc:1061: Starting in XGBoost 1.3.0, the default evaluation metric used with the objective 'binary:logistic' was changed from 'error' to 'logloss'. Explicitly set eval_metric if you'd like to restore the old behavior.\n",
      "Accuracy: 97.64%\n",
      "              precision    recall  f1-score   support\n",
      "\n",
      "           0       0.96      0.99      0.98     19673\n",
      "           1       0.99      0.96      0.98     19822\n",
      "\n",
      "    accuracy                           0.98     39495\n",
      "   macro avg       0.98      0.98      0.98     39495\n",
      "weighted avg       0.98      0.98      0.98     39495\n",
      "\n"
     ]
    }
   ],
   "source": [
    "X_train, X_test, y_train, y_test = train_test_split(full_df.drop(columns='label'), full_df['label'], test_size=0.25, random_state=12)\n",
    "xgb = XGBClassifier(n_estimators=100, use_label_encoder=False)\n",
    "xgb.fit(X_train, y_train)\n",
    "xgb.feature_importances_\n",
    "feature_importances['full_df'] = xgb.feature_importances_\n",
    "y_pred = xgb.predict(X_test)\n",
    "predictions = [round(value) for value in y_pred]\n",
    "# evaluate predictions\n",
    "accuracy = accuracy_score(y_test, predictions)\n",
    "report = classification_report(np.array(y_test), np.array(predictions), target_names=['0','1'])\n",
    "#confusion_matrix = confusion_matrix(np.array(y_test), np.array(predictions))\n",
    "print(\"Accuracy: %.2f%%\" % (accuracy * 100.0))\n",
    "print(report)\n",
    "#print(confusion_matrix)"
   ]
  },
  {
   "cell_type": "code",
   "execution_count": 67,
   "metadata": {},
   "outputs": [
    {
     "name": "stdout",
     "output_type": "stream",
     "text": [
      "[00:55:58] WARNING: /home/conda/feedstock_root/build_artifacts/xgboost_1607604574104/work/src/learner.cc:1061: Starting in XGBoost 1.3.0, the default evaluation metric used with the objective 'binary:logistic' was changed from 'error' to 'logloss'. Explicitly set eval_metric if you'd like to restore the old behavior.\n",
      "Accuracy: 83.45%\n",
      "              precision    recall  f1-score   support\n",
      "\n",
      "           0       0.83      0.84      0.83     19673\n",
      "           1       0.84      0.83      0.83     19822\n",
      "\n",
      "    accuracy                           0.83     39495\n",
      "   macro avg       0.83      0.83      0.83     39495\n",
      "weighted avg       0.83      0.83      0.83     39495\n",
      "\n"
     ]
    }
   ],
   "source": [
    "full_df = full_df.drop(columns=['jaccard_coefficient','adamic_adar_coefficient','common_neighbors'])\n",
    "X_train, X_test, y_train, y_test = train_test_split(full_df.drop(columns='label'), full_df['label'], test_size=0.25, random_state=12)\n",
    "xgb = XGBClassifier(n_estimators=100, use_label_encoder=False)\n",
    "xgb.fit(X_train, y_train)\n",
    "xgb.feature_importances_\n",
    "feature_importances['full_df'] = xgb.feature_importances_\n",
    "y_pred = xgb.predict(X_test)\n",
    "predictions = [round(value) for value in y_pred]\n",
    "# evaluate predictions\n",
    "accuracy = accuracy_score(y_test, predictions)\n",
    "report = classification_report(np.array(y_test), np.array(predictions), target_names=['0','1'])\n",
    "#confusion_matrix = confusion_matrix(np.array(y_test), np.array(predictions))\n",
    "print(\"Accuracy: %.2f%%\" % (accuracy * 100.0))\n",
    "print(report)\n",
    "#print(confusion_matrix)"
   ]
  },
  {
   "cell_type": "code",
   "execution_count": 142,
   "metadata": {},
   "outputs": [
    {
     "ename": "KeyError",
     "evalue": "'full_df'",
     "output_type": "error",
     "traceback": [
      "\u001b[0;31m---------------------------------------------------------------------------\u001b[0m",
      "\u001b[0;31mKeyError\u001b[0m                                  Traceback (most recent call last)",
      "\u001b[0;32m<ipython-input-142-a0093ab97726>\u001b[0m in \u001b[0;36m<module>\u001b[0;34m\u001b[0m\n\u001b[0;32m----> 1\u001b[0;31m \u001b[0msorted\u001b[0m\u001b[0;34m(\u001b[0m\u001b[0mlist\u001b[0m\u001b[0;34m(\u001b[0m\u001b[0mzip\u001b[0m\u001b[0;34m(\u001b[0m\u001b[0mfeature_importances\u001b[0m\u001b[0;34m[\u001b[0m\u001b[0;34m'full_df'\u001b[0m\u001b[0;34m]\u001b[0m\u001b[0;34m,\u001b[0m \u001b[0mlist\u001b[0m\u001b[0;34m(\u001b[0m\u001b[0mfull_df\u001b[0m\u001b[0;34m.\u001b[0m\u001b[0mcolumns\u001b[0m\u001b[0;34m)\u001b[0m\u001b[0;34m)\u001b[0m\u001b[0;34m)\u001b[0m\u001b[0;34m,\u001b[0m  \u001b[0mkey\u001b[0m\u001b[0;34m=\u001b[0m\u001b[0;32mlambda\u001b[0m \u001b[0mx\u001b[0m\u001b[0;34m:\u001b[0m \u001b[0mx\u001b[0m\u001b[0;34m[\u001b[0m\u001b[0;36m0\u001b[0m\u001b[0;34m]\u001b[0m\u001b[0;34m,\u001b[0m \u001b[0mreverse\u001b[0m\u001b[0;34m=\u001b[0m\u001b[0;32mTrue\u001b[0m\u001b[0;34m)\u001b[0m\u001b[0;34m\u001b[0m\u001b[0;34m\u001b[0m\u001b[0m\n\u001b[0m",
      "\u001b[0;31mKeyError\u001b[0m: 'full_df'"
     ]
    }
   ],
   "source": [
    "sorted(list(zip(feature_importances['full_df'], list(full_df.columns))),  key=lambda x: x[0], reverse=True)"
   ]
  },
  {
   "cell_type": "code",
   "execution_count": 73,
   "metadata": {},
   "outputs": [
    {
     "data": {
      "text/plain": [
       "Index(['user1_user_id', 'user2_user_id', 'user1_mainstreaminess_avg_month',\n",
       "       'user1_mainstreaminess_avg_6months', 'user1_mainstreaminess_avg_year',\n",
       "       'user1_mainstreaminess_global',\n",
       "       'user1_user_groups_mainstreaminess_avg_month_high',\n",
       "       'user1_user_groups_mainstreaminess_avg_month_low',\n",
       "       'user1_user_groups_mainstreaminess_avg_month_medium',\n",
       "       'user1_user_groups_mainstreaminess_avg_6months_high',\n",
       "       ...\n",
       "       'user1_user_groups_playcount_lognorm_high',\n",
       "       'user1_user_groups_playcount_lognorm_low',\n",
       "       'user1_user_groups_playcount_lognorm_medium', 'user2_playcount_lognorm',\n",
       "       'user2_user_groups_playcount_lognorm_high',\n",
       "       'user2_user_groups_playcount_lognorm_low',\n",
       "       'user2_user_groups_playcount_lognorm_medium',\n",
       "       'relative_change_playcount_lognorm',\n",
       "       'same_user_groups_playcount_lognorm', 'label'],\n",
       "      dtype='object', length=181)"
      ]
     },
     "execution_count": 73,
     "metadata": {},
     "output_type": "execute_result"
    }
   ],
   "source": [
    "listening_characteristics_features_df.columns"
   ]
  },
  {
   "cell_type": "code",
   "execution_count": null,
   "metadata": {},
   "outputs": [],
   "source": [
    "# for feature_combination in feature_combinations:\n",
    "#     if feature_combination == (None,None,None,None):\n",
    "#         continue\n",
    "#     # split data into X and y\n",
    "#     X = feature_combinations[feature_combination]['dataframe'].drop(columns=['user1_user_id','user2_user_id','label'])\n",
    "#     Y = feature_combinations[feature_combination]['dataframe']['label']\n",
    "#     # CV model\n",
    "#     model = XGBClassifier(use_label_encoder=False)\n",
    "#     kfold = StratifiedKFold(n_splits=10, random_state=7)\n",
    "#     accuracy = cross_val_score(model, X, Y, cv=kfold, scoring='accuracy')\n",
    "#     precision = cross_val_score(model, X, Y, cv=kfold, scoring='precision')\n",
    "#     recall = cross_val_score(model, X, Y, cv=kfold, scoring='recall')\n",
    "#     f1 = cross_val_score(model, X, Y, cv=kfold, scoring='f1')\n",
    "# #     support = cross_val_score(model, X, Y, cv=kfold, scoring='support')\n",
    "#     feature_combinations[feature_combination]['accuracy'] = (accuracy.mean(), accuracy.std())\n",
    "#     feature_combinations[feature_combination]['precision'] = (precision.mean(), precision.std())\n",
    "#     feature_combinations[feature_combination]['recall'] = (recall.mean(), recall.std())\n",
    "#     feature_combinations[feature_combination]['f1'] = (f1.mean(), f1.std())\n",
    "# #     feature_combinations[feature_combination]['support'] = (support.mean(), support.std())"
   ]
  }
 ],
 "metadata": {
  "kernelspec": {
   "display_name": "Python 3",
   "language": "python",
   "name": "python3"
  },
  "language_info": {
   "codemirror_mode": {
    "name": "ipython",
    "version": 3
   },
   "file_extension": ".py",
   "mimetype": "text/x-python",
   "name": "python",
   "nbconvert_exporter": "python",
   "pygments_lexer": "ipython3",
   "version": "3.8.10"
  }
 },
 "nbformat": 4,
 "nbformat_minor": 4
}
