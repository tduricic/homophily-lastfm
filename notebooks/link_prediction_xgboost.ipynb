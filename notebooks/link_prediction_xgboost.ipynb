{
 "cells": [
  {
   "cell_type": "code",
   "execution_count": 7,
   "metadata": {},
   "outputs": [],
   "source": [
    "import numpy as np\n",
    "import pandas as pd\n",
    "import networkx as nx\n",
    "from sklearn.model_selection import train_test_split\n",
    "from sklearn.metrics import accuracy_score\n",
    "from sklearn.metrics import classification_report\n",
    "from sklearn.metrics import precision_recall_fscore_support\n",
    "from matplotlib import pyplot as plt\n",
    "import seaborn as sns \n",
    "from xgboost import XGBClassifier"
   ]
  },
  {
   "cell_type": "code",
   "execution_count": 10,
   "metadata": {},
   "outputs": [
    {
     "name": "stdout",
     "output_type": "stream",
     "text": [
      "Dataset_id:  0 , split_seed:  0 , feature_combination:  (None, None, None)\n",
      "Dataset_id:  0 , split_seed:  0 , feature_combination:  (None, None, 'mndf')\n"
     ]
    },
    {
     "name": "stderr",
     "output_type": "stream",
     "text": [
      "/home/tduricic/01_Development/tools/anaconda3/envs/lastfm/lib/python3.9/site-packages/xgboost/data.py:262: FutureWarning: pandas.Int64Index is deprecated and will be removed from pandas in a future version. Use pandas.Index with the appropriate dtype instead.\n",
      "  elif isinstance(data.columns, (pd.Int64Index, pd.RangeIndex)):\n"
     ]
    },
    {
     "name": "stdout",
     "output_type": "stream",
     "text": [
      "[12:50:25] WARNING: ../src/learner.cc:1115: Starting in XGBoost 1.3.0, the default evaluation metric used with the objective 'binary:logistic' was changed from 'error' to 'logloss'. Explicitly set eval_metric if you'd like to restore the old behavior.\n",
      "(0.7615843349477048, 0.7617812510526493, 0.7616344914343112, None)\n",
      "1\n",
      "Dataset_id:  0 , split_seed:  0 , feature_combination:  (None, 'apf', None)\n"
     ]
    },
    {
     "name": "stderr",
     "output_type": "stream",
     "text": [
      "/home/tduricic/01_Development/tools/anaconda3/envs/lastfm/lib/python3.9/site-packages/xgboost/data.py:262: FutureWarning: pandas.Int64Index is deprecated and will be removed from pandas in a future version. Use pandas.Index with the appropriate dtype instead.\n",
      "  elif isinstance(data.columns, (pd.Int64Index, pd.RangeIndex)):\n"
     ]
    },
    {
     "name": "stdout",
     "output_type": "stream",
     "text": [
      "[12:51:06] WARNING: ../src/learner.cc:1115: Starting in XGBoost 1.3.0, the default evaluation metric used with the objective 'binary:logistic' was changed from 'error' to 'logloss'. Explicitly set eval_metric if you'd like to restore the old behavior.\n",
      "(0.778431779939038, 0.7785899551992455, 0.7784743371980151, None)\n",
      "2\n",
      "Dataset_id:  0 , split_seed:  0 , feature_combination:  (None, 'apf', 'mndf')\n"
     ]
    },
    {
     "name": "stderr",
     "output_type": "stream",
     "text": [
      "/home/tduricic/01_Development/tools/anaconda3/envs/lastfm/lib/python3.9/site-packages/xgboost/data.py:262: FutureWarning: pandas.Int64Index is deprecated and will be removed from pandas in a future version. Use pandas.Index with the appropriate dtype instead.\n",
      "  elif isinstance(data.columns, (pd.Int64Index, pd.RangeIndex)):\n"
     ]
    },
    {
     "name": "stdout",
     "output_type": "stream",
     "text": [
      "[12:51:44] WARNING: ../src/learner.cc:1115: Starting in XGBoost 1.3.0, the default evaluation metric used with the objective 'binary:logistic' was changed from 'error' to 'logloss'. Explicitly set eval_metric if you'd like to restore the old behavior.\n",
      "(0.7973651070166012, 0.7974871155724728, 0.7973998676407926, None)\n",
      "3\n",
      "Dataset_id:  0 , split_seed:  0 , feature_combination:  ('gf', None, None)\n"
     ]
    },
    {
     "name": "stderr",
     "output_type": "stream",
     "text": [
      "/home/tduricic/01_Development/tools/anaconda3/envs/lastfm/lib/python3.9/site-packages/xgboost/data.py:262: FutureWarning: pandas.Int64Index is deprecated and will be removed from pandas in a future version. Use pandas.Index with the appropriate dtype instead.\n",
      "  elif isinstance(data.columns, (pd.Int64Index, pd.RangeIndex)):\n"
     ]
    },
    {
     "name": "stdout",
     "output_type": "stream",
     "text": [
      "[12:52:51] WARNING: ../src/learner.cc:1115: Starting in XGBoost 1.3.0, the default evaluation metric used with the objective 'binary:logistic' was changed from 'error' to 'logloss'. Explicitly set eval_metric if you'd like to restore the old behavior.\n",
      "(0.9761688644942227, 0.9751406339475192, 0.9751666685525172, None)\n",
      "4\n",
      "Dataset_id:  0 , split_seed:  0 , feature_combination:  ('gf', None, 'mndf')\n"
     ]
    },
    {
     "name": "stderr",
     "output_type": "stream",
     "text": [
      "/home/tduricic/01_Development/tools/anaconda3/envs/lastfm/lib/python3.9/site-packages/xgboost/data.py:262: FutureWarning: pandas.Int64Index is deprecated and will be removed from pandas in a future version. Use pandas.Index with the appropriate dtype instead.\n",
      "  elif isinstance(data.columns, (pd.Int64Index, pd.RangeIndex)):\n"
     ]
    },
    {
     "name": "stdout",
     "output_type": "stream",
     "text": [
      "[12:53:02] WARNING: ../src/learner.cc:1115: Starting in XGBoost 1.3.0, the default evaluation metric used with the objective 'binary:logistic' was changed from 'error' to 'logloss'. Explicitly set eval_metric if you'd like to restore the old behavior.\n",
      "(0.976230213177579, 0.9752080035032169, 0.9752339268388053, None)\n",
      "5\n",
      "Dataset_id:  0 , split_seed:  0 , feature_combination:  ('gf', 'apf', None)\n"
     ]
    },
    {
     "name": "stderr",
     "output_type": "stream",
     "text": [
      "/home/tduricic/01_Development/tools/anaconda3/envs/lastfm/lib/python3.9/site-packages/xgboost/data.py:262: FutureWarning: pandas.Int64Index is deprecated and will be removed from pandas in a future version. Use pandas.Index with the appropriate dtype instead.\n",
      "  elif isinstance(data.columns, (pd.Int64Index, pd.RangeIndex)):\n"
     ]
    },
    {
     "name": "stdout",
     "output_type": "stream",
     "text": [
      "[12:53:58] WARNING: ../src/learner.cc:1115: Starting in XGBoost 1.3.0, the default evaluation metric used with the objective 'binary:logistic' was changed from 'error' to 'logloss'. Explicitly set eval_metric if you'd like to restore the old behavior.\n",
      "(0.9755602815015644, 0.9746016775019368, 0.9746277607450269, None)\n",
      "6\n",
      "Dataset_id:  0 , split_seed:  0 , feature_combination:  ('gf', 'apf', 'mndf')\n"
     ]
    },
    {
     "name": "stderr",
     "output_type": "stream",
     "text": [
      "/home/tduricic/01_Development/tools/anaconda3/envs/lastfm/lib/python3.9/site-packages/xgboost/data.py:262: FutureWarning: pandas.Int64Index is deprecated and will be removed from pandas in a future version. Use pandas.Index with the appropriate dtype instead.\n",
      "  elif isinstance(data.columns, (pd.Int64Index, pd.RangeIndex)):\n"
     ]
    },
    {
     "name": "stdout",
     "output_type": "stream",
     "text": [
      "[12:54:31] WARNING: ../src/learner.cc:1115: Starting in XGBoost 1.3.0, the default evaluation metric used with the objective 'binary:logistic' was changed from 'error' to 'logloss'. Explicitly set eval_metric if you'd like to restore the old behavior.\n",
      "(0.9759411879500284, 0.9750058948361235, 0.9750313864784489, None)\n",
      "7\n"
     ]
    }
   ],
   "source": [
    "evaluation_results_new = []\n",
    "num_datasets = 1\n",
    "# random sampling instead of cross-fold validation\n",
    "num_random_splits = 1\n",
    "# In the full evaluation, we would have 10 different datasets (due to random negative samples) with 10 different random data splits\n",
    "for dataset_id in range(num_datasets):\n",
    "    # Load datasets\n",
    "    network_features_df = pd.read_csv('../data/dataframes/links_dfs/' + str(dataset_id) + '/links_df_network_features.csv', index_col=0)\n",
    "    network_features_df = network_features_df.sample(random_state=dataset_id, frac=1).reset_index(drop=True)\n",
    "    listening_profile_features_df = pd.read_csv('../data/dataframes/links_dfs/' + str(dataset_id) + '/links_df_listening_profile_features.csv', index_col=0)\n",
    "    listening_profile_features_df = listening_profile_features_df.sample(random_state=dataset_id, frac=1).reset_index(drop=True)\n",
    "    listening_characteristics_features_df = pd.read_csv('../data/dataframes/links_dfs/' + str(dataset_id) + '/links_df_listening_characteristics_features.csv', index_col=0)\n",
    "    listening_characteristics_features_df = listening_characteristics_features_df.drop(columns=[\"user1_allmusic_weighted_average_diversity\",\n",
    "                                                                                                \"user1_allmusic_genre_coverage_diversity\",\n",
    "                                                                                                \"user1_allmusic_entropy_diversity\",\n",
    "                                                                                                \"user1_user_groups_allmusic_weighted_average_diversity_high\",\n",
    "                                                                                                \"user1_user_groups_allmusic_weighted_average_diversity_low\",\n",
    "                                                                                                \"user1_user_groups_allmusic_weighted_average_diversity_medium\",\n",
    "                                                                                                \"user1_user_groups_allmusic_genre_coverage_diversity_high\",\n",
    "                                                                                                \"user1_user_groups_allmusic_genre_coverage_diversity_low\",\n",
    "                                                                                                \"user1_user_groups_allmusic_entropy_diversity_high\",\n",
    "                                                                                                \"user1_user_groups_allmusic_entropy_diversity_low\",\n",
    "                                                                                                \"user1_user_groups_allmusic_entropy_diversity_medium\",\n",
    "                                                                                                \"user2_allmusic_weighted_average_diversity\",\n",
    "                                                                                                \"user2_allmusic_genre_coverage_diversity\",\n",
    "                                                                                                \"user2_allmusic_entropy_diversity\",\n",
    "                                                                                                \"user2_user_groups_allmusic_weighted_average_diversity_high\",\n",
    "                                                                                                \"user2_user_groups_allmusic_weighted_average_diversity_low\",\n",
    "                                                                                                \"user2_user_groups_allmusic_weighted_average_diversity_medium\",\n",
    "                                                                                                \"user2_user_groups_allmusic_genre_coverage_diversity_high\",\n",
    "                                                                                                \"user2_user_groups_allmusic_genre_coverage_diversity_low\",\n",
    "                                                                                                \"user2_user_groups_allmusic_entropy_diversity_high\",\n",
    "                                                                                                \"user2_user_groups_allmusic_entropy_diversity_low\",\n",
    "                                                                                                \"user2_user_groups_allmusic_entropy_diversity_medium\",\n",
    "                                                                                                \"relative_change_allmusic_weighted_average_diversity\",\n",
    "                                                                                                \"relative_change_allmusic_genre_coverage_diversity\",\n",
    "                                                                                                \"relative_change_allmusic_entropy_diversity\",\n",
    "                                                                                                \"same_user_groups_allmusic_weighted_average_diversity\",\n",
    "                                                                                                \"same_user_groups_allmusic_genre_coverage_diversity\",\n",
    "                                                                                                \"same_user_groups_allmusic_entropy_diversity\",\n",
    "                                                                                                \"user1_cnt_listeningevents_lognorm\",\n",
    "                                                                                                \"user1_cnt_listeningevents_per_week_lognorm\",\n",
    "                                                                                                \"user1_user_groups_cnt_listeningevents_lognorm_high\",\n",
    "                                                                                                \"user1_user_groups_cnt_listeningevents_lognorm_low\",\n",
    "                                                                                                \"user1_user_groups_cnt_listeningevents_lognorm_medium\",\n",
    "                                                                                                \"user1_user_groups_cnt_listeningevents_per_week_lognorm_high\",\n",
    "                                                                                                \"user1_user_groups_cnt_listeningevents_per_week_lognorm_low\",\n",
    "                                                                                                \"user1_user_groups_cnt_listeningevents_per_week_lognorm_medium\",\n",
    "                                                                                                \"user2_cnt_listeningevents_lognorm\",\n",
    "                                                                                                \"user2_cnt_listeningevents_per_week_lognorm\",\n",
    "                                                                                                \"user2_user_groups_cnt_listeningevents_lognorm_high\",\n",
    "                                                                                                \"user2_user_groups_cnt_listeningevents_lognorm_low\",\n",
    "                                                                                                \"user2_user_groups_cnt_listeningevents_lognorm_medium\",\n",
    "                                                                                                \"user2_user_groups_cnt_listeningevents_per_week_lognorm_high\",\n",
    "                                                                                                \"user2_user_groups_cnt_listeningevents_per_week_lognorm_low\",\n",
    "                                                                                                \"user2_user_groups_cnt_listeningevents_per_week_lognorm_medium\",\n",
    "                                                                                                \"relative_change_cnt_listeningevents_lognorm\",\n",
    "                                                                                                \"relative_change_cnt_listeningevents_per_week_lognorm\",\n",
    "                                                                                                \"same_user_groups_cnt_listeningevents_lognorm\",\n",
    "                                                                                                \"same_user_groups_cnt_listeningevents_per_week_lognorm\",\n",
    "                                                                                                \"user1_playcount_lognorm\",\n",
    "                                                                                                \"user1_user_groups_playcount_lognorm_high\",\n",
    "                                                                                                \"user1_user_groups_playcount_lognorm_low\",\n",
    "                                                                                                \"user1_user_groups_playcount_lognorm_medium\",\n",
    "                                                                                                \"user2_playcount_lognorm\",\n",
    "                                                                                                \"user2_user_groups_playcount_lognorm_high\",\n",
    "                                                                                                \"user2_user_groups_playcount_lognorm_low\",\n",
    "                                                                                                \"user2_user_groups_playcount_lognorm_medium\",\n",
    "                                                                                                \"relative_change_playcount_lognorm\",\n",
    "                                                                                                \"same_user_groups_playcount_lognorm\"])\n",
    "    listening_characteristics_features_df = listening_characteristics_features_df.sample(random_state=dataset_id, frac=1).reset_index(drop=True)\n",
    "#     full_df = pd.read_csv('dataframes/links_dfs/' + str(dataset_index) + '/links_df_full.csv', index_col=0)\n",
    "#     full_df = full_df.sample(frac=1).reset_index(drop=True)\n",
    "    # Map dataframes by attribute types\n",
    "    feature_dict = {\n",
    "        'apf':listening_profile_features_df,\n",
    "        'mndf':listening_characteristics_features_df,\n",
    "        'gf':network_features_df\n",
    "    }\n",
    "    for split_seed in range(num_random_splits):\n",
    "        for nf in [None, 'gf']:\n",
    "            for lpf in [None, 'apf']:\n",
    "                for lcf in [None, 'mndf']:\n",
    "                    feature_combination = (nf, lpf, lcf)\n",
    "                    print('Dataset_id: ', dataset_id, ', split_seed: ', split_seed, ', feature_combination: ', feature_combination)\n",
    "                    if feature_combination == (None,None,None):\n",
    "                        continue\n",
    "                    dfs_to_combine = []\n",
    "                    for x in (nf, lpf, lcf):\n",
    "                        if x is not None:\n",
    "                            dfs_to_combine.append(feature_dict[x])\n",
    "                    input_df = pd.concat(dfs_to_combine, axis=1)\n",
    "                    input_df = input_df.loc[:,~input_df.columns.duplicated()]\n",
    "                                \n",
    "                    X_train, X_test, y_train, y_test = train_test_split(input_df.drop(columns=['label']), input_df['label'], test_size=0.2, random_state=split_seed)\n",
    "                    xgb = XGBClassifier(n_estimators=100, use_label_encoder=False)\n",
    "                    user_ids_test = pd.DataFrame(X_test[['user1_user_id', 'user2_user_id']])\n",
    "                    X_train = X_train.drop(columns=['user1_user_id', 'user2_user_id'])\n",
    "                    X_test = X_test.drop(columns=['user1_user_id', 'user2_user_id'])\n",
    "                    xgb.fit(X_train, y_train)\n",
    "                    y_pred = xgb.predict(X_test)\n",
    "                    predictions = [round(value) for value in y_pred]\n",
    "                    # evaluate predictions\n",
    "                    report = classification_report(y_test, predictions)\n",
    "                    prfs_macro = precision_recall_fscore_support(y_test, predictions, average='macro')\n",
    "                    prfs_micro = precision_recall_fscore_support(y_test, predictions, average='micro')\n",
    "                    prfs_weighted = precision_recall_fscore_support(y_test, predictions, average='weighted')\n",
    "                    print(prfs_weighted)\n",
    "                    feature_importances = sorted(list(zip(xgb.feature_importances_, list(X_train.columns))),  key=lambda x: x[0], reverse=True)\n",
    "                    evaluation_result = {\n",
    "                        'dataset_id': dataset_id,\n",
    "                        'split_seed': split_seed,\n",
    "                        'network_features': False if nf is None else True,\n",
    "                        'listening_profile_features': False if lpf is None else True,\n",
    "                        'listening_characteristics_features': False if lcf is None else True,\n",
    "                        'report': report,\n",
    "                        'xgb_feature_importances': feature_importances,\n",
    "                        'user_ids_test': user_ids_test,\n",
    "                        'y_test': y_test,\n",
    "                        'y_pred': y_pred,\n",
    "                        'prfs_macro': prfs_macro,\n",
    "                        'prfs_micro': prfs_micro,\n",
    "                        'prfs_weighted': prfs_weighted\n",
    "                    }\n",
    "                    evaluation_results_new.append(evaluation_result)\n",
    "                    print(len(evaluation_results_new))"
   ]
  },
  {
   "cell_type": "code",
   "execution_count": 12,
   "metadata": {},
   "outputs": [],
   "source": [
    "filtered_results = []\n",
    "for evaluation_result in evaluation_results_new:\n",
    "    approach_name = ''\n",
    "    if evaluation_result['network_features']==True:\n",
    "        if approach_name =='':\n",
    "            approach_name='GF'\n",
    "        else:\n",
    "            approach_name+='+GF'\n",
    "    if evaluation_result['listening_profile_features']==True:\n",
    "        if approach_name =='':\n",
    "            approach_name='APF'\n",
    "        else:\n",
    "            approach_name+='+APF'\n",
    "    if evaluation_result['listening_characteristics_features']==True:\n",
    "        if approach_name =='':\n",
    "            approach_name='MNDF'\n",
    "        else:\n",
    "            approach_name+='+MNDF'\n",
    "    filtered_results.append({\n",
    "        'dataset_id':evaluation_result['dataset_id'],\n",
    "        'split_seed':evaluation_result['split_seed'],\n",
    "        'network_features':evaluation_result['network_features'],\n",
    "        'listening_profile_features':evaluation_result['listening_profile_features'],\n",
    "        'listening_characteristics_features':evaluation_result['listening_characteristics_features'],\n",
    "        'accuracy':evaluation_result['report'].split()[15],\n",
    "        'f_score':evaluation_result['prfs_weighted'][2],\n",
    "        'approach_name':approach_name\n",
    "    })\n",
    "filtered_results_df = pd.DataFrame(filtered_results)"
   ]
  },
  {
   "cell_type": "code",
   "execution_count": 15,
   "metadata": {},
   "outputs": [],
   "source": [
    "grouped = filtered_results_df[['approach_name', 'f_score']].groupby(['approach_name'])"
   ]
  },
  {
   "cell_type": "code",
   "execution_count": 16,
   "metadata": {},
   "outputs": [
    {
     "data": {
      "text/plain": "<Figure size 576x432 with 1 Axes>",
      "image/png": "[encoded data removed]"
     },
     "metadata": {
      "needs_background": "light"
     },
     "output_type": "display_data"
    }
   ],
   "source": [
    "plt.rcParams.update({'figure.figsize' : (8,6)})\n",
    "plt.rcParams.update({'font.size': 20})\n",
    "ax = sns.boxplot(palette=\"flare\", x=\"approach_name\", y=\"f_score\", data=filtered_results_df[(filtered_results_df.approach_name=='MNDF')|(filtered_results_df.approach_name=='APF')|(filtered_results_df.approach_name=='APF+MNDF')|(filtered_results_df.approach_name=='GF')|(filtered_results_df.approach_name=='GF+MNDF')|(filtered_results_df.approach_name=='GF+APF')|(filtered_results_df.approach_name=='GF+APF+MNDF')])\n",
    "ax.set(xlabel='Feature combination', ylabel='F1 Score')\n",
    "ax.set_xticklabels(ax.get_xticklabels(),rotation=45)\n",
    "ax.axhline(0.5, ls='--', color='red')\n",
    "plt.savefig('../figures/link-prediction-results_all.pdf', dpi=300, bbox_inches = \"tight\")"
   ]
  },
  {
   "cell_type": "code",
   "execution_count": 18,
   "metadata": {},
   "outputs": [],
   "source": [
    "feature_importances = []\n",
    "for evaluation_result in evaluation_results_new:\n",
    "    if evaluation_result['network_features']==False and evaluation_result['listening_profile_features']==True and evaluation_result['listening_characteristics_features']==True:\n",
    "        tmp = {}\n",
    "        for entry in evaluation_result['xgb_feature_importances']:\n",
    "            tmp[entry[1]] = entry[0]\n",
    "        feature_importances.append(tmp)"
   ]
  },
  {
   "cell_type": "code",
   "execution_count": 19,
   "metadata": {},
   "outputs": [],
   "source": [
    "feature_importances_df = pd.DataFrame(feature_importances)"
   ]
  },
  {
   "cell_type": "code",
   "execution_count": 20,
   "outputs": [
    {
     "data": {
      "text/plain": "   cosine_similarity_UAM_nmf_array  \\\n0                         0.100614   \n\n   user1_user_groups_freebase_weighted_average_diversity_medium  \\\n0                                           0.017296              \n\n   user1_UAM_nmf_10  user1_cnt_distinct_tracks_lognorm  \\\n0          0.015563                           0.015079   \n\n   user1_user_groups_novelty_artist_avg_6months_medium  \\\n0                                           0.014671     \n\n   user1_user_groups_mainstreaminess_avg_month_medium  user1_UAM_nmf_18  \\\n0                                           0.014453           0.014129   \n\n   user2_UAM_nmf_10  user1_novelty_artist_avg_year  user1_UAM_nmf_5  ...  \\\n0          0.013543                       0.013189         0.012978  ...   \n\n   user2_user_groups_freebase_entropy_diversity_high  \\\n0                                                0.0   \n\n   user2_user_groups_freebase_entropy_diversity_low  \\\n0                                               0.0   \n\n   user1_user_groups_cnt_distinct_tracks_lognorm_high  \\\n0                                                0.0    \n\n   user1_user_groups_cnt_distinct_tracks_lognorm_low  \\\n0                                                0.0   \n\n   user1_user_groups_cnt_distinct_artists_lognorm_high  \\\n0                                                0.0     \n\n   user1_user_groups_cnt_distinct_artists_lognorm_low  \\\n0                                                0.0    \n\n   user2_user_groups_cnt_distinct_tracks_lognorm_high  \\\n0                                                0.0    \n\n   user2_user_groups_cnt_distinct_tracks_lognorm_low  \\\n0                                                0.0   \n\n   user2_user_groups_cnt_distinct_artists_lognorm_high  \\\n0                                                0.0     \n\n   user2_user_groups_cnt_distinct_artists_lognorm_low  \n0                                                0.0   \n\n[1 rows x 161 columns]",
      "text/html": "<div>\n<style scoped>\n    .dataframe tbody tr th:only-of-type {\n        vertical-align: middle;\n    }\n\n    .dataframe tbody tr th {\n        vertical-align: top;\n    }\n\n    .dataframe thead th {\n        text-align: right;\n    }\n</style>\n<table border=\"1\" class=\"dataframe\">\n  <thead>\n    <tr style=\"text-align: right;\">\n      <th></th>\n      <th>cosine_similarity_UAM_nmf_array</th>\n      <th>user1_user_groups_freebase_weighted_average_diversity_medium</th>\n      <th>user1_UAM_nmf_10</th>\n      <th>user1_cnt_distinct_tracks_lognorm</th>\n      <th>user1_user_groups_novelty_artist_avg_6months_medium</th>\n      <th>user1_user_groups_mainstreaminess_avg_month_medium</th>\n      <th>user1_UAM_nmf_18</th>\n      <th>user2_UAM_nmf_10</th>\n      <th>user1_novelty_artist_avg_year</th>\n      <th>user1_UAM_nmf_5</th>\n      <th>...</th>\n      <th>user2_user_groups_freebase_entropy_diversity_high</th>\n      <th>user2_user_groups_freebase_entropy_diversity_low</th>\n      <th>user1_user_groups_cnt_distinct_tracks_lognorm_high</th>\n      <th>user1_user_groups_cnt_distinct_tracks_lognorm_low</th>\n      <th>user1_user_groups_cnt_distinct_artists_lognorm_high</th>\n      <th>user1_user_groups_cnt_distinct_artists_lognorm_low</th>\n      <th>user2_user_groups_cnt_distinct_tracks_lognorm_high</th>\n      <th>user2_user_groups_cnt_distinct_tracks_lognorm_low</th>\n      <th>user2_user_groups_cnt_distinct_artists_lognorm_high</th>\n      <th>user2_user_groups_cnt_distinct_artists_lognorm_low</th>\n    </tr>\n  </thead>\n  <tbody>\n    <tr>\n      <th>0</th>\n      <td>0.100614</td>\n      <td>0.017296</td>\n      <td>0.015563</td>\n      <td>0.015079</td>\n      <td>0.014671</td>\n      <td>0.014453</td>\n      <td>0.014129</td>\n      <td>0.013543</td>\n      <td>0.013189</td>\n      <td>0.012978</td>\n      <td>...</td>\n      <td>0.0</td>\n      <td>0.0</td>\n      <td>0.0</td>\n      <td>0.0</td>\n      <td>0.0</td>\n      <td>0.0</td>\n      <td>0.0</td>\n      <td>0.0</td>\n      <td>0.0</td>\n      <td>0.0</td>\n    </tr>\n  </tbody>\n</table>\n<p>1 rows × 161 columns</p>\n</div>"
     },
     "execution_count": 20,
     "metadata": {},
     "output_type": "execute_result"
    }
   ],
   "source": [
    "feature_importances_df"
   ],
   "metadata": {
    "collapsed": false,
    "pycharm": {
     "name": "#%%\n"
    }
   }
  },
  {
   "cell_type": "code",
   "execution_count": 33,
   "outputs": [],
   "source": [
    "# cosine similarity NMF artist profiles\n",
    "nmf_cos = ['cosine_similarity_UAM_nmf_array']\n",
    "\n",
    "# artist profile NMF features\n",
    "nmf = ['user1_UAM_nmf_10', 'user1_UAM_nmf_18', 'user2_UAM_nmf_10', 'user1_UAM_nmf_5', 'user1_UAM_nmf_16', 'user1_UAM_nmf_4', 'user1_UAM_nmf_6', 'user1_UAM_nmf_11', 'user1_UAM_nmf_13', 'user1_UAM_nmf_15', 'user1_UAM_nmf_2', 'user1_UAM_nmf_19', 'user1_UAM_nmf_1', 'user1_UAM_nmf_14', 'user2_UAM_nmf_16', 'user1_UAM_nmf_3', 'user2_UAM_nmf_13', 'user1_UAM_nmf_0', 'user1_UAM_nmf_9', 'user2_UAM_nmf_9', 'user1_UAM_nmf_7', 'user1_UAM_nmf_12', 'user1_UAM_nmf_8', 'user2_UAM_nmf_5', 'user2_UAM_nmf_17', 'user1_UAM_nmf_17', 'user2_UAM_nmf_6', 'user2_UAM_nmf_15', 'user2_UAM_nmf_12', 'user2_UAM_nmf_1', 'user2_UAM_nmf_4', 'user2_UAM_nmf_18', 'user2_UAM_nmf_19', 'user2_UAM_nmf_0', 'user2_UAM_nmf_7', 'user2_UAM_nmf_2', 'user2_UAM_nmf_8', 'user2_UAM_nmf_3', 'user2_UAM_nmf_14', 'user2_UAM_nmf_11']\n",
    "\n",
    "# mainstreaminess features\n",
    "mf = ['user1_mainstreaminess_avg_year', 'user1_mainstreaminess_avg_6months', 'user1_mainstreaminess_avg_month', 'user1_mainstreaminess_global', 'user2_mainstreaminess_global', 'user2_mainstreaminess_avg_year', 'user2_mainstreaminess_avg_month', 'user2_mainstreaminess_avg_6months']\n",
    "# relative change mainstreaminess features\n",
    "mf_rc = ['relative_change_mainstreaminess_avg_month', 'relative_change_mainstreaminess_avg_6months', 'relative_change_mainstreaminess_avg_year', 'relative_change_mainstreaminess_global']\n",
    "# same user groups mainstreaminess\n",
    "mf_sug = ['same_user_groups_mainstreaminess_avg_month', 'same_user_groups_mainstreaminess_global', 'same_user_groups_mainstreaminess_avg_6months', 'same_user_groups_mainstreaminess_avg_year']\n",
    "# user groups mainstreaminess\n",
    "mf_ug = ['user1_user_groups_mainstreaminess_avg_year_medium', 'user2_user_groups_mainstreaminess_global_medium', 'user1_user_groups_mainstreaminess_avg_6months_medium', 'user1_user_groups_mainstreaminess_global_medium', 'user1_user_groups_mainstreaminess_avg_month_medium', 'user2_user_groups_mainstreaminess_avg_month_medium', 'user2_user_groups_mainstreaminess_avg_year_medium', 'user1_user_groups_mainstreaminess_avg_month_high', 'user1_user_groups_mainstreaminess_avg_month_low', 'user1_user_groups_mainstreaminess_avg_6months_high', 'user1_user_groups_mainstreaminess_avg_6months_low', 'user1_user_groups_mainstreaminess_avg_year_high', 'user1_user_groups_mainstreaminess_avg_year_low', 'user1_user_groups_mainstreaminess_global_high', 'user1_user_groups_mainstreaminess_global_low', 'user2_user_groups_mainstreaminess_avg_month_high', 'user2_user_groups_mainstreaminess_avg_month_low', 'user2_user_groups_mainstreaminess_avg_6months_high', 'user2_user_groups_mainstreaminess_avg_6months_low', 'user2_user_groups_mainstreaminess_avg_year_high', 'user2_user_groups_mainstreaminess_avg_year_low', 'user2_user_groups_mainstreaminess_global_high', 'user2_user_groups_mainstreaminess_global_low', 'user2_user_groups_mainstreaminess_avg_6months_medium']\n",
    "\n",
    "# novelty features\n",
    "nf = ['user1_novelty_artist_avg_year', 'user1_novelty_artist_avg_6months', 'user2_novelty_artist_avg_year', 'user1_novelty_artist_avg_month', 'user2_novelty_artist_avg_month', 'user2_novelty_artist_avg_6months']\n",
    "# relative change novelty features\n",
    "nf_rc = ['relative_change_novelty_artist_avg_6months', 'relative_change_novelty_artist_avg_year', 'relative_change_novelty_artist_avg_month']\n",
    "# same user groups novelty\n",
    "nf_sug = ['same_user_groups_novelty_artist_avg_6months', 'same_user_groups_novelty_artist_avg_year', 'same_user_groups_novelty_artist_avg_month']\n",
    "# user groups novelty\n",
    "nf_ug = ['user2_user_groups_novelty_artist_avg_month_medium', 'user1_user_groups_novelty_artist_avg_month_medium', 'user1_user_groups_novelty_artist_avg_year_medium', 'user1_user_groups_novelty_artist_avg_6months_medium', 'user2_user_groups_novelty_artist_avg_6months_medium', 'user2_user_groups_novelty_artist_avg_year_medium', 'user1_user_groups_novelty_artist_avg_month_high', 'user1_user_groups_novelty_artist_avg_month_low', 'user1_user_groups_novelty_artist_avg_6months_high', 'user1_user_groups_novelty_artist_avg_6months_low', 'user1_user_groups_novelty_artist_avg_year_high', 'user1_user_groups_novelty_artist_avg_year_low', 'user2_user_groups_novelty_artist_avg_month_high', 'user2_user_groups_novelty_artist_avg_month_low', 'user2_user_groups_novelty_artist_avg_6months_high', 'user2_user_groups_novelty_artist_avg_6months_low', 'user2_user_groups_novelty_artist_avg_year_high', 'user2_user_groups_novelty_artist_avg_year_low']\n",
    "\n",
    "# diversity features\n",
    "df = ['user1_freebase_entropy_diversity', 'user1_freebase_genre_coverage_diversity', 'user1_freebase_weighted_average_diversity', 'user1_cnt_distinct_artists_lognorm', 'user2_freebase_entropy_diversity', 'user2_freebase_genre_coverage_diversity', 'user2_cnt_distinct_artists_lognorm', 'user2_freebase_weighted_average_diversity', 'user1_cnt_distinct_tracks_lognorm', 'user2_cnt_distinct_tracks_lognorm']\n",
    "# relative change diversity features\n",
    "df_rc = ['relative_change_freebase_entropy_diversity', 'relative_change_cnt_distinct_artists_lognorm', 'relative_change_freebase_genre_coverage_diversity', 'relative_change_freebase_weighted_average_diversity', 'relative_change_cnt_distinct_tracks_lognorm']\n",
    "# same user groups diversity\n",
    "df_sug = ['same_user_groups_freebase_weighted_average_diversity', 'same_user_groups_cnt_distinct_artists_lognorm', 'same_user_groups_freebase_genre_coverage_diversity', 'same_user_groups_freebase_entropy_diversity', 'same_user_groups_cnt_distinct_tracks_lognorm']\n",
    "# user groups diversity\n",
    "df_ug = ['user1_user_groups_freebase_weighted_average_diversity_medium', 'user1_user_groups_freebase_weighted_average_diversity_medium', 'user1_user_groups_freebase_weighted_average_diversity_high', 'user1_user_groups_freebase_weighted_average_diversity_low', 'user1_user_groups_freebase_genre_coverage_diversity_high', 'user1_user_groups_freebase_genre_coverage_diversity_low', 'user1_user_groups_freebase_entropy_diversity_high', 'user1_user_groups_freebase_entropy_diversity_low', 'user2_user_groups_freebase_weighted_average_diversity_high', 'user2_user_groups_freebase_weighted_average_diversity_low', 'user2_user_groups_freebase_genre_coverage_diversity_high', 'user2_user_groups_freebase_genre_coverage_diversity_low', 'user2_user_groups_freebase_entropy_diversity_high', 'user2_user_groups_freebase_entropy_diversity_low', 'user1_user_groups_cnt_distinct_tracks_lognorm_high', 'user1_user_groups_cnt_distinct_tracks_lognorm_low', 'user1_user_groups_cnt_distinct_artists_lognorm_high', 'user1_user_groups_cnt_distinct_artists_lognorm_low', 'user2_user_groups_cnt_distinct_tracks_lognorm_high', 'user2_user_groups_cnt_distinct_tracks_lognorm_low', 'user2_user_groups_cnt_distinct_artists_lognorm_high', 'user2_user_groups_cnt_distinct_artists_lognorm_low', 'user2_user_groups_freebase_entropy_diversity_medium', 'user1_user_groups_freebase_genre_coverage_diversity_medium', 'user2_user_groups_freebase_genre_coverage_diversity_medium', 'user2_user_groups_cnt_distinct_artists_lognorm_medium', 'user1_user_groups_freebase_entropy_diversity_medium', 'user1_user_groups_cnt_distinct_artists_lognorm_medium', 'user2_user_groups_freebase_weighted_average_diversity_medium']"
   ],
   "metadata": {
    "collapsed": false,
    "pycharm": {
     "name": "#%%\n"
    }
   }
  },
  {
   "cell_type": "code",
   "execution_count": 69,
   "metadata": {},
   "outputs": [],
   "source": [
    "# cosine similarity NMF artist profiles\n",
    "nmf_cos_mean = list(feature_importances_df[nmf_cos].mean().values)\n",
    "\n",
    "# artist profile NMF features\n",
    "nmf_mean = list(feature_importances_df[nmf].mean().values)\n",
    "\n",
    "# mainstreaminess features\n",
    "mf_mean = list(feature_importances_df[mf].mean().values)\n",
    "# relative change mainstreaminess features\n",
    "mf_rc_mean = list(feature_importances_df[mf_rc].mean().values)\n",
    "# same user groups mainstreaminess\n",
    "mf_sug_mean = list(feature_importances_df[mf_sug].mean().values)\n",
    "# user groups mainstreaminess\n",
    "mf_ug_mean = list(feature_importances_df[mf_ug].mean().values)\n",
    "\n",
    "\n",
    "# novelty features\n",
    "nf_mean = list(feature_importances_df[nf].mean().values)\n",
    "# relative change novelty features\n",
    "nf_rc_mean = list(feature_importances_df[nf_rc].mean().values)\n",
    "# same user groups novelty\n",
    "nf_sug_mean = list(feature_importances_df[nf_sug].mean().values)\n",
    "# user groups novelty\n",
    "nf_ug_mean = list(feature_importances_df[nf_ug].mean().values)\n",
    "\n",
    "\n",
    "# diversity features\n",
    "df_mean = list(feature_importances_df[df].mean().values)\n",
    "# relative change diversity features\n",
    "df_rc_mean = list(feature_importances_df[df_rc].mean().values)\n",
    "# same user groups diversity\n",
    "df_sug_mean = list(feature_importances_df[df_sug].mean().values)\n",
    "# user groups diversity\n",
    "df_ug_mean = list(feature_importances_df[df_ug].mean().values)"
   ]
  },
  {
   "cell_type": "code",
   "execution_count": 70,
   "metadata": {},
   "outputs": [],
   "source": [
    "import itertools\n",
    "# absolute contributions\n",
    "# mndf\n",
    "mndf_mean_sum = sum(list(itertools.chain(mf_mean, mf_rc_mean, mf_sug_mean, mf_ug_mean, nf_mean, nf_rc_mean, nf_sug_mean, nf_ug_mean, df_mean, df_rc_mean, df_sug_mean, df_ug_mean)))\n",
    "\n",
    "# apf\n",
    "apf_mean_sum = sum(list(itertools.chain(nmf_mean, nmf_cos_mean)))\n",
    "# mf\n",
    "mf_mean_sum = sum(list(itertools.chain(mf_mean, mf_rc_mean, mf_sug_mean, mf_ug_mean)))\n",
    "# nf\n",
    "nf_mean_sum = sum(list(itertools.chain(nf_mean, nf_rc_mean, nf_sug_mean, nf_ug_mean)))\n",
    "# df\n",
    "df_mean_sum = sum(list(itertools.chain(df_mean, df_rc_mean, df_sug_mean, df_ug_mean)))"
   ]
  },
  {
   "cell_type": "code",
   "execution_count": 71,
   "metadata": {
    "pycharm": {
     "name": "#%%\n"
    }
   },
   "outputs": [
    {
     "data": {
      "text/plain": "<Figure size 576x432 with 1 Axes>",
      "image/png": "[encoded data removed]"
     },
     "metadata": {
      "needs_background": "light"
     },
     "output_type": "display_data"
    }
   ],
   "source": [
    "ax = sns.barplot(x=[mndf_mean_sum, apf_mean_sum, mf_mean_sum, nf_mean_sum, df_mean_sum], y=['MNDF', 'APF', 'M', 'N', 'D'], palette='mako')\n",
    "ax.set(xlabel=\"Feature importance sum\")\n",
    "plt.savefig('../figures/feature-importance-sum.pdf', dpi=300, bbox_inches = \"tight\")"
   ]
  },
  {
   "cell_type": "code",
   "execution_count": null,
   "outputs": [],
   "source": [],
   "metadata": {
    "collapsed": false,
    "pycharm": {
     "name": "#%%\n"
    }
   }
  }
 ],
 "metadata": {
  "kernelspec": {
   "display_name": "Python 3",
   "language": "python",
   "name": "python3"
  },
  "language_info": {
   "codemirror_mode": {
    "name": "ipython",
    "version": 3
   },
   "file_extension": ".py",
   "mimetype": "text/x-python",
   "name": "python",
   "nbconvert_exporter": "python",
   "pygments_lexer": "ipython3",
   "version": "3.8.10"
  }
 },
 "nbformat": 4,
 "nbformat_minor": 4
}